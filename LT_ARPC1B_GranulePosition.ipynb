{
 "cells": [
  {
   "cell_type": "markdown",
   "metadata": {},
   "source": [
    "# Patient ARPC1B deficient cells"
   ]
  },
  {
   "cell_type": "code",
   "execution_count": null,
   "metadata": {
    "scrolled": true
   },
   "outputs": [],
   "source": [
    "library(ggplot2)\n",
    "library(extrafont)\n",
    "library(stringr)\n",
    "library(heatmaply)\n",
    "library(ggrepel)\n",
    "library(reticulate)\n",
    "library(gridExtra)\n",
    "library(robustbase)\n",
    "library(randomForest)\n",
    "library(reshape2)"
   ]
  },
  {
   "cell_type": "code",
   "execution_count": null,
   "metadata": {
    "scrolled": true
   },
   "outputs": [],
   "source": [
    "# Load external Python functions\n",
    "source_python(\"reticulate_functions.py\")\n",
    "# Load extra fonts\n",
    "ttf_import(paths = \"/tmp/.fonts/\")\n",
    "loadfonts()\n",
    "# Set this to true for faster compilation or false for more precise results and all outputs\n",
    "TEST_MODE = T"
   ]
  },
  {
   "cell_type": "code",
   "execution_count": null,
   "metadata": {},
   "outputs": [],
   "source": [
    "# Customize ggplot appearance\n",
    "\n",
    "# Change theme\n",
    "customTheme <- theme_light() + \n",
    "               theme(panel.grid.minor=element_blank(), text=element_text(size=17, family=\"Arial\", colour = \"#333333\"),\n",
    "                     line=element_line(colour = \"#333333\"), legend.background = element_rect(fill=alpha('#CCCCCC', 0.1)), legend.key = element_blank())\n",
    "\n",
    "# Change default colors\n",
    "scale_colour_continuous <- function (..., begin = 0.1, end = 0.9, direction = -1, option = \"plasma\", \n",
    "                                     type = getOption(\"ggplot2.continuous.colour\", default = \"viridis\")) {\n",
    "    switch(type, gradient = scale_colour_gradient(...), \n",
    "        viridis = scale_colour_viridis_c(option = option, begin = begin, end = end, direction = direction, ...), \n",
    "        stop(\"Unknown scale type\", call. = FALSE))\n",
    "}\n",
    "scale_color_continuous <- scale_colour_continuous\n",
    "\n",
    "scale_fill_continuous <- function (..., begin = 0.1, end = 0.9, direction = -1, option = \"plasma\", \n",
    "                                     type = getOption(\"ggplot2.continuous.colour\", default = \"viridis\")) {\n",
    "    switch(type, gradient = scale_fill_gradient(...), \n",
    "        viridis = scale_fill_viridis_c(option = option, begin = begin, end = end, direction = direction, ...), \n",
    "        stop(\"Unknown scale type\", call. = FALSE))\n",
    "\n",
    "}\n",
    "\n",
    "cemm_pal = colorRampPalette(c(\"#5A463C\", \"#008CAD\", \"#40B9D4\", \"#D4ECF2\", \"#D2323C\", \"#F8B100\", \"#DFDC00\"))\n",
    "cust_pal = colorRampPalette(c(\"#008CAD\", \"#40B9D4\", \"#D4ECF2\", \"#F8B100\", \"#C00000\", \"#2D0000\"))\n",
    "yolla_pal = colorRampPalette(c('#FC7070', '#C00000', '#2D0000'))\n",
    "scale_fill_discrete <- function (..., type = \"Cust\", h = c(0, 360) + 15, c = 100, l = 65, h.start = 0, \n",
    "    direction = 1, na.value = \"grey50\", aesthetics = \"fill\") \n",
    "{\n",
    "    if (type == \"CeMM\"){\n",
    "        discrete_scale(aesthetics, \"CeMM\", cemm_pal, na.value = na.value, ...)\n",
    "    } else if (type == \"Yolla\"){\n",
    "        discrete_scale(aesthetics, \"Yolla\", yolla_pal, na.value = na.value, ...)\n",
    "    } else if (type == \"Cust\"){\n",
    "        discrete_scale(aesthetics, \"Cust\", cust_pal, na.value = na.value, ...)\n",
    "    } else {\n",
    "        discrete_scale(aesthetics, \"hue\", hue_pal(h, c, l, h.start, \n",
    "            direction), na.value = na.value, ...)\n",
    "    }\n",
    "}\n",
    "\n",
    "scale_color_discrete <- function (..., type = \"Cust\", h = c(0, 360) + 15, c = 100, l = 65, h.start = 0, \n",
    "    direction = 1, na.value = \"grey50\", aesthetics = \"colour\") {\n",
    "    if (type == \"CeMM\"){\n",
    "        discrete_scale(aesthetics, \"CeMM\", cemm_pal, na.value = na.value, ...)\n",
    "    } else if (type == \"Cust\"){\n",
    "        discrete_scale(aesthetics, \"Cust\", cust_pal, na.value = na.value, ...)\n",
    "    } else if (type == \"Yolla\"){\n",
    "        discrete_scale(aesthetics, \"Yolla\", yolla_pal, na.value = na.value, ...)\n",
    "    } else {\n",
    "        discrete_scale(aesthetics, \"hue\", scales::hue_pal(h, c, l, h.start, \n",
    "            direction), na.value = na.value, ...)\n",
    "    }\n",
    "}\n",
    "scale_colour_discrete <- scale_color_discrete\n",
    "\n",
    "noGridTheme <- function(...){\n",
    "    theme(panel.grid.major=element_blank(), axis.text.x=element_text(size=12), axis.text.y=element_text(size=12),\n",
    "                      axis.line=element_line(color=\"#333333\", size = 0.2), panel.border = element_blank(), ...)\n",
    "}\n",
    "\n",
    "darkTheme <- function(...){\n",
    "    theme(panel.background = element_rect(fill = '#333333'), plot.background = element_rect(fill = '#333333'), \n",
    "          axis.line=element_line(color=\"#CCCCCC\", size = 0.2), \n",
    "          text=element_text(size=17, family=\"Arial\", colour = \"#CCCCCC\"),\n",
    "          line=element_line(colour = \"#CCCCCC\"))\n",
    "}\n",
    "\n",
    "theme_set(customTheme)\n",
    "\n",
    "options(repr.plot.width=10, repr.plot.height=10)"
   ]
  },
  {
   "cell_type": "markdown",
   "metadata": {},
   "source": [
    "## Patient cells (∆ARPC1B)"
   ]
  },
  {
   "cell_type": "code",
   "execution_count": null,
   "metadata": {},
   "outputs": [],
   "source": [
    "# Fix t-SNE layout and random number generation\n",
    "set.seed(38)"
   ]
  },
  {
   "cell_type": "markdown",
   "metadata": {},
   "source": [
    "### We load individual cell measurements"
   ]
  },
  {
   "cell_type": "code",
   "execution_count": null,
   "metadata": {},
   "outputs": [],
   "source": [
    "cytoplasm = read.csv(\"Rsc/compiled_LT_ARPC1B_GranulePosition_FilterNKCytoplasm.csv\", header=T)"
   ]
  },
  {
   "cell_type": "code",
   "execution_count": null,
   "metadata": {},
   "outputs": [],
   "source": [
    "granule = read.csv(\"Rsc/compiled_LT_ARPC1B_GranulePosition_FilterNKPerfGranules.csv\", header=T)"
   ]
  },
  {
   "cell_type": "code",
   "execution_count": null,
   "metadata": {},
   "outputs": [],
   "source": [
    "dim(cytoplasm)\n",
    "dim(granule)"
   ]
  },
  {
   "cell_type": "code",
   "execution_count": null,
   "metadata": {},
   "outputs": [],
   "source": [
    "ftGranule = 16:95\n",
    "aggGranule = aggregate(granule[ftGranule], list(Image = granule$ImageNumber, Cytoplasm = granule$Parent_FilterNKCytoplasm), median)"
   ]
  },
  {
   "cell_type": "code",
   "execution_count": null,
   "metadata": {},
   "outputs": [],
   "source": [
    "# Free up memory\n",
    "granule = 0"
   ]
  },
  {
   "cell_type": "code",
   "execution_count": null,
   "metadata": {},
   "outputs": [],
   "source": [
    "cell = merge(cytoplasm, aggGranule, by.x = c(\"ImageNumber\", \"ObjectNumber\"),\n",
    "                                    by.y = c(\"Image\", \"Cytoplasm\"))"
   ]
  },
  {
   "cell_type": "markdown",
   "metadata": {},
   "source": [
    "### Integrate image information"
   ]
  },
  {
   "cell_type": "code",
   "execution_count": null,
   "metadata": {},
   "outputs": [],
   "source": [
    "LT = read.csv(\"Rsc/compiled_LT_ARPC1B_GranulePosition_Image.csv\", header=T)"
   ]
  },
  {
   "cell_type": "code",
   "execution_count": null,
   "metadata": {},
   "outputs": [],
   "source": [
    "annotation = read.csv(\"Rsc/ARPC1BPlateLayout.csv\", header=T)[1:90,] # Avoid terminal empty lines"
   ]
  },
  {
   "cell_type": "code",
   "execution_count": null,
   "metadata": {},
   "outputs": [],
   "source": [
    "getDonor <- function(row,column){\n",
    "    return(annotation[(annotation$Row == row)&(annotation$Column == column),1])\n",
    "}\n",
    "getCoating <- function(row,column){\n",
    "    return(annotation[(annotation$Row == row)&(annotation$Column == column),2])\n",
    "}\n",
    "LT$Donor = mapply(getDonor, LT$Metadata_Row, LT$Metadata_Column)\n",
    "LT$Coating = mapply(getCoating, LT$Metadata_Row, LT$Metadata_Column)\n",
    "# Is normal donor?\n",
    "LT$ND = F\n",
    "LT$ND[grep(\"ND\", LT$Donor)] = T\n",
    "# Which patient?\n",
    "LT$Patient = ifelse(LT$ND, \"ND\", as.character(LT$Donor))"
   ]
  },
  {
   "cell_type": "markdown",
   "metadata": {},
   "source": [
    "We discard the data from the PLL coated plates (not studied in this analysis)."
   ]
  },
  {
   "cell_type": "code",
   "execution_count": null,
   "metadata": {},
   "outputs": [],
   "source": [
    "LT = LT[LT$Coating != \"PLL\",]"
   ]
  },
  {
   "cell_type": "code",
   "execution_count": null,
   "metadata": {
    "scrolled": true
   },
   "outputs": [],
   "source": [
    "gpLT = ggplot(LT[!is.na(LT$Mean_FilterNKCytoplasm_AreaShape_Area),]) + geom_histogram(aes(Mean_FilterNKCytoplasm_AreaShape_Area, \n",
    "                                                                                    fill = as.factor(Donor)), binwidth=100) +\n",
    "       scale_fill_discrete(name=\"Row\")\n",
    "gpLT"
   ]
  },
  {
   "cell_type": "markdown",
   "metadata": {},
   "source": [
    "### Filtering images"
   ]
  },
  {
   "cell_type": "code",
   "execution_count": null,
   "metadata": {},
   "outputs": [],
   "source": [
    "FILT_MAX_INT_DNA = 0.01 # Remove empty images and small DNA precipitations\n",
    "FILT_MIN_CELLS = 5 # Most field of views have only 2 cells\n",
    "FILT_NB_MAX_NA_IMAGE = 1\n",
    "FILT_MAX_CORR = 0.6 # Keep uncorrelated variables"
   ]
  },
  {
   "cell_type": "code",
   "execution_count": null,
   "metadata": {},
   "outputs": [],
   "source": [
    "ftToKeep = 1:dim(LT)[2]\n",
    "# Make sure that the fields are numeric\n",
    "ftToKeep <- ftToKeep[which(sapply(LT[,ftToKeep], class) == \"numeric\")]\n",
    "# Remove execution time and count features\n",
    "ftToKeep <- ftToKeep[grep(\"(Execution)|(Count)|(Concentration)|(ActinGranules)\", colnames(LT)[ftToKeep], invert = T)]"
   ]
  },
  {
   "cell_type": "code",
   "execution_count": null,
   "metadata": {},
   "outputs": [],
   "source": [
    "# Remove wells with low max DNA intensity\n",
    "fieldToKeep <- which(LT$ImageQuality_MaxIntensity_DNA >= FILT_MAX_INT_DNA)\n",
    "# Remove wells with low cell count\n",
    "fieldToKeep <- na.omit(fieldToKeep[LT[fieldToKeep,]$Count_FilterNKNucleus >= FILT_MIN_CELLS])"
   ]
  },
  {
   "cell_type": "code",
   "execution_count": null,
   "metadata": {},
   "outputs": [],
   "source": [
    "# Few bad quality pictures are generating a lot of missing values and are removed\n",
    "fieldToKeep <- fieldToKeep[rowSums(is.na(LT[fieldToKeep,ftToKeep])) < FILT_NB_MAX_NA_IMAGE]"
   ]
  },
  {
   "cell_type": "code",
   "execution_count": null,
   "metadata": {},
   "outputs": [],
   "source": [
    "imgToKeep = LT$ImageNumber[fieldToKeep]"
   ]
  },
  {
   "cell_type": "markdown",
   "metadata": {},
   "source": [
    "### Filter corresponding cells"
   ]
  },
  {
   "cell_type": "code",
   "execution_count": null,
   "metadata": {},
   "outputs": [],
   "source": [
    "cellToKeep = 1:nrow(cell)\n",
    "# Keep only if image is kept\n",
    "cellToKeep = cellToKeep[cell$ImageNumber %in% imgToKeep]"
   ]
  },
  {
   "cell_type": "code",
   "execution_count": null,
   "metadata": {},
   "outputs": [],
   "source": [
    "ftToKeep = 1:dim(cell)[2]\n",
    "# Make sure that the fields are numeric\n",
    "ftToKeep <- ftToKeep[which(sapply(cell[,ftToKeep], class) == \"numeric\")]\n",
    "# Remove unwanted features\n",
    "ftToKeep <- ftToKeep[grep(\"(ObjectNumber)|(Metadata)|(Location)|(Object_Number)|(Center)\", \n",
    "                          colnames(cell)[ftToKeep], invert = T)]\n",
    "# Remove features with NA\n",
    "ftToKeep <- ftToKeep[colSums(is.na(cell[cellToKeep,ftToKeep])) == 0]"
   ]
  },
  {
   "cell_type": "code",
   "execution_count": null,
   "metadata": {
    "scrolled": true
   },
   "outputs": [],
   "source": [
    "# Granules and cytoplasm centers are close from each other (as expected)\n",
    "ggplot(cell[cellToKeep,], aes(x = Location_Center_X.x, y = Location_Center_X.y)) + geom_point()"
   ]
  },
  {
   "cell_type": "code",
   "execution_count": null,
   "metadata": {
    "scrolled": false
   },
   "outputs": [],
   "source": [
    "ggplot(cell[cellToKeep,], aes(x = Mean_FilterNKPerfGranules_Distance_Minimum_FilterNKCytoplasm, \n",
    "                 y = Intensity_MeanIntensity_CorrActin)) + geom_point()"
   ]
  },
  {
   "cell_type": "code",
   "execution_count": null,
   "metadata": {},
   "outputs": [],
   "source": [
    "isNDcell <- function(imageN){\n",
    "    return(LT$ND[LT$ImageNumber == imageN])\n",
    "}\n",
    "cellND = sapply(cell$ImageNumber[cellToKeep], isNDcell)"
   ]
  },
  {
   "cell_type": "code",
   "execution_count": null,
   "metadata": {},
   "outputs": [],
   "source": [
    "# Remove constant columns\n",
    "ftToKeep <- ftToKeep[sapply(cell[cellToKeep,ftToKeep], function(x) mad(x) != 0)]\n",
    "ftToKeep <- ftToKeep[sapply(cell[cellToKeep[cellND],ftToKeep], function(x) mad(x) != 0)]"
   ]
  },
  {
   "cell_type": "code",
   "execution_count": null,
   "metadata": {},
   "outputs": [],
   "source": [
    "dim(cell)\n",
    "dim(cell[cellToKeep,ftToKeep])"
   ]
  },
  {
   "cell_type": "code",
   "execution_count": null,
   "metadata": {},
   "outputs": [],
   "source": [
    "# Approximate normal distribution\n",
    "transfLog <- function (x){\n",
    "    minVal = min(x)\n",
    "    return(log(x+1-minVal))\n",
    "}\n",
    "\n",
    "# Center and scale on control values\n",
    "transfNorm <- function(x, y){\n",
    "    return((x - median(y))/mad(y))\n",
    "}"
   ]
  },
  {
   "cell_type": "code",
   "execution_count": null,
   "metadata": {},
   "outputs": [],
   "source": [
    "# Try centering on all healthy donors\n",
    "transCell = apply(cell[cellToKeep, ftToKeep], 2, transfLog)\n",
    "transCell = apply(transCell, 2, function(x) transfNorm(x, x[cellND]))"
   ]
  },
  {
   "cell_type": "code",
   "execution_count": null,
   "metadata": {},
   "outputs": [],
   "source": [
    "# Order features from biggest mad to smallest mad\n",
    "# Since features have mad(ND) = 1, it means that we rank features by how more variable they are\n",
    "# for patients than for ND\n",
    "orderFt = rev(order(apply(transCell, 2, mad)))"
   ]
  },
  {
   "cell_type": "code",
   "execution_count": null,
   "metadata": {},
   "outputs": [],
   "source": [
    "uncorrFt = uncorrelate(transCell, orderCol = orderFt-1, threshold = FILT_MAX_CORR)\n",
    "uncorrFt = unlist(uncorrFt) + 1"
   ]
  },
  {
   "cell_type": "code",
   "execution_count": null,
   "metadata": {},
   "outputs": [],
   "source": [
    "transCell = transCell[,uncorrFt]"
   ]
  },
  {
   "cell_type": "code",
   "execution_count": null,
   "metadata": {
    "scrolled": true
   },
   "outputs": [],
   "source": [
    "dim(cell)\n",
    "dim(cell[cellToKeep, ftToKeep])\n",
    "dim(transCell)"
   ]
  },
  {
   "cell_type": "markdown",
   "metadata": {},
   "source": [
    "## Granule position regression"
   ]
  },
  {
   "cell_type": "markdown",
   "metadata": {},
   "source": [
    "NB: Other models did not perform significantly better.\n",
    "\n",
    "```R\n",
    "    set.seed(38)\n",
    "\n",
    "    # We select actin and cytoplasm related features to explain other variables\n",
    "    predictiveFtInd = c(grep(\"\\\\.x\", names(cell)[ftToKeep]), which(names(cell)[ftToKeep] %in% names(cytoplasm)))\n",
    "    predictiveFt = names(cell)[ftToKeep][predictiveFtInd]\n",
    "    # Remove granule related feature\n",
    "    predictiveFtInd = grep(\"Granule\", predictiveFt, invert = T)\n",
    "    predictiveFt = names(cell)[ftToKeep][predictiveFtInd]\n",
    "\n",
    "    form1 = as.formula(paste(\"Mean_FilterNKPerfGranules_Distance_Minimum_FilterNKCytoplasm ~ \", \n",
    "                             paste(predictiveFt, collapse = \" + \")))\n",
    "    model1 = lm(form1, data = cell[cellToKeep, ftToKeep])\n",
    "\n",
    "    summary(model1)\n",
    "\n",
    "    form2 = as.formula(paste(\"Intensity_IntegratedIntensity_DistNuc ~ \", \n",
    "                             paste(predictiveFt, collapse = \" + \")))\n",
    "    model2 = lm(form2, data = cell[cellToKeep, ftToKeep])\n",
    "\n",
    "    summary(model2)\n",
    "\n",
    "    form3 = as.formula(paste(\"Intensity_MeanIntensity_DistNuc ~ \", \n",
    "                             paste(predictiveFt, collapse = \" + \")))\n",
    "    model3 = lm(form3, data = cell[cellToKeep, ftToKeep])\n",
    "\n",
    "    summary(model3)\n",
    "\n",
    "    form4 = as.formula(paste(\"Intensity_MedianIntensity_DistNuc ~ \", \n",
    "                             paste(predictiveFt, collapse = \" + \")))\n",
    "    model4 = lm(form4, data = cell[cellToKeep, ftToKeep])\n",
    "\n",
    "    summary(model4)\n",
    "```"
   ]
  },
  {
   "cell_type": "markdown",
   "metadata": {},
   "source": [
    "We explore how much can be predicted from easily interpretable actin and shape features alone."
   ]
  },
  {
   "cell_type": "code",
   "execution_count": null,
   "metadata": {},
   "outputs": [],
   "source": [
    "interpretableFt = c('AreaShape_Perimeter.x', 'AreaShape_MaximumRadius.x', 'AreaShape_MinorAxisLength.x',\n",
    "                    'AreaShape_MeanRadius.x', 'AreaShape_FormFactor.x', 'Intensity_MeanIntensity_CorrActin',\n",
    "                    'RadialDistribution_FracAtD_CorrActin_1of3', 'RadialDistribution_FracAtD_CorrActin_2of3')"
   ]
  },
  {
   "cell_type": "code",
   "execution_count": null,
   "metadata": {},
   "outputs": [],
   "source": [
    "form5 = as.formula(paste(\"Mean_FilterNKPerfGranules_Distance_Minimum_FilterNKCytoplasm ~ \", \n",
    "                         paste(interpretableFt, collapse = \" + \")))\n",
    "model5 = lm(form5, data = cell[cellToKeep, ftToKeep])"
   ]
  },
  {
   "cell_type": "code",
   "execution_count": null,
   "metadata": {},
   "outputs": [],
   "source": [
    "cellDonor = mapply(getDonor, cell$Metadata_Row, cell$Metadata_Column)\n",
    "table(cellDonor[cellToKeep])"
   ]
  },
  {
   "cell_type": "code",
   "execution_count": null,
   "metadata": {},
   "outputs": [],
   "source": [
    "cellND1 = cellToKeep[cellDonor[cellToKeep] == \"ND1\"]\n",
    "model6 = lm(form5, data = cell[cellND1, ftToKeep])"
   ]
  },
  {
   "cell_type": "code",
   "execution_count": null,
   "metadata": {
    "scrolled": true
   },
   "outputs": [],
   "source": [
    "summary(model5)"
   ]
  },
  {
   "cell_type": "code",
   "execution_count": null,
   "metadata": {
    "scrolled": true
   },
   "outputs": [],
   "source": [
    "summary(model6)"
   ]
  },
  {
   "cell_type": "code",
   "execution_count": null,
   "metadata": {},
   "outputs": [],
   "source": [
    "# This model seems more interesting than the previous ones\n",
    "AIC(model5)\n",
    "BIC(model5)"
   ]
  },
  {
   "cell_type": "code",
   "execution_count": null,
   "metadata": {
    "scrolled": false
   },
   "outputs": [],
   "source": [
    "linModDF = data.frame(MeanMinimumDistance = \n",
    "                      cell[cellToKeep,]$Mean_FilterNKPerfGranules_Distance_Minimum_FilterNKCytoplasm,\n",
    "                      PredictedDistance = model5$fitted.values,\n",
    "                      Donor = as.factor(cellDonor[cellToKeep]))\n",
    "ggplot(linModDF, aes(x = MeanMinimumDistance, y = PredictedDistance, color = Donor)) + geom_point()"
   ]
  },
  {
   "cell_type": "markdown",
   "metadata": {},
   "source": [
    "## Visualize links"
   ]
  },
  {
   "cell_type": "code",
   "execution_count": null,
   "metadata": {},
   "outputs": [],
   "source": [
    "install.packages(\"igraph\")\n",
    "library(igraph)"
   ]
  },
  {
   "cell_type": "code",
   "execution_count": null,
   "metadata": {},
   "outputs": [],
   "source": [
    "g = make_star(n = length(model5$coefficients), mode = \"undirected\")\n",
    "V(g)$names <- names(model5$coefficients)\n",
    "V(g)$names[1] <- as.character(form5[2])\n",
    "g <- set_edge_attr(g, \"color\", value = ifelse(model5$coefficients[-1] > 0, \"#00dd00\", \"#dd0000\"))\n",
    "plot(g, vertex.label = V(g)$names)"
   ]
  },
  {
   "cell_type": "code",
   "execution_count": null,
   "metadata": {},
   "outputs": [],
   "source": [
    "pdf(\"Fig/LT_ARPC1B_granule_network_per_cell.pdf\")\n",
    "plot(g, vertex.label = V(g)$names)\n",
    "dev.off()"
   ]
  },
  {
   "cell_type": "code",
   "execution_count": null,
   "metadata": {
    "scrolled": false
   },
   "outputs": [],
   "source": [
    "sessionInfo()"
   ]
  }
 ],
 "metadata": {
  "kernelspec": {
   "display_name": "R",
   "language": "R",
   "name": "ir"
  },
  "language_info": {
   "codemirror_mode": "r",
   "file_extension": ".r",
   "mimetype": "text/x-r-source",
   "name": "R",
   "pygments_lexer": "r",
   "version": "3.5.1"
  },
  "toc": {
   "base_numbering": 1,
   "nav_menu": {},
   "number_sections": false,
   "sideBar": false,
   "skip_h1_title": false,
   "title_cell": "Table of Contents",
   "title_sidebar": "Contents",
   "toc_cell": false,
   "toc_position": {},
   "toc_section_display": false,
   "toc_window_display": false
  }
 },
 "nbformat": 4,
 "nbformat_minor": 2
}
