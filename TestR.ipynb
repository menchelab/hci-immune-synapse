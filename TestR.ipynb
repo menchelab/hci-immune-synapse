{
 "cells": [
  {
   "cell_type": "markdown",
   "metadata": {},
   "source": [
    "## Cluster snippets"
   ]
  },
  {
   "cell_type": "markdown",
   "metadata": {},
   "source": [
    "Run CellProfiler interactive session\n",
    "\n",
    "    module unload python\n",
    "    module load gcc/4.8.2 python/2.7.12 java/jdk/1.8.0/102 cellprofiler/3.0\n",
    "    salloc --partition=develop --time=2:00:00 --job-name=\"$(date +%F)_InterCellProf\" --nodes=1 --mem=16000 --nodelist=$(hostname) srun cellprofiler\n",
    "\n",
    "Run max projection job  \n",
    "\n",
    "    srun --time=12:00:00 --job-name=MaxP_NKP2 --partition=shortq --output slog/%j.log --error slog/%j.err --cpus-per-task=1 --mem-per-cpu=10000 --ntasks=1 --nodes=1 python3 ../MaxProj.py\n",
    "    \n",
    "Run batch job\n",
    "\n",
    "    sbatch --export=iter=$i --output /scratch/lab_menche/Images_Yolla/JobLogs/iter$i_%j.log --job-name=$i_CPProfilingYolla --error /scratch/lab_menche/Images_Yolla/JobLogs/iter$i_%j.err runSingleJob.sh"
   ]
  },
  {
   "cell_type": "markdown",
   "metadata": {},
   "source": [
    "    # coding: utf-8\n",
    "\n",
    "    import os, subprocess\n",
    "\n",
    "    rootFolder = 'Results/'\n",
    "\n",
    "    nbFailures = 0\n",
    "\n",
    "    for folder in os.listdir(rootFolder):\n",
    "        if 'batch' in folder:\n",
    "            content = os.listdir(rootFolder+'/'+folder)\n",
    "            if not content:\n",
    "                nbFailures += 1\n",
    "                b = int(folder.split(\"_\")[1])\n",
    "                cmdSlurm = \"sbatch --export=iter={0} --output /scratch/lab_menche/Images_Yolla/Plate2/JobLogs/%j_iter{0}.log --job-name={0}_CPProfilingYolla --error /scratch/lab_menche/Images_Yolla/Plate2/JobLogs/%j_iter{0}.err runSingleJob.sh\".format(b)\n",
    "                subprocess.call(cmdSlurm, shell=True)"
   ]
  },
  {
   "cell_type": "markdown",
   "metadata": {},
   "source": [
    "    for i in {6..1019}; do sbatch --export=iter=$i --output /scratch/lab_menche/Images_Yolla/JobLogs/iter$i\"_%j.log\" --job-name=$i\"_CPProfilingYolla\" --error /scratch/lab_menche/Images_Yolla/JobLogs/iter$i\"_%j.err\" runSingleJob.sh; sleep 3; done"
   ]
  },
  {
   "cell_type": "markdown",
   "metadata": {},
   "source": [
    "    from os import listdir\n",
    "    import pandas as pd\n",
    "\n",
    "    allImages = pd.DataFrame()\n",
    "    for dir in listdir():\n",
    "        assert \"ExportCPP\" in listdir(dir)\n",
    "        assert \"NK2_Image.csv\" in listdir(dir+'/ExportCPP')\n",
    "        allImages = allImages.append(pd.read_csv(dir+'/ExportCPP/NK2_Image.csv'))\n",
    "\n",
    "    allImages.to_csv(\"allImages.csv\")"
   ]
  },
  {
   "cell_type": "markdown",
   "metadata": {},
   "source": [
    "    # coding: utf-8\n",
    "\n",
    "    import os, subprocess\n",
    "\n",
    "    nbFailures = 0\n",
    "\n",
    "    # Rerun job n\n",
    "    def rerun(n, nbFailures):\n",
    "        cmdSlurm = 'sbatch --export=iter={0} --output /scratch/lab_menche/Images_Yolla/JobLogs/iter{0}_%j.log --job-name={0}_CPProfilingYolla --error /scratch/lab_menche/Images_Yolla/JobLogs/iter{0}_%j.err runSingleJob.sh'.format(n)\n",
    "    #     subprocess.call(cmdSlurm, shell=True)\n",
    "        print(cmdSlurm)\n",
    "        return(nbFailures + 1)\n",
    "\n",
    "    rootFolder = 'Results/'\n",
    "\n",
    "    folders = os.listdir(rootFolder)\n",
    "    for ibatch in range(1,1020):\n",
    "        folder = 'batch_'+str(ibatch)\n",
    "        if folder not in folders:\n",
    "            nbFailures = rerun(ibatch, nbFailures)\n",
    "        else:\n",
    "            content = os.listdir(rootFolder+'/'+folder)\n",
    "            if not content:\n",
    "                nbFailures = rerun(ibatch, nbFailures)\n",
    "            else:\n",
    "                subcontent = os.listdir(rootFolder+'/'+folder+'/ExportCPP')\n",
    "                if \"NK2_Image.csv\" not in subcontent:\n",
    "                    nbFailures = rerun(ibatch, nbFailures)\n",
    "\n",
    "    print(nbFailures)"
   ]
  },
  {
   "cell_type": "code",
   "execution_count": null,
   "metadata": {},
   "outputs": [],
   "source": [
    "library(RMariaDB)\n",
    "library(ggplot2)"
   ]
  },
  {
   "cell_type": "code",
   "execution_count": null,
   "metadata": {},
   "outputs": [],
   "source": [
    "# Connect to database\n",
    "dbNetworks = dbConnect(MariaDB(), group=\"networks\")\n",
    "# NB: here all the information is contained in a file stored in \"~/.my.cnf\" following the following format\n",
    "#   [networks]\n",
    "#   host=#host\n",
    "#   user=#username\n",
    "#   password=#password\n",
    "#   database=networks"
   ]
  },
  {
   "cell_type": "code",
   "execution_count": null,
   "metadata": {},
   "outputs": [],
   "source": [
    "# Get all entries corresponding to a querry\n",
    "getAllQuerry <- function(querryString){\n",
    "    querry = dbSendQuery(dbNetworks, querryString)\n",
    "    chunk = dbFetch(querry)\n",
    "    dbClearResult(querry)\n",
    "    return(chunk)\n",
    "}"
   ]
  },
  {
   "cell_type": "code",
   "execution_count": null,
   "metadata": {},
   "outputs": [],
   "source": [
    "# Define the querry corresponding to selected inputs\n",
    "querryString = paste0(\"SELECT networks.ppi_tsne_biopro_2D.*, \",\n",
    "        \"Results_Funclusters.gene2clusterID_d8.clusterID FROM \",\n",
    "        \"networks.ppi_tsne_biopro_2D INNER JOIN \",\n",
    "        \"Results_Funclusters.gene2clusterID_d8 ON networks.ppi_tsne_biopro_2D.entrezID \",\n",
    "        \"= Results_Funclusters.gene2clusterID_d8.entrezID\")\n",
    "querryString = paste0(\"SELECT * FROM ImageAnalysis_YollaSH.NK2T_Per_Image\")\n",
    "\n",
    "netw = getAllQuerry(querryString) # Get node information"
   ]
  },
  {
   "cell_type": "code",
   "execution_count": null,
   "metadata": {
    "scrolled": true
   },
   "outputs": [],
   "source": [
    "dim(netw)\n",
    "names(netw)"
   ]
  },
  {
   "cell_type": "code",
   "execution_count": null,
   "metadata": {},
   "outputs": [],
   "source": [
    "image_file_data = read.csv(\"NK2_Image.csv\")"
   ]
  },
  {
   "cell_type": "code",
   "execution_count": null,
   "metadata": {
    "scrolled": true
   },
   "outputs": [],
   "source": [
    "dim(image_file_data)\n",
    "names(image_file_data)"
   ]
  },
  {
   "cell_type": "code",
   "execution_count": null,
   "metadata": {},
   "outputs": [],
   "source": [
    "length(grep(\"Granularity\", names(netw)))\n",
    "length(grep(\"Granularity\", names(image_file_data)))"
   ]
  },
  {
   "cell_type": "code",
   "execution_count": null,
   "metadata": {},
   "outputs": [],
   "source": [
    "names(netw)[grep(\"Granularity\", names(netw))]\n",
    "names(image_file_data)[grep(\"Granularity\", names(image_file_data))]"
   ]
  },
  {
   "cell_type": "code",
   "execution_count": null,
   "metadata": {},
   "outputs": [],
   "source": [
    "querryString = paste0(\"SELECT * FROM ImageAnalysis_YollaSH.NK2T_Per_Experiment\")\n",
    "netw = getAllQuerry(querryString) # Get node information\n",
    "dim(netw)\n",
    "names(netw)"
   ]
  },
  {
   "cell_type": "code",
   "execution_count": null,
   "metadata": {},
   "outputs": [],
   "source": [
    "sessionInfo()"
   ]
  }
 ],
 "metadata": {
  "kernelspec": {
   "display_name": "R",
   "language": "R",
   "name": "ir"
  },
  "language_info": {
   "codemirror_mode": "r",
   "file_extension": ".r",
   "mimetype": "text/x-r-source",
   "name": "R",
   "pygments_lexer": "r",
   "version": "3.5.1"
  },
  "toc": {
   "base_numbering": 1,
   "nav_menu": {},
   "number_sections": false,
   "sideBar": false,
   "skip_h1_title": false,
   "title_cell": "Table of Contents",
   "title_sidebar": "Contents",
   "toc_cell": false,
   "toc_position": {},
   "toc_section_display": false,
   "toc_window_display": false
  }
 },
 "nbformat": 4,
 "nbformat_minor": 2
}
