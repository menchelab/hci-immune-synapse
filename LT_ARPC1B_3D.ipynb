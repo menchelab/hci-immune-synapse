{
 "cells": [
  {
   "cell_type": "markdown",
   "metadata": {},
   "source": [
    "# Patient ARPC1B deficient cells"
   ]
  },
  {
   "cell_type": "markdown",
   "metadata": {},
   "source": [
    "**Findings**:\n",
    "\n",
    "* Changes in descriptors observed in patients are confirmed at the individual cell level\n",
    "* Radial position of granules can be predicted from actin features (both at the cell and image level and based on MIP or proximal plane)\n",
    "* There is no major changes in these relations between patients and healthy donors, except a change in direction of the effect of the radial distribution of actin in patient 2 (for which cells with more actin at the center have granules closer to the center).\n",
    "* In the distal planes, the less relative actin intensity we have in the outter part of the cytoplasm, the closer the granules are from the center.\n",
    "* Patient 1 has a different distribution of standard deviation of distance to the membrane over depth than other donors.\n",
    "* LFA-1 intensity and its distribution at the synapse does not tell much about the radial position of the granules.\n",
    "\n",
    "**Open questions**:\n",
    "\n",
    "* Is the difference in standard deviation of the distance to the membrane in patient 1 a difference in dispersion overall?"
   ]
  },
  {
   "cell_type": "code",
   "execution_count": null,
   "metadata": {
    "scrolled": true
   },
   "outputs": [],
   "source": [
    "library(ggplot2)\n",
    "library(extrafont)\n",
    "library(stringr)\n",
    "library(ggrepel)\n",
    "library(reticulate)\n",
    "library(gridExtra)\n",
    "library(robustbase)\n",
    "library(randomForest)\n",
    "library(reshape2)\n",
    "library(data.table)\n",
    "library(sp)\n",
    "library(igraph)\n",
    "library(dplyr)"
   ]
  },
  {
   "cell_type": "code",
   "execution_count": null,
   "metadata": {
    "scrolled": true
   },
   "outputs": [],
   "source": [
    "# Load external Python functions\n",
    "source_python(\"reticulate_functions.py\")\n",
    "# Load extra fonts\n",
    "ttf_import(paths = \"/tmp/.fonts/\")\n",
    "loadfonts()\n",
    "# Set this to true for faster compilation or false for more precise results and all outputs\n",
    "TEST_MODE = F"
   ]
  },
  {
   "cell_type": "code",
   "execution_count": null,
   "metadata": {},
   "outputs": [],
   "source": [
    "# Customize ggplot appearance\n",
    "\n",
    "# Change theme\n",
    "customTheme <- theme_light() + \n",
    "               theme(panel.grid.minor=element_blank(), text=element_text(size=17, family=\"Arial\", colour = \"#333333\"),\n",
    "                     line=element_line(colour = \"#333333\"), legend.background = element_rect(fill=alpha('#CCCCCC', 0.1)), legend.key = element_blank())\n",
    "\n",
    "# Change default colors\n",
    "scale_colour_continuous <- function (..., begin = 0.1, end = 0.9, direction = -1, option = \"plasma\", \n",
    "                                     type = getOption(\"ggplot2.continuous.colour\", default = \"viridis\")) {\n",
    "    switch(type, gradient = scale_colour_gradient(...), \n",
    "        viridis = scale_colour_viridis_c(option = option, begin = begin, end = end, direction = direction, ...), \n",
    "        stop(\"Unknown scale type\", call. = FALSE))\n",
    "}\n",
    "scale_color_continuous <- scale_colour_continuous\n",
    "\n",
    "scale_fill_continuous <- function (..., begin = 0.1, end = 0.9, direction = -1, option = \"plasma\", \n",
    "                                     type = getOption(\"ggplot2.continuous.colour\", default = \"viridis\")) {\n",
    "    switch(type, gradient = scale_fill_gradient(...), \n",
    "        viridis = scale_fill_viridis_c(option = option, begin = begin, end = end, direction = direction, ...), \n",
    "        stop(\"Unknown scale type\", call. = FALSE))\n",
    "\n",
    "}\n",
    "\n",
    "cemm_pal = colorRampPalette(c(\"#5A463C\", \"#008CAD\", \"#40B9D4\", \"#D4ECF2\", \"#D2323C\", \"#F8B100\", \"#DFDC00\"))\n",
    "cust_pal = colorRampPalette(c(\"#008CAD\", \"#40B9D4\", \"#D4ECF2\", \"#F8B100\", \"#C00000\", \"#2D0000\"))\n",
    "yolla_pal = colorRampPalette(c('#FC7070', '#C00000', '#2D0000'))\n",
    "scale_fill_discrete <- function (..., type = \"Cust\", h = c(0, 360) + 15, c = 100, l = 65, h.start = 0, \n",
    "    direction = 1, na.value = \"grey50\", aesthetics = \"fill\") \n",
    "{\n",
    "    if (type == \"CeMM\"){\n",
    "        discrete_scale(aesthetics, \"CeMM\", cemm_pal, na.value = na.value, ...)\n",
    "    } else if (type == \"Yolla\"){\n",
    "        discrete_scale(aesthetics, \"Yolla\", yolla_pal, na.value = na.value, ...)\n",
    "    } else if (type == \"Cust\"){\n",
    "        discrete_scale(aesthetics, \"Cust\", cust_pal, na.value = na.value, ...)\n",
    "    } else {\n",
    "        discrete_scale(aesthetics, \"hue\", hue_pal(h, c, l, h.start, \n",
    "            direction), na.value = na.value, ...)\n",
    "    }\n",
    "}\n",
    "\n",
    "scale_color_discrete <- function (..., type = \"Cust\", h = c(0, 360) + 15, c = 100, l = 65, h.start = 0, \n",
    "    direction = 1, na.value = \"grey50\", aesthetics = \"colour\") {\n",
    "    if (type == \"CeMM\"){\n",
    "        discrete_scale(aesthetics, \"CeMM\", cemm_pal, na.value = na.value, ...)\n",
    "    } else if (type == \"Cust\"){\n",
    "        discrete_scale(aesthetics, \"Cust\", cust_pal, na.value = na.value, ...)\n",
    "    } else if (type == \"Yolla\"){\n",
    "        discrete_scale(aesthetics, \"Yolla\", yolla_pal, na.value = na.value, ...)\n",
    "    } else {\n",
    "        discrete_scale(aesthetics, \"hue\", scales::hue_pal(h, c, l, h.start, \n",
    "            direction), na.value = na.value, ...)\n",
    "    }\n",
    "}\n",
    "scale_colour_discrete <- scale_color_discrete\n",
    "\n",
    "noGridTheme <- function(...){\n",
    "    theme(panel.grid.major=element_blank(), axis.text.x=element_text(size=12), axis.text.y=element_text(size=12),\n",
    "                      axis.line=element_line(color=\"#333333\", size = 0.2), panel.border = element_blank(), ...)\n",
    "}\n",
    "\n",
    "darkTheme <- function(...){\n",
    "    theme(panel.background = element_rect(fill = '#333333'), plot.background = element_rect(fill = '#333333'), \n",
    "          axis.line=element_line(color=\"#CCCCCC\", size = 0.2), \n",
    "          text=element_text(size=17, family=\"Arial\", colour = \"#CCCCCC\"),\n",
    "          line=element_line(colour = \"#CCCCCC\"))\n",
    "}\n",
    "\n",
    "theme_set(customTheme)\n",
    "\n",
    "options(repr.plot.width=10, repr.plot.height=10)"
   ]
  },
  {
   "cell_type": "markdown",
   "metadata": {},
   "source": [
    "## Patient cells (∆ARPC1B)"
   ]
  },
  {
   "cell_type": "code",
   "execution_count": null,
   "metadata": {},
   "outputs": [],
   "source": [
    "# Fix t-SNE layout and random number generation\n",
    "set.seed(38)"
   ]
  },
  {
   "cell_type": "markdown",
   "metadata": {},
   "source": [
    "### Integrate image information"
   ]
  },
  {
   "cell_type": "code",
   "execution_count": null,
   "metadata": {},
   "outputs": [],
   "source": [
    "LT = read.csv(\"Rsc/compiled_LT_ARPC1B_3D_Image.csv\", header=T)"
   ]
  },
  {
   "cell_type": "code",
   "execution_count": null,
   "metadata": {},
   "outputs": [],
   "source": [
    "annotation = read.csv(\"Rsc/ARPC1BPlateLayout.csv\", header=T)[1:90,] # Avoid terminal empty lines"
   ]
  },
  {
   "cell_type": "code",
   "execution_count": null,
   "metadata": {},
   "outputs": [],
   "source": [
    "getDonor <- function(row,column){\n",
    "    return(annotation[(annotation$Row == row)&(annotation$Column == column),1])\n",
    "}\n",
    "getCoating <- function(row,column){\n",
    "    return(annotation[(annotation$Row == row)&(annotation$Column == column),2])\n",
    "}\n",
    "LT$Donor = mapply(getDonor, LT$Metadata_Row, LT$Metadata_Column)\n",
    "LT$Coating = mapply(getCoating, LT$Metadata_Row, LT$Metadata_Column)\n",
    "# Is normal donor?\n",
    "LT$ND = F\n",
    "LT$ND[grep(\"ND\", LT$Donor)] = T\n",
    "# Which patient?\n",
    "LT$Patient = ifelse(LT$ND, \"ND\", as.character(LT$Donor))"
   ]
  },
  {
   "cell_type": "markdown",
   "metadata": {},
   "source": [
    "We discard the data from the PLL coated plates (not studied in this analysis)."
   ]
  },
  {
   "cell_type": "code",
   "execution_count": null,
   "metadata": {},
   "outputs": [],
   "source": [
    "LT = LT[LT$Coating != \"PLL\",]"
   ]
  },
  {
   "cell_type": "code",
   "execution_count": null,
   "metadata": {},
   "outputs": [],
   "source": [
    "LT$Donor[(LT$Metadata_Row == 14)&(LT$Metadata_Column == 8)]"
   ]
  },
  {
   "cell_type": "code",
   "execution_count": null,
   "metadata": {},
   "outputs": [],
   "source": [
    "LT$Donor[(LT$Metadata_Row == 3)&(LT$Metadata_Column == 8)]"
   ]
  },
  {
   "cell_type": "code",
   "execution_count": null,
   "metadata": {},
   "outputs": [],
   "source": [
    "LT$Donor[(LT$Metadata_Row == 4)&(LT$Metadata_Column == 15)]"
   ]
  },
  {
   "cell_type": "code",
   "execution_count": null,
   "metadata": {},
   "outputs": [],
   "source": [
    "LT$Donor[(LT$Metadata_Row == 8)&(LT$Metadata_Column == 16)]"
   ]
  },
  {
   "cell_type": "code",
   "execution_count": null,
   "metadata": {
    "scrolled": false
   },
   "outputs": [],
   "source": [
    "gpLT = ggplot(LT[!is.na(LT$Mean_FilterNKCytoplasm_AreaShape_Area),]) + geom_histogram(aes(Mean_FilterNKCytoplasm_AreaShape_Area, \n",
    "                                                                                    fill = as.factor(Donor)), binwidth=100) +\n",
    "       scale_fill_discrete(name=\"Row\")\n",
    "gpLT"
   ]
  },
  {
   "cell_type": "markdown",
   "metadata": {},
   "source": [
    "### Filtering images"
   ]
  },
  {
   "cell_type": "code",
   "execution_count": null,
   "metadata": {},
   "outputs": [],
   "source": [
    "FILT_MAX_INT_DNA = 0.01 # Remove empty images and small DNA precipitations\n",
    "FILT_MIN_CELLS = 5 # Most field of views have only 2 cells\n",
    "FILT_NB_MAX_NA_IMAGE = 1\n",
    "FILT_MAX_CORR = 0.6 # Keep uncorrelated variables"
   ]
  },
  {
   "cell_type": "code",
   "execution_count": null,
   "metadata": {},
   "outputs": [],
   "source": [
    "ftToKeep = 1:dim(LT)[2]\n",
    "# Make sure that the fields are numeric\n",
    "ftToKeep <- ftToKeep[which(sapply(LT[,ftToKeep], class) == \"numeric\")]\n",
    "# Remove execution time and count features\n",
    "ftToKeep <- ftToKeep[grep(\"(Execution)|(Count)|(Concentration)|(ActinGranules)\", colnames(LT)[ftToKeep], invert = T)]"
   ]
  },
  {
   "cell_type": "code",
   "execution_count": null,
   "metadata": {},
   "outputs": [],
   "source": [
    "# Remove wells with low max DNA intensity\n",
    "fieldToKeep <- which(LT$ImageQuality_MaxIntensity_DNA >= FILT_MAX_INT_DNA)\n",
    "# Remove wells with low cell count\n",
    "fieldToKeep <- na.omit(fieldToKeep[LT[fieldToKeep,]$Count_FilterNKNucleus >= FILT_MIN_CELLS])"
   ]
  },
  {
   "cell_type": "code",
   "execution_count": null,
   "metadata": {},
   "outputs": [],
   "source": [
    "# Few bad quality pictures are generating a lot of missing values and are removed\n",
    "fieldToKeep <- fieldToKeep[rowSums(is.na(LT[fieldToKeep,ftToKeep])) < FILT_NB_MAX_NA_IMAGE]"
   ]
  },
  {
   "cell_type": "code",
   "execution_count": null,
   "metadata": {},
   "outputs": [],
   "source": [
    "imgToKeep = LT$ImageNumber[fieldToKeep]"
   ]
  },
  {
   "cell_type": "markdown",
   "metadata": {},
   "source": [
    "### Load individual cell measurements"
   ]
  },
  {
   "cell_type": "code",
   "execution_count": null,
   "metadata": {},
   "outputs": [],
   "source": [
    "t_start = Sys.time()\n",
    "cytoplasm = fread(\"Rsc/compiled_LT_ARPC1B_3D_FilterNKCytoplasm.csv\", header=T)\n",
    "dim(cytoplasm)\n",
    "Sys.time() - t_start"
   ]
  },
  {
   "cell_type": "code",
   "execution_count": null,
   "metadata": {},
   "outputs": [],
   "source": [
    "colCytoplasm = c(\n",
    "    \"ImageNumber\",\n",
    "    \"ObjectNumber\",\n",
    "    \"AreaShape_Perimeter\",\n",
    "    \"AreaShape_Area\",\n",
    "    \"AreaShape_MaximumRadius\",\n",
    "    \"AreaShape_MinorAxisLength\",\n",
    "    \"AreaShape_MeanRadius\",\n",
    "    \"AreaShape_FormFactor\",\n",
    "    \"Intensity_MeanIntensity_Corr.*\",\n",
    "    \"RadialDistribution_FracAtD_Corr.*\",\n",
    "    \"Mean_FilterNKPerfGranules._Distance_Minimum_FilterNKCytoplasm\",\n",
    "    \"Mean_FilterNKPerfGranules._Location_Center_.\"\n",
    ")\n",
    "grepList <- function(p) grep(pattern = p, x = names(cytoplasm))\n",
    "indColCytoplasm = unlist(sapply(colCytoplasm, grepList))"
   ]
  },
  {
   "cell_type": "markdown",
   "metadata": {},
   "source": [
    "### Filter corresponding cells"
   ]
  },
  {
   "cell_type": "code",
   "execution_count": null,
   "metadata": {
    "scrolled": true
   },
   "outputs": [],
   "source": [
    "cytoplasm = cytoplasm[cytoplasm$ImageNumber %in% imgToKeep, ..indColCytoplasm]\n",
    "dim(cytoplasm)"
   ]
  },
  {
   "cell_type": "markdown",
   "metadata": {},
   "source": [
    "Visualize cutoff with:\n",
    "```\n",
    "ggplot(cell, aes(x = Intensity_MeanIntensity_CorrActin)) +\n",
    "    geom_histogram(bins = 50) +\n",
    "    geom_vline(xintercept = 0.02) +\n",
    "    geom_vline(xintercept = 0.14) +\n",
    "    facet_wrap(~Donor)\n",
    "ggplot(cell, aes(x = AreaShape_Area)) +\n",
    "    geom_histogram(bins = 50) +\n",
    "    geom_vline(xintercept = 500) +\n",
    "    geom_vline(xintercept = 5000) +\n",
    "    facet_wrap(~Donor)\n",
    "```"
   ]
  },
  {
   "cell_type": "code",
   "execution_count": null,
   "metadata": {},
   "outputs": [],
   "source": [
    "CELL_FILTER_MIN_ACTIN_INT = 0.02\n",
    "CELL_FILTER_MAX_ACTIN_INT = 0.14\n",
    "CELL_FILTER_MIN_AREA = 500\n",
    "CELL_FILTER_MAX_AREA = 5000"
   ]
  },
  {
   "cell_type": "code",
   "execution_count": null,
   "metadata": {},
   "outputs": [],
   "source": [
    "f1 = cytoplasm$Intensity_MeanIntensity_CorrActin > CELL_FILTER_MIN_ACTIN_INT\n",
    "f2 = cytoplasm$Intensity_MeanIntensity_CorrActin < CELL_FILTER_MAX_ACTIN_INT\n",
    "f3 = cytoplasm$AreaShape_Area > CELL_FILTER_MIN_AREA\n",
    "f4 = cytoplasm$AreaShape_Area < CELL_FILTER_MAX_AREA"
   ]
  },
  {
   "cell_type": "code",
   "execution_count": null,
   "metadata": {},
   "outputs": [],
   "source": [
    "cytoplasm = cytoplasm[f1 & f2 & f3 & f4,]\n",
    "dim(cytoplasm)"
   ]
  },
  {
   "cell_type": "code",
   "execution_count": null,
   "metadata": {},
   "outputs": [],
   "source": [
    "cell = cytoplasm"
   ]
  },
  {
   "cell_type": "markdown",
   "metadata": {},
   "source": [
    "For now we consider that all columns selected should be kept, despite some having NAs (e.g. when a cell doesn't have any granule segmented on a given plane."
   ]
  },
  {
   "cell_type": "code",
   "execution_count": null,
   "metadata": {},
   "outputs": [],
   "source": [
    "getDonor <- function(imageN){\n",
    "    return(LT$Donor[LT$ImageNumber == imageN])\n",
    "}\n",
    "cellDonor = sapply(cell$ImageNumber, getDonor)"
   ]
  },
  {
   "cell_type": "code",
   "execution_count": null,
   "metadata": {},
   "outputs": [],
   "source": [
    "isNDcell <- function(imageN){\n",
    "    return(LT$ND[LT$ImageNumber == imageN])\n",
    "}\n",
    "cellND = sapply(cell$ImageNumber, isNDcell)"
   ]
  },
  {
   "cell_type": "markdown",
   "metadata": {},
   "source": [
    "## Granule position regression"
   ]
  },
  {
   "cell_type": "markdown",
   "metadata": {},
   "source": [
    "NB: Other models did not perform significantly better.\n",
    "\n",
    "```R\n",
    "    set.seed(38)\n",
    "\n",
    "    # We select actin and cytoplasm related features to explain other variables\n",
    "    predictiveFtInd = c(grep(\"\\\\.x\", names(cell)[ftToKeep]), which(names(cell)[ftToKeep] %in% names(cytoplasm)))\n",
    "    predictiveFt = names(cell)[ftToKeep][predictiveFtInd]\n",
    "    # Remove granule related feature\n",
    "    predictiveFtInd = grep(\"Granule\", predictiveFt, invert = T)\n",
    "    predictiveFt = names(cell)[ftToKeep][predictiveFtInd]\n",
    "\n",
    "    form1 = as.formula(paste(\"Mean_FilterNKPerfGranules_Distance_Minimum_FilterNKCytoplasm ~ \", \n",
    "                             paste(predictiveFt, collapse = \" + \")))\n",
    "    model1 = lm(form1, data = cell[cellToKeep, ftToKeep])\n",
    "\n",
    "    summary(model1)\n",
    "\n",
    "    form2 = as.formula(paste(\"Intensity_IntegratedIntensity_DistNuc ~ \", \n",
    "                             paste(predictiveFt, collapse = \" + \")))\n",
    "    model2 = lm(form2, data = cell[cellToKeep, ftToKeep])\n",
    "\n",
    "    summary(model2)\n",
    "\n",
    "    form3 = as.formula(paste(\"Intensity_MeanIntensity_DistNuc ~ \", \n",
    "                             paste(predictiveFt, collapse = \" + \")))\n",
    "    model3 = lm(form3, data = cell[cellToKeep, ftToKeep])\n",
    "\n",
    "    summary(model3)\n",
    "\n",
    "    form4 = as.formula(paste(\"Intensity_MedianIntensity_DistNuc ~ \", \n",
    "                             paste(predictiveFt, collapse = \" + \")))\n",
    "    model4 = lm(form4, data = cell[cellToKeep, ftToKeep])\n",
    "\n",
    "    summary(model4)\n",
    "```"
   ]
  },
  {
   "cell_type": "markdown",
   "metadata": {},
   "source": [
    "We explore how much can be predicted from easily interpretable actin and shape features alone."
   ]
  },
  {
   "cell_type": "code",
   "execution_count": null,
   "metadata": {},
   "outputs": [],
   "source": [
    "interpretableFt = c('AreaShape_Perimeter', 'AreaShape_MaximumRadius', 'AreaShape_MinorAxisLength',\n",
    "                    'AreaShape_MeanRadius', 'AreaShape_FormFactor', 'Intensity_MeanIntensity_CorrActin',\n",
    "                    'RadialDistribution_FracAtD_CorrActin1_1of3', 'RadialDistribution_FracAtD_CorrActin1_2of3')"
   ]
  },
  {
   "cell_type": "code",
   "execution_count": null,
   "metadata": {},
   "outputs": [],
   "source": [
    "form_lm = as.formula(paste(\"Mean_FilterNKPerfGranules1_Distance_Minimum_FilterNKCytoplasm ~ \", \n",
    "                         paste(interpretableFt, collapse = \" + \")))\n",
    "model_nd = lm(form_lm, data = cell[cellND,])"
   ]
  },
  {
   "cell_type": "code",
   "execution_count": null,
   "metadata": {},
   "outputs": [],
   "source": [
    "model_pt1 = lm(form_lm, data = cell[cellDonor == \"PATIENT 1\",])"
   ]
  },
  {
   "cell_type": "code",
   "execution_count": null,
   "metadata": {},
   "outputs": [],
   "source": [
    "model_pt2 = lm(form_lm, data = cell[cellDonor == \"PATIENT 2\",])"
   ]
  },
  {
   "cell_type": "code",
   "execution_count": null,
   "metadata": {},
   "outputs": [],
   "source": [
    "# Export data (used to find representative cells)\n",
    "if(!TEST_MODE){\n",
    "    write.csv(cell[cellND,], \"Tab/LT_ARPC1B_granule_cell_nd.csv\", row.names = F)\n",
    "    write.csv(cell[cellDonor == \"PATIENT 2\",], \"Tab/LT_ARPC1B_granule_cell_pt2.csv\", row.names = F)\n",
    "}"
   ]
  },
  {
   "cell_type": "code",
   "execution_count": null,
   "metadata": {},
   "outputs": [],
   "source": [
    "summary(model_nd)"
   ]
  },
  {
   "cell_type": "code",
   "execution_count": null,
   "metadata": {},
   "outputs": [],
   "source": [
    "summary(model_pt1)"
   ]
  },
  {
   "cell_type": "code",
   "execution_count": null,
   "metadata": {
    "scrolled": true
   },
   "outputs": [],
   "source": [
    "summary(model_pt2)"
   ]
  },
  {
   "cell_type": "markdown",
   "metadata": {},
   "source": [
    "## Visualize links"
   ]
  },
  {
   "cell_type": "code",
   "execution_count": null,
   "metadata": {},
   "outputs": [],
   "source": [
    "g = make_star(n = length(model_nd$coefficients), mode = \"undirected\")\n",
    "V(g)$names <- names(model_nd$coefficients)\n",
    "V(g)$names[1] <- as.character(form_lm[2])\n",
    "g <- set_edge_attr(g, \"color\", value = ifelse(model_nd$coefficients[-1] > 0, \"#00dd00\", \"#dd0000\"))\n",
    "plot(g, vertex.label = V(g)$names)"
   ]
  },
  {
   "cell_type": "code",
   "execution_count": null,
   "metadata": {},
   "outputs": [],
   "source": [
    "if(!TEST_MODE){\n",
    "    pdf(\"Fig/LT_ARPC1B_granule_network_per_cell_nd.pdf\")\n",
    "    plot(g, vertex.label = V(g)$names)\n",
    "    dev.off()\n",
    "}"
   ]
  },
  {
   "cell_type": "code",
   "execution_count": null,
   "metadata": {},
   "outputs": [],
   "source": [
    "g = make_star(n = length(model_pt1$coefficients), mode = \"undirected\")\n",
    "V(g)$names <- names(model_pt1$coefficients)\n",
    "V(g)$names[1] <- as.character(form_lm[2])\n",
    "g <- set_edge_attr(g, \"color\", value = ifelse(model_pt1$coefficients[-1] > 0, \"#00dd00\", \"#dd0000\"))\n",
    "plot(g, vertex.label = V(g)$names)"
   ]
  },
  {
   "cell_type": "code",
   "execution_count": null,
   "metadata": {},
   "outputs": [],
   "source": [
    "if(!TEST_MODE){\n",
    "    pdf(\"Fig/LT_ARPC1B_granule_network_per_cell_pt1.pdf\")\n",
    "    plot(g, vertex.label = V(g)$names)\n",
    "    dev.off()\n",
    "}"
   ]
  },
  {
   "cell_type": "code",
   "execution_count": null,
   "metadata": {},
   "outputs": [],
   "source": [
    "g = make_star(n = length(model_pt2$coefficients), mode = \"undirected\")\n",
    "V(g)$names <- names(model_pt2$coefficients)\n",
    "V(g)$names[1] <- as.character(form_lm[2])\n",
    "g <- set_edge_attr(g, \"color\", value = ifelse(model_pt2$coefficients[-1] > 0, \"#00dd00\", \"#dd0000\"))\n",
    "plot(g, vertex.label = V(g)$names)"
   ]
  },
  {
   "cell_type": "code",
   "execution_count": null,
   "metadata": {},
   "outputs": [],
   "source": [
    "if(!TEST_MODE){\n",
    "    pdf(\"Fig/LT_ARPC1B_granule_network_per_cell_pt2.pdf\")\n",
    "    plot(g, vertex.label = V(g)$names)\n",
    "    dev.off()\n",
    "}"
   ]
  },
  {
   "cell_type": "markdown",
   "metadata": {},
   "source": [
    "### Prediction from LFA-1 features"
   ]
  },
  {
   "cell_type": "code",
   "execution_count": null,
   "metadata": {},
   "outputs": [],
   "source": [
    "names(cell)[grep(\"LFA\", names(cell))]"
   ]
  },
  {
   "cell_type": "code",
   "execution_count": null,
   "metadata": {},
   "outputs": [],
   "source": [
    "lfa1Ft = c('Intensity_MeanIntensity_CorrLFA1', 'RadialDistribution_FracAtD_CorrLFA1_1of3',\n",
    "                    'RadialDistribution_FracAtD_CorrLFA1_2of3')\n",
    "form_lfa_lm = as.formula(paste(\"Mean_FilterNKPerfGranules1_Distance_Minimum_FilterNKCytoplasm ~ \", \n",
    "                         paste(lfa1Ft, collapse = \" + \")))\n",
    "model_lfa_nd = lm(form_lfa_lm, data = cytoplasm)"
   ]
  },
  {
   "cell_type": "code",
   "execution_count": null,
   "metadata": {},
   "outputs": [],
   "source": [
    "summary(model_lfa_nd)"
   ]
  },
  {
   "cell_type": "code",
   "execution_count": null,
   "metadata": {
    "scrolled": true
   },
   "outputs": [],
   "source": [
    "plot(model_lfa_nd)"
   ]
  },
  {
   "cell_type": "code",
   "execution_count": null,
   "metadata": {},
   "outputs": [],
   "source": [
    "plot(x = model_lfa_nd$fitted.values,\n",
    "     y = na.omit(cytoplasm$Mean_FilterNKPerfGranules1_Distance_Minimum_FilterNKCytoplasm))"
   ]
  },
  {
   "cell_type": "markdown",
   "metadata": {},
   "source": [
    "## Intensity relations per level"
   ]
  },
  {
   "cell_type": "code",
   "execution_count": null,
   "metadata": {},
   "outputs": [],
   "source": [
    "cell$Donor = cellDonor"
   ]
  },
  {
   "cell_type": "code",
   "execution_count": null,
   "metadata": {},
   "outputs": [],
   "source": [
    "gp <- ggplot(cell, aes(x = Mean_FilterNKPerfGranules4_Distance_Minimum_FilterNKCytoplasm,\n",
    "                 y = RadialDistribution_FracAtD_CorrActin4_1of3,\n",
    "                 color = Donor)) +\n",
    "    geom_point(alpha = 0.04) + \n",
    "    geom_density_2d() + \n",
    "    scale_color_manual(values = c(\"#E5CE79\", \"#E5CE79\", \"#E5CE79\", \"#198CAC\", \"#198CAC\")) +\n",
    "    guides(color = F) +\n",
    "    facet_wrap(~Donor)"
   ]
  },
  {
   "cell_type": "code",
   "execution_count": null,
   "metadata": {},
   "outputs": [],
   "source": [
    "if(!TEST_MODE){\n",
    "    ggsave(filename = \"Fig/LT_ARPC1B_granule_count_and_radial_z4.pdf\", plot = gp, height = 7, width = 10)\n",
    "}"
   ]
  },
  {
   "cell_type": "markdown",
   "metadata": {},
   "source": [
    "## Load individual slide granule measurement"
   ]
  },
  {
   "cell_type": "code",
   "execution_count": null,
   "metadata": {},
   "outputs": [],
   "source": [
    "cell = cytoplasm\n",
    "cell$Donor = sapply(cell$ImageNumber, getDonor)"
   ]
  },
  {
   "cell_type": "markdown",
   "metadata": {},
   "source": [
    "### Granule dispersion\n",
    "We want to include dispersion both on the X and Y axes in a symmetric manner (as these directions do not represent anything particular to the cells).  \n",
    "We use the Standard Distance Deviation defined as:  \n",
    "$$\n",
    "\\begin{aligned}\n",
    "SDD &= \\sqrt{\\frac{\\sum_i^n (x_i - \\hat{x})^2}{n-2} + \\frac{\\sum_i^n (y_i - \\hat{y})^2}{n-2}} \\\\ \n",
    "&= \\sqrt{\\frac{n-1}{n-2} \\times \\bigg(\\frac{\\sum_i^n (x_i - \\hat{x})^2}{n-1} + \\frac{\\sum_i^n (y_i - \\hat{y})^2}{n-1}\\bigg)} \\\\\n",
    "&= \\sqrt{\\frac{n-1}{n-2} \\times \\big(\\text{var}(x) + \\text{var}(y)\\big)}\n",
    "\\end{aligned}\n",
    "$$ \n",
    "To try and include the effect of cytoplasm area, we measure as well the area of the convex hull including the centers of all granules to compare this value to the cytoplasm area."
   ]
  },
  {
   "cell_type": "code",
   "execution_count": null,
   "metadata": {},
   "outputs": [],
   "source": [
    "get_hull_area <- function(x, y){\n",
    "    # If we have less than 3 points, \n",
    "    # the hull is empty\n",
    "    if (length(x) < 3){\n",
    "        return(0)\n",
    "    }\n",
    "    X = cbind(x,y)\n",
    "    hull = chull(X)\n",
    "    hpts = c(hull, hull[1])\n",
    "    hull_poly = Polygon(X[hpts, ], hole=F)\n",
    "    return(hull_poly@area)\n",
    "}"
   ]
  },
  {
   "cell_type": "code",
   "execution_count": null,
   "metadata": {},
   "outputs": [],
   "source": [
    "addGranuleFeatures <- function(i){\n",
    "    # Read granule measurements at given height\n",
    "    granule = fread(paste0(\"Rsc/compiled_LT_ARPC1B_3D_FilterNKPerfGranules\", i, \".csv\"), header=T)\n",
    "    \n",
    "    colGran = names(granule) %in% c(\"Parent_FilterNKCytoplasm\", \n",
    "                                \"ImageNumber\", \n",
    "                                \"Location_Center_X\", \n",
    "                                \"Location_Center_Y\",\n",
    "                                \"Distance_Minimum_FilterNKCytoplasm\")\n",
    "    \n",
    "    # Add granule count, mean distance to membrane, \n",
    "    # standard deviation of this distance, SDD of granules and \n",
    "    # area of convex hull\n",
    "    aggGranule = granule[,colGran,with=F] %>% \n",
    "                 group_by(ImageNumber, Parent_FilterNKCytoplasm) %>% \n",
    "                 summarise(Count = n(), \n",
    "                           VarX = var(Location_Center_X), \n",
    "                           VarY = var(Location_Center_Y),\n",
    "                           HullArea = get_hull_area(Location_Center_X, Location_Center_Y),\n",
    "                           MeanDist = mean(Distance_Minimum_FilterNKCytoplasm),\n",
    "                           SdDist = sd(Distance_Minimum_FilterNKCytoplasm))\n",
    "    aggGranule$SDD = sqrt( (aggGranule$Count - 1)/(aggGranule$Count - 2) * \n",
    "                           (aggGranule$VarX + aggGranule$VarY) )\n",
    "    \n",
    "    names(aggGranule)[-c(1,2)] = paste0(paste0(\"Gran\", i, \"_\"), names(aggGranule)[-c(1,2)])\n",
    "    \n",
    "    cell = merge(cell, aggGranule, by.x = c(\"ImageNumber\", \"ObjectNumber\"),\n",
    "                                   by.y = c(\"ImageNumber\", \"Parent_FilterNKCytoplasm\"))\n",
    "    \n",
    "    # Free up memory\n",
    "    granule = 0\n",
    "    \n",
    "    return(cell)\n",
    "}"
   ]
  },
  {
   "cell_type": "code",
   "execution_count": null,
   "metadata": {},
   "outputs": [],
   "source": [
    "cell = addGranuleFeatures(1)"
   ]
  },
  {
   "cell_type": "code",
   "execution_count": null,
   "metadata": {},
   "outputs": [],
   "source": [
    "# Sanity check: mean distance to membrane calculated from granule file matches the ones included by CellProfiler\n",
    "# in the cytoplasm file.\n",
    "ggplot(cell, aes(x = Mean_FilterNKPerfGranules1_Distance_Minimum_FilterNKCytoplasm,\n",
    "               y = Gran1_MeanDist, color = Donor)) + geom_point() + facet_wrap(~Donor)"
   ]
  },
  {
   "cell_type": "code",
   "execution_count": null,
   "metadata": {
    "scrolled": true
   },
   "outputs": [],
   "source": [
    "cell = addGranuleFeatures(2)\n",
    "cell = addGranuleFeatures(3)\n",
    "cell = addGranuleFeatures(4)\n",
    "cell = addGranuleFeatures(5)\n",
    "cell = addGranuleFeatures(6)\n",
    "cell = addGranuleFeatures(7)\n",
    "cell = addGranuleFeatures(8)"
   ]
  },
  {
   "cell_type": "code",
   "execution_count": null,
   "metadata": {
    "scrolled": true
   },
   "outputs": [],
   "source": [
    "# Sanity check: mean distance to membrane calculated from granule file matches the ones included by CellProfiler\n",
    "# in the cytoplasm file.\n",
    "ggplot(cell, aes(x = Mean_FilterNKPerfGranules8_Distance_Minimum_FilterNKCytoplasm,\n",
    "               y = Gran8_MeanDist, color = Donor)) + geom_point() + facet_wrap(~Donor)"
   ]
  },
  {
   "cell_type": "code",
   "execution_count": null,
   "metadata": {},
   "outputs": [],
   "source": [
    "granuleCount = cell[, c(1,2,133,grep(\"Count\", names(cell))), with=F]\n",
    "granuleCount = melt(granuleCount, id.vars = c(\"ImageNumber\", \"ObjectNumber\", \"Donor\"))\n",
    "levels(granuleCount$variable) = paste0(\"z=\", 1:8)\n",
    "gp <- ggplot(granuleCount, aes(x = variable, y = value)) + \n",
    "            geom_line(aes(group = ImageNumber, color = Donor), alpha = 0.1)+\n",
    "            geom_violin(fill = \"grey80\", draw_quantiles = c(0.25, 0.5, 0.75)) + \n",
    "            xlab(\"Depth\") + ylab(\"Granule count\") + facet_wrap(~Donor) + \n",
    "            scale_color_manual(values = c(\"#E5CE79\", \"#E5CE79\", \"#E5CE79\", \"#198CAC\", \"#198CAC\")) +\n",
    "            theme(axis.text.x = element_text(angle = 45, hjust = 1)) + guides(color = F)\n",
    "print(gp)"
   ]
  },
  {
   "cell_type": "code",
   "execution_count": null,
   "metadata": {},
   "outputs": [],
   "source": [
    "if(!TEST_MODE){\n",
    "    ggsave(filename = \"Fig/LT_ARPC1B_granule_count_per_donor.pdf\", plot = gp, height = 7, width = 10)\n",
    "}"
   ]
  },
  {
   "cell_type": "code",
   "execution_count": null,
   "metadata": {},
   "outputs": [],
   "source": [
    "sessionInfo()"
   ]
  }
 ],
 "metadata": {
  "kernelspec": {
   "display_name": "R",
   "language": "R",
   "name": "ir"
  },
  "language_info": {
   "codemirror_mode": "r",
   "file_extension": ".r",
   "mimetype": "text/x-r-source",
   "name": "R",
   "pygments_lexer": "r",
   "version": "3.5.1"
  },
  "toc": {
   "base_numbering": 1,
   "nav_menu": {},
   "number_sections": false,
   "sideBar": false,
   "skip_h1_title": false,
   "title_cell": "Table of Contents",
   "title_sidebar": "Contents",
   "toc_cell": false,
   "toc_position": {},
   "toc_section_display": false,
   "toc_window_display": false
  }
 },
 "nbformat": 4,
 "nbformat_minor": 2
}
