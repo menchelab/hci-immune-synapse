{
 "cells": [
  {
   "cell_type": "markdown",
   "metadata": {},
   "source": [
    "# NK plates analysis"
   ]
  },
  {
   "cell_type": "markdown",
   "metadata": {},
   "source": [
    "## Preliminary settings"
   ]
  },
  {
   "cell_type": "code",
   "execution_count": null,
   "metadata": {
    "scrolled": true
   },
   "outputs": [],
   "source": [
    "library(ggplot2)\n",
    "library(extrafont)\n",
    "library(stringr)\n",
    "library(heatmaply)\n",
    "library(ggrepel)\n",
    "library(reticulate)\n",
    "library(gridExtra)\n",
    "library(robustbase)"
   ]
  },
  {
   "cell_type": "code",
   "execution_count": null,
   "metadata": {},
   "outputs": [],
   "source": [
    "# Load external Python functions\n",
    "source_python(\"reticulate_functions.py\")\n",
    "# Load extra fonts\n",
    "loadfonts()"
   ]
  },
  {
   "cell_type": "code",
   "execution_count": null,
   "metadata": {},
   "outputs": [],
   "source": [
    "# Set this to true for faster compilation or false for more precise results and all outputs\n",
    "TEST_MODE = T\n",
    "# Number of permutations used for empirical p-value computations\n",
    "PERM_NB_ITER = ifelse(TEST_MODE, 20, 2000)"
   ]
  },
  {
   "cell_type": "code",
   "execution_count": null,
   "metadata": {},
   "outputs": [],
   "source": [
    "# Customize ggplot appearance\n",
    "\n",
    "# Change theme\n",
    "customTheme <- theme_light() + \n",
    "               theme(panel.grid.minor=element_blank(), text=element_text(size=17, family=\"Arial\", colour = \"#333333\"),\n",
    "                     line=element_line(colour = \"#333333\"), legend.background = element_rect(fill=alpha('#CCCCCC', 0.1)), legend.key = element_blank())\n",
    "\n",
    "# Change default colors\n",
    "scale_colour_continuous <- function (..., begin = 0.1, end = 0.9, direction = -1, option = \"plasma\", \n",
    "                                     type = getOption(\"ggplot2.continuous.colour\", default = \"viridis\")) {\n",
    "    switch(type, gradient = scale_colour_gradient(...), \n",
    "        viridis = scale_colour_viridis_c(option = option, begin = begin, end = end, direction = direction, ...), \n",
    "        stop(\"Unknown scale type\", call. = FALSE))\n",
    "}\n",
    "scale_color_continuous <- scale_colour_continuous\n",
    "\n",
    "scale_fill_continuous <- function (..., begin = 0.1, end = 0.9, direction = -1, option = \"plasma\", \n",
    "                                     type = getOption(\"ggplot2.continuous.colour\", default = \"viridis\")) {\n",
    "    switch(type, gradient = scale_fill_gradient(...), \n",
    "        viridis = scale_fill_viridis_c(option = option, begin = begin, end = end, direction = direction, ...), \n",
    "        stop(\"Unknown scale type\", call. = FALSE))\n",
    "\n",
    "}\n",
    "\n",
    "\n",
    "cemm_pal = colorRampPalette(c(\"#5A463C\", \"#008CAD\", \"#40B9D4\", \"#D4ECF2\", \"#D2323C\", \"#F8B100\", \"#DFDC00\"))\n",
    "scale_fill_discrete <- function (..., type = \"CeMM\", h = c(0, 360) + 15, c = 100, l = 65, h.start = 0, \n",
    "    direction = 1, na.value = \"grey50\", aesthetics = \"fill\") \n",
    "{\n",
    "    if (type == \"CeMM\"){\n",
    "        discrete_scale(aesthetics, \"CeMM\", cemm_pal, na.value = na.value, ...)\n",
    "    } else {\n",
    "        discrete_scale(aesthetics, \"hue\", hue_pal(h, c, l, h.start, \n",
    "            direction), na.value = na.value, ...)\n",
    "    }\n",
    "}\n",
    "\n",
    "scale_color_discrete <- function (..., type = \"CeMM\", h = c(0, 360) + 15, c = 100, l = 65, h.start = 0, \n",
    "    direction = 1, na.value = \"grey50\", aesthetics = \"colour\") {\n",
    "    if (type == \"CeMM\"){\n",
    "        discrete_scale(aesthetics, \"CeMM\", cemm_pal, na.value = na.value, ...)\n",
    "    } else {\n",
    "        discrete_scale(aesthetics, \"hue\", scales::hue_pal(h, c, l, h.start, \n",
    "            direction), na.value = na.value, ...)\n",
    "    }\n",
    "}\n",
    "scale_colour_discrete <- scale_color_discrete\n",
    "\n",
    "noGridTheme <- function(...){\n",
    "    theme(panel.grid.major=element_blank(), axis.text.x=element_text(size=12), axis.text.y=element_text(size=12),\n",
    "                      axis.line=element_line(color=\"#333333\", size = 0.2), panel.border = element_blank(), ...)\n",
    "}\n",
    "\n",
    "darkTheme <- function(...){\n",
    "    theme(panel.background = element_rect(fill = '#333333'), plot.background = element_rect(fill = '#333333'), \n",
    "          axis.line=element_line(color=\"#CCCCCC\", size = 0.2), \n",
    "          text=element_text(size=17, family=\"Arial\", colour = \"#CCCCCC\"),\n",
    "          line=element_line(colour = \"#CCCCCC\"))\n",
    "}\n",
    "\n",
    "theme_set(customTheme)\n",
    "\n",
    "options(repr.plot.width=10, repr.plot.height=10)"
   ]
  },
  {
   "cell_type": "markdown",
   "metadata": {},
   "source": [
    "## Import data"
   ]
  },
  {
   "cell_type": "code",
   "execution_count": null,
   "metadata": {},
   "outputs": [],
   "source": [
    "NK = read.csv(\"./allImages.csv\", header=T) "
   ]
  },
  {
   "cell_type": "code",
   "execution_count": null,
   "metadata": {},
   "outputs": [],
   "source": [
    "NK_P3B = read.csv(\"./allImages_NKP3B.csv\", header=T)"
   ]
  },
  {
   "cell_type": "markdown",
   "metadata": {},
   "source": [
    "Data for measurement B of plate 3 was handled separately and some column are not matching so a manual merging of the tables is needed."
   ]
  },
  {
   "cell_type": "code",
   "execution_count": null,
   "metadata": {},
   "outputs": [],
   "source": [
    "names(NK)[which(!(names(NK) %in% names(NK_P3B)))]\n",
    "names(NK_P3B)[which(!(names(NK_P3B) %in% names(NK)))]"
   ]
  },
  {
   "cell_type": "code",
   "execution_count": null,
   "metadata": {},
   "outputs": [],
   "source": [
    "commonNames = intersect(names(NK_P3B), names(NK))\n",
    "# Common columns are in the same order:\n",
    "all(names(NK_P3B)[names(NK_P3B) %in% commonNames] == names(NK)[names(NK) %in% commonNames])"
   ]
  },
  {
   "cell_type": "code",
   "execution_count": null,
   "metadata": {},
   "outputs": [],
   "source": [
    "fields3B = str_extract(NK_P3B$URL_Actin, \"r\\\\d{2}.*\")\n",
    "fieldsDuplicate = (str_extract(NK$URL_Actin, \"Plate\\\\d\") == \"Plate3\")&(str_extract(NK$URL_Actin, \"r\\\\d{2}.*\") %in% fields3B)"
   ]
  },
  {
   "cell_type": "code",
   "execution_count": null,
   "metadata": {},
   "outputs": [],
   "source": [
    "NK = rbind(NK[!fieldsDuplicate, names(NK) %in% commonNames], \n",
    "      NK_P3B[, names(NK_P3B) %in% commonNames])"
   ]
  },
  {
   "cell_type": "code",
   "execution_count": null,
   "metadata": {},
   "outputs": [],
   "source": [
    "NK$Plate <- as.factor(str_extract(NK$URL_Actin, \"Plate.\"))\n",
    "Position <- str_extract_all(NK$URL_Actin, '\\\\d{2}', simplify = T)\n",
    "colnames(Position) <- c(\"Row\", \"Column\", \"Field\")\n",
    "NK <- cbind(NK, Position)"
   ]
  },
  {
   "cell_type": "code",
   "execution_count": null,
   "metadata": {},
   "outputs": [],
   "source": [
    "wellAnnotation = read.csv(\"transferNK92.tsv\", sep=\"\\t\", stringsAsFactors=F)"
   ]
  },
  {
   "cell_type": "code",
   "execution_count": null,
   "metadata": {},
   "outputs": [],
   "source": [
    "wellAnnotation$Well <- sub(\"([A-H])(\\\\d$)\", \"\\\\10\\\\2\", wellAnnotation$Well)"
   ]
  },
  {
   "cell_type": "code",
   "execution_count": null,
   "metadata": {},
   "outputs": [],
   "source": [
    "getGene <- function(well){ # Which gene is targeted in a given well?\n",
    "    return(wellAnnotation[wellAnnotation$Well == well, 2])\n",
    "}\n",
    "NK$Gene <- as.factor(sapply(NK$Metadata_Well, getGene))"
   ]
  },
  {
   "cell_type": "code",
   "execution_count": null,
   "metadata": {},
   "outputs": [],
   "source": [
    "getGroup <- function(well){\n",
    "    return(wellAnnotation[wellAnnotation$Well == well, 4])\n",
    "}\n",
    "NK$Group <- as.factor(sapply(NK$Metadata_Well, getGroup))"
   ]
  },
  {
   "cell_type": "code",
   "execution_count": null,
   "metadata": {},
   "outputs": [],
   "source": [
    "getSh <- function(well){ # Which gene is targeted in a given well?\n",
    "    x = wellAnnotation[wellAnnotation$Well == well, ]\n",
    "    return(paste(x[2], x[3], sep = \"_\"))\n",
    "}\n",
    "NK$shRNA <- as.factor(sapply(NK$Metadata_Well, getSh))"
   ]
  },
  {
   "cell_type": "markdown",
   "metadata": {},
   "source": [
    "## Visualize full dataset"
   ]
  },
  {
   "cell_type": "markdown",
   "metadata": {},
   "source": [
    "### Cell count"
   ]
  },
  {
   "cell_type": "code",
   "execution_count": null,
   "metadata": {},
   "outputs": [],
   "source": [
    "ggplot(NK) + geom_histogram(aes(Count_FilteredNucleus, fill = Plate), binwidth=2)"
   ]
  },
  {
   "cell_type": "code",
   "execution_count": null,
   "metadata": {},
   "outputs": [],
   "source": [
    "ggplot(NK) + geom_point(aes(Count_Nucleus, Count_FilteredNucleus, color = Plate), position = \"jitter\")"
   ]
  },
  {
   "cell_type": "code",
   "execution_count": null,
   "metadata": {
    "scrolled": false
   },
   "outputs": [],
   "source": [
    "ggplot(NK) + geom_point(aes(Mean_FilterCytoplasm_AreaShape_Perimeter, Count_FilteredNucleus, \n",
    "                            color = Plate), position = \"jitter\")"
   ]
  },
  {
   "cell_type": "markdown",
   "metadata": {},
   "source": [
    "## Filtering"
   ]
  },
  {
   "cell_type": "code",
   "execution_count": null,
   "metadata": {},
   "outputs": [],
   "source": [
    "FILT_MAX_INT_DNA = 0.05 # Remove empty images and small DNA precipitations\n",
    "FILT_MIN_CELLS = 4 # 8 seems safe from distribution and images, 3 seems in poor shape\n",
    "FILT_NB_MAX_NA_IMAGE = 10 # 48 images generated between 10 and 385 NAs/image, all others generate at most 2/image\n",
    "FILT_MAX_CORR = 0.6 # Keep uncorrelated variables\n",
    "# Strong clots on DNA channels are observe to be technical artifacts driving clustering and needs to be removed\n",
    "FILT_MINMAX_INT_DNA = 0.6\n",
    "dimUMAP = 3"
   ]
  },
  {
   "cell_type": "code",
   "execution_count": null,
   "metadata": {},
   "outputs": [],
   "source": [
    "ftToKeep = 1:dim(NK)[2]\n",
    "# Make sure that the fields are numeric\n",
    "ftToKeep <- ftToKeep[which(sapply(NK[,ftToKeep], class) == \"numeric\")]\n",
    "# Remove execution time and count features\n",
    "ftToKeep <- ftToKeep[grep(\"(Execution)|(Count)\", colnames(NK)[ftToKeep], invert = T)]"
   ]
  },
  {
   "cell_type": "code",
   "execution_count": null,
   "metadata": {},
   "outputs": [],
   "source": [
    "# Store all remaining features before filtering for downstream comparison to selected set\n",
    "preFiltFt = colnames(NK)[ftToKeep]"
   ]
  },
  {
   "cell_type": "code",
   "execution_count": null,
   "metadata": {},
   "outputs": [],
   "source": [
    "# Remove wells with low max DNA intensity\n",
    "fieldToKeep <- which(NK$ImageQuality_MaxIntensity_DNA >= FILT_MAX_INT_DNA)\n",
    "# Remove wells with high max DNA intensity\n",
    "fieldToKeep <- which(NK$ImageQuality_MaxIntensity_DNA <= FILT_MINMAX_INT_DNA)\n",
    "# Remove wells with low cell count\n",
    "fieldToKeep <- fieldToKeep[NK[fieldToKeep,]$Count_FilteredNucleus >= FILT_MIN_CELLS]"
   ]
  },
  {
   "cell_type": "code",
   "execution_count": null,
   "metadata": {},
   "outputs": [],
   "source": [
    "# Few bad quality pictures are generating a lot of missing values and are removed\n",
    "fieldToKeep <- fieldToKeep[rowSums(is.na(NK[fieldToKeep,ftToKeep])) < FILT_NB_MAX_NA_IMAGE]\n",
    "# Remove remaining features with missing values\n",
    "ftToKeep <- ftToKeep[colSums(is.na(NK[fieldToKeep,ftToKeep])) == 0] \n",
    "# Remove constant columns\n",
    "indWT = NK[fieldToKeep,]$Gene == \"WT\"\n",
    "ftToKeep <- ftToKeep[sapply(NK[fieldToKeep,ftToKeep], function(x) mad(x) != 0)]\n",
    "ftToKeep <- ftToKeep[sapply(NK[fieldToKeep[indWT],ftToKeep], function(x) mad(x) != 0)]"
   ]
  },
  {
   "cell_type": "code",
   "execution_count": null,
   "metadata": {},
   "outputs": [],
   "source": [
    "# Approximate normal distribution\n",
    "transfLog <- function (x){\n",
    "    minVal = min(x)\n",
    "    return(log(x+1-minVal))\n",
    "}\n",
    "transformedNK = as.data.frame(apply(NK[fieldToKeep, ftToKeep], 2, transfLog))"
   ]
  },
  {
   "cell_type": "code",
   "execution_count": null,
   "metadata": {},
   "outputs": [],
   "source": [
    "# Center and scale on control values\n",
    "transfNorm <- function(x, y){\n",
    "    return((x - median(y))/mad(y))\n",
    "}\n",
    "for (plate in levels(NK$Plate)){\n",
    "    indPlateField = NK$Plate[fieldToKeep] == plate\n",
    "    indWTinPlate <- NK[fieldToKeep[indPlateField],]$Gene == \"WT\"\n",
    "    \n",
    "    transformedNK[indPlateField,] = apply(\n",
    "        transformedNK[indPlateField,], 2, \n",
    "        function(x) transfNorm(x, x[indWTinPlate]))\n",
    "}"
   ]
  },
  {
   "cell_type": "code",
   "execution_count": null,
   "metadata": {},
   "outputs": [],
   "source": [
    "# Remove columns with NA, i.e.\n",
    "# features with mad == 0 for 1 plate or more\n",
    "noNAFt = colSums(is.na(transformedNK)) == 0\n",
    "ftToKeep = ftToKeep[noNAFt]\n",
    "transformedNK = transformedNK[,noNAFt]"
   ]
  },
  {
   "cell_type": "code",
   "execution_count": null,
   "metadata": {},
   "outputs": [],
   "source": [
    "# Order features from biggest mad to smallest mad\n",
    "# Since features have mad(WT) = 1 on each plate, it means that we rank features by how more variable they are\n",
    "# for drug perturbations than for WT\n",
    "orderFt = rev(order(apply(transformedNK, 2, mad)))"
   ]
  },
  {
   "cell_type": "code",
   "execution_count": null,
   "metadata": {},
   "outputs": [],
   "source": [
    "uncorrFt = uncorrelate(transformedNK, orderCol = orderFt-1, threshold = FILT_MAX_CORR)\n",
    "uncorrFt = unlist(uncorrFt) + 1"
   ]
  },
  {
   "cell_type": "code",
   "execution_count": null,
   "metadata": {},
   "outputs": [],
   "source": [
    "transformedNK = transformedNK[,uncorrFt]"
   ]
  },
  {
   "cell_type": "code",
   "execution_count": null,
   "metadata": {},
   "outputs": [],
   "source": [
    "dim(transformedNK)"
   ]
  },
  {
   "cell_type": "markdown",
   "metadata": {},
   "source": [
    "### Look at which types of features are kept"
   ]
  },
  {
   "cell_type": "code",
   "execution_count": null,
   "metadata": {},
   "outputs": [],
   "source": [
    "catChannel = c(\"CorrDNA\", \"CorrActin\", \"CorrPerf\")\n",
    "table(rowSums(sapply(catChannel, function(x) grepl(x, colnames(transformedNK)))))\n",
    "dtCat = data.frame(CountIni = sort(colSums(sapply(catChannel, function(x) grepl(x, preFiltFt)))), \n",
    "                   Count = sort(colSums(sapply(catChannel, function(x) grepl(x, colnames(transformedNK))))))\n",
    "\n",
    "dtCat$Order <- rank(dtCat$CountIni, ties.method = c(\"first\"))\n",
    "dtCat$Category <- factor(rownames(dtCat), levels=rownames(dtCat)[order(dtCat$CountIni)])\n",
    "dtCat$Ratio <- dtCat$Count / dtCat$CountIni\n",
    "dtCat$Ratio <- paste0(round(100*dtCat$Ratio, 1), \"%\")\n",
    "gp <- ggplot(dtCat) + geom_bar(aes(Category, weight = CountIni), fill = cemm_pal(2)[2]) + ylim(c(0,675)) +\n",
    "              geom_bar(aes(Category, weight = Count), fill = cemm_pal(2)[1]) + \n",
    "              geom_text(aes(x = Order, y = CountIni + 2, label = Ratio), hjust = 0) + coord_flip()\n",
    "gp"
   ]
  },
  {
   "cell_type": "code",
   "execution_count": null,
   "metadata": {},
   "outputs": [],
   "source": [
    "if(!TEST_MODE){\n",
    "    ggsave(filename = \"Fig/SH_NK_SelecFt_Channel.pdf\", plot = gp, width = 10)\n",
    "}"
   ]
  },
  {
   "cell_type": "code",
   "execution_count": null,
   "metadata": {},
   "outputs": [],
   "source": [
    "catObjects = c(\"ActinGranules\", \"FilterCytoplasm\", \"ShrunkenCytoplasm\", \"FilteredNucleus\", \"PerfGranules\")\n",
    "table(rowSums(sapply(catObjects, function(x) grepl(x, colnames(transformedNK)))))\n",
    "dtCat = data.frame(CountIni = colSums(sapply(catObjects, function(x) grepl(x, preFiltFt))), \n",
    "                   Count = colSums(sapply(catObjects, function(x) grepl(x, colnames(transformedNK)))))\n",
    "\n",
    "dtCat$Order <- rank(dtCat$CountIni, ties.method = c(\"first\"))\n",
    "dtCat$Category <- factor(rownames(dtCat), levels=rownames(dtCat)[order(dtCat$CountIni)])\n",
    "dtCat$Ratio <- dtCat$Count / dtCat$CountIni\n",
    "dtCat$Ratio <- paste0(round(100*dtCat$Ratio, 1), \"%\")\n",
    "gp <- ggplot(dtCat) + geom_bar(aes(Category, weight = CountIni), fill = cemm_pal(2)[2]) + ylim(c(0,510)) +\n",
    "              geom_bar(aes(Category, weight = Count), fill = cemm_pal(2)[1]) + \n",
    "              geom_text(aes(x = Order, y = CountIni + 2, label = Ratio), hjust = 0) + coord_flip()\n",
    "gp"
   ]
  },
  {
   "cell_type": "code",
   "execution_count": null,
   "metadata": {},
   "outputs": [],
   "source": [
    "if(!TEST_MODE){\n",
    "    ggsave(filename = \"Fig/SH_NK_SelecFt_Object.pdf\", plot = gp, width = 10)\n",
    "}"
   ]
  },
  {
   "cell_type": "code",
   "execution_count": null,
   "metadata": {},
   "outputs": [],
   "source": [
    "catType = c(\"Threshold\", \"Granularity\", \"ImageQuality\", \"Texture\", \"Distance\", \"AreaShape\", \"RadialDistribution\", \"Neighbors\", \n",
    "            \"Correlation\", \"Intensity\", \"Overlap\", \"Location\")\n",
    "which(rowSums(sapply(catType, function(x) grepl(x, colnames(transformedNK)))) == 0) # All features are covered\n",
    "\n",
    "dtCat = data.frame(CountIni = colSums(sapply(catType, function(x) grepl(x, preFiltFt))), \n",
    "                   Count = colSums(sapply(catType, function(x) grepl(x, colnames(transformedNK)))))\n",
    "dtCat$Order <- rank(dtCat$CountIni, ties.method = c(\"first\"))\n",
    "dtCat$Category <- factor(rownames(dtCat), levels=rownames(dtCat)[order(dtCat$CountIni)])\n",
    "dtCat$Ratio <- dtCat$Count / dtCat$CountIni\n",
    "dtCat$Ratio <- paste0(round(100*dtCat$Ratio, 1), \"%\")\n",
    "gp <- ggplot(dtCat) + geom_bar(aes(Category, weight = CountIni), fill = cemm_pal(2)[2]) +\n",
    "              geom_bar(aes(Category, weight = Count), fill = cemm_pal(2)[1]) + \n",
    "              geom_text(aes(x = Order, y = CountIni + 5, label = Ratio), hjust = 0) + coord_flip()\n",
    "gp"
   ]
  },
  {
   "cell_type": "code",
   "execution_count": null,
   "metadata": {},
   "outputs": [],
   "source": [
    "if(!TEST_MODE){\n",
    "    ggsave(filename = \"Fig/SH_NK_SelecFt_Type_All.pdf\", plot = gp, width = 10)\n",
    "}"
   ]
  },
  {
   "cell_type": "code",
   "execution_count": null,
   "metadata": {},
   "outputs": [],
   "source": [
    "catType = c(\"Granularity\", \"Texture\", \"AreaShape\", \"RadialDistribution\",\n",
    "            \"Correlation\", \"Intensity\")\n",
    "table(rowSums(sapply(catType, function(x) grepl(x, colnames(transformedNK)))))\n",
    "\n",
    "dtCount = as.data.frame(sapply(catType, function(x) grepl(x, colnames(transformedNK))))\n",
    "dtCount$Other = !apply(dtCount, 1, any)\n",
    "dtCountIni = as.data.frame(sapply(catType, function(x) grepl(x, preFiltFt)))\n",
    "dtCountIni$Other = !apply(dtCountIni, 1, any)\n",
    "dtCat = data.frame(CountIni = colSums(dtCountIni), \n",
    "                   Count = colSums(dtCount))\n",
    "dtCat$Order <- rank(dtCat$CountIni, ties.method = c(\"first\"))\n",
    "dtCat$Category <- factor(rownames(dtCat), levels=rownames(dtCat)[order(dtCat$CountIni)])\n",
    "dtCat$Ratio <- dtCat$Count / dtCat$CountIni\n",
    "dtCat$Ratio <- paste0(round(100*dtCat$Ratio, 1), \"%\")\n",
    "gp <- ggplot(dtCat) + geom_bar(aes(Category, weight = CountIni), fill = cemm_pal(2)[2]) +\n",
    "              geom_bar(aes(Category, weight = Count), fill = cemm_pal(2)[1]) + \n",
    "              geom_text(aes(x = Order, y = CountIni + 5, label = Ratio), hjust = 0) + coord_flip()\n",
    "gp"
   ]
  },
  {
   "cell_type": "code",
   "execution_count": null,
   "metadata": {},
   "outputs": [],
   "source": [
    "if(!TEST_MODE){\n",
    "    ggsave(filename = \"Fig/SH_NK_SelecFt_Type_Short.pdf\", plot = gp, width = 10)\n",
    "}"
   ]
  },
  {
   "cell_type": "markdown",
   "metadata": {},
   "source": [
    "### Look at the morphological distribution of the fields of view"
   ]
  },
  {
   "cell_type": "code",
   "execution_count": null,
   "metadata": {},
   "outputs": [],
   "source": [
    "# Fix t-SNE layout and random number generation\n",
    "set.seed(38)"
   ]
  },
  {
   "cell_type": "code",
   "execution_count": null,
   "metadata": {},
   "outputs": [],
   "source": [
    "umTNK = umap(transformedNK, min_dist = 0.1, neighbors = 10, n = dimUMAP, metric = \"euclidean\")\n",
    "umTNK = as.data.frame(umTNK)\n",
    "names(umTNK) = paste0(\"UMAP\", 1:dimUMAP)"
   ]
  },
  {
   "cell_type": "code",
   "execution_count": null,
   "metadata": {},
   "outputs": [],
   "source": [
    "umTNK$Row <- as.factor(NK$Metadata_Row[fieldToKeep])\n",
    "umTNK$Col <- as.factor(NK$Metadata_Column[fieldToKeep])\n",
    "umTNK$URL <- as.factor(NK$URL_Actin[fieldToKeep])\n",
    "umTNK$Gene <- as.factor(NK$Gene[fieldToKeep])\n",
    "umTNK$shRNA <- as.factor(NK$shRNA[fieldToKeep])\n",
    "umTNK$Group <- as.factor(NK$Group[fieldToKeep])"
   ]
  },
  {
   "cell_type": "code",
   "execution_count": null,
   "metadata": {},
   "outputs": [],
   "source": [
    "gp <- ggplot(umTNK) + geom_point(aes(UMAP1, UMAP2, color = Gene))\n",
    "gp + geom_label_repel(aes(UMAP1, UMAP2), \n",
    "              label = ifelse((umTNK$UMAP2 < -15), str_extract(as.character(umTNK$URL), \"r..c..f..\"), NA),\n",
    "              size = 1.5, segment.alpha = 0.1)"
   ]
  },
  {
   "cell_type": "code",
   "execution_count": null,
   "metadata": {},
   "outputs": [],
   "source": [
    "if(!TEST_MODE){\n",
    "    ggsave(filename = \"Fig/SH_NK_UMAP_Genes.pdf\", plot = gp, width = 10)\n",
    "}"
   ]
  },
  {
   "cell_type": "code",
   "execution_count": null,
   "metadata": {},
   "outputs": [],
   "source": [
    "gp <- ggplot(umTNK) + geom_point(aes(UMAP1, UMAP2, color = Group))\n",
    "gp"
   ]
  },
  {
   "cell_type": "code",
   "execution_count": null,
   "metadata": {},
   "outputs": [],
   "source": [
    "if(!TEST_MODE){\n",
    "    ggsave(filename = \"Fig/SH_NK_UMAP_Group.pdf\", plot = gp, width = 10)\n",
    "}"
   ]
  },
  {
   "cell_type": "code",
   "execution_count": null,
   "metadata": {},
   "outputs": [],
   "source": [
    "gp <- ggplot(umTNK) + geom_point(aes(UMAP1, UMAP2, color = ifelse(Gene == \"WT\", \"WT\", ifelse(Gene == \"NOTARGET\", \"No target\", \"shRNA\")))) +\n",
    "    scale_color_discrete(\"Target\")\n",
    "gp"
   ]
  },
  {
   "cell_type": "code",
   "execution_count": null,
   "metadata": {},
   "outputs": [],
   "source": [
    "if(!TEST_MODE){\n",
    "    ggsave(filename = \"Fig/SH_NK_UMAP_WT.pdf\", plot = gp, width = 10)\n",
    "}"
   ]
  },
  {
   "cell_type": "code",
   "execution_count": null,
   "metadata": {},
   "outputs": [],
   "source": [
    "# Compute the median Robust Mahalanobis Distance (RMD) between drugs\n",
    "shRMD <- function(shPert){\n",
    "    # Find row containing this drug and split wells between WT and drug\n",
    "    rowPert = NK[fieldToKeep[NK[fieldToKeep,]$shRNA == shPert],]$Metadata_Row[1]\n",
    "    setUmapSh = umTNK[NK[fieldToKeep,]$shRNA == shPert,1:dimUMAP]\n",
    "    setUmapWT = umTNK[which(indWT)[NK[fieldToKeep[indWT],]$Metadata_Row == rowPert],1:dimUMAP]\n",
    "    shPlates = NK$Plate[fieldToKeep[NK[fieldToKeep,]$shRNA == shPert]]\n",
    "    wtPlates = NK$Plate[fieldToKeep[which(indWT)[NK[fieldToKeep[indWT],]$Metadata_Row == rowPert]]]\n",
    "\n",
    "    plateRMD <- function(plate){\n",
    "        subsetUmapSh = setUmapSh[shPlates == plate,]\n",
    "        subsetUmapWT = setUmapWT[wtPlates == plate,]\n",
    "        if ((dim(subsetUmapSh)[1] < 2*dimUMAP)|(dim(subsetUmapWT)[1] < 2*dimUMAP)){\n",
    "            print(c(shPert, plate))\n",
    "            return(NA)\n",
    "        }\n",
    "        \n",
    "        # Compute Minimum Covariance Determinant and corresponding Robust Mahalanobis Distance\n",
    "        mcdWT = covMcd(subsetUmapWT)\n",
    "        RMD = apply(subsetUmapSh, 1, function(x) mahalanobis(x, mcdWT$center, mcdWT$cov))\n",
    "\n",
    "        return(RMD)\n",
    "    }\n",
    "\n",
    "    # For all plates including perturbation\n",
    "    RMD = median(unlist(sapply(levels(NK[fieldToKeep,]$Plate[NK[fieldToKeep,]$shRNA == shPert]), plateRMD)), na.rm = T)\n",
    "    return(RMD)\n",
    "}"
   ]
  },
  {
   "cell_type": "code",
   "execution_count": null,
   "metadata": {
    "scrolled": true
   },
   "outputs": [],
   "source": [
    "s = Sys.time()\n",
    "levelSH = levels(NK$shRNA)[!grepl(\"WT\", levels(NK$shRNA))]\n",
    "shRMD_NK = sapply(levelSH, shRMD)\n",
    "print(Sys.time() - s)"
   ]
  },
  {
   "cell_type": "code",
   "execution_count": null,
   "metadata": {},
   "outputs": [],
   "source": [
    "na.omit.list <- function(y) { return(y[!sapply(y, function(x) all(is.na(x)))]) }\n",
    "\n",
    "shuffShRMD <- function(shPert, nbRep = PERM_NB_ITER){\n",
    "    # Find row containing this drug and split wells between WT and drug\n",
    "    rowPert = NK[fieldToKeep[NK[fieldToKeep,]$shRNA == shPert],]$Metadata_Row[1]\n",
    "    setUmapSh = umTNK[NK[fieldToKeep,]$shRNA == shPert,1:dimUMAP]\n",
    "    setUmapWT = umTNK[which(indWT)[NK[fieldToKeep[indWT],]$Metadata_Row == rowPert],1:dimUMAP]\n",
    "    shPlates = NK$Plate[fieldToKeep[NK[fieldToKeep,]$shRNA == shPert]]\n",
    "    wtPlates = NK$Plate[fieldToKeep[which(indWT)[NK[fieldToKeep[indWT],]$Metadata_Row == rowPert]]]\n",
    "    \n",
    "    plateRMD <- function(plate){\n",
    "        subsetUmapSh = setUmapSh[shPlates == plate,]\n",
    "        subsetUmapWT = setUmapWT[wtPlates == plate,]\n",
    "        if ((dim(subsetUmapSh)[1] < 2*dimUMAP)|(dim(subsetUmapWT)[1] < 2*dimUMAP)){\n",
    "            return(rep(NA, nbRep))\n",
    "        }\n",
    "        setUMAP = rbind(subsetUmapSh, subsetUmapWT)\n",
    "\n",
    "        shuffleRMD <- function(notUsed){\n",
    "            shuffSetUMAP = setUMAP[sample(nrow(setUMAP)),]\n",
    "            # Take random subsets of corresponding sizes\n",
    "            shuffSetSh = shuffSetUMAP[1:nrow(subsetUmapSh),]\n",
    "            shuffSetWT = shuffSetUMAP[(nrow(subsetUmapSh)+1):(nrow(subsetUmapSh)+nrow(subsetUmapWT)),]\n",
    "            # Compute Minimum Covariance Determinant and corresponding Robust Mahalanobis Distance\n",
    "            mcdWT = covMcd(shuffSetWT)\n",
    "            RMD = apply(shuffSetSh, 1, function(x) mahalanobis(x, mcdWT$center, mcdWT$cov))\n",
    "            if(any(RMD < 0)){\n",
    "                print(c(shPert, plate, notUsed, dim(shuffSetWT)))\n",
    "                print(RMD)\n",
    "                print(mcdWT$cov)\n",
    "                print(det(mcdWT$cov))\n",
    "            }\n",
    "            return(RMD)\n",
    "        }\n",
    "        return(unlist(sapply(1:nbRep, shuffleRMD)))\n",
    "    }\n",
    "\n",
    "    # For all plates including perturbation\n",
    "    intTemp = sapply(levels(NK[fieldToKeep,]$Plate[NK[fieldToKeep,]$shRNA == shPert]), plateRMD)\n",
    "    if(all(is.na(intTemp))){\n",
    "        # No plate can be used for the perturbation\n",
    "        return(rep(NA, nbRep))\n",
    "    }\n",
    "    if(class(intTemp) == \"matrix\"){\n",
    "        # All plates complete, results get simplified to a matrix (column = plate)\n",
    "        RMD = aggregate(matrix(intTemp), \n",
    "                        by = list(rep(rep(1:nbRep, each = dim(intTemp)[1]/nbRep), 3)), median)$V1\n",
    "    }\n",
    "    else{\n",
    "        # We have a list for each plate containing a matrix of RMDs\n",
    "        # Columns = replicate, rows = wells\n",
    "        intTemp = na.omit.list(intTemp) # Remove NAs from perturbations with unsufficient well counts\n",
    "        intTemp = do.call(rbind, Map(data.frame, intTemp)) # Assemble into a single data.frame\n",
    "        RMD = colMedians(as.matrix(intTemp), na.rm = T) # Compute medians for each simulation\n",
    "    }\n",
    "    return(unname(RMD))\n",
    "}"
   ]
  },
  {
   "cell_type": "code",
   "execution_count": null,
   "metadata": {
    "scrolled": true
   },
   "outputs": [],
   "source": [
    "if(TEST_MODE){\n",
    "    s = Sys.time()\n",
    "    shuff_shRMD_NK = sapply(levelSH, function(x) shuffShRMD(x, nbRep = 2000))\n",
    "    print(Sys.time() - s)\n",
    "}"
   ]
  },
  {
   "cell_type": "code",
   "execution_count": null,
   "metadata": {
    "scrolled": true
   },
   "outputs": [],
   "source": [
    "shRMD_NK"
   ]
  },
  {
   "cell_type": "code",
   "execution_count": null,
   "metadata": {},
   "outputs": [],
   "source": [
    "head(shuff_shRMD_NK)"
   ]
  },
  {
   "cell_type": "code",
   "execution_count": null,
   "metadata": {},
   "outputs": [],
   "source": [
    "table(is.na(shRMD_NK))\n",
    "table(is.na(shuff_shRMD_NK))"
   ]
  },
  {
   "cell_type": "code",
   "execution_count": null,
   "metadata": {},
   "outputs": [],
   "source": [
    "getRMPV <- function(x){\n",
    "    if(is.na(x[1])){\n",
    "        return(NA)\n",
    "    }\n",
    "    ecdfRMD = ecdf(x[-1])\n",
    "    return(1 - ecdfRMD(x[1]))\n",
    "}\n",
    "dfRMPV = data.frame(RMPV = apply(rbind(shRMD_NK, shuff_shRMD_NK), 2, getRMPV))"
   ]
  },
  {
   "cell_type": "code",
   "execution_count": null,
   "metadata": {
    "scrolled": true
   },
   "outputs": [],
   "source": [
    "dfRMPV$shRNA = rownames(dfRMPV)\n",
    "dfRMPV$Strength = shRMD_NK\n",
    "dfRMPV$adjRMPV = p.adjust(dfRMPV$RMPV, method = \"fdr\")\n",
    "dfRMPV$labelOut = ifelse((dfRMPV$adjRMPV > 0.05)|(is.na(dfRMPV$adjRMPV)), dfRMPV$shRNA, '')\n",
    "dfRMPV$labelIn = ifelse(!((dfRMPV$adjRMPV > 0.05)|(is.na(dfRMPV$adjRMPV))), dfRMPV$shRNA, '')"
   ]
  },
  {
   "cell_type": "code",
   "execution_count": null,
   "metadata": {},
   "outputs": [],
   "source": [
    "gp <- ggplot(dfRMPV) + geom_point(aes(adjRMPV, Strength, color = shRNA)) + geom_vline(xintercept = 0.05, color=\"#CCCCCC\", linetype=\"dashed\") +\n",
    "                    theme(legend.position=\"none\") + geom_label_repel(aes(adjRMPV, Strength, label = labelOut))\n",
    "gp"
   ]
  },
  {
   "cell_type": "code",
   "execution_count": null,
   "metadata": {},
   "outputs": [],
   "source": [
    "if(!TEST_MODE){\n",
    "    ggsave(filename = \"Fig/SH_NK_RMPV.pdf\", gp, width = 10)\n",
    "}"
   ]
  },
  {
   "cell_type": "markdown",
   "metadata": {},
   "source": [
    "### Morphological changes upon perturbation"
   ]
  },
  {
   "cell_type": "code",
   "execution_count": null,
   "metadata": {},
   "outputs": [],
   "source": [
    "# Associate categories and colors to features\n",
    "catType = c(\"Granularity\", \"Texture\", \"AreaShape\", \"RadialDistribution\",\n",
    "            \"Intensity\")\n",
    "colType = cemm_pal(length(catType)+1)\n",
    "\n",
    "dtCount = as.data.frame(sapply(catType, function(x) grepl(x, colnames(transformedNK))))\n",
    "dtCount$Other = !apply(dtCount, 1, any)\n",
    " \n",
    "ftCat = as.factor(apply(dtCount, 1, function(x) colnames(dtCount)[which(x)]))\n",
    "ftCol = colType[ftCat]"
   ]
  },
  {
   "cell_type": "code",
   "execution_count": null,
   "metadata": {
    "scrolled": true
   },
   "outputs": [],
   "source": [
    "# Plot number of images / categories (useful to get fill color legend)\n",
    "gp <- ggplot(data.frame(Category = ftCat), aes(fill = Category)) + geom_bar(aes(Category))\n",
    "if(!TEST_MODE){\n",
    "    ggsave(filename = \"Fig/SH_NK_CatCount.pdf\", plot = gp, width = 10)\n",
    "}"
   ]
  },
  {
   "cell_type": "code",
   "execution_count": null,
   "metadata": {},
   "outputs": [],
   "source": [
    "# Which drugs should be studied?\n",
    "sigSh = unique(dfRMPV$labelIn)"
   ]
  },
  {
   "cell_type": "code",
   "execution_count": null,
   "metadata": {},
   "outputs": [],
   "source": [
    "changedFtDrug <- function(shPert){  \n",
    "    # Plate row on which the drug is\n",
    "    rowPert = NK[fieldToKeep[NK[fieldToKeep,]$shRNA == shPert],]$Metadata_Row[1]\n",
    "    \n",
    "    # Morphological features for the drug and the WT control on the same row\n",
    "    setSh = transformedNK[NK[fieldToKeep,]$shRNA == shPert,]\n",
    "    setWT = transformedNK[which(indWT)[NK[fieldToKeep[indWT],]$Metadata_Row == rowPert],]\n",
    "    \n",
    "    medianSh = apply(setSh, 2, median)\n",
    "    medianWT = apply(setWT, 2, median)\n",
    "    medianChange = medianSh - medianWT\n",
    "    \n",
    "    # Compute difference to WT\n",
    "    ftToDisplay = order(abs(medianChange), decreasing = T)[1:12]\n",
    "    dtChange = data.frame(Difference = medianChange[ftToDisplay])\n",
    "    dtChange$Feature = rownames(dtChange)\n",
    "    dtChange$Feature = factor(dtChange$Feature, levels = dtChange$Feature[order(dtChange$Difference)]) \n",
    "    dtChange$Category = ftCol[ftToDisplay]\n",
    "\n",
    "    gp <- ggplot(dtChange) + geom_bar(aes(Feature, weight = Difference, fill = Category), color = \"#CCCCCC\") + \n",
    "                   coord_flip() + ylab(\"Difference to WT\") + scale_fill_identity() +\n",
    "                   theme(legend.position=\"none\", plot.margin=unit(c(0,5,0,0), \"mm\"))\n",
    "    \n",
    "    if(!TEST_MODE){\n",
    "        ggsave(filename = paste(\"Fig/SH_NK\", shPert, \"ChangeFt.pdf\", sep = \"_\"), plot = gp, width = 10)\n",
    "    }\n",
    "}"
   ]
  },
  {
   "cell_type": "code",
   "execution_count": null,
   "metadata": {
    "scrolled": true
   },
   "outputs": [],
   "source": [
    "sapply(sigSh, changedFtDrug)"
   ]
  },
  {
   "cell_type": "code",
   "execution_count": null,
   "metadata": {},
   "outputs": [],
   "source": [
    "sessionInfo()"
   ]
  }
 ],
 "metadata": {
  "kernelspec": {
   "display_name": "R",
   "language": "R",
   "name": "ir"
  },
  "language_info": {
   "codemirror_mode": "r",
   "file_extension": ".r",
   "mimetype": "text/x-r-source",
   "name": "R",
   "pygments_lexer": "r",
   "version": "3.5.1"
  },
  "toc": {
   "base_numbering": 1,
   "nav_menu": {},
   "number_sections": false,
   "sideBar": false,
   "skip_h1_title": false,
   "title_cell": "Table of Contents",
   "title_sidebar": "Contents",
   "toc_cell": false,
   "toc_position": {},
   "toc_section_display": false,
   "toc_window_display": false
  }
 },
 "nbformat": 4,
 "nbformat_minor": 2
}
