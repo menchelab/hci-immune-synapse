{
 "cells": [
  {
   "cell_type": "markdown",
   "metadata": {},
   "source": [
    "# NK Primary cells"
   ]
  },
  {
   "cell_type": "code",
   "execution_count": null,
   "metadata": {
    "scrolled": true
   },
   "outputs": [],
   "source": [
    "library(ggplot2)\n",
    "library(extrafont)\n",
    "library(stringr)\n",
    "library(heatmaply)\n",
    "library(ggrepel)\n",
    "library(reticulate)\n",
    "library(gridExtra)\n",
    "library(robustbase)\n",
    "library(randomForest)\n",
    "library(reshape2)"
   ]
  },
  {
   "cell_type": "code",
   "execution_count": null,
   "metadata": {
    "scrolled": true
   },
   "outputs": [],
   "source": [
    "# Load external Python functions\n",
    "source_python(\"reticulate_functions.py\")\n",
    "# Load extra fonts\n",
    "ttf_import(paths = \"/tmp/.fonts/\")\n",
    "loadfonts()\n",
    "# Set this to true for faster compilation or false for more precise results and all outputs\n",
    "TEST_MODE = F"
   ]
  },
  {
   "cell_type": "code",
   "execution_count": null,
   "metadata": {},
   "outputs": [],
   "source": [
    "# Number of permutations used for empirical p-value computations\n",
    "PERM_NB_ITER = ifelse(TEST_MODE, 20, 2000)\n",
    "# Number of genes selected for hierarchical heatmap\n",
    "CLUST_NB_GENES = ifelse(TEST_MODE, 30, 300)\n",
    "# Number of trees used in random forest classifier\n",
    "RF_NB_TREES = ifelse(TEST_MODE, 50, 1000)"
   ]
  },
  {
   "cell_type": "code",
   "execution_count": null,
   "metadata": {},
   "outputs": [],
   "source": [
    "# Customize ggplot appearance\n",
    "\n",
    "# Change theme\n",
    "customTheme <- theme_light() + \n",
    "               theme(panel.grid.minor=element_blank(), text=element_text(size=17, family=\"Arial\", colour = \"#333333\"),\n",
    "                     line=element_line(colour = \"#333333\"), legend.background = element_rect(fill=alpha('#CCCCCC', 0.1)), legend.key = element_blank())\n",
    "\n",
    "# Change default colors\n",
    "scale_colour_continuous <- function (..., begin = 0.1, end = 0.9, direction = -1, option = \"plasma\", \n",
    "                                     type = getOption(\"ggplot2.continuous.colour\", default = \"viridis\")) {\n",
    "    switch(type, gradient = scale_colour_gradient(...), \n",
    "        viridis = scale_colour_viridis_c(option = option, begin = begin, end = end, direction = direction, ...), \n",
    "        stop(\"Unknown scale type\", call. = FALSE))\n",
    "}\n",
    "scale_color_continuous <- scale_colour_continuous\n",
    "\n",
    "scale_fill_continuous <- function (..., begin = 0.1, end = 0.9, direction = -1, option = \"plasma\", \n",
    "                                     type = getOption(\"ggplot2.continuous.colour\", default = \"viridis\")) {\n",
    "    switch(type, gradient = scale_fill_gradient(...), \n",
    "        viridis = scale_fill_viridis_c(option = option, begin = begin, end = end, direction = direction, ...), \n",
    "        stop(\"Unknown scale type\", call. = FALSE))\n",
    "\n",
    "}\n",
    "\n",
    "cemm_pal = colorRampPalette(c(\"#5A463C\", \"#008CAD\", \"#40B9D4\", \"#D4ECF2\", \"#D2323C\", \"#F8B100\", \"#DFDC00\"))\n",
    "cust_pal = colorRampPalette(c(\"#008CAD\", \"#40B9D4\", \"#D4ECF2\", \"#F8B100\", \"#C00000\", \"#2D0000\"))\n",
    "yolla_pal = colorRampPalette(c('#FC7070', '#C00000', '#2D0000'))\n",
    "scale_fill_discrete <- function (..., type = \"Cust\", h = c(0, 360) + 15, c = 100, l = 65, h.start = 0, \n",
    "    direction = 1, na.value = \"grey50\", aesthetics = \"fill\") \n",
    "{\n",
    "    if (type == \"CeMM\"){\n",
    "        discrete_scale(aesthetics, \"CeMM\", cemm_pal, na.value = na.value, ...)\n",
    "    } else if (type == \"Yolla\"){\n",
    "        discrete_scale(aesthetics, \"Yolla\", yolla_pal, na.value = na.value, ...)\n",
    "    } else if (type == \"Cust\"){\n",
    "        discrete_scale(aesthetics, \"Cust\", cust_pal, na.value = na.value, ...)\n",
    "    } else {\n",
    "        discrete_scale(aesthetics, \"hue\", hue_pal(h, c, l, h.start, \n",
    "            direction), na.value = na.value, ...)\n",
    "    }\n",
    "}\n",
    "\n",
    "scale_color_discrete <- function (..., type = \"Cust\", h = c(0, 360) + 15, c = 100, l = 65, h.start = 0, \n",
    "    direction = 1, na.value = \"grey50\", aesthetics = \"colour\") {\n",
    "    if (type == \"CeMM\"){\n",
    "        discrete_scale(aesthetics, \"CeMM\", cemm_pal, na.value = na.value, ...)\n",
    "    } else if (type == \"Cust\"){\n",
    "        discrete_scale(aesthetics, \"Cust\", cust_pal, na.value = na.value, ...)\n",
    "    } else if (type == \"Yolla\"){\n",
    "        discrete_scale(aesthetics, \"Yolla\", yolla_pal, na.value = na.value, ...)\n",
    "    } else {\n",
    "        discrete_scale(aesthetics, \"hue\", scales::hue_pal(h, c, l, h.start, \n",
    "            direction), na.value = na.value, ...)\n",
    "    }\n",
    "}\n",
    "scale_colour_discrete <- scale_color_discrete\n",
    "\n",
    "noGridTheme <- function(...){\n",
    "    theme(panel.grid.major=element_blank(), axis.text.x=element_text(size=12), axis.text.y=element_text(size=12),\n",
    "                      axis.line=element_line(color=\"#333333\", size = 0.2), panel.border = element_blank(), ...)\n",
    "}\n",
    "\n",
    "darkTheme <- function(...){\n",
    "    theme(panel.background = element_rect(fill = '#333333'), plot.background = element_rect(fill = '#333333'), \n",
    "          axis.line=element_line(color=\"#CCCCCC\", size = 0.2), \n",
    "          text=element_text(size=17, family=\"Arial\", colour = \"#CCCCCC\"),\n",
    "          line=element_line(colour = \"#CCCCCC\"))\n",
    "}\n",
    "\n",
    "theme_set(customTheme)\n",
    "\n",
    "options(repr.plot.width=10, repr.plot.height=10)"
   ]
  },
  {
   "cell_type": "markdown",
   "metadata": {},
   "source": [
    "## Primary cells (from healthy donors)"
   ]
  },
  {
   "cell_type": "code",
   "execution_count": null,
   "metadata": {},
   "outputs": [],
   "source": [
    "# Fix t-SNE layout and random number generation\n",
    "set.seed(38)"
   ]
  },
  {
   "cell_type": "code",
   "execution_count": null,
   "metadata": {},
   "outputs": [],
   "source": [
    "NK = read.csv(\"Rsc/allImages_NK_primary.csv\", header=T)"
   ]
  },
  {
   "cell_type": "code",
   "execution_count": null,
   "metadata": {},
   "outputs": [],
   "source": [
    "NK$Donor = as.factor(ifelse(NK$Metadata_Row <= 5, \"Donor 1\",\n",
    "                     ifelse(NK$Metadata_Row <= 9, \"Donor 2\", \"Donor 3\")))\n",
    "NK$Drug = ifelse(NK$Metadata_Column <= 4, \"PLL\",\n",
    "          ifelse(NK$Metadata_Column <= 6, \"Icam\",\n",
    "          ifelse(NK$Metadata_Column <= 14, \"CK869\", \"SMIFH2\")))\n",
    "NK$Drug[NK$Metadata_Row %in% c(5,9,13)] <- \"DMSO\"\n",
    "NK$Concentration = NA\n",
    "NK$Concentration[NK$Drug == \"DMSO\"] = ifelse(NK$Metadata_Column[NK$Drug == \"DMSO\"] <= 8, 0.01,\n",
    "                                      ifelse(NK$Metadata_Column[NK$Drug == \"DMSO\"] <= 10, 0.02,\n",
    "                                      ifelse(NK$Metadata_Column[NK$Drug == \"DMSO\"] <= 12, 0.05,\n",
    "                                      ifelse(NK$Metadata_Column[NK$Drug == \"DMSO\"] <= 14, 0.1, 0.2))))\n",
    "NK$Concentration[NK$Drug == \"CK869\"] = ifelse(NK$Metadata_Column[NK$Drug == \"CK869\"] <= 8, 5,\n",
    "                                       ifelse(NK$Metadata_Column[NK$Drug == \"CK869\"] <= 10, 10,\n",
    "                                       ifelse(NK$Metadata_Column[NK$Drug == \"CK869\"] <= 12, 25, 50)))\n",
    "NK$Concentration[NK$Drug == \"SMIFH2\"] = ifelse(NK$Metadata_Column[NK$Drug == \"SMIFH2\"] <= 16, 12.5,\n",
    "                                        ifelse(NK$Metadata_Column[NK$Drug == \"SMIFH2\"] <= 18, 25,\n",
    "                                        ifelse(NK$Metadata_Column[NK$Drug == \"SMIFH2\"] <= 20, 50, 100)))\n",
    "NK$Drug = as.factor(NK$Drug)"
   ]
  },
  {
   "cell_type": "code",
   "execution_count": null,
   "metadata": {},
   "outputs": [],
   "source": [
    "gpNK = ggplot(NK[!is.na(NK$Count_FilterNKNucleus),]) + geom_histogram(aes(Count_FilterNKNucleus, fill = as.factor(Metadata_Row)), binwidth=2) +\n",
    "       scale_fill_discrete(name=\"Row\")\n",
    "gpNK\n",
    "if(!TEST_MODE){\n",
    "    ggsave(filename = \"Fig/NK_Primary_count.pdf\", plot = gpNK)\n",
    "}"
   ]
  },
  {
   "cell_type": "code",
   "execution_count": null,
   "metadata": {},
   "outputs": [],
   "source": [
    "gpNK = ggplot(NK[!is.na(NK$Mean_FilterNKCytoplasm_AreaShape_Area),]) + geom_histogram(aes(Mean_FilterNKCytoplasm_AreaShape_Area, \n",
    "                                                                                    fill = as.factor(Metadata_Row)), binwidth=100) +\n",
    "       scale_fill_discrete(name=\"Row\")\n",
    "gpNK\n",
    "if(!TEST_MODE){\n",
    "    ggsave(filename = \"Fig/NK_Primary_area.pdf\", plot = gpNK)\n",
    "}"
   ]
  },
  {
   "cell_type": "markdown",
   "metadata": {},
   "source": [
    "### Filtering"
   ]
  },
  {
   "cell_type": "code",
   "execution_count": null,
   "metadata": {},
   "outputs": [],
   "source": [
    "FILT_MAX_INT_DNA = 0.005 # Remove empty images and small DNA precipitations\n",
    "FILT_MIN_CELLS = 2 # Most field of views have only 2 cells\n",
    "FILT_NB_MAX_NA_IMAGE = 63\n",
    "FILT_MAX_CORR = 0.6 # Keep uncorrelated variables\n",
    "dimUMAP = 3"
   ]
  },
  {
   "cell_type": "code",
   "execution_count": null,
   "metadata": {},
   "outputs": [],
   "source": [
    "ftToKeep = 1:dim(NK)[2]\n",
    "# Make sure that the fields are numeric\n",
    "ftToKeep <- ftToKeep[which(sapply(NK[,ftToKeep], class) == \"numeric\")]\n",
    "# Remove execution time and count features\n",
    "ftToKeep <- ftToKeep[grep(\"(Execution)|(Count)|(Concentration)|(ActinGranules)\", colnames(NK)[ftToKeep], invert = T)]\n",
    "# ftToKeep <- ftToKeep[grep(\"(Execution)|(Count)|(Concentration)\", colnames(NK)[ftToKeep], invert = T)]"
   ]
  },
  {
   "cell_type": "code",
   "execution_count": null,
   "metadata": {},
   "outputs": [],
   "source": [
    "# Store all remaining features before filtering for downstream comparison to selected set\n",
    "preFiltFt = colnames(NK)[ftToKeep]"
   ]
  },
  {
   "cell_type": "code",
   "execution_count": null,
   "metadata": {},
   "outputs": [],
   "source": [
    "# Remove wells with low max DNA intensity\n",
    "fieldToKeep <- which(NK$ImageQuality_MaxIntensity_DNA >= FILT_MAX_INT_DNA)\n",
    "# Remove wells with low cell count\n",
    "fieldToKeep <- na.omit(fieldToKeep[NK[fieldToKeep,]$Count_FilterNKNucleus >= FILT_MIN_CELLS])"
   ]
  },
  {
   "cell_type": "code",
   "execution_count": null,
   "metadata": {},
   "outputs": [],
   "source": [
    "# Few bad quality pictures are generating a lot of missing values and are removed\n",
    "fieldToKeep <- fieldToKeep[rowSums(is.na(NK[fieldToKeep,ftToKeep])) < FILT_NB_MAX_NA_IMAGE]"
   ]
  },
  {
   "cell_type": "code",
   "execution_count": null,
   "metadata": {},
   "outputs": [],
   "source": [
    "# Remove remaining features with missing values\n",
    "ftToKeep <- ftToKeep[colSums(is.na(NK[fieldToKeep,ftToKeep])) == 0] \n",
    "# Remove constant columns\n",
    "indWT = NK[fieldToKeep,]$Drug == \"Icam\"\n",
    "ftToKeep <- ftToKeep[sapply(NK[fieldToKeep,ftToKeep], function(x) mad(x) != 0)]\n",
    "ftToKeep <- ftToKeep[sapply(NK[fieldToKeep[indWT],ftToKeep], function(x) mad(x) != 0)]"
   ]
  },
  {
   "cell_type": "code",
   "execution_count": null,
   "metadata": {},
   "outputs": [],
   "source": [
    "# Approximate normal distribution\n",
    "transfLog <- function (x){\n",
    "    minVal = min(x)\n",
    "    return(log(x+1-minVal))\n",
    "}\n",
    "\n",
    "# Center and scale on control values\n",
    "transfNorm <- function(x, y){\n",
    "    return((x - median(y))/mad(y))\n",
    "}"
   ]
  },
  {
   "cell_type": "code",
   "execution_count": null,
   "metadata": {},
   "outputs": [],
   "source": [
    "transformedNK = apply(NK[fieldToKeep, ftToKeep], 2, transfLog)\n",
    "for (donor in levels(NK$Donor)){\n",
    "    indDonorField = NK$Donor[fieldToKeep] == donor\n",
    "    indICAMinDonor <- NK[fieldToKeep[indDonorField],]$Drug == \"Icam\"\n",
    "    \n",
    "    transformedNK[indDonorField,] <- apply(\n",
    "        transformedNK[indDonorField,], 2, \n",
    "        function(x) transfNorm(x, x[indICAMinDonor]))\n",
    "}\n",
    "# NB: Feature with mad == 0 for a given donor have constant features for ICAM\n",
    "noNAFt = colSums(is.na(transformedNK)) == 0\n",
    "ftToKeep = ftToKeep[noNAFt]\n",
    "transformedNK = transformedNK[,noNAFt]"
   ]
  },
  {
   "cell_type": "markdown",
   "metadata": {},
   "source": [
    "    transformedNK = apply(NK[fieldToKeep, ftToKeep], 2, transfLog)\n",
    "\n",
    "    indICAM <- NK[fieldToKeep,]$Drug == \"Icam\"\n",
    "    transformedNK <- apply(transformedNK, 2, \n",
    "            function(x) transfNorm(x, x[indICAM]))\n",
    "    # NB: Feature with mad == 0 for a given donor have constant features for ICAM\n",
    "    noNAFt = colSums(is.na(transformedNK)) == 0\n",
    "    ftToKeep = ftToKeep[noNAFt]\n",
    "    transformedNK = transformedNK[,noNAFt]"
   ]
  },
  {
   "cell_type": "code",
   "execution_count": null,
   "metadata": {},
   "outputs": [],
   "source": [
    "# Order features from biggest mad to smallest mad\n",
    "# Since features have mad(WT) = 1, it means that we rank features by how more variable they are\n",
    "# for drug perturbations than for WT\n",
    "orderFt = rev(order(apply(transformedNK, 2, mad)))"
   ]
  },
  {
   "cell_type": "code",
   "execution_count": null,
   "metadata": {},
   "outputs": [],
   "source": [
    "uncorrFt = uncorrelate(transformedNK, orderCol = orderFt-1, threshold = FILT_MAX_CORR)\n",
    "uncorrFt = unlist(uncorrFt) + 1"
   ]
  },
  {
   "cell_type": "code",
   "execution_count": null,
   "metadata": {},
   "outputs": [],
   "source": [
    "transformedNK = transformedNK[,uncorrFt]"
   ]
  },
  {
   "cell_type": "code",
   "execution_count": null,
   "metadata": {},
   "outputs": [],
   "source": [
    "dim(NK)\n",
    "dim(NK[fieldToKeep, ftToKeep])\n",
    "dim(transformedNK)"
   ]
  },
  {
   "cell_type": "code",
   "execution_count": null,
   "metadata": {},
   "outputs": [],
   "source": [
    "colMedians(transformedNK[(NK$Donor[fieldToKeep] == \"Donor 2\")&\n",
    "                         (NK$Drug[fieldToKeep] == \"Icam\"),])"
   ]
  },
  {
   "cell_type": "markdown",
   "metadata": {},
   "source": [
    "### Export subset of features"
   ]
  },
  {
   "cell_type": "markdown",
   "metadata": {},
   "source": [
    "For NK cells, the following features are selected and explored separately for their biological interpretability:\n",
    "```\n",
    "* Actin intensity/cell (mean/well): NK$Intensity_MeanIntensity_CorrActin_FilterCytoplasm\n",
    "* Cell area: NK$Mean_FilterCytoplasm_AreaShape_Area\n",
    "* Cell roundness: NK$Mean_FilterCytoplasm_AreaShape_FormFactor\n",
    "* Cell width: NK$Mean_FilterCytoplasm_AreaShape_MajorAxisLength \n",
    "* Cell length: NK$Mean_FilterCytoplasm_AreaShape_MinorAxisLength\n",
    "* Cell length to width ratio: NK$Mean_FilterCytoplasm_AreaShape_MinorAxisLength / NK$Mean_FilterCytoplasm_AreaShape_MajorAxisLength\n",
    "* Average number of perforin granules / cell: NK$Count_PerfGranules  / NK$Count_FilterCytoplasm\n",
    "* Perforin area / cell area: (NK$Count_PerfGranules * NK$Mean_PerfGranules_AreaShape_Area)  / (NK$Count_FilterCytoplasm * NK$Mean_FilterCytoplasm_AreaShape_Area)\n",
    "* Perforin intensity: NK$Intensity_MeanIntensity_CorrPerf_FilterCytoplasm\n",
    "* Perforin area: NK$Mean_PerfGranules_AreaShape_Area\n",
    "* Nucleus intensity: NK$Intensity_MeanIntensity_CorrDNA_FilteredNucleus\n",
    "* Nucleus area: NK$Mean_FilteredNucleus_AreaShape_Area\n",
    "* Nucleus roundness: NK$Mean_FilteredNucleus_AreaShape_FormFactor\n",
    "* Nucleus width: NK$Mean_FilteredNucleus_AreaShape_MajorAxisLength \n",
    "* Nucleus length: NK$Mean_FilteredNucleus_AreaShape_MinorAxisLength\n",
    "* Nucleus ratio: NK$Mean_FilteredNucleus_AreaShape_MinorAxisLength / NK$Mean_FilteredNucleus_AreaShape_MajorAxisLength\n",
    "* Nucleus area / cell area: (NK$Count_FilteredNucleus * NK$Mean_FilteredNucleus_AreaShape_Area)  / (NK$Count_FilterCytoplasm * NK$Mean_FilterCytoplasm_AreaShape_Area)```\n",
    "\n",
    "NB (from CellProfiler docs): FormFactor = $4 \\times π \\times Area / Perimeter^2$. Equals 1 for a perfectly circular object."
   ]
  },
  {
   "cell_type": "code",
   "execution_count": null,
   "metadata": {},
   "outputs": [],
   "source": [
    "subsetNK = cbind(Field = str_extract(as.character(NK[fieldToKeep,]$URL_Actin), \"r..c..f..\"),\n",
    "                 Drug = as.character(NK[fieldToKeep,]$Drug),\n",
    "                 Donor = as.character(NK[fieldToKeep,]$Donor),\n",
    "                 Concentration = NK[fieldToKeep,]$Concentration,\n",
    "                 ActinIntensity = NK[fieldToKeep,]$Intensity_MeanIntensity_CorrActin_FilterNKCytoplasm,\n",
    "                 CellArea = NK[fieldToKeep,]$Mean_FilterNKCytoplasm_AreaShape_Area,\n",
    "                 CellRoundness = NK[fieldToKeep,]$Mean_FilterNKCytoplasm_AreaShape_FormFactor,\n",
    "                 CellWidth = NK[fieldToKeep,]$Mean_FilterNKCytoplasm_AreaShape_MajorAxisLength,\n",
    "                 CellLength = NK[fieldToKeep,]$Mean_FilterNKCytoplasm_AreaShape_MinorAxisLength,\n",
    "                 CellLengthOverWidth = NK[fieldToKeep,]$Mean_FilterNKCytoplasm_AreaShape_MinorAxisLength / \n",
    "                     NK[fieldToKeep,]$Mean_FilterNKCytoplasm_AreaShape_MajorAxisLength,\n",
    "                 PerforinGranulesPerCell = NK[fieldToKeep,]$Count_FilterNKPerfGranules  / \n",
    "                     NK[fieldToKeep,]$Count_FilterNKCytoplasm,\n",
    "                 PerforinAreaOverCellArea = (NK[fieldToKeep,]$Count_FilterNKPerfGranules * \n",
    "                     NK[fieldToKeep,]$Mean_PFilterNKPerfGranules_AreaShape_Area) / \n",
    "                     (NK[fieldToKeep,]$Count_FilterNKCytoplasm * \n",
    "                      NK[fieldToKeep,]$Mean_FilterNKCytoplasm_AreaShape_Area),\n",
    "                 PerforinIntensity = NK[fieldToKeep,]$Intensity_MeanIntensity_CorrPerf_FilterNKCytoplasm,\n",
    "                 PerforinArea = NK[fieldToKeep,]$Mean_FilterNKPerfGranules_AreaShape_Area,\n",
    "                 NucleusIntensity = NK[fieldToKeep,]$Intensity_MeanIntensity_CorrDNA_FilterNKNucleus,\n",
    "                 NucleusArea = NK[fieldToKeep,]$Mean_FilterNKNucleus_AreaShape_Area,\n",
    "                 NucleusRoundness = NK[fieldToKeep,]$Mean_FilterNKNucleus_AreaShape_FormFactor,\n",
    "                 NucleusWidth = NK[fieldToKeep,]$Mean_FilterNKNucleus_AreaShape_MajorAxisLength,\n",
    "                 NucleusLength = NK[fieldToKeep,]$Mean_FilterNKNucleus_AreaShape_MinorAxisLength,\n",
    "                 NucleusLengthOverWidth = NK[fieldToKeep,]$Mean_FilterNKNucleus_AreaShape_MinorAxisLength / \n",
    "                     NK[fieldToKeep,]$Mean_FilterNKNucleus_AreaShape_MajorAxisLength,\n",
    "                 NucleusAreaOverCellArea = (NK[fieldToKeep,]$Count_FilterNKNucleus * \n",
    "                     NK[fieldToKeep,]$Mean_FilterNKNucleus_AreaShape_Area) / \n",
    "                     (NK[fieldToKeep,]$Count_FilterNKCytoplasm * \n",
    "                      NK[fieldToKeep,]$Mean_FilterNKCytoplasm_AreaShape_Area)\n",
    "                )"
   ]
  },
  {
   "cell_type": "code",
   "execution_count": null,
   "metadata": {},
   "outputs": [],
   "source": [
    "# Export list of \"interpretable\" features\n",
    "if(!TEST_MODE){\n",
    "    write.csv(subsetNK, \"Tab/NK_Primary_features.csv\", row.names = F)\n",
    "}"
   ]
  },
  {
   "cell_type": "code",
   "execution_count": null,
   "metadata": {},
   "outputs": [],
   "source": [
    "CountPerWell = aggregate(NK[fieldToKeep,]$Count_FilterNKCytoplasm, by = list(NK[fieldToKeep,]$Metadata_Well), FUN = function(x) sum(x, na.rm = T))\n",
    "names(CountPerWell) <- c(\"Well\", \"Count\")\n",
    "CountPerDrug = aggregate(NK[fieldToKeep,]$Count_FilterNKCytoplasm, by = list(NK[fieldToKeep,]$Drug), FUN = function(x) sum(x, na.rm = T))\n",
    "names(CountPerDrug) <- c(\"Drug\", \"Count\")\n",
    "CountPerConcentration = aggregate(NK[fieldToKeep,]$Count_FilterNKCytoplasm, by = list(NK[fieldToKeep,]$Drug, \n",
    "    NK[fieldToKeep,]$Concentration), FUN = function(x) sum(x, na.rm = T))\n",
    "names(CountPerConcentration) <- c(\"Drug\", \"Concentration\", \"Count\")     \n",
    "CountPerDonor = aggregate(NK[fieldToKeep,]$Count_FilterNKCytoplasm, by = list(NK[fieldToKeep,]$Donor), \n",
    "                          FUN = function(x) sum(x, na.rm = T))\n",
    "names(CountPerDonor) <- c(\"Donor\", \"Count\")"
   ]
  },
  {
   "cell_type": "code",
   "execution_count": null,
   "metadata": {},
   "outputs": [],
   "source": [
    "wellCountGranules = aggregate(NK[fieldToKeep,]$Count_FilterNKPerfGranules, \n",
    "                              by = list(NK[fieldToKeep,]$Metadata_Well), FUN = sum)\n",
    "wellCountCells = aggregate(NK[fieldToKeep,]$Count_FilterNKCytoplasm, \n",
    "                           by = list(NK[fieldToKeep,]$Metadata_Well), FUN = sum)\n",
    "stopifnot(wellCountGranules$Group.1 == wellCountCells$Group.1)\n",
    "granulePerCellPerWell = data.frame(Well = wellCountGranules$Group.1, Average = wellCountGranules$x / wellCountCells$x)"
   ]
  },
  {
   "cell_type": "code",
   "execution_count": null,
   "metadata": {},
   "outputs": [],
   "source": [
    "# Export cell counts\n",
    "if(!TEST_MODE){\n",
    "    write.csv(CountPerWell, \"Tab/NK_Primary_count_well.csv\", row.names = F)\n",
    "    write.csv(CountPerDrug, \"Tab/NK_Primary_count_drug.csv\", row.names = F)\n",
    "    write.csv(CountPerDonor, \"Tab/NK_Primary_count_donor.csv\", row.names = F)\n",
    "    write.csv(CountPerConcentration, \"Tab/NK_Primary_count_concentration.csv\", row.names = F)    \n",
    "    write.csv(granulePerCellPerWell, \"Tab/NK_Primary_average_granule_count_per_cell.csv\", row.names = F)    \n",
    "}"
   ]
  },
  {
   "cell_type": "markdown",
   "metadata": {},
   "source": [
    "### Look at the morphological distribution of the fields of view"
   ]
  },
  {
   "cell_type": "code",
   "execution_count": null,
   "metadata": {},
   "outputs": [],
   "source": [
    "# Fix random number generation\n",
    "set.seed(38)"
   ]
  },
  {
   "cell_type": "code",
   "execution_count": null,
   "metadata": {},
   "outputs": [],
   "source": [
    "umTNK = umap(transformedNK, min_dist = 0.1, neighbors = 10, n = dimUMAP, metric = \"euclidean\")\n",
    "umTNK = as.data.frame(umTNK)\n",
    "names(umTNK) = paste0(\"UMAP\", 1:dimUMAP)"
   ]
  },
  {
   "cell_type": "code",
   "execution_count": null,
   "metadata": {},
   "outputs": [],
   "source": [
    "umTNK$Row <- as.factor(NK$Metadata_Row[fieldToKeep])\n",
    "umTNK$Col <- as.factor(NK$Metadata_Column[fieldToKeep])\n",
    "umTNK$URL <- as.factor(NK$URL_Actin[fieldToKeep])\n",
    "umTNK$Drug <- as.factor(NK$Drug[fieldToKeep])\n",
    "umTNK$Donor <- as.factor(NK$Donor[fieldToKeep])"
   ]
  },
  {
   "cell_type": "code",
   "execution_count": null,
   "metadata": {
    "scrolled": true
   },
   "outputs": [],
   "source": [
    "gp <- ggplot(umTNK) + geom_point(aes(UMAP1, UMAP2, color = Donor))\n",
    "gp"
   ]
  },
  {
   "cell_type": "code",
   "execution_count": null,
   "metadata": {},
   "outputs": [],
   "source": [
    "gp <- ggplot(umTNK) + geom_point(aes(UMAP1, UMAP2, color = Drug))\n",
    "gp"
   ]
  },
  {
   "cell_type": "code",
   "execution_count": null,
   "metadata": {},
   "outputs": [],
   "source": [
    "umTNK$Count <- NK$Count_FilterNKNucleus[fieldToKeep]\n",
    "gp <- ggplot(umTNK) + geom_point(aes(UMAP1, UMAP2, color = Count))\n",
    "gp"
   ]
  },
  {
   "cell_type": "markdown",
   "metadata": {},
   "source": [
    "    umTNK$Labs = ifelse((umTNK$UMAP1 > 15)&(umTNK$UMAP2 < 14), str_extract(umTNK$URL, \"r..c..f..\"), \"\")\n",
    "    gp <- ggplot(umTNK) + geom_point(aes(UMAP1, UMAP2, color = Col)) +\n",
    "          geom_label_repel(aes(UMAP1, UMAP2, label = Labs))\n",
    "    gp"
   ]
  },
  {
   "cell_type": "code",
   "execution_count": null,
   "metadata": {},
   "outputs": [],
   "source": [
    "umapDonor <- function(donor){\n",
    "    umDonor = umap(transformedNK[NK$Donor[fieldToKeep] == donor,], min_dist = 0.1, neighbors = 10, n = dimUMAP, metric = \"euclidean\")\n",
    "    umDonor = as.data.frame(umDonor)\n",
    "    names(umDonor) = paste0(\"UMAP\", 1:dimUMAP)\n",
    "    \n",
    "    umDonor$Treatment <- as.factor(NK$Drug[fieldToKeep][NK$Donor[fieldToKeep] == donor])\n",
    "    \n",
    "    gp <- ggplot(umDonor) + geom_point(aes(UMAP1, UMAP2, color = Treatment))\n",
    "    ggsave(filename = paste(\"Fig/NK_Primary_UMAP\", donor, \"all.pdf\", sep = \"_\"), plot = gp, width = 10)\n",
    "}"
   ]
  },
  {
   "cell_type": "code",
   "execution_count": null,
   "metadata": {},
   "outputs": [],
   "source": [
    "if(!TEST_MODE){\n",
    "    sapply(levels(umTNK$Donor), umapDonor)\n",
    "}"
   ]
  },
  {
   "cell_type": "code",
   "execution_count": null,
   "metadata": {},
   "outputs": [],
   "source": [
    "umapDrugDonor <- function(donor){\n",
    "    umDonor = umap(transformedNK[(NK$Donor[fieldToKeep] == donor)&\n",
    "                                 (NK$Drug[fieldToKeep] %in% c(\"CK869\", \"SMIFH2\", \"DMSO\")),],\n",
    "                   min_dist = 0.1, neighbors = 10, n = dimUMAP, metric = \"euclidean\")\n",
    "    umDonor = as.data.frame(umDonor)\n",
    "    names(umDonor) = paste0(\"UMAP\", 1:dimUMAP)\n",
    "    \n",
    "    umDonor$Drug <- as.factor(NK$Drug[fieldToKeep][(NK$Donor[fieldToKeep] == donor)&\n",
    "                                 (NK$Drug[fieldToKeep] %in% c(\"CK869\", \"SMIFH2\", \"DMSO\"))])\n",
    "    \n",
    "    gp <- ggplot(umDonor) + geom_point(aes(UMAP1, UMAP2, color = Drug))\n",
    "    ggsave(filename = paste(\"Fig/NK_Primary_UMAP\", donor, \"drugs.pdf\", sep = \"_\"), plot = gp, width = 10)\n",
    "}"
   ]
  },
  {
   "cell_type": "code",
   "execution_count": null,
   "metadata": {},
   "outputs": [],
   "source": [
    "if(!TEST_MODE){\n",
    "    sapply(levels(umTNK$Donor), umapDrugDonor)\n",
    "}"
   ]
  },
  {
   "cell_type": "markdown",
   "metadata": {},
   "source": [
    "## UMAP averaged per well"
   ]
  },
  {
   "cell_type": "code",
   "execution_count": null,
   "metadata": {},
   "outputs": [],
   "source": [
    "donor = \"Donor 2\"\n",
    "indDonor = NK$Donor[fieldToKeep] == donor\n",
    "\n",
    "wellNK = apply(transformedNK[indDonor,], 2, function(x)\n",
    "    aggregate(x, by = list(NK$Metadata_Well[fieldToKeep][indDonor]), FUN = median)$x)\n",
    "               \n",
    "wells = levels(droplevels(NK$Metadata_Well[fieldToKeep][indDonor]))\n",
    "\n",
    "umDonor = umap(wellNK, min_dist = 1, neighbors = 3, n = 2, metric = \"euclidean\")    \n",
    "umDonor = as.data.frame(umDonor)\n",
    "names(umDonor) = paste0(\"UMAP\", 1:2)\n",
    "               \n",
    "getDrug <- function(well){\n",
    "    fieldInWell = which(NK$Metadata_Well == well)[1]\n",
    "    return(NK$Drug[fieldInWell])\n",
    "}\n",
    "umDonor$Drug = sapply(wells, getDrug)\n",
    "gp <- ggplot(umDonor) + geom_point(aes(UMAP1, UMAP2, color = Drug))\n",
    "gp"
   ]
  },
  {
   "cell_type": "code",
   "execution_count": null,
   "metadata": {},
   "outputs": [],
   "source": [
    "ggsave(filename = paste(\"Fig/NK_Primary_UMAP\", donor, \"all_per_well.pdf\", sep = \"_\"), plot = gp, width = 10)"
   ]
  },
  {
   "cell_type": "code",
   "execution_count": null,
   "metadata": {
    "scrolled": false
   },
   "outputs": [],
   "source": [
    "sessionInfo()"
   ]
  }
 ],
 "metadata": {
  "kernelspec": {
   "display_name": "R",
   "language": "R",
   "name": "ir"
  },
  "language_info": {
   "codemirror_mode": "r",
   "file_extension": ".r",
   "mimetype": "text/x-r-source",
   "name": "R",
   "pygments_lexer": "r",
   "version": "3.5.1"
  },
  "toc": {
   "base_numbering": 1,
   "nav_menu": {},
   "number_sections": false,
   "sideBar": false,
   "skip_h1_title": false,
   "title_cell": "Table of Contents",
   "title_sidebar": "Contents",
   "toc_cell": false,
   "toc_position": {},
   "toc_section_display": false,
   "toc_window_display": false
  }
 },
 "nbformat": 4,
 "nbformat_minor": 2
}
