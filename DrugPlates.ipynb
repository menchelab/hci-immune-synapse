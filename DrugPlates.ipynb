{
 "cells": [
  {
   "cell_type": "markdown",
   "metadata": {},
   "source": [
    "# Drug plates"
   ]
  },
  {
   "cell_type": "code",
   "execution_count": null,
   "metadata": {
    "scrolled": true
   },
   "outputs": [],
   "source": [
    "library(ggplot2)\n",
    "library(extrafont)\n",
    "library(stringr)\n",
    "library(heatmaply)\n",
    "library(ggrepel)\n",
    "library(reticulate)\n",
    "library(gridExtra)\n",
    "library(robustbase)"
   ]
  },
  {
   "cell_type": "code",
   "execution_count": null,
   "metadata": {
    "scrolled": true
   },
   "outputs": [],
   "source": [
    "# Load external Python functions\n",
    "source_python(\"reticulate_functions.py\")\n",
    "# Load extra fonts\n",
    "loadfonts()\n",
    "# Set this to true for faster compilation or false for more precise results and all outputs\n",
    "TEST_MODE = T"
   ]
  },
  {
   "cell_type": "code",
   "execution_count": null,
   "metadata": {},
   "outputs": [],
   "source": [
    "# Number of permutations used for empirical p-value computations\n",
    "PERM_NB_ITER = ifelse(TEST_MODE, 20, 2000)"
   ]
  },
  {
   "cell_type": "code",
   "execution_count": null,
   "metadata": {},
   "outputs": [],
   "source": [
    "# Customize ggplot appearance\n",
    "\n",
    "# Change theme\n",
    "customTheme <- theme_light() + \n",
    "               theme(panel.grid.minor=element_blank(), text=element_text(size=17, family=\"Arial\", colour = \"#333333\"),\n",
    "                     line=element_line(colour = \"#333333\"), legend.background = element_rect(fill=alpha('#CCCCCC', 0.1)), legend.key = element_blank())\n",
    "\n",
    "# Change default colors\n",
    "scale_colour_continuous <- function (..., begin = 0.1, end = 0.9, direction = -1, option = \"plasma\", \n",
    "                                     type = getOption(\"ggplot2.continuous.colour\", default = \"viridis\")) {\n",
    "    switch(type, gradient = scale_colour_gradient(...), \n",
    "        viridis = scale_colour_viridis_c(option = option, begin = begin, end = end, direction = direction, ...), \n",
    "        stop(\"Unknown scale type\", call. = FALSE))\n",
    "}\n",
    "scale_color_continuous <- scale_colour_continuous\n",
    "\n",
    "scale_fill_continuous <- function (..., begin = 0.1, end = 0.9, direction = -1, option = \"plasma\", \n",
    "                                     type = getOption(\"ggplot2.continuous.colour\", default = \"viridis\")) {\n",
    "    switch(type, gradient = scale_fill_gradient(...), \n",
    "        viridis = scale_fill_viridis_c(option = option, begin = begin, end = end, direction = direction, ...), \n",
    "        stop(\"Unknown scale type\", call. = FALSE))\n",
    "\n",
    "}\n",
    "\n",
    "cemm_pal = colorRampPalette(c(\"#5A463C\", \"#008CAD\", \"#40B9D4\", \"#D4ECF2\", \"#D2323C\", \"#F8B100\", \"#DFDC00\"))\n",
    "cust_pal = colorRampPalette(c(\"#008CAD\", \"#40B9D4\", \"#D4ECF2\", \"#F8B100\", \"#C00000\", \"#2D0000\"))\n",
    "yolla_pal = colorRampPalette(c('#FD0F91', '#C00000', '#2D0000'))\n",
    "scale_fill_discrete <- function (..., type = \"Cust\", h = c(0, 360) + 15, c = 100, l = 65, h.start = 0, \n",
    "    direction = 1, na.value = \"grey50\", aesthetics = \"fill\") \n",
    "{\n",
    "    if (type == \"CeMM\"){\n",
    "        discrete_scale(aesthetics, \"CeMM\", cemm_pal, na.value = na.value, ...)\n",
    "    } else if (type == \"Yolla\"){\n",
    "        discrete_scale(aesthetics, \"Yolla\", yolla_pal, na.value = na.value, ...)\n",
    "    } else if (type == \"Cust\"){\n",
    "        discrete_scale(aesthetics, \"Cust\", cust_pal, na.value = na.value, ...)\n",
    "    } else {\n",
    "        discrete_scale(aesthetics, \"hue\", hue_pal(h, c, l, h.start, \n",
    "            direction), na.value = na.value, ...)\n",
    "    }\n",
    "}\n",
    "\n",
    "scale_color_discrete <- function (..., type = \"Cust\", h = c(0, 360) + 15, c = 100, l = 65, h.start = 0, \n",
    "    direction = 1, na.value = \"grey50\", aesthetics = \"colour\") {\n",
    "    if (type == \"CeMM\"){\n",
    "        discrete_scale(aesthetics, \"CeMM\", cemm_pal, na.value = na.value, ...)\n",
    "    } else if (type == \"Cust\"){\n",
    "        discrete_scale(aesthetics, \"Cust\", cust_pal, na.value = na.value, ...)\n",
    "    } else if (type == \"Yolla\"){\n",
    "        discrete_scale(aesthetics, \"Yolla\", yolla_pal, na.value = na.value, ...)\n",
    "    } else {\n",
    "        discrete_scale(aesthetics, \"hue\", scales::hue_pal(h, c, l, h.start, \n",
    "            direction), na.value = na.value, ...)\n",
    "    }\n",
    "}\n",
    "scale_colour_discrete <- scale_color_discrete\n",
    "\n",
    "noGridTheme <- function(...){\n",
    "    theme(panel.grid.major=element_blank(), axis.text.x=element_text(size=12), axis.text.y=element_text(size=12),\n",
    "                      axis.line=element_line(color=\"#333333\", size = 0.2), panel.border = element_blank(), ...)\n",
    "}\n",
    "\n",
    "darkTheme <- function(...){\n",
    "    theme(panel.background = element_rect(fill = '#333333'), plot.background = element_rect(fill = '#333333'), \n",
    "          axis.line=element_line(color=\"#CCCCCC\", size = 0.2), \n",
    "          text=element_text(size=17, family=\"Arial\", colour = \"#CCCCCC\"),\n",
    "          line=element_line(colour = \"#CCCCCC\"))\n",
    "}\n",
    "\n",
    "theme_set(customTheme)\n",
    "\n",
    "options(repr.plot.width=10, repr.plot.height=10)"
   ]
  },
  {
   "cell_type": "markdown",
   "metadata": {},
   "source": [
    "## NK92"
   ]
  },
  {
   "cell_type": "code",
   "execution_count": null,
   "metadata": {},
   "outputs": [],
   "source": [
    "# Fix t-SNE layout and random number generation\n",
    "set.seed(38)"
   ]
  },
  {
   "cell_type": "code",
   "execution_count": null,
   "metadata": {},
   "outputs": [],
   "source": [
    "NK = read.csv(\"./allImages_NK_Drugs.csv\", header=T)"
   ]
  },
  {
   "cell_type": "code",
   "execution_count": null,
   "metadata": {},
   "outputs": [],
   "source": [
    "Layout = read.csv(\"./DrugPlateLayout.csv\", header=T)\n",
    "Layout$Well <- paste0(Layout$Row, str_pad(Layout$Column, 2, pad = \"0\"))"
   ]
  },
  {
   "cell_type": "code",
   "execution_count": null,
   "metadata": {},
   "outputs": [],
   "source": [
    "NK$Drug = sapply(NK$Metadata_Well, function(x) Layout$Drug[x == Layout$Well])\n",
    "levels(NK$Drug)[levels(NK$Drug)==\"Y27\"] <- \"Y-27632\"\n",
    "NK$Concentration = sapply(NK$Metadata_Well, function(x) Layout$Concentration[x == Layout$Well])"
   ]
  },
  {
   "cell_type": "code",
   "execution_count": null,
   "metadata": {},
   "outputs": [],
   "source": [
    "gpNK = ggplot(NK[!is.na(NK$Count_FilteredNucleus),]) + geom_histogram(aes(Count_FilteredNucleus, fill = as.factor(Metadata_Row)), binwidth=2) +\n",
    "       scale_fill_discrete(name=\"Row\")\n",
    "gpNK\n",
    "\n",
    "if(!TEST_MODE){\n",
    "    ggsave(filename = \"Fig/NK_count.pdf\", plot = gpNK)\n",
    "}"
   ]
  },
  {
   "cell_type": "code",
   "execution_count": null,
   "metadata": {},
   "outputs": [],
   "source": [
    "gpNK = ggplot(NK[!is.na(NK$Mean_FilterCytoplasm_AreaShape_Area),]) + geom_histogram(aes(Mean_FilterCytoplasm_AreaShape_Area, \n",
    "                                                                                    fill = as.factor(Metadata_Row)), binwidth=100) +\n",
    "       scale_fill_discrete(name=\"Row\")\n",
    "gpNK\n",
    "if(!TEST_MODE){\n",
    "    ggsave(filename = \"Fig/NK_area.pdf\", plot = gpNK)\n",
    "}"
   ]
  },
  {
   "cell_type": "markdown",
   "metadata": {},
   "source": [
    "### Filtering"
   ]
  },
  {
   "cell_type": "code",
   "execution_count": null,
   "metadata": {},
   "outputs": [],
   "source": [
    "FILT_MAX_INT_DNA = 0.05 # Remove empty images and small DNA precipitations\n",
    "FILT_MIN_CELLS = 4 # 8 seems safe from distribution and images, 3 seems in poor shape\n",
    "FILT_NB_MAX_NA_IMAGE = 10\n",
    "FILT_MAX_CORR = 0.6 # Keep uncorrelated variables\n",
    "dimUMAP = 3"
   ]
  },
  {
   "cell_type": "code",
   "execution_count": null,
   "metadata": {},
   "outputs": [],
   "source": [
    "ftToKeep = 1:dim(NK)[2]\n",
    "# Make sure that the fields are numeric\n",
    "ftToKeep <- ftToKeep[which(sapply(NK[,ftToKeep], class) == \"numeric\")]\n",
    "# Remove execution time and count features\n",
    "ftToKeep <- ftToKeep[grep(\"(Execution)|(Count)\", colnames(NK)[ftToKeep], invert = T)]"
   ]
  },
  {
   "cell_type": "code",
   "execution_count": null,
   "metadata": {},
   "outputs": [],
   "source": [
    "# Store all remaining features before filtering for downstream comparison to selected set\n",
    "preFiltFt = colnames(NK)[ftToKeep]"
   ]
  },
  {
   "cell_type": "code",
   "execution_count": null,
   "metadata": {},
   "outputs": [],
   "source": [
    "# Remove wells with low max DNA intensity\n",
    "fieldToKeep <- which(NK$ImageQuality_MaxIntensity_DNA >= FILT_MAX_INT_DNA)\n",
    "# Remove wells with low cell count\n",
    "fieldToKeep <- fieldToKeep[NK[fieldToKeep,]$Count_FilteredNucleus >= FILT_MIN_CELLS]"
   ]
  },
  {
   "cell_type": "code",
   "execution_count": null,
   "metadata": {},
   "outputs": [],
   "source": [
    "# Few bad quality pictures are generating a lot of missing values and are removed\n",
    "fieldToKeep <- fieldToKeep[rowSums(is.na(NK[fieldToKeep,ftToKeep])) < FILT_NB_MAX_NA_IMAGE]\n",
    "# Remove remaining features with missing values\n",
    "ftToKeep <- ftToKeep[colSums(is.na(NK[fieldToKeep,ftToKeep])) == 0] \n",
    "# Remove constant columns\n",
    "indWT = NK[fieldToKeep,]$Drug == \"WT\"\n",
    "ftToKeep <- ftToKeep[sapply(NK[fieldToKeep,ftToKeep], function(x) mad(x) != 0)]\n",
    "ftToKeep <- ftToKeep[sapply(NK[fieldToKeep[indWT],ftToKeep], function(x) mad(x) != 0)]"
   ]
  },
  {
   "cell_type": "code",
   "execution_count": null,
   "metadata": {},
   "outputs": [],
   "source": [
    "length(apply(NK[fieldToKeep,ftToKeep], 2, function(x) mad(x) != 0))"
   ]
  },
  {
   "cell_type": "code",
   "execution_count": null,
   "metadata": {},
   "outputs": [],
   "source": [
    "length(sapply(NK[fieldToKeep,ftToKeep], function(x) mad(x) != 0))"
   ]
  },
  {
   "cell_type": "code",
   "execution_count": null,
   "metadata": {},
   "outputs": [],
   "source": [
    "length(sapply(NK[fieldToKeep,ftToKeep], function(x) mad(x) != 0))\n",
    "length(ftToKeep)"
   ]
  },
  {
   "cell_type": "code",
   "execution_count": null,
   "metadata": {},
   "outputs": [],
   "source": [
    "print(dim(NK))\n",
    "print(length(ftToKeep))\n",
    "print(length(fieldToKeep))"
   ]
  },
  {
   "cell_type": "code",
   "execution_count": null,
   "metadata": {},
   "outputs": [],
   "source": [
    "# Approximate normal distribution\n",
    "transfLog <- function (x){\n",
    "    minVal = min(x)\n",
    "    return(log(x+1-minVal))\n",
    "}\n",
    "\n",
    "# Center and scale on control values\n",
    "transfNorm <- function(x, y){\n",
    "    return((x - median(y))/mad(y))\n",
    "}"
   ]
  },
  {
   "cell_type": "code",
   "execution_count": null,
   "metadata": {},
   "outputs": [],
   "source": [
    "transformedNK = apply(NK[fieldToKeep, ftToKeep], 2, transfLog)\n",
    "transformedNK = apply(transformedNK, 2, function(x) transfNorm(x, x[indWT]))"
   ]
  },
  {
   "cell_type": "code",
   "execution_count": null,
   "metadata": {},
   "outputs": [],
   "source": [
    "# Order features from biggest mad to smallest mad\n",
    "# Since features have mad(WT) = 1, it means that we rank features by how more variable they are\n",
    "# for drug perturbations than for WT\n",
    "orderFt = rev(order(apply(transformedNK, 2, mad)))"
   ]
  },
  {
   "cell_type": "code",
   "execution_count": null,
   "metadata": {},
   "outputs": [],
   "source": [
    "uncorrFt = uncorrelate(transformedNK, orderCol = orderFt-1, threshold = FILT_MAX_CORR)\n",
    "uncorrFt = unlist(uncorrFt) + 1"
   ]
  },
  {
   "cell_type": "code",
   "execution_count": null,
   "metadata": {},
   "outputs": [],
   "source": [
    "transformedNK = transformedNK[,uncorrFt]"
   ]
  },
  {
   "cell_type": "markdown",
   "metadata": {},
   "source": [
    "### Look at which types of features are kept"
   ]
  },
  {
   "cell_type": "code",
   "execution_count": null,
   "metadata": {},
   "outputs": [],
   "source": [
    "catChannel = c(\"CorrDNA\", \"CorrActin\", \"CorrPerf\")\n",
    "table(rowSums(sapply(catChannel, function(x) grepl(x, colnames(transformedNK)))))\n",
    "dtCat = data.frame(CountIni = sort(colSums(sapply(catChannel, function(x) grepl(x, preFiltFt)))), \n",
    "                   Count = sort(colSums(sapply(catChannel, function(x) grepl(x, colnames(transformedNK))))))\n",
    "\n",
    "dtCat$Order <- rank(dtCat$CountIni, ties.method = c(\"first\"))\n",
    "dtCat$Category <- factor(rownames(dtCat), levels=rownames(dtCat)[order(dtCat$CountIni)])\n",
    "dtCat$Ratio <- dtCat$Count / dtCat$CountIni\n",
    "dtCat$Ratio <- paste0(round(100*dtCat$Ratio, 1), \"%\")\n",
    "gp <- ggplot(dtCat) + geom_bar(aes(Category, weight = CountIni), fill = cust_pal(2)[1]) + ylim(c(0,675)) +\n",
    "              geom_bar(aes(Category, weight = Count), fill = cust_pal(2)[2]) + \n",
    "              geom_text(aes(x = Order, y = CountIni + 2, label = Ratio), hjust = 0) + coord_flip()\n",
    "gp"
   ]
  },
  {
   "cell_type": "code",
   "execution_count": null,
   "metadata": {},
   "outputs": [],
   "source": [
    "if(!TEST_MODE){\n",
    "    ggsave(filename = \"Fig/NK_SelecFt_Channel.pdf\", plot = gp, width = 10)\n",
    "}"
   ]
  },
  {
   "cell_type": "code",
   "execution_count": null,
   "metadata": {},
   "outputs": [],
   "source": [
    "catObjects = c(\"ActinGranules\", \"FilterCytoplasm\", \"ShrunkenCytoplasm\", \"FilteredNucleus\", \"PerfGranules\")\n",
    "table(rowSums(sapply(catObjects, function(x) grepl(x, colnames(transformedNK)))))\n",
    "dtCat = data.frame(CountIni = colSums(sapply(catObjects, function(x) grepl(x, preFiltFt))), \n",
    "                   Count = colSums(sapply(catObjects, function(x) grepl(x, colnames(transformedNK)))))\n",
    "\n",
    "dtCat$Order <- rank(dtCat$CountIni, ties.method = c(\"first\"))\n",
    "dtCat$Category <- factor(rownames(dtCat), levels=rownames(dtCat)[order(dtCat$CountIni)])\n",
    "dtCat$Ratio <- dtCat$Count / dtCat$CountIni\n",
    "dtCat$Ratio <- paste0(round(100*dtCat$Ratio, 1), \"%\")\n",
    "gp <- ggplot(dtCat) + geom_bar(aes(Category, weight = CountIni), fill = cust_pal(2)[1]) + ylim(c(0,510)) +\n",
    "              geom_bar(aes(Category, weight = Count), fill = cust_pal(2)[2]) + \n",
    "              geom_text(aes(x = Order, y = CountIni + 2, label = Ratio), hjust = 0) + coord_flip()\n",
    "gp"
   ]
  },
  {
   "cell_type": "code",
   "execution_count": null,
   "metadata": {},
   "outputs": [],
   "source": [
    "if(!TEST_MODE){\n",
    "    ggsave(filename = \"Fig/NK_SelecFt_Object.pdf\", plot = gp, width = 10)\n",
    "}"
   ]
  },
  {
   "cell_type": "code",
   "execution_count": null,
   "metadata": {},
   "outputs": [],
   "source": [
    "catType = c(\"Threshold\", \"Granularity\", \"ImageQuality\", \"Texture\", \"Distance\", \"AreaShape\", \"RadialDistribution\", \"Neighbors\", \n",
    "            \"Correlation\", \"Intensity\", \"Overlap\", \"Location\")\n",
    "which(rowSums(sapply(catType, function(x) grepl(x, colnames(transformedNK)))) == 0) # All features are covered\n",
    "\n",
    "dtCat = data.frame(CountIni = colSums(sapply(catType, function(x) grepl(x, preFiltFt))), \n",
    "                   Count = colSums(sapply(catType, function(x) grepl(x, colnames(transformedNK)))))\n",
    "dtCat$Order <- rank(dtCat$CountIni, ties.method = c(\"first\"))\n",
    "dtCat$Category <- factor(rownames(dtCat), levels=rownames(dtCat)[order(dtCat$CountIni)])\n",
    "dtCat$Ratio <- dtCat$Count / dtCat$CountIni\n",
    "dtCat$Ratio <- paste0(round(100*dtCat$Ratio, 1), \"%\")\n",
    "gp <- ggplot(dtCat) + geom_bar(aes(Category, weight = CountIni), fill = cust_pal(2)[1]) +\n",
    "              geom_bar(aes(Category, weight = Count), fill = cust_pal(2)[2]) + \n",
    "              geom_text(aes(x = Order, y = CountIni + 5, label = Ratio), hjust = 0) + coord_flip()\n",
    "gp"
   ]
  },
  {
   "cell_type": "code",
   "execution_count": null,
   "metadata": {},
   "outputs": [],
   "source": [
    "if(!TEST_MODE){\n",
    "    ggsave(filename = \"Fig/NK_SelecFt_Type_All.pdf\", plot = gp, width = 10)\n",
    "}"
   ]
  },
  {
   "cell_type": "code",
   "execution_count": null,
   "metadata": {},
   "outputs": [],
   "source": [
    "catType = c(\"Granularity\", \"Texture\", \"AreaShape\", \"RadialDistribution\",\n",
    "            \"Correlation\", \"Intensity\")\n",
    "table(rowSums(sapply(catType, function(x) grepl(x, colnames(transformedNK)))))\n",
    "\n",
    "dtCount = as.data.frame(sapply(catType, function(x) grepl(x, colnames(transformedNK))))\n",
    "dtCount$Other = !apply(dtCount, 1, any)\n",
    "dtCountIni = as.data.frame(sapply(catType, function(x) grepl(x, preFiltFt)))\n",
    "dtCountIni$Other = !apply(dtCountIni, 1, any)\n",
    "dtCat = data.frame(CountIni = colSums(dtCountIni), \n",
    "                   Count = colSums(dtCount))\n",
    "dtCat$Order <- rank(dtCat$CountIni, ties.method = c(\"first\"))\n",
    "dtCat$Category <- factor(rownames(dtCat), levels=rownames(dtCat)[order(dtCat$CountIni)])\n",
    "dtCat$Ratio <- dtCat$Count / dtCat$CountIni\n",
    "dtCat$Ratio <- paste0(round(100*dtCat$Ratio, 1), \"%\")\n",
    "gp <- ggplot(dtCat) + geom_bar(aes(Category, weight = CountIni), fill = cust_pal(2)[1]) +\n",
    "              geom_bar(aes(Category, weight = Count), fill = cust_pal(2)[2]) + \n",
    "              geom_text(aes(x = Order, y = CountIni + 5, label = Ratio), hjust = 0) + coord_flip()\n",
    "gp"
   ]
  },
  {
   "cell_type": "code",
   "execution_count": null,
   "metadata": {},
   "outputs": [],
   "source": [
    "if(!TEST_MODE){\n",
    "    ggsave(filename = \"Fig/NK_SelecFt_Type_Short.pdf\", plot = gp, width = 10)\n",
    "}"
   ]
  },
  {
   "cell_type": "code",
   "execution_count": null,
   "metadata": {},
   "outputs": [],
   "source": [
    "# Export list of features kept\n",
    "if(!TEST_MODE){\n",
    "    write.table(colnames(transformedNK), file = \"Tab/NK_list_features.csv\", col.names = F, row.names = F)\n",
    "}"
   ]
  },
  {
   "cell_type": "markdown",
   "metadata": {},
   "source": [
    "### Look at the morphological distribution of the fields of view"
   ]
  },
  {
   "cell_type": "markdown",
   "metadata": {},
   "source": [
    "#### UMAP visualizations"
   ]
  },
  {
   "cell_type": "code",
   "execution_count": null,
   "metadata": {},
   "outputs": [],
   "source": [
    "umTNK = umap(transformedNK, min_dist = 0.1, neighbors = 10, n = dimUMAP, metric = \"euclidean\")\n",
    "umTNK = as.data.frame(umTNK)\n",
    "names(umTNK) = c(\"UMAP1\", \"UMAP2\")\n",
    "umTNK$Row <- as.factor(NK$Metadata_Row[fieldToKeep])\n",
    "umTNK$Col <- as.factor(NK$Metadata_Column[fieldToKeep])\n",
    "umTNK$Drug <- as.factor(NK$Drug[fieldToKeep])\n",
    "umTNK$Conc <- as.factor(NK$Concentration[fieldToKeep])\n",
    "umTNK$URL <- as.factor(NK$URL_Actin[fieldToKeep])"
   ]
  },
  {
   "cell_type": "code",
   "execution_count": null,
   "metadata": {},
   "outputs": [],
   "source": [
    "# Order levels to separate DMSO and WT from drugs\n",
    "lvDMSO = which(levels(umTNK$Drug) == \"DMSO\")\n",
    "lvWT = which(levels(umTNK$Drug) == \"WT\")\n",
    "umTNK$Drug <- factor(umTNK$Drug, levels = c(\"DMSO\", rev(levels(umTNK$Drug)[-c(lvDMSO, lvWT)]), \"WT\"))"
   ]
  },
  {
   "cell_type": "code",
   "execution_count": null,
   "metadata": {},
   "outputs": [],
   "source": [
    "umTNK$Shape = ifelse(umTNK$Drug %in% c(\"DMSO\", \"WT\"), \"2\", \"1\")"
   ]
  },
  {
   "cell_type": "code",
   "execution_count": null,
   "metadata": {},
   "outputs": [],
   "source": [
    "gp <- ggplot(umTNK) + geom_point(aes(UMAP1, UMAP2, color = Drug, shape = Shape)) + \n",
    "                      guides(color = guide_legend(reverse = TRUE, \n",
    "                               override.aes = list(shape = ifelse(levels(umTNK$Drug) %in% c(\"DMSO\", \"WT\"), 1, 16))),\n",
    "                             shape = F) + scale_shape_manual(values = c(16,1))\n",
    "gp"
   ]
  },
  {
   "cell_type": "markdown",
   "metadata": {},
   "source": [
    "#### Alternate drug colors\n",
    "\n",
    "    umTNK$Drug = factor(umTNK$Drug, levels = c('DMSO', 'Latrunculin B', 'Cytochalasin D', 'CK869', 'Y-27632', \n",
    "                                               'Wiskostatin', 'SMIFH2', 'Jasplaknolide', 'Blebbistatin', 'WT'))\n",
    "    levels(umTNK$Drug)"
   ]
  },
  {
   "cell_type": "code",
   "execution_count": null,
   "metadata": {},
   "outputs": [],
   "source": [
    "if(!TEST_MODE){\n",
    "    ggsave(filename = \"Fig/NK_UMAP_Drugs.pdf\", plot = gp, width = 10)\n",
    "}"
   ]
  },
  {
   "cell_type": "code",
   "execution_count": null,
   "metadata": {},
   "outputs": [],
   "source": [
    "umXlim = ggplot_build(gp)$layout$panel_scales_x[[1]]$range$range\n",
    "umYlim = ggplot_build(gp)$layout$panel_scales_y[[1]]$range$range"
   ]
  },
  {
   "cell_type": "code",
   "execution_count": null,
   "metadata": {},
   "outputs": [],
   "source": [
    "umTNK$DrugOrControl <- as.factor(ifelse(umTNK$Drug == \"DMSO\", \"DMSO\", ifelse(umTNK$Drug == \"WT\", \"WT\", \"Drug\")))\n",
    "\n",
    "gp <- ggplot(umTNK) + geom_point(aes(UMAP1, UMAP2, color = DrugOrControl, shape = Shape)) + \n",
    "    theme(legend.title = element_blank()) + guides(color = guide_legend(reverse = TRUE, \n",
    "                               override.aes = list(shape = ifelse(levels(umTNK$DrugOrControl) %in% c(\"DMSO\", \"WT\"), 1, 16))),\n",
    "                             shape = F) + scale_shape_manual(values = c(16,1))\n",
    "gp"
   ]
  },
  {
   "cell_type": "code",
   "execution_count": null,
   "metadata": {},
   "outputs": [],
   "source": [
    "if(!TEST_MODE){\n",
    "    ggsave(filename = \"Fig/NK_UMAP_Control.pdf\", plot = gp, width = 10)\n",
    "}"
   ]
  },
  {
   "cell_type": "code",
   "execution_count": null,
   "metadata": {},
   "outputs": [],
   "source": [
    "# Visualize drug perturbations one by one\n",
    "getDrugUmap <- function(drugPert){\n",
    "    drug = levels(umTNK$Drug)[drugPert]\n",
    "    rowPert = NK[fieldToKeep[NK[fieldToKeep,]$Drug == drug],]$Metadata_Row[1]\n",
    "\n",
    "    umDrug = umTNK[umTNK$Row == rowPert,]\n",
    "    cols = cust_pal(length(levels(umTNK$Drug)))[c(length(levels(umTNK$Drug)), drugPert, 1)]\n",
    "    names(cols) = c(\"WT\", drug, \"DMSO\")\n",
    "    gp <- ggplot(umDrug) + geom_point(aes(UMAP1, UMAP2, color = Drug, shape = Shape)) + \n",
    "        scale_color_manual(values = cols) + ggtitle(drug) +\n",
    "        theme(legend.title = element_blank(), legend.position = \"bottom\", legend.key.size = unit(0.08,\"cm\"),\n",
    "              legend.text = element_text(size = 10), legend.spacing.x = unit(0.08,\"cm\"), text=element_text(size=12)) +\n",
    "        xlim(umXlim) + ylim(umYlim) + scale_shape_manual(values = c(16,1)) +\n",
    "        guides(color = guide_legend(override.aes = list(shape = c(1, 16, 1))), shape = F)\n",
    "    return(gp)\n",
    "}"
   ]
  },
  {
   "cell_type": "code",
   "execution_count": null,
   "metadata": {},
   "outputs": [],
   "source": [
    "if(!TEST_MODE){\n",
    "    gpl = lapply(2:(length(levels(umTNK$Drug))-1), getDrugUmap)\n",
    "    gp = do.call(\"grid.arrange\", c(gpl, ncol=4))\n",
    "    gp\n",
    "    ggsave(filename = \"Fig/NK_UMAP_by_drug.pdf\", plot = gp, width = 10)\n",
    "}"
   ]
  },
  {
   "cell_type": "markdown",
   "metadata": {},
   "source": [
    "#### UMAP of morphological features"
   ]
  },
  {
   "cell_type": "code",
   "execution_count": null,
   "metadata": {},
   "outputs": [],
   "source": [
    "umNKFTfit = umap_fit(t(transformedNK), min_dist = 0.05, neighbors = 8, n = 2, metric = \"euclidean\")\n",
    "umNKFT = umap_transform(umNKFTfit, t(transformedNK))\n",
    "umNKFT = as.data.frame(umNKFT)\n",
    "names(umNKFT) = c(\"UMAP1\", \"UMAP2\")"
   ]
  },
  {
   "cell_type": "code",
   "execution_count": null,
   "metadata": {},
   "outputs": [],
   "source": [
    "catType = c(\"Granularity\", \"Texture\", \"AreaShape\", \"RadialDistribution\",\n",
    "            \"Correlation\", \"Intensity\")\n",
    "umNKFT$type = apply(as.data.frame(sapply(catType, function(x) \n",
    "    grepl(x, colnames(transformedNK)))), 1, function(x) paste(catType[which(x)],collapse='-'))\n",
    "umNKFT$type[umNKFT$type == \"\"] <- NA"
   ]
  },
  {
   "cell_type": "code",
   "execution_count": null,
   "metadata": {},
   "outputs": [],
   "source": [
    "catChannel = c(\"CorrDNA\", \"CorrActin\", \"CorrPerf\")\n",
    "umNKFT$channel = apply(as.data.frame(sapply(catChannel, function(x) \n",
    "    grepl(x, colnames(transformedNK)))), 1, function(x) paste(catChannel[which(x)],collapse='-'))\n",
    "umNKFT$channel[umNKFT$channel == \"\"] <- NA"
   ]
  },
  {
   "cell_type": "code",
   "execution_count": null,
   "metadata": {},
   "outputs": [],
   "source": [
    "gp <- ggplot(umNKFT) + geom_point(aes(UMAP1, UMAP2, col = type, shape = channel), size = 3)\n",
    "gp"
   ]
  },
  {
   "cell_type": "code",
   "execution_count": null,
   "metadata": {},
   "outputs": [],
   "source": [
    "if(!TEST_MODE){\n",
    "    ggsave(filename = \"Fig/NK_UMAP_Features.pdf\", gp, width = 10)\n",
    "}"
   ]
  },
  {
   "cell_type": "code",
   "execution_count": null,
   "metadata": {},
   "outputs": [],
   "source": [
    "confoundingDF = rbind(Count_Filtered_Nuclei = NK$Count_FilteredNucleus, \n",
    "                      Count_All_Nuclei = NK$Count_Nucleus,\n",
    "                      Row = NK$Metadata_Row,\n",
    "                      Column = NK$Metadata_Column,\n",
    "                      Well = NK$Metadata_Well)[,fieldToKeep]\n",
    "confoundingUMAP = umap_transform(umNKFTfit, confoundingDF)\n",
    "confoundingUMAP = as.data.frame(confoundingUMAP)\n",
    "names(confoundingUMAP) = c(\"UMAP1\", \"UMAP2\")\n",
    "confoundingUMAP$type = rownames(confoundingDF)\n",
    "confoundingUMAP$size = 4"
   ]
  },
  {
   "cell_type": "code",
   "execution_count": null,
   "metadata": {},
   "outputs": [],
   "source": [
    "confoundingAndKept = rbind(confoundingUMAP, cbind(umNKFT[,1:2], type = \"Kept feature\", size = 2))"
   ]
  },
  {
   "cell_type": "code",
   "execution_count": null,
   "metadata": {},
   "outputs": [],
   "source": [
    "gp <- ggplot(confoundingAndKept) + geom_point(aes(UMAP1, UMAP2, col = type, size = size)) +\n",
    "      guides(size=F) + scale_size_identity()\n",
    "gp"
   ]
  },
  {
   "cell_type": "code",
   "execution_count": null,
   "metadata": {},
   "outputs": [],
   "source": [
    "if(!TEST_MODE){\n",
    "    ggsave(filename = \"Fig/NK_UMAP_Features_Confounding.pdf\", gp, width = 10)\n",
    "}"
   ]
  },
  {
   "cell_type": "markdown",
   "metadata": {},
   "source": [
    "#### Distances to WT cells"
   ]
  },
  {
   "cell_type": "code",
   "execution_count": null,
   "metadata": {
    "scrolled": true
   },
   "outputs": [],
   "source": [
    "# Compute the median Robust Mahalanobis Distance (RMD) between drugs\n",
    "drugRMD <- function(drugPert){\n",
    "    # Find row containing this drug and split wells between WT and drug\n",
    "    rowPert = NK[fieldToKeep[NK[fieldToKeep,]$Drug == drugPert],]$Metadata_Row[1]\n",
    "    setUmapDrug = umTNK[NK[fieldToKeep,]$Drug == drugPert,1:dimUMAP]\n",
    "    setUmapWT = umTNK[which(indWT)[NK[fieldToKeep[indWT],]$Metadata_Row == rowPert],1:dimUMAP]\n",
    "    \n",
    "    # Ensure that we have enough points to compute distance\n",
    "    if ((dim(setUmapDrug)[1] < 2*dimUMAP)|(dim(setUmapWT)[1] < 2*dimUMAP)){\n",
    "            print(drugPert)\n",
    "            return(NA)\n",
    "    }\n",
    "    \n",
    "    # Compute Minimum Covariance Determinant and corresponding Robust Mahalanobis Distance\n",
    "    mcdWT = covMcd(setUmapWT)\n",
    "    RMD = median(apply(setUmapDrug, 1, function(x) mahalanobis(x, mcdWT$center, mcdWT$cov)))\n",
    "    return(RMD)\n",
    "}"
   ]
  },
  {
   "cell_type": "code",
   "execution_count": null,
   "metadata": {},
   "outputs": [],
   "source": [
    "shuffDrugRMD <- function(drugPert, nbRep = PERM_NB_ITER){\n",
    "    # Find row containing this drug and shuffle wells between WT and drug\n",
    "    rowPert = NK[fieldToKeep[NK[fieldToKeep,]$Drug == drugPert],]$Metadata_Row[1]\n",
    "    setUmapDrug = umTNK[NK[fieldToKeep,]$Drug == drugPert,1:dimUMAP]\n",
    "    setUmapWT = umTNK[which(indWT)[NK[fieldToKeep[indWT],]$Metadata_Row == rowPert],1:dimUMAP]\n",
    "    setUMAP = rbind(setUmapWT,setUmapDrug)\n",
    "    shuffleRMD <- function(notUsed){\n",
    "        shuffSetUMAP = rbind(setUmapWT,setUmapDrug)[sample(nrow(setUMAP)),]\n",
    "        # Take random subsets of corresponding sizes\n",
    "        shuffSetDrug = shuffSetUMAP[1:nrow(setUmapDrug),]\n",
    "        shuffSetWT = shuffSetUMAP[(nrow(setUmapDrug)+1):(nrow(setUmapDrug)+nrow(setUmapWT)),]\n",
    "        \n",
    "        # Ensure that we have enough points to compute distance\n",
    "        if ((dim(shuffSetDrug)[1] < 2*dimUMAP)|(dim(shuffSetWT)[1] < 2*dimUMAP)){\n",
    "                print(drugPert)\n",
    "                return(NA)\n",
    "        }\n",
    "        \n",
    "        # Compute Minimum Covariance Determinant and corresponding Robust Mahalanobis Distance\n",
    "        mcdWT = covMcd(shuffSetWT)\n",
    "        RMD = median(apply(shuffSetDrug, 1, function(x) mahalanobis(x, mcdWT$center, mcdWT$cov)))\n",
    "        return(RMD)\n",
    "    }\n",
    "    return(sapply(1:nbRep, shuffleRMD))\n",
    "}"
   ]
  },
  {
   "cell_type": "code",
   "execution_count": null,
   "metadata": {},
   "outputs": [],
   "source": [
    "# Similar procedure for DMSO against WT\n",
    "dmsoRMD <- function(rowDMSO){\n",
    "    setUmapDMSO = umTNK[(NK[fieldToKeep,]$Drug == \"DMSO\")&(NK[fieldToKeep,]$Metadata_Row == rowDMSO),1:dimUMAP]\n",
    "    setUmapWT = umTNK[which(indWT)[NK[fieldToKeep[indWT],]$Metadata_Row == rowDMSO],1:dimUMAP]\n",
    "   \n",
    "    # Ensure that we have enough points to compute distance\n",
    "    if ((dim(setUmapDMSO)[1] < 2*dimUMAP)|(dim(setUmapWT)[1] < 2*dimUMAP)){\n",
    "            return(NA)\n",
    "    }\n",
    "    \n",
    "    # Compute Minimum Covariance Determinant and corresponding Robust Mahalanobis Distance\n",
    "    mcdWT = covMcd(setUmapWT)\n",
    "    RMD = median(apply(setUmapDMSO, 1, function(x) mahalanobis(x, mcdWT$center, mcdWT$cov)))\n",
    "    return(RMD)\n",
    "}\n",
    "shuffDmsoRMD <- function(rowDMSO, nbRep = PERM_NB_ITER){\n",
    "    # Find row containing this drug and shuffle wells between WT and drug\n",
    "    setUmapDMSO = umTNK[(NK[fieldToKeep,]$Drug == \"DMSO\")&(NK[fieldToKeep,]$Metadata_Row == rowDMSO),1:dimUMAP]\n",
    "    setUmapWT = umTNK[which(indWT)[NK[fieldToKeep[indWT],]$Metadata_Row == rowDMSO],1:dimUMAP]\n",
    "    setUMAP = rbind(setUmapWT,setUmapDMSO)\n",
    "    shuffleRMD <- function(notUsed){\n",
    "        shuffSetUMAP = rbind(setUmapWT,setUmapDMSO)[sample(nrow(setUMAP)),]\n",
    "        # Take random subsets of corresponding sizes\n",
    "        shuffSetDMSO = shuffSetUMAP[1:nrow(setUmapDMSO),]\n",
    "        shuffSetWT = shuffSetUMAP[(nrow(setUmapDMSO)+1):(nrow(setUmapDMSO)+nrow(setUmapWT)),]\n",
    "        \n",
    "        # Ensure that we have enough points to compute distance\n",
    "        if ((dim(shuffSetDMSO)[1] < 2*dimUMAP)|(dim(shuffSetWT)[1] < 2*dimUMAP)){\n",
    "                return(NA)\n",
    "        }\n",
    "        \n",
    "        # Compute Minimum Covariance Determinant and corresponding Robust Mahalanobis Distance\n",
    "        mcdWT = covMcd(shuffSetWT)\n",
    "        RMD = median(apply(shuffSetDMSO, 1, function(x) mahalanobis(x, mcdWT$center, mcdWT$cov)))\n",
    "        return(RMD)\n",
    "    }\n",
    "    return(sapply(1:nbRep, shuffleRMD))\n",
    "}"
   ]
  },
  {
   "cell_type": "code",
   "execution_count": null,
   "metadata": {
    "scrolled": true
   },
   "outputs": [],
   "source": [
    "drugRMD_NK = sapply(levels(NK$Drug), drugRMD)"
   ]
  },
  {
   "cell_type": "code",
   "execution_count": null,
   "metadata": {},
   "outputs": [],
   "source": [
    "shuffDrugRMD_NK = sapply(levels(NK$Drug), shuffDrugRMD)"
   ]
  },
  {
   "cell_type": "code",
   "execution_count": null,
   "metadata": {},
   "outputs": [],
   "source": [
    "getRMPV <- function(x){\n",
    "    ecdfRMD = ecdf(x[-1])\n",
    "    return(1 - ecdfRMD(x[1]))\n",
    "}\n",
    "dfRMPV = data.frame(RMPV = apply(rbind(drugRMD_NK, shuffDrugRMD_NK), 2, getRMPV))"
   ]
  },
  {
   "cell_type": "code",
   "execution_count": null,
   "metadata": {},
   "outputs": [],
   "source": [
    "dfRMPV$Drug = rownames(dfRMPV)\n",
    "dfRMPV$Strength = drugRMD_NK\n",
    "dfRMPV = dfRMPV[!dfRMPV$Drug %in% c(\"DMSO\", \"WT\"),]\n",
    "dfRMPV$adjRMPV = p.adjust(dfRMPV$RMPV, method = \"fdr\")"
   ]
  },
  {
   "cell_type": "code",
   "execution_count": null,
   "metadata": {},
   "outputs": [],
   "source": [
    "gp <- ggplot(dfRMPV) + geom_point(aes(adjRMPV, Strength, color = Drug)) + geom_vline(xintercept = 0.05, color=\"#CCCCCC\", linetype=\"dashed\")\n",
    "gp"
   ]
  },
  {
   "cell_type": "code",
   "execution_count": null,
   "metadata": {},
   "outputs": [],
   "source": [
    "if(!TEST_MODE){\n",
    "    ggsave(filename = \"Fig/NK_RMPV_Drugs.pdf\", gp, width = 10)\n",
    "}"
   ]
  },
  {
   "cell_type": "code",
   "execution_count": null,
   "metadata": {},
   "outputs": [],
   "source": [
    "dmsoRMD_NK = sapply(1:8, dmsoRMD)\n",
    "shuffDmsoRMD_NK = sapply(1:8, shuffDmsoRMD)"
   ]
  },
  {
   "cell_type": "code",
   "execution_count": null,
   "metadata": {},
   "outputs": [],
   "source": [
    "dmsoRMPV = data.frame(RMPV = apply(rbind(dmsoRMD_NK, shuffDmsoRMD_NK), 2, getRMPV))\n",
    "dmsoRMPV$Row = rownames(dmsoRMPV)\n",
    "dmsoRMPV$Strength = dmsoRMD_NK\n",
    "dmsoRMPV$adjRMPV = p.adjust(dmsoRMPV$RMPV, method = \"fdr\")"
   ]
  },
  {
   "cell_type": "code",
   "execution_count": null,
   "metadata": {},
   "outputs": [],
   "source": [
    "if(!TEST_MODE){\n",
    "    ggsave(filename = \"Fig/NK_RMPV_DMSO.pdf\", plot = gp, width = 10)\n",
    "}"
   ]
  },
  {
   "cell_type": "markdown",
   "metadata": {},
   "source": [
    "### Concentration-dependency"
   ]
  },
  {
   "cell_type": "code",
   "execution_count": null,
   "metadata": {},
   "outputs": [],
   "source": [
    "# Compute the Robust Mahalanobis Distance (RMD) for all images of a given drug at a given concentration\n",
    "drugConcRMD <- function(drugPert, concPert){\n",
    "    # Find row containing this drug and split wells between WT and drug\n",
    "    rowPert = NK[fieldToKeep[NK[fieldToKeep,]$Drug == drugPert],]$Metadata_Row[1]\n",
    "    pertInd = (umTNK$Drug == drugPert)&(umTNK$Conc == concPert)\n",
    "    setUmapDrug = umTNK[pertInd,1:dimUMAP]\n",
    "    setUmapWT = umTNK[which(indWT)[NK[fieldToKeep[indWT],]$Metadata_Row == rowPert],1:dimUMAP]\n",
    "    \n",
    "    # Ensure that we have enough points to compute distance\n",
    "    if ((dim(setUmapDrug)[1] < 2*dimUMAP)|(dim(setUmapWT)[1] < 2*dimUMAP)){\n",
    "            print(c(drugPert, concPert))\n",
    "            return(NA)\n",
    "    }\n",
    "    \n",
    "    # Compute Minimum Covariance Determinant and corresponding Robust Mahalanobis Distance\n",
    "    mcdWT = covMcd(setUmapWT)\n",
    "    RMD = apply(setUmapDrug, 1, function(x) mahalanobis(x, mcdWT$center, mcdWT$cov))\n",
    "    return(RMD)\n",
    "}"
   ]
  },
  {
   "cell_type": "code",
   "execution_count": null,
   "metadata": {},
   "outputs": [],
   "source": [
    "# Which drugs should be studied?\n",
    "sigDrugs = rownames(dfRMPV)[dfRMPV$adjRMPV < 0.05]\n",
    "# Classify concentration per drug as follows\n",
    "concentrationLevels = c(\"Low\", \"Mid\", \"High\")\n",
    "\n",
    "getAllDrugConcRMD <- function(d, rename = T){\n",
    "    dConc = levels(droplevels(umTNK[umTNK$Drug == d,]$Conc))\n",
    "    dList = sapply(dConc, function(c) drugConcRMD(d,c), simplify = F)\n",
    "    if (rename){\n",
    "        names(dList) <- concentrationLevels[1:length(dConc)]\n",
    "    }\n",
    "    return(dList)\n",
    "}\n",
    "sigDrugConcRMD = sapply(sigDrugs, getAllDrugConcRMD, simplify = F)"
   ]
  },
  {
   "cell_type": "code",
   "execution_count": null,
   "metadata": {},
   "outputs": [],
   "source": [
    "getSublist <- function(x, y){\n",
    "    i = which(names(x) == y)\n",
    "    # If y is not a sublist of x, i is the empty integer (not null, not false but with zero-length)\n",
    "    if (length(i)){\n",
    "        return(x[[i]])\n",
    "}}\n",
    "\n",
    "concRMPV = sapply(concentrationLevels, function(y) unlist(sapply(sigDrugConcRMD, function(x) getSublist(x, y))))\n",
    "concRMPV = as.data.frame(Reduce(rbind, Map(cbind, RMPV = concRMPV, Concentration = names(concRMPV))))\n",
    "concRMPV$RMPV = as.numeric(concRMPV$RMPV)\n",
    "concRMPV$Concentration = factor(concRMPV$Concentration, levels = concentrationLevels)"
   ]
  },
  {
   "cell_type": "code",
   "execution_count": null,
   "metadata": {},
   "outputs": [],
   "source": [
    "gp <- ggplot(concRMPV) + geom_violin(aes(Concentration, RMPV, fill = Concentration)) + \n",
    "                         coord_flip() + theme(legend.title = element_blank()) + guides(fill = guide_legend(reverse = TRUE)) +\n",
    "                         scale_fill_discrete(type = \"Yolla\")\n",
    "gp"
   ]
  },
  {
   "cell_type": "code",
   "execution_count": null,
   "metadata": {},
   "outputs": [],
   "source": [
    "if(!TEST_MODE){\n",
    "    ggsave(filename = \"Fig/NK_ConcEffect_All.pdf\", plot = gp, width = 10)\n",
    "}"
   ]
  },
  {
   "cell_type": "code",
   "execution_count": null,
   "metadata": {},
   "outputs": [],
   "source": [
    "drugsConcRMPV = sapply(sigDrugs, function(x) getAllDrugConcRMD(x, rename = F), simplify = F)\n",
    "\n",
    "for (i in 1:length(drugsConcRMPV)){\n",
    "    # Retrieve drug name and RMPV values\n",
    "    drugName = names(drugsConcRMPV)[i]\n",
    "    drugConcRMPV = drugsConcRMPV[[i]]\n",
    "    \n",
    "    # Structure into wide data frame\n",
    "    concRMPV = as.data.frame(Reduce(rbind, Map(cbind, RMPV = drugConcRMPV, Concentration = names(drugConcRMPV))))\n",
    "    concRMPV$RMPV = as.numeric(concRMPV$RMPV)\n",
    "    # Reorder concentrations in decreasing numerical order\n",
    "    concRMPV$Concentration = factor(concRMPV$Concentration, \n",
    "                                levels = as.character(sort(as.numeric(levels(concRMPV$Concentration)))))\n",
    "\n",
    "    # Represent distribution per concentration for all significantly changed drug\n",
    "    gp <- ggplot(concRMPV) + geom_violin(aes(Concentration, RMPV, fill = Concentration)) + \n",
    "                             coord_flip() + theme(legend.title = element_blank()) + guides(fill = guide_legend(reverse = T)) +\n",
    "                             scale_fill_discrete(type = \"Yolla\")\n",
    "    if(!TEST_MODE){\n",
    "        ggsave(filename = paste(\"Fig/NK\", drugName, \"ConcEffect.pdf\", sep = \"_\"), plot = gp, width = 10)\n",
    "    }\n",
    "}"
   ]
  },
  {
   "cell_type": "markdown",
   "metadata": {},
   "source": [
    "### Morphological changes upon perturbation"
   ]
  },
  {
   "cell_type": "code",
   "execution_count": null,
   "metadata": {},
   "outputs": [],
   "source": [
    "# Associate categories and colors to features\n",
    "catType = c(\"Granularity\", \"Texture\", \"AreaShape\", \"RadialDistribution\",\n",
    "            \"Intensity\")\n",
    "colType = cust_pal(length(catType)+1)\n",
    "\n",
    "dtCount = as.data.frame(sapply(catType, function(x) grepl(x, colnames(transformedNK))))\n",
    "dtCount$Other = !apply(dtCount, 1, any)\n",
    " \n",
    "ftCat = as.factor(apply(dtCount, 1, function(x) colnames(dtCount)[which(x)]))\n",
    "\n",
    "# Order levels so that \"Other\" is last\n",
    "lvOther = which(levels(ftCat) == \"Other\")\n",
    "ftCat = factor(ftCat, levels = c(levels(ftCat)[-lvOther], \"Other\"))\n",
    "       \n",
    "# Corresponding colors\n",
    "ftCol = colType[ftCat]"
   ]
  },
  {
   "cell_type": "code",
   "execution_count": null,
   "metadata": {},
   "outputs": [],
   "source": [
    "# Plot number of images / categories (useful to get fill color legend)\n",
    "gp <- ggplot(data.frame(Category = ftCat), aes(fill = Category)) + geom_bar(aes(Category))\n",
    "if(!TEST_MODE){\n",
    "    ggsave(filename = \"Fig/NK_CatCount.pdf\", plot = gp, width = 10)\n",
    "}"
   ]
  },
  {
   "cell_type": "code",
   "execution_count": null,
   "metadata": {},
   "outputs": [],
   "source": [
    "changedFtDrug <- function(drugPert){\n",
    "    # Plate row on which the drug is\n",
    "    rowPert = NK[fieldToKeep[NK[fieldToKeep,]$Drug == drugPert],]$Metadata_Row[1]\n",
    "    \n",
    "    # Morphological features for the drug and the WT control on the same row\n",
    "    setDrug = transformedNK[NK[fieldToKeep,]$Drug == drugPert,]\n",
    "    setWT = transformedNK[which(indWT)[NK[fieldToKeep[indWT],]$Metadata_Row == rowPert],]\n",
    "    \n",
    "    medianDrug = apply(setDrug, 2, median)\n",
    "    medianWT = apply(setWT, 2, median)\n",
    "    medianChange = medianDrug - medianWT\n",
    "    \n",
    "    # Compute difference to WT\n",
    "    ftToDisplay = order(abs(medianChange), decreasing = T)[1:12]\n",
    "    dtChange = data.frame(Difference = medianChange[ftToDisplay])\n",
    "    dtChange$Feature = rownames(dtChange)\n",
    "    dtChange$Feature = factor(dtChange$Feature, levels = dtChange$Feature[order(dtChange$Difference)]) \n",
    "    dtChange$Category = ftCol[ftToDisplay]\n",
    "\n",
    "    gp <- ggplot(dtChange) + geom_bar(aes(Feature, weight = Difference, fill = Category), color = \"#CCCCCC\") + \n",
    "                   coord_flip() + ylab(\"Difference to WT\") + scale_fill_identity() +\n",
    "                   theme(legend.position=\"none\", plot.margin=unit(c(0,5,0,0), \"mm\"))\n",
    "    \n",
    "    if(!TEST_MODE){\n",
    "        ggsave(filename = paste(\"Fig/NK\", drugPert, \"ChangeFt.pdf\", sep = \"_\"), plot = gp, width = 10)\n",
    "    }\n",
    "}"
   ]
  },
  {
   "cell_type": "code",
   "execution_count": null,
   "metadata": {},
   "outputs": [],
   "source": [
    "sapply(sigDrugs, changedFtDrug)"
   ]
  },
  {
   "cell_type": "markdown",
   "metadata": {},
   "source": [
    "## Is concentration-dependent effect acting on similar or distinct features?\n",
    "Example of Y27"
   ]
  },
  {
   "cell_type": "code",
   "execution_count": null,
   "metadata": {},
   "outputs": [],
   "source": [
    "changedFtY27 <- function(concPert){  \n",
    "    drugPert = \"Y27\"\n",
    "    \n",
    "    # Plate row on which the drug is\n",
    "    rowPert = NK[fieldToKeep[NK[fieldToKeep,]$Drug == drugPert],]$Metadata_Row[1]\n",
    "    \n",
    "    # Morphological features for the drug and the WT control on the same row\n",
    "    setDrug = transformedNK[(NK[fieldToKeep,]$Drug == drugPert)&(NK[fieldToKeep,]$Concentration == concPert),]\n",
    "    setWT = transformedNK[which(indWT)[NK[fieldToKeep[indWT],]$Metadata_Row == rowPert],]\n",
    "    \n",
    "    medianDrug = apply(setDrug, 2, median)\n",
    "    medianWT = apply(setWT, 2, median)\n",
    "    medianChange = medianDrug - medianWT\n",
    "    \n",
    "    # Compute difference to WT\n",
    "    ftToDisplay = order(abs(medianChange), decreasing = T)[1:12]\n",
    "    dtChange = data.frame(Difference = medianChange[ftToDisplay])\n",
    "    dtChange$Feature = rownames(dtChange)\n",
    "    dtChange$Feature = factor(dtChange$Feature, levels = dtChange$Feature[order(dtChange$Difference)]) \n",
    "    dtChange$Category = ftCol[ftToDisplay]\n",
    "\n",
    "    gp <- ggplot(dtChange) + geom_bar(aes(Feature, weight = Difference, fill = Category), color = \"#CCCCCC\") + \n",
    "                   coord_flip() + ylab(\"Difference to WT\") + scale_fill_identity() +\n",
    "                   theme(legend.position=\"none\", plot.margin=unit(c(0,5,0,0), \"mm\"))\n",
    "    \n",
    "    if(!TEST_MODE){\n",
    "        ggsave(filename = paste(\"Fig/NK_Y27\", concPert, \"ChangeFt.pdf\", sep = \"_\"), plot = gp, width = 10)\n",
    "    }\n",
    "}"
   ]
  },
  {
   "cell_type": "code",
   "execution_count": null,
   "metadata": {},
   "outputs": [],
   "source": [
    "sapply(c(5,10,25), changedFtY27)"
   ]
  },
  {
   "cell_type": "markdown",
   "metadata": {},
   "source": [
    "## Jurkat"
   ]
  },
  {
   "cell_type": "code",
   "execution_count": null,
   "metadata": {},
   "outputs": [],
   "source": [
    "# Fix t-SNE layout and random number generation\n",
    "set.seed(38)"
   ]
  },
  {
   "cell_type": "code",
   "execution_count": null,
   "metadata": {},
   "outputs": [],
   "source": [
    "JK = read.csv(\"./allImages_Jurkat_Drugs.csv\", header=T)"
   ]
  },
  {
   "cell_type": "code",
   "execution_count": null,
   "metadata": {},
   "outputs": [],
   "source": [
    "JK$Drug = sapply(JK$Metadata_Well, function(x) Layout$Drug[x == Layout$Well])\n",
    "levels(JK$Drug)[levels(JK$Drug)==\"Y27\"] <- \"Y-27632\"\n",
    "JK$Concentration = sapply(JK$Metadata_Well, function(x) Layout$Concentration[x == Layout$Well])"
   ]
  },
  {
   "cell_type": "code",
   "execution_count": null,
   "metadata": {},
   "outputs": [],
   "source": [
    "gpJK = ggplot(JK[!is.na(JK$Count_FilteredNucleus),]) + geom_histogram(aes(Count_FilteredNucleus, fill = as.factor(Metadata_Row)), binwidth=2) +\n",
    "       scale_fill_discrete(name=\"Row\")\n",
    "gpJK\n",
    "if(!TEST_MODE){\n",
    "    ggsave(filename = \"Fig/JK_count.pdf\", plot = gpJK)\n",
    "}"
   ]
  },
  {
   "cell_type": "code",
   "execution_count": null,
   "metadata": {},
   "outputs": [],
   "source": [
    "gpJK = ggplot(JK[!is.na(JK$Mean_FilterCytoplasm_AreaShape_Area),]) + geom_histogram(aes(Mean_FilterCytoplasm_AreaShape_Area, \n",
    "                                                                                    fill = as.factor(Metadata_Row)), binwidth=100) +\n",
    "       scale_fill_discrete(name=\"Row\")\n",
    "gpJK\n",
    "if(!TEST_MODE){\n",
    "    ggsave(filename = \"Fig/JK_area.pdf\", plot = gpJK)\n",
    "}"
   ]
  },
  {
   "cell_type": "code",
   "execution_count": null,
   "metadata": {},
   "outputs": [],
   "source": [
    "FILT_MAX_INT_DNA = 0.05 # Remove empty images and small DNA precipitations\n",
    "FILT_MIN_CELLS = 2 # 1 cell \n",
    "# >= 352 NAs 5/6 bad images\n",
    "# >= 82 NAs 4/6 bad images\n",
    "# < 82 NAs 3/6 bad images + 1 single-cell image\n",
    "FILT_NB_MAX_NA_IMAGE = 83\n"
   ]
  },
  {
   "cell_type": "code",
   "execution_count": null,
   "metadata": {},
   "outputs": [],
   "source": [
    "colnames(JK)[ftToKeep][grep(\"(Execution)|(Count)|(Location)\", colnames(JK)[ftToKeep])]"
   ]
  },
  {
   "cell_type": "code",
   "execution_count": null,
   "metadata": {},
   "outputs": [],
   "source": [
    "ftToKeep = 1:dim(JK)[2]\n",
    "# Make sure that the fields are numeric\n",
    "ftToKeep <- ftToKeep[which(sapply(JK[,ftToKeep], class) == \"numeric\")]\n",
    "# Remove execution time and count features\n",
    "ftToKeep <- ftToKeep[grep(\"(Execution)|(Count)\", colnames(JK)[ftToKeep], invert = T)]"
   ]
  },
  {
   "cell_type": "code",
   "execution_count": null,
   "metadata": {},
   "outputs": [],
   "source": [
    "# Store all remaining features before filtering for downstream comparison to selected set\n",
    "preFiltFt = colnames(JK)[ftToKeep]"
   ]
  },
  {
   "cell_type": "code",
   "execution_count": null,
   "metadata": {},
   "outputs": [],
   "source": [
    "# See Time-resolved mapping of genetic interactions to model rewiring of signaling pathways. Heigwer et al. (2018).\n",
    "# Remove wells with low max DNA intensity\n",
    "fieldToKeep <- which(JK$ImageQuality_MaxIntensity_DNA >= FILT_MAX_INT_DNA)\n",
    "# Remove wells with low cell count\n",
    "fieldToKeep <- fieldToKeep[!is.na(JK[fieldToKeep,]$Count_FilteredNucleus)]\n",
    "fieldToKeep <- fieldToKeep[JK[fieldToKeep,]$Count_FilteredNucleus >= FILT_MIN_CELLS]"
   ]
  },
  {
   "cell_type": "code",
   "execution_count": null,
   "metadata": {},
   "outputs": [],
   "source": [
    "# Few bad quality pictures are generating a lot of missing values and are removed\n",
    "fieldToKeep <- fieldToKeep[rowSums(is.na(JK[fieldToKeep,ftToKeep])) < FILT_NB_MAX_NA_IMAGE]\n",
    "# Remove remaining features with missing values\n",
    "ftToKeep <- ftToKeep[colSums(is.na(JK[fieldToKeep,ftToKeep])) == 0] \n",
    "# Remove constant columns\n",
    "indWT = JK[fieldToKeep,]$Drug == \"WT\"\n",
    "ftToKeep <- ftToKeep[sapply(JK[fieldToKeep,ftToKeep], function(x) mad(x) != 0)]\n",
    "ftToKeep <- ftToKeep[sapply(JK[fieldToKeep[indWT],ftToKeep], function(x) mad(x) != 0)]"
   ]
  },
  {
   "cell_type": "code",
   "execution_count": null,
   "metadata": {},
   "outputs": [],
   "source": [
    "print(dim(JK))\n",
    "print(length(ftToKeep))\n",
    "print(length(fieldToKeep))"
   ]
  },
  {
   "cell_type": "code",
   "execution_count": null,
   "metadata": {},
   "outputs": [],
   "source": [
    "transformedJK = apply(JK[fieldToKeep, ftToKeep], 2, transfLog)\n",
    "transformedJK = apply(transformedJK, 2, function(x) transfNorm(x, x[indWT]))"
   ]
  },
  {
   "cell_type": "code",
   "execution_count": null,
   "metadata": {},
   "outputs": [],
   "source": [
    "# Order features from biggest mad to smallest mad\n",
    "# Since features have mad(WT) = 1, it means that we rank features by how more variable they are\n",
    "# for drug perturbations than for WT\n",
    "orderFt = rev(order(apply(transformedJK, 2, mad)))"
   ]
  },
  {
   "cell_type": "code",
   "execution_count": null,
   "metadata": {},
   "outputs": [],
   "source": [
    "uncorrFt = uncorrelate(transformedJK, orderCol = orderFt-1, threshold = FILT_MAX_CORR)\n",
    "uncorrFt = unlist(uncorrFt) + 1"
   ]
  },
  {
   "cell_type": "code",
   "execution_count": null,
   "metadata": {},
   "outputs": [],
   "source": [
    "transformedJK = transformedJK[,uncorrFt]"
   ]
  },
  {
   "cell_type": "markdown",
   "metadata": {},
   "source": [
    "### Look at which types of features are kept"
   ]
  },
  {
   "cell_type": "code",
   "execution_count": null,
   "metadata": {},
   "outputs": [],
   "source": [
    "catChannel = c(\"CorrDNA\", \"CorrActin\", \"CorrPerf\")\n",
    "table(rowSums(sapply(catChannel, function(x) grepl(x, colnames(transformedJK)))))\n",
    "dtCat = data.frame(CountIni = sort(colSums(sapply(catChannel, function(x) grepl(x, preFiltFt)))), \n",
    "                   Count = sort(colSums(sapply(catChannel, function(x) grepl(x, colnames(transformedJK))))))\n",
    "\n",
    "dtCat$Order <- rank(dtCat$CountIni, ties.method = c(\"first\"))\n",
    "dtCat$Category <- factor(rownames(dtCat), levels=rownames(dtCat)[order(dtCat$CountIni)])\n",
    "dtCat$Ratio <- dtCat$Count / dtCat$CountIni\n",
    "dtCat$Ratio <- paste0(round(100*dtCat$Ratio, 1), \"%\")\n",
    "gp <- ggplot(dtCat) + geom_bar(aes(Category, weight = CountIni), fill = cust_pal(2)[1]) + ylim(c(0,675)) +\n",
    "              geom_bar(aes(Category, weight = Count), fill = cust_pal(2)[2]) + \n",
    "              geom_text(aes(x = Order, y = CountIni + 2, label = Ratio), hjust = 0) + coord_flip()\n",
    "gp"
   ]
  },
  {
   "cell_type": "code",
   "execution_count": null,
   "metadata": {},
   "outputs": [],
   "source": [
    "if(!TEST_MODE){\n",
    "    ggsave(filename = \"Fig/JK_SelecFt_Channel.pdf\", plot = gp, width = 10)\n",
    "}"
   ]
  },
  {
   "cell_type": "code",
   "execution_count": null,
   "metadata": {},
   "outputs": [],
   "source": [
    "catObjects = c(\"ActinGranules\", \"FilterCytoplasm\", \"ShrunkenCytoplasm\", \"FilteredNucleus\", \"PerfGranules\")\n",
    "table(rowSums(sapply(catObjects, function(x) grepl(x, colnames(transformedJK)))))\n",
    "dtCat = data.frame(CountIni = colSums(sapply(catObjects, function(x) grepl(x, preFiltFt))), \n",
    "                   Count = colSums(sapply(catObjects, function(x) grepl(x, colnames(transformedJK)))))\n",
    "\n",
    "dtCat$Order <- rank(dtCat$CountIni, ties.method = c(\"first\"))\n",
    "dtCat$Category <- factor(rownames(dtCat), levels=rownames(dtCat)[order(dtCat$CountIni)])\n",
    "dtCat$Ratio <- dtCat$Count / dtCat$CountIni\n",
    "dtCat$Ratio <- paste0(round(100*dtCat$Ratio, 1), \"%\")\n",
    "gp <- ggplot(dtCat) + geom_bar(aes(Category, weight = CountIni), fill = cust_pal(2)[1]) + ylim(c(0,510)) +\n",
    "              geom_bar(aes(Category, weight = Count), fill = cust_pal(2)[2]) + \n",
    "              geom_text(aes(x = Order, y = CountIni + 2, label = Ratio), hjust = 0) + coord_flip()\n",
    "gp"
   ]
  },
  {
   "cell_type": "code",
   "execution_count": null,
   "metadata": {},
   "outputs": [],
   "source": [
    "if(!TEST_MODE){\n",
    "    ggsave(filename = \"Fig/JK_SelecFt_Object.pdf\", plot = gp, width = 10)\n",
    "}"
   ]
  },
  {
   "cell_type": "code",
   "execution_count": null,
   "metadata": {},
   "outputs": [],
   "source": [
    "catType = c(\"Threshold\", \"Granularity\", \"ImageQuality\", \"Texture\", \"Distance\", \"AreaShape\", \"RadialDistribution\", \"Neighbors\", \n",
    "            \"Correlation\", \"Intensity\", \"Overlap\", \"Location\")\n",
    "which(rowSums(sapply(catType, function(x) grepl(x, colnames(transformedJK)))) == 0) # All features are covered\n",
    "\n",
    "dtCat = data.frame(CountIni = colSums(sapply(catType, function(x) grepl(x, preFiltFt))), \n",
    "                   Count = colSums(sapply(catType, function(x) grepl(x, colnames(transformedJK)))))\n",
    "dtCat$Order <- rank(dtCat$CountIni, ties.method = c(\"first\"))\n",
    "dtCat$Category <- factor(rownames(dtCat), levels=rownames(dtCat)[order(dtCat$CountIni)])\n",
    "dtCat$Ratio <- dtCat$Count / dtCat$CountIni\n",
    "dtCat$Ratio <- paste0(round(100*dtCat$Ratio, 1), \"%\")\n",
    "gp <- ggplot(dtCat) + geom_bar(aes(Category, weight = CountIni), fill = cust_pal(2)[1]) +\n",
    "              geom_bar(aes(Category, weight = Count), fill = cust_pal(2)[2]) + \n",
    "              geom_text(aes(x = Order, y = CountIni + 5, label = Ratio), hjust = 0) + coord_flip()\n",
    "gp"
   ]
  },
  {
   "cell_type": "code",
   "execution_count": null,
   "metadata": {},
   "outputs": [],
   "source": [
    "if(!TEST_MODE){\n",
    "    ggsave(filename = \"Fig/JK_SelecFt_Type_All.pdf\", plot = gp, width = 10)\n",
    "}"
   ]
  },
  {
   "cell_type": "code",
   "execution_count": null,
   "metadata": {},
   "outputs": [],
   "source": [
    "catType = c(\"Granularity\", \"Texture\", \"AreaShape\", \"RadialDistribution\",\n",
    "            \"Correlation\", \"Intensity\")\n",
    "table(rowSums(sapply(catType, function(x) grepl(x, colnames(transformedJK)))))\n",
    "\n",
    "dtCount = as.data.frame(sapply(catType, function(x) grepl(x, colnames(transformedJK))))\n",
    "dtCount$Other = !apply(dtCount, 1, any)\n",
    "dtCountIni = as.data.frame(sapply(catType, function(x) grepl(x, preFiltFt)))\n",
    "dtCountIni$Other = !apply(dtCountIni, 1, any)\n",
    "dtCat = data.frame(CountIni = colSums(dtCountIni), \n",
    "                   Count = colSums(dtCount))\n",
    "dtCat$Order <- rank(dtCat$CountIni, ties.method = c(\"first\"))\n",
    "dtCat$Category <- factor(rownames(dtCat), levels=rownames(dtCat)[order(dtCat$CountIni)])\n",
    "dtCat$Ratio <- dtCat$Count / dtCat$CountIni\n",
    "dtCat$Ratio <- paste0(round(100*dtCat$Ratio, 1), \"%\")\n",
    "gp <- ggplot(dtCat) + geom_bar(aes(Category, weight = CountIni), fill = cust_pal(2)[1]) +\n",
    "              geom_bar(aes(Category, weight = Count), fill = cust_pal(2)[2]) + \n",
    "              geom_text(aes(x = Order, y = CountIni + 5, label = Ratio), hjust = 0) + coord_flip()\n",
    "gp"
   ]
  },
  {
   "cell_type": "code",
   "execution_count": null,
   "metadata": {},
   "outputs": [],
   "source": [
    "if(!TEST_MODE){\n",
    "    ggsave(filename = \"Fig/JK_SelecFt_Type_Short.pdf\", plot = gp, width = 10)\n",
    "}"
   ]
  },
  {
   "cell_type": "code",
   "execution_count": null,
   "metadata": {},
   "outputs": [],
   "source": [
    "# Export list of features kept\n",
    "if(!TEST_MODE){\n",
    "    write.table(colnames(transformedJK), file = \"Tab/JK_list_features.csv\", col.names = F, row.names = F)\n",
    "}"
   ]
  },
  {
   "cell_type": "markdown",
   "metadata": {},
   "source": [
    "### Look at the morphological distribution of the fields of view"
   ]
  },
  {
   "cell_type": "markdown",
   "metadata": {},
   "source": [
    "#### UMAP visualizations"
   ]
  },
  {
   "cell_type": "code",
   "execution_count": null,
   "metadata": {},
   "outputs": [],
   "source": [
    "umTJK = umap(transformedJK, min_dist = 0.1, neighbors = 10, n = dimUMAP, metric = \"euclidean\")\n",
    "umTJK = as.data.frame(umTJK)\n",
    "names(umTJK) = c(\"UMAP1\", \"UMAP2\")\n",
    "umTJK$Row <- as.factor(JK$Metadata_Row[fieldToKeep])\n",
    "umTJK$Col <- as.factor(JK$Metadata_Column[fieldToKeep])\n",
    "umTJK$Drug <- as.factor(JK$Drug[fieldToKeep])\n",
    "umTJK$Conc <- as.factor(JK$Concentration[fieldToKeep])\n",
    "umTJK$URL <- as.factor(JK$URL_Actin[fieldToKeep])"
   ]
  },
  {
   "cell_type": "code",
   "execution_count": null,
   "metadata": {},
   "outputs": [],
   "source": [
    "# Order levels to separate DMSO and WT from drugs\n",
    "lvDMSO = which(levels(umTJK$Drug) == \"DMSO\")\n",
    "lvWT = which(levels(umTJK$Drug) == \"WT\")\n",
    "umTJK$Drug <- factor(umTJK$Drug, levels = c(\"DMSO\", rev(levels(umTJK$Drug)[-c(lvDMSO, lvWT)]), \"WT\"))"
   ]
  },
  {
   "cell_type": "code",
   "execution_count": null,
   "metadata": {},
   "outputs": [],
   "source": [
    "umTJK$Shape = ifelse(umTJK$Drug %in% c(\"DMSO\", \"WT\"), \"2\", \"1\")"
   ]
  },
  {
   "cell_type": "code",
   "execution_count": null,
   "metadata": {},
   "outputs": [],
   "source": [
    "gp <- ggplot(umTJK) + geom_point(aes(UMAP1, UMAP2, color = Drug, shape = Shape)) + \n",
    "                      guides(color = guide_legend(reverse = TRUE, \n",
    "                               override.aes = list(shape = ifelse(levels(umTJK$Drug) %in% c(\"DMSO\", \"WT\"), 1, 16))),\n",
    "                             shape = F) + scale_shape_manual(values = c(16,1))\n",
    "gp"
   ]
  },
  {
   "cell_type": "code",
   "execution_count": null,
   "metadata": {},
   "outputs": [],
   "source": [
    "if(!TEST_MODE){\n",
    "    ggsave(filename = \"Fig/JK_UMAP_Drugs.pdf\", plot = gp, width = 10)\n",
    "}"
   ]
  },
  {
   "cell_type": "code",
   "execution_count": null,
   "metadata": {},
   "outputs": [],
   "source": [
    "umXlim = ggplot_build(gp)$layout$panel_scales_x[[1]]$range$range\n",
    "umYlim = ggplot_build(gp)$layout$panel_scales_y[[1]]$range$range"
   ]
  },
  {
   "cell_type": "code",
   "execution_count": null,
   "metadata": {},
   "outputs": [],
   "source": [
    "umTJK$DrugOrControl <- as.factor(ifelse(umTJK$Drug == \"DMSO\", \"DMSO\", ifelse(umTJK$Drug == \"WT\", \"WT\", \"Drug\")))\n",
    "\n",
    "gp <- ggplot(umTJK) + geom_point(aes(UMAP1, UMAP2, color = DrugOrControl, shape = Shape)) + \n",
    "    theme(legend.title = element_blank()) + guides(color = guide_legend(reverse = TRUE, \n",
    "                               override.aes = list(shape = ifelse(levels(umTJK$DrugOrControl) %in% c(\"DMSO\", \"WT\"), 1, 16))),\n",
    "                             shape = F) + scale_shape_manual(values = c(16,1))\n",
    "gp"
   ]
  },
  {
   "cell_type": "code",
   "execution_count": null,
   "metadata": {},
   "outputs": [],
   "source": [
    "if(!TEST_MODE){\n",
    "    ggsave(filename = \"Fig/JK_UMAP_Control.pdf\", plot = gp, width = 10)\n",
    "}"
   ]
  },
  {
   "cell_type": "code",
   "execution_count": null,
   "metadata": {},
   "outputs": [],
   "source": [
    "# Visualize drug perturbations one by one\n",
    "getDrugUmap <- function(drugPert){\n",
    "    drug = levels(umTJK$Drug)[drugPert]\n",
    "    rowPert = JK[fieldToKeep[JK[fieldToKeep,]$Drug == drug],]$Metadata_Row[1]\n",
    "\n",
    "    umDrug = umTJK[umTJK$Row == rowPert,]\n",
    "    cols = cust_pal(length(levels(umTJK$Drug)))[c(length(levels(umTJK$Drug)), drugPert, 1)]\n",
    "    names(cols) = c(\"WT\", drug, \"DMSO\")\n",
    "    gp <- ggplot(umDrug) + geom_point(aes(UMAP1, UMAP2, color = Drug, shape = Shape)) + \n",
    "        scale_color_manual(values = cols) + ggtitle(drug) +\n",
    "        theme(legend.title = element_blank(), legend.position = \"bottom\", legend.key.size = unit(0.08,\"cm\"),\n",
    "              legend.text = element_text(size = 10), legend.spacing.x = unit(0.08,\"cm\"), text=element_text(size=12)) +\n",
    "        xlim(umXlim) + ylim(umYlim) + scale_shape_manual(values = c(16,1)) +\n",
    "        guides(color = guide_legend(override.aes = list(shape = c(1, 16, 1))), shape = F)\n",
    "    return(gp)\n",
    "}"
   ]
  },
  {
   "cell_type": "code",
   "execution_count": null,
   "metadata": {},
   "outputs": [],
   "source": [
    "if(!TEST_MODE){\n",
    "    gpl = lapply(2:(length(levels(umTJK$Drug))-1), getDrugUmap)\n",
    "    gp = do.call(\"grid.arrange\", c(gpl, ncol=4))\n",
    "    gp\n",
    "    ggsave(filename = \"Fig/JK_UMAP_by_drug.pdf\", plot = gp, width = 10)\n",
    "}"
   ]
  },
  {
   "cell_type": "markdown",
   "metadata": {},
   "source": [
    "#### UMAP of morphological features"
   ]
  },
  {
   "cell_type": "code",
   "execution_count": null,
   "metadata": {},
   "outputs": [],
   "source": [
    "umJKFTfit = umap_fit(t(transformedJK), min_dist = 0.05, neighbors = 8, n = 2, metric = \"euclidean\")\n",
    "umJKFT = umap_transform(umJKFTfit, t(transformedJK))\n",
    "umJKFT = as.data.frame(umJKFT)\n",
    "names(umJKFT) = c(\"UMAP1\", \"UMAP2\")"
   ]
  },
  {
   "cell_type": "code",
   "execution_count": null,
   "metadata": {},
   "outputs": [],
   "source": [
    "catType = c(\"Granularity\", \"Texture\", \"AreaShape\", \"RadialDistribution\",\n",
    "            \"Correlation\", \"Intensity\")\n",
    "umJKFT$type = apply(as.data.frame(sapply(catType, function(x) \n",
    "    grepl(x, colnames(transformedJK)))), 1, function(x) paste(catType[which(x)],collapse='-'))\n",
    "umJKFT$type[umJKFT$type == \"\"] <- NA"
   ]
  },
  {
   "cell_type": "code",
   "execution_count": null,
   "metadata": {},
   "outputs": [],
   "source": [
    "catChannel = c(\"CorrDNA\", \"CorrActin\", \"CorrPerf\")\n",
    "umJKFT$channel = apply(as.data.frame(sapply(catChannel, function(x) \n",
    "    grepl(x, colnames(transformedJK)))), 1, function(x) paste(catChannel[which(x)],collapse='-'))\n",
    "umJKFT$channel[umJKFT$channel == \"\"] <- NA"
   ]
  },
  {
   "cell_type": "code",
   "execution_count": null,
   "metadata": {},
   "outputs": [],
   "source": [
    "gp <- ggplot(umJKFT) + geom_point(aes(UMAP1, UMAP2, col = type, shape = channel), size = 3)\n",
    "gp"
   ]
  },
  {
   "cell_type": "code",
   "execution_count": null,
   "metadata": {},
   "outputs": [],
   "source": [
    "if(!TEST_MODE){\n",
    "    ggsave(filename = \"Fig/JK_UMAP_Features.pdf\", gp, width = 10)\n",
    "}"
   ]
  },
  {
   "cell_type": "code",
   "execution_count": null,
   "metadata": {},
   "outputs": [],
   "source": [
    "confoundingDF = rbind(Count_Filtered_Nuclei = JK$Count_FilteredNucleus, \n",
    "                      Count_All_Nuclei = JK$Count_Nucleus,\n",
    "                      Row = JK$Metadata_Row,\n",
    "                      Column = JK$Metadata_Column,\n",
    "                      Well = JK$Metadata_Well)[,fieldToKeep]\n",
    "confoundingUMAP = umap_transform(umJKFTfit, confoundingDF)\n",
    "confoundingUMAP = as.data.frame(confoundingUMAP)\n",
    "names(confoundingUMAP) = c(\"UMAP1\", \"UMAP2\")\n",
    "confoundingUMAP$type = rownames(confoundingDF)\n",
    "confoundingUMAP$size = 4"
   ]
  },
  {
   "cell_type": "code",
   "execution_count": null,
   "metadata": {},
   "outputs": [],
   "source": [
    "confoundingAndKept = rbind(confoundingUMAP, cbind(umJKFT[,1:2], type = \"Kept feature\", size = 2))"
   ]
  },
  {
   "cell_type": "code",
   "execution_count": null,
   "metadata": {},
   "outputs": [],
   "source": [
    "gp <- ggplot(confoundingAndKept) + geom_point(aes(UMAP1, UMAP2, col = type, size = size)) +\n",
    "      guides(size=F) + scale_size_identity()\n",
    "gp"
   ]
  },
  {
   "cell_type": "code",
   "execution_count": null,
   "metadata": {},
   "outputs": [],
   "source": [
    "if(!TEST_MODE){\n",
    "    ggsave(filename = \"Fig/JK_UMAP_Features_Confounding.pdf\", gp, width = 10)\n",
    "}"
   ]
  },
  {
   "cell_type": "markdown",
   "metadata": {},
   "source": [
    "#### Distances to WT cells"
   ]
  },
  {
   "cell_type": "code",
   "execution_count": null,
   "metadata": {
    "scrolled": true
   },
   "outputs": [],
   "source": [
    "# Compute the median Robust Mahalanobis Distance (RMD) between drugs\n",
    "# See https://e-archivo.uc3m.es/bitstream/handle/10016/24613/ws201710.pdf\n",
    "drugRMD <- function(drugPert){\n",
    "    # Find row containing this drug and split wells between WT and drug\n",
    "    rowPert = JK[fieldToKeep[JK[fieldToKeep,]$Drug == drugPert],]$Metadata_Row[1]\n",
    "    setUmapDrug = umTJK[JK[fieldToKeep,]$Drug == drugPert,1:dimUMAP]\n",
    "    setUmapWT = umTJK[which(indWT)[JK[fieldToKeep[indWT],]$Metadata_Row == rowPert],1:dimUMAP]\n",
    "    \n",
    "    # Ensure that we have enough points to compute distance\n",
    "    if ((dim(setUmapDrug)[1] < 2*dimUMAP)|(dim(setUmapWT)[1] < 2*dimUMAP)){\n",
    "            print(drugPert)\n",
    "            return(NA)\n",
    "    }\n",
    "    \n",
    "    # Compute Minimum Covariance Determinant and corresponding Robust Mahalanobis Distance\n",
    "    mcdWT = covMcd(setUmapWT)\n",
    "    RMD = median(apply(setUmapDrug, 1, function(x) mahalanobis(x, mcdWT$center, mcdWT$cov)))\n",
    "    return(RMD)\n",
    "}"
   ]
  },
  {
   "cell_type": "code",
   "execution_count": null,
   "metadata": {},
   "outputs": [],
   "source": [
    "# See The Multidimensional Perturbation Value. Hutz et al. (2013).\n",
    "shuffDrugRMD <- function(drugPert, nbRep = PERM_NB_ITER){\n",
    "    # Find row containing this drug and shuffle wells between WT and drug\n",
    "    rowPert = JK[fieldToKeep[JK[fieldToKeep,]$Drug == drugPert],]$Metadata_Row[1]\n",
    "    setUmapDrug = umTJK[JK[fieldToKeep,]$Drug == drugPert,1:dimUMAP]\n",
    "    setUmapWT = umTJK[which(indWT)[JK[fieldToKeep[indWT],]$Metadata_Row == rowPert],1:dimUMAP]\n",
    "    setUMAP = rbind(setUmapWT,setUmapDrug)\n",
    "    shuffleRMD <- function(notUsed){\n",
    "        shuffSetUMAP = rbind(setUmapWT,setUmapDrug)[sample(nrow(setUMAP)),]\n",
    "        # Take random subsets of corresponding sizes\n",
    "        shuffSetDrug = shuffSetUMAP[1:nrow(setUmapDrug),]\n",
    "        shuffSetWT = shuffSetUMAP[(nrow(setUmapDrug)+1):(nrow(setUmapDrug)+nrow(setUmapWT)),]\n",
    "        \n",
    "        # Ensure that we have enough points to compute distance\n",
    "        if ((dim(shuffSetDrug)[1] < 2*dimUMAP)|(dim(shuffSetWT)[1] < 2*dimUMAP)){\n",
    "                print(drugPert)\n",
    "                return(NA)\n",
    "        }\n",
    "        \n",
    "        # Compute Minimum Covariance Determinant and corresponding Robust Mahalanobis Distance\n",
    "        mcdWT = covMcd(shuffSetWT)\n",
    "        RMD = median(apply(shuffSetDrug, 1, function(x) mahalanobis(x, mcdWT$center, mcdWT$cov)))\n",
    "        return(RMD)\n",
    "    }\n",
    "    return(sapply(1:nbRep, shuffleRMD))\n",
    "}"
   ]
  },
  {
   "cell_type": "code",
   "execution_count": null,
   "metadata": {},
   "outputs": [],
   "source": [
    "# Similar procedure for DMSO against WT\n",
    "dmsoRMD <- function(rowDMSO){\n",
    "    setUmapDMSO = umTJK[(JK[fieldToKeep,]$Drug == \"DMSO\")&(JK[fieldToKeep,]$Metadata_Row == rowDMSO),1:dimUMAP]\n",
    "    setUmapWT = umTJK[which(indWT)[JK[fieldToKeep[indWT],]$Metadata_Row == rowDMSO],1:dimUMAP]\n",
    "    \n",
    "    # Ensure that we have enough points to compute distance\n",
    "    if ((dim(setUmapDMSO)[1] < 2*dimUMAP)|(dim(setUmapWT)[1] < 2*dimUMAP)){\n",
    "            return(NA)\n",
    "    }\n",
    "    \n",
    "    # Compute Minimum Covariance Determinant and corresponding Robust Mahalanobis Distance\n",
    "    mcdWT = covMcd(setUmapWT)\n",
    "    RMD = median(apply(setUmapDMSO, 1, function(x) mahalanobis(x, mcdWT$center, mcdWT$cov)))\n",
    "    return(RMD)\n",
    "}\n",
    "shuffDmsoRMD <- function(rowDMSO, nbRep = PERM_NB_ITER){\n",
    "    # Find row containing this drug and shuffle wells between WT and drug\n",
    "    setUmapDMSO = umTJK[(JK[fieldToKeep,]$Drug == \"DMSO\")&(JK[fieldToKeep,]$Metadata_Row == rowDMSO),1:dimUMAP]\n",
    "    setUmapWT = umTJK[which(indWT)[JK[fieldToKeep[indWT],]$Metadata_Row == rowDMSO],1:dimUMAP]\n",
    "    setUMAP = rbind(setUmapWT,setUmapDMSO)\n",
    "    shuffleRMD <- function(notUsed){\n",
    "        shuffSetUMAP = rbind(setUmapWT,setUmapDMSO)[sample(nrow(setUMAP)),]\n",
    "        # Take random subsets of corresponding sizes\n",
    "        shuffSetDMSO = shuffSetUMAP[1:nrow(setUmapDMSO),]\n",
    "        shuffSetWT = shuffSetUMAP[(nrow(setUmapDMSO)+1):(nrow(setUmapDMSO)+nrow(setUmapWT)),]\n",
    "        \n",
    "        # Ensure that we have enough points to compute distance\n",
    "        if ((dim(shuffSetDMSO)[1] < 2*dimUMAP)|(dim(shuffSetWT)[1] < 2*dimUMAP)){\n",
    "                return(NA)\n",
    "        }\n",
    "        \n",
    "        # Compute Minimum Covariance Determinant and corresponding Robust Mahalanobis Distance\n",
    "        mcdWT = covMcd(shuffSetWT)\n",
    "        RMD = median(apply(shuffSetDMSO, 1, function(x) mahalanobis(x, mcdWT$center, mcdWT$cov)))\n",
    "        return(RMD)\n",
    "    }\n",
    "    return(sapply(1:nbRep, shuffleRMD))\n",
    "}"
   ]
  },
  {
   "cell_type": "code",
   "execution_count": null,
   "metadata": {
    "scrolled": true
   },
   "outputs": [],
   "source": [
    "drugRMD_JK = sapply(levels(JK$Drug), drugRMD)"
   ]
  },
  {
   "cell_type": "code",
   "execution_count": null,
   "metadata": {},
   "outputs": [],
   "source": [
    "shuffDrugRMD_JK = sapply(levels(JK$Drug), shuffDrugRMD)"
   ]
  },
  {
   "cell_type": "code",
   "execution_count": null,
   "metadata": {},
   "outputs": [],
   "source": [
    "getRMPV <- function(x){\n",
    "    ecdfRMD = ecdf(x[-1])\n",
    "    return(1 - ecdfRMD(x[1]))\n",
    "}\n",
    "dfRMPV = data.frame(RMPV = apply(rbind(drugRMD_JK, shuffDrugRMD_JK), 2, getRMPV))"
   ]
  },
  {
   "cell_type": "code",
   "execution_count": null,
   "metadata": {},
   "outputs": [],
   "source": [
    "dfRMPV$Drug = rownames(dfRMPV)\n",
    "dfRMPV$Strength = drugRMD_JK\n",
    "dfRMPV = dfRMPV[!dfRMPV$Drug %in% c(\"DMSO\", \"WT\"),]\n",
    "dfRMPV$adjRMPV = p.adjust(dfRMPV$RMPV, method = \"fdr\")"
   ]
  },
  {
   "cell_type": "code",
   "execution_count": null,
   "metadata": {
    "scrolled": false
   },
   "outputs": [],
   "source": [
    "gp <- ggplot(dfRMPV) + geom_point(aes(adjRMPV, Strength, color = Drug)) + geom_vline(xintercept = 0.05, color=\"#CCCCCC\", linetype=\"dashed\")\n",
    "gp"
   ]
  },
  {
   "cell_type": "code",
   "execution_count": null,
   "metadata": {},
   "outputs": [],
   "source": [
    "if(!TEST_MODE){\n",
    "    ggsave(filename = \"Fig/JK_RMPV_Drugs.pdf\", plot = gp, width = 10)\n",
    "}"
   ]
  },
  {
   "cell_type": "code",
   "execution_count": null,
   "metadata": {},
   "outputs": [],
   "source": [
    "dmsoRMD_JK = sapply(1:8, dmsoRMD)\n",
    "shuffDmsoRMD_JK = sapply(1:8, shuffDmsoRMD)"
   ]
  },
  {
   "cell_type": "code",
   "execution_count": null,
   "metadata": {},
   "outputs": [],
   "source": [
    "dmsoRMPV = data.frame(RMPV = apply(rbind(dmsoRMD_JK, shuffDmsoRMD_JK), 2, getRMPV))\n",
    "dmsoRMPV$Row = rownames(dmsoRMPV)\n",
    "dmsoRMPV$Strength = dmsoRMD_JK\n",
    "dmsoRMPV$adjRMPV = p.adjust(dmsoRMPV$RMPV, method = \"fdr\")"
   ]
  },
  {
   "cell_type": "code",
   "execution_count": null,
   "metadata": {
    "scrolled": false
   },
   "outputs": [],
   "source": [
    "gp <- ggplot(dmsoRMPV) + geom_point(aes(adjRMPV, Strength, color = Row)) + geom_vline(xintercept = 0.05, color=\"#CCCCCC\", linetype=\"dashed\")\n",
    "gp"
   ]
  },
  {
   "cell_type": "code",
   "execution_count": null,
   "metadata": {},
   "outputs": [],
   "source": [
    "if(!TEST_MODE){\n",
    "    ggsave(filename = \"Fig/JK_RMPV_DMSO.pdf\", plot = gp, width = 10)\n",
    "}"
   ]
  },
  {
   "cell_type": "markdown",
   "metadata": {},
   "source": [
    "### Concentration-dependency"
   ]
  },
  {
   "cell_type": "code",
   "execution_count": null,
   "metadata": {},
   "outputs": [],
   "source": [
    "# Compute the Robust Mahalanobis Distance (RMD) for all images of a given drug at a given concentration\n",
    "drugConcRMD <- function(drugPert, concPert){\n",
    "    # Find row containing this drug and split wells between WT and drug\n",
    "    rowPert = JK[fieldToKeep[JK[fieldToKeep,]$Drug == drugPert],]$Metadata_Row[1]\n",
    "    pertInd = (umTJK$Drug == drugPert)&(umTJK$Conc == concPert)\n",
    "    setUmapDrug = umTJK[pertInd,1:dimUMAP]\n",
    "    setUmapWT = umTJK[which(indWT)[JK[fieldToKeep[indWT],]$Metadata_Row == rowPert],1:dimUMAP]\n",
    "    \n",
    "    # Ensure that we have enough points to compute distance\n",
    "    if ((dim(setUmapDrug)[1] < 2*dimUMAP)|(dim(setUmapWT)[1] < 2*dimUMAP)){\n",
    "            print(c(drugPert, concPert))\n",
    "            return(NA)\n",
    "    }\n",
    "    \n",
    "    # Compute Minimum Covariance Determinant and corresponding Robust Mahalanobis Distance\n",
    "    mcdWT = covMcd(setUmapWT)\n",
    "    RMD = apply(setUmapDrug, 1, function(x) mahalanobis(x, mcdWT$center, mcdWT$cov))\n",
    "    return(RMD)\n",
    "}"
   ]
  },
  {
   "cell_type": "code",
   "execution_count": null,
   "metadata": {},
   "outputs": [],
   "source": [
    "# Which drugs should be studied?\n",
    "sigDrugs = rownames(dfRMPV)[dfRMPV$adjRMPV < 0.05]\n",
    "# Classify concentration per drug as follows\n",
    "concentrationLevels = c(\"Low\", \"Mid\", \"High\")\n",
    "\n",
    "getAllDrugConcRMD <- function(d, rename = T){\n",
    "    dConc = levels(droplevels(umTJK[umTJK$Drug == d,]$Conc))\n",
    "    dList = sapply(dConc, function(c) drugConcRMD(d,c), simplify = F)\n",
    "    if (rename){\n",
    "        names(dList) <- concentrationLevels[1:length(dConc)]\n",
    "    }\n",
    "    return(dList)\n",
    "}\n",
    "sigDrugConcRMD = sapply(sigDrugs, getAllDrugConcRMD, simplify = F)"
   ]
  },
  {
   "cell_type": "code",
   "execution_count": null,
   "metadata": {},
   "outputs": [],
   "source": [
    "getSublist <- function(x, y){\n",
    "    i = which(names(x) == y)\n",
    "    # If y is not a sublist of x, i is the empty integer (not null, not false but with zero-length)\n",
    "    if (length(i)){\n",
    "        return(x[[i]])\n",
    "}}\n",
    "\n",
    "concRMPV = sapply(concentrationLevels, function(y) unlist(sapply(sigDrugConcRMD, function(x) getSublist(x, y))))\n",
    "concRMPV = as.data.frame(Reduce(rbind, Map(cbind, RMPV = concRMPV, Concentration = names(concRMPV))))\n",
    "concRMPV$RMPV = as.numeric(concRMPV$RMPV)\n",
    "concRMPV$Concentration = factor(concRMPV$Concentration, levels = concentrationLevels)"
   ]
  },
  {
   "cell_type": "code",
   "execution_count": null,
   "metadata": {},
   "outputs": [],
   "source": [
    "gp <- ggplot(concRMPV) + geom_violin(aes(Concentration, RMPV, fill = Concentration)) + \n",
    "                         coord_flip() + theme(legend.title = element_blank()) + guides(fill = guide_legend(reverse = TRUE)) +\n",
    "                         scale_fill_discrete(type = \"Yolla\")\n",
    "gp"
   ]
  },
  {
   "cell_type": "code",
   "execution_count": null,
   "metadata": {},
   "outputs": [],
   "source": [
    "if(!TEST_MODE){\n",
    "    ggsave(filename = \"Fig/JK_ConcEffect_All.pdf\", plot = gp, width = 10)\n",
    "}"
   ]
  },
  {
   "cell_type": "code",
   "execution_count": null,
   "metadata": {},
   "outputs": [],
   "source": [
    "drugsConcRMPV = sapply(sigDrugs, function(x) getAllDrugConcRMD(x, rename = F), simplify = F)\n",
    "\n",
    "for (i in 1:length(drugsConcRMPV)){\n",
    "    # Retrieve drug name and RMPV values\n",
    "    drugName = names(drugsConcRMPV)[i]\n",
    "    drugConcRMPV = drugsConcRMPV[[i]]\n",
    "    \n",
    "    # Structure into wide data frame\n",
    "    concRMPV = as.data.frame(Reduce(rbind, Map(cbind, RMPV = drugConcRMPV, Concentration = names(drugConcRMPV))))\n",
    "    concRMPV$RMPV = as.numeric(concRMPV$RMPV)\n",
    "    # Reorder concentrations in decreasing numerical order\n",
    "    concRMPV$Concentration = factor(concRMPV$Concentration, \n",
    "                                levels = as.character(sort(as.numeric(levels(concRMPV$Concentration)))))\n",
    "    \n",
    "    # Represent distribution per concentration for all significantly changed drug\n",
    "    gp <- ggplot(concRMPV) + geom_violin(aes(Concentration, RMPV, fill = Concentration)) + \n",
    "                             coord_flip() + theme(legend.title = element_blank()) + guides(fill = guide_legend(reverse = TRUE)) +\n",
    "                             scale_fill_discrete(type = \"Yolla\")\n",
    "    if(!TEST_MODE){\n",
    "        ggsave(filename = paste(\"Fig/JK\", drugName, \"ConcEffect.pdf\", sep = \"_\"), plot = gp, width = 10)\n",
    "    }\n",
    "}"
   ]
  },
  {
   "cell_type": "markdown",
   "metadata": {},
   "source": [
    "### Morphological changes upon perturbation"
   ]
  },
  {
   "cell_type": "code",
   "execution_count": null,
   "metadata": {},
   "outputs": [],
   "source": [
    "# Associate categories and colors to features\n",
    "catType = c(\"Granularity\", \"Texture\", \"AreaShape\", \"RadialDistribution\",\n",
    "            \"Intensity\")\n",
    "colType = cust_pal(length(catType)+1)\n",
    "\n",
    "dtCount = as.data.frame(sapply(catType, function(x) grepl(x, colnames(transformedJK))))\n",
    "dtCount$Other = !apply(dtCount, 1, any)\n",
    " \n",
    "ftCat = as.factor(apply(dtCount, 1, function(x) colnames(dtCount)[which(x)]))\n",
    "\n",
    "# Order levels so that \"Other\" is last\n",
    "lvOther = which(levels(ftCat) == \"Other\")\n",
    "ftCat = factor(ftCat, levels = c(levels(ftCat)[-lvOther], \"Other\"))\n",
    "       \n",
    "# Corresponding colors\n",
    "ftCol = colType[ftCat]"
   ]
  },
  {
   "cell_type": "code",
   "execution_count": null,
   "metadata": {},
   "outputs": [],
   "source": [
    "# Plot number of images / categories (useful to get fill color legend)\n",
    "gp <- ggplot(data.frame(Category = ftCat), aes(fill = Category)) + geom_bar(aes(Category))\n",
    "if(!TEST_MODE){\n",
    "    ggsave(filename = \"Fig/JK_CatCount.pdf\", plot = gp, width = 10)\n",
    "}"
   ]
  },
  {
   "cell_type": "code",
   "execution_count": null,
   "metadata": {},
   "outputs": [],
   "source": [
    "changedFtDrug <- function(drugPert){  \n",
    "    # Plate row on which the drug is\n",
    "    rowPert = JK[fieldToKeep[JK[fieldToKeep,]$Drug == drugPert],]$Metadata_Row[1]\n",
    "    \n",
    "    # Morphological features for the drug and the WT control on the same row\n",
    "    setDrug = transformedJK[JK[fieldToKeep,]$Drug == drugPert,]\n",
    "    setWT = transformedJK[which(indWT)[JK[fieldToKeep[indWT],]$Metadata_Row == rowPert],]\n",
    "    \n",
    "    medianDrug = apply(setDrug, 2, median)\n",
    "    medianWT = apply(setWT, 2, median)\n",
    "    medianChange = medianDrug - medianWT\n",
    "    \n",
    "    # Compute difference to WT\n",
    "    ftToDisplay = order(abs(medianChange), decreasing = T)[1:12]\n",
    "    dtChange = data.frame(Difference = medianChange[ftToDisplay])\n",
    "    dtChange$Feature = rownames(dtChange)\n",
    "    dtChange$Feature = factor(dtChange$Feature, levels = dtChange$Feature[order(dtChange$Difference)]) \n",
    "    dtChange$Category = ftCol[ftToDisplay]\n",
    "\n",
    "    gp <- ggplot(dtChange) + geom_bar(aes(Feature, weight = Difference, fill = Category), color = \"#CCCCCC\") + \n",
    "                   coord_flip() + ylab(\"Difference to WT\") + scale_fill_identity() +\n",
    "                   theme(legend.position=\"none\", plot.margin=unit(c(0,5,0,0), \"mm\"))\n",
    "    \n",
    "    if(!TEST_MODE){\n",
    "        ggsave(filename = paste(\"Fig/JK\", drugPert, \"ChangeFt.pdf\", sep = \"_\"), plot = gp, width = 10)\n",
    "    }\n",
    "}"
   ]
  },
  {
   "cell_type": "code",
   "execution_count": null,
   "metadata": {},
   "outputs": [],
   "source": [
    "sapply(sigDrugs, changedFtDrug)"
   ]
  },
  {
   "cell_type": "code",
   "execution_count": null,
   "metadata": {
    "scrolled": false
   },
   "outputs": [],
   "source": [
    "sessionInfo()"
   ]
  }
 ],
 "metadata": {
  "kernelspec": {
   "display_name": "R",
   "language": "R",
   "name": "ir"
  },
  "language_info": {
   "codemirror_mode": "r",
   "file_extension": ".r",
   "mimetype": "text/x-r-source",
   "name": "R",
   "pygments_lexer": "r",
   "version": "3.5.1"
  },
  "toc": {
   "base_numbering": 1,
   "nav_menu": {},
   "number_sections": false,
   "sideBar": false,
   "skip_h1_title": false,
   "title_cell": "Table of Contents",
   "title_sidebar": "Contents",
   "toc_cell": false,
   "toc_position": {},
   "toc_section_display": false,
   "toc_window_display": false
  }
 },
 "nbformat": 4,
 "nbformat_minor": 2
}
