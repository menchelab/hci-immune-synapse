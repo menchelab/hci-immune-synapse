{
 "cells": [
  {
   "cell_type": "markdown",
   "metadata": {},
   "source": [
    "# Drug plates"
   ]
  },
  {
   "cell_type": "code",
   "execution_count": null,
   "metadata": {
    "scrolled": true
   },
   "outputs": [],
   "source": [
    "library(ggplot2)\n",
    "library(extrafont)\n",
    "library(stringr)\n",
    "library(heatmaply)\n",
    "library(ggrepel)\n",
    "library(reticulate)\n",
    "library(gridExtra)\n",
    "library(robustbase)"
   ]
  },
  {
   "cell_type": "code",
   "execution_count": null,
   "metadata": {
    "scrolled": true
   },
   "outputs": [],
   "source": [
    "# Load external Python functions\n",
    "source_python(\"reticulate_functions.py\")\n",
    "# Load extra fonts\n",
    "loadfonts()\n",
    "# Set this to true for faster compilation or false for more precise results and all outputs\n",
    "TEST_MODE = T"
   ]
  },
  {
   "cell_type": "code",
   "execution_count": null,
   "metadata": {},
   "outputs": [],
   "source": [
    "# Number of permutations used for empirical p-value computations\n",
    "PERM_NB_ITER = ifelse(TEST_MODE, 25, 2500)"
   ]
  },
  {
   "cell_type": "code",
   "execution_count": null,
   "metadata": {},
   "outputs": [],
   "source": [
    "# Customize ggplot appearance\n",
    "\n",
    "# Change theme\n",
    "customTheme <- theme_light() + \n",
    "               theme(panel.grid.minor=element_blank(), text=element_text(size=17, family=\"Arial\", colour = \"#333333\"),\n",
    "                     line=element_line(colour = \"#333333\"), legend.background = element_rect(fill=alpha('#CCCCCC', 0.1)), legend.key = element_blank())\n",
    "\n",
    "# Change default colors\n",
    "scale_colour_continuous <- function (..., begin = 0.1, end = 0.9, direction = -1, option = \"plasma\", \n",
    "                                     type = getOption(\"ggplot2.continuous.colour\", default = \"viridis\")) {\n",
    "    switch(type, gradient = scale_colour_gradient(...), \n",
    "        viridis = scale_colour_viridis_c(option = option, begin = begin, end = end, direction = direction, ...), \n",
    "        stop(\"Unknown scale type\", call. = FALSE))\n",
    "}\n",
    "scale_color_continuous <- scale_colour_continuous\n",
    "\n",
    "scale_fill_continuous <- function (..., begin = 0.1, end = 0.9, direction = -1, option = \"plasma\", \n",
    "                                     type = getOption(\"ggplot2.continuous.colour\", default = \"viridis\")) {\n",
    "    switch(type, gradient = scale_fill_gradient(...), \n",
    "        viridis = scale_fill_viridis_c(option = option, begin = begin, end = end, direction = direction, ...), \n",
    "        stop(\"Unknown scale type\", call. = FALSE))\n",
    "\n",
    "}\n",
    "\n",
    "\n",
    "cemm_pal = colorRampPalette(c(\"#5A463C\", \"#008CAD\", \"#40B9D4\", \"#D4ECF2\", \"#D2323C\", \"#F8B100\", \"#DFDC00\"))\n",
    "scale_fill_discrete <- function (..., type = \"CeMM\", h = c(0, 360) + 15, c = 100, l = 65, h.start = 0, \n",
    "    direction = 1, na.value = \"grey50\", aesthetics = \"fill\") \n",
    "{\n",
    "    if (type == \"CeMM\"){\n",
    "        discrete_scale(aesthetics, \"CeMM\", cemm_pal, na.value = na.value, ...)\n",
    "    } else {\n",
    "        discrete_scale(aesthetics, \"hue\", hue_pal(h, c, l, h.start, \n",
    "            direction), na.value = na.value, ...)\n",
    "    }\n",
    "}\n",
    "\n",
    "scale_color_discrete <- function (..., type = \"CeMM\", h = c(0, 360) + 15, c = 100, l = 65, h.start = 0, \n",
    "    direction = 1, na.value = \"grey50\", aesthetics = \"colour\") {\n",
    "    if (type == \"CeMM\"){\n",
    "        discrete_scale(aesthetics, \"CeMM\", cemm_pal, na.value = na.value, ...)\n",
    "    } else {\n",
    "        discrete_scale(aesthetics, \"hue\", scales::hue_pal(h, c, l, h.start, \n",
    "            direction), na.value = na.value, ...)\n",
    "    }\n",
    "}\n",
    "scale_colour_discrete <- scale_color_discrete\n",
    "\n",
    "noGridTheme <- function(...){\n",
    "    theme(panel.grid.major=element_blank(), axis.text.x=element_text(size=12), axis.text.y=element_text(size=12),\n",
    "                      axis.line=element_line(color=\"#333333\", size = 0.2), panel.border = element_blank(), ...)\n",
    "}\n",
    "\n",
    "darkTheme <- function(...){\n",
    "    theme(panel.background = element_rect(fill = '#333333'), plot.background = element_rect(fill = '#333333'), \n",
    "          axis.line=element_line(color=\"#CCCCCC\", size = 0.2), \n",
    "          text=element_text(size=17, family=\"Arial\", colour = \"#CCCCCC\"),\n",
    "          line=element_line(colour = \"#CCCCCC\"))\n",
    "}\n",
    "\n",
    "theme_set(customTheme)\n",
    "\n",
    "options(repr.plot.width=10, repr.plot.height=10)"
   ]
  },
  {
   "cell_type": "markdown",
   "metadata": {},
   "source": [
    "## NK92"
   ]
  },
  {
   "cell_type": "code",
   "execution_count": null,
   "metadata": {},
   "outputs": [],
   "source": [
    "# Fix t-SNE layout and random number generation\n",
    "set.seed(38)"
   ]
  },
  {
   "cell_type": "code",
   "execution_count": null,
   "metadata": {},
   "outputs": [],
   "source": [
    "NK = read.csv(\"./allImages_NK_Drugs.csv\", header=T)"
   ]
  },
  {
   "cell_type": "code",
   "execution_count": null,
   "metadata": {},
   "outputs": [],
   "source": [
    "Layout = read.csv(\"./DrugPlateLayout.csv\", header=T)\n",
    "Layout$Well <- paste0(Layout$Row, str_pad(Layout$Column, 2, pad = \"0\"))"
   ]
  },
  {
   "cell_type": "code",
   "execution_count": null,
   "metadata": {},
   "outputs": [],
   "source": [
    "NK$Drug = sapply(NK$Metadata_Well, function(x) Layout$Drug[x == Layout$Well])\n",
    "NK$Concentration = sapply(NK$Metadata_Well, function(x) Layout$Concentration[x == Layout$Well])"
   ]
  },
  {
   "cell_type": "code",
   "execution_count": null,
   "metadata": {},
   "outputs": [],
   "source": [
    "gpNK = ggplot(NK[!is.na(NK$Count_FilteredNucleus),]) + geom_histogram(aes(Count_FilteredNucleus, fill = as.factor(Metadata_Row)), binwidth=2) +\n",
    "       scale_fill_discrete(name=\"Row\")\n",
    "gpNK\n",
    "\n",
    "if(!TEST_MODE){\n",
    "    ggsave(filename = \"Fig/countNK.pdf\", plot = gpNK)\n",
    "}"
   ]
  },
  {
   "cell_type": "code",
   "execution_count": null,
   "metadata": {},
   "outputs": [],
   "source": [
    "gpNK = ggplot(NK[!is.na(NK$Mean_FilterCytoplasm_AreaShape_Area),]) + geom_histogram(aes(Mean_FilterCytoplasm_AreaShape_Area, \n",
    "                                                                                    fill = as.factor(Metadata_Row)), binwidth=100) +\n",
    "       scale_fill_discrete(name=\"Row\")\n",
    "gpNK\n",
    "if(!TEST_MODE){\n",
    "    ggsave(filename = \"Fig/areaNK.pdf\", plot = gpNK)\n",
    "}"
   ]
  },
  {
   "cell_type": "markdown",
   "metadata": {},
   "source": [
    "### Filtering"
   ]
  },
  {
   "cell_type": "code",
   "execution_count": null,
   "metadata": {},
   "outputs": [],
   "source": [
    "FILT_MAX_INT_DNA = 0.05 # Remove empty images and small DNA precipitations\n",
    "FILT_MIN_CELLS = 4 # 8 seems safe from distribution and images, 3 seems in poor shape\n",
    "FILT_NB_MAX_NA_IMAGE = 10 # 48 images generated between 10 and 385 NAs/image, all others generate at most 2/image\n",
    "FILT_MAX_CORR = 0.6 # Keep uncorrelated variables\n",
    "dimUMAP = 3"
   ]
  },
  {
   "cell_type": "code",
   "execution_count": null,
   "metadata": {},
   "outputs": [],
   "source": [
    "ftToKeep = 1:dim(NK)[2]\n",
    "# Make sure that the fields are numeric\n",
    "ftToKeep <- ftToKeep[which(sapply(NK[,ftToKeep], class) == \"numeric\")]\n",
    "# Remove execution time and count features\n",
    "ftToKeep <- ftToKeep[grep(\"(Execution)|(Count)\", colnames(NK)[ftToKeep], invert = T)]"
   ]
  },
  {
   "cell_type": "code",
   "execution_count": null,
   "metadata": {},
   "outputs": [],
   "source": [
    "# Store all remaining features before filtering for downstream comparison to selected set\n",
    "preFiltFt = colnames(NK)[ftToKeep]"
   ]
  },
  {
   "cell_type": "code",
   "execution_count": null,
   "metadata": {},
   "outputs": [],
   "source": [
    "# Remove wells with low max DNA intensity\n",
    "fieldToKeep <- which(NK$ImageQuality_MaxIntensity_DNA >= FILT_MAX_INT_DNA)\n",
    "# Remove wells with low cell count\n",
    "fieldToKeep <- fieldToKeep[NK[fieldToKeep,]$Count_FilteredNucleus >= FILT_MIN_CELLS]"
   ]
  },
  {
   "cell_type": "code",
   "execution_count": null,
   "metadata": {},
   "outputs": [],
   "source": [
    "# Few bad quality pictures are generating a lot of missing values and are removed\n",
    "fieldToKeep <- fieldToKeep[rowSums(is.na(NK[fieldToKeep,ftToKeep])) < FILT_NB_MAX_NA_IMAGE]\n",
    "# Remove remaining features with missing values\n",
    "ftToKeep <- ftToKeep[colSums(is.na(NK[fieldToKeep,ftToKeep])) == 0] \n",
    "# Remove constant columns\n",
    "indWT = NK[fieldToKeep,]$Drug == \"WT\"\n",
    "ftToKeep <- ftToKeep[sapply(NK[fieldToKeep,ftToKeep], function(x) mad(x) != 0)]\n",
    "ftToKeep <- ftToKeep[sapply(NK[fieldToKeep[indWT],ftToKeep], function(x) mad(x) != 0)]"
   ]
  },
  {
   "cell_type": "code",
   "execution_count": null,
   "metadata": {},
   "outputs": [],
   "source": [
    "print(dim(NK))\n",
    "print(length(ftToKeep))\n",
    "print(length(fieldToKeep))"
   ]
  },
  {
   "cell_type": "code",
   "execution_count": null,
   "metadata": {},
   "outputs": [],
   "source": [
    "# Approximate normal distribution\n",
    "transfLog <- function (x){\n",
    "    minVal = min(x)\n",
    "    return(log(x+1-minVal))\n",
    "}\n",
    "\n",
    "# Center and scale on control values\n",
    "transfNorm <- function(x, y){\n",
    "    return((x - median(y))/mad(y))\n",
    "}"
   ]
  },
  {
   "cell_type": "code",
   "execution_count": null,
   "metadata": {},
   "outputs": [],
   "source": [
    "transformedNK = apply(NK[fieldToKeep, ftToKeep], 2, transfLog)\n",
    "transformedNK = apply(transformedNK, 2, function(x) transfNorm(x, x[indWT]))"
   ]
  },
  {
   "cell_type": "code",
   "execution_count": null,
   "metadata": {},
   "outputs": [],
   "source": [
    "# Order features from biggest mad to smallest mad\n",
    "# Since features have mad(WT) = 1, it means that we rank features by how more variable they are\n",
    "# for drug perturbations than for WT\n",
    "orderFt = rev(order(apply(transformedNK, 2, mad)))"
   ]
  },
  {
   "cell_type": "code",
   "execution_count": null,
   "metadata": {},
   "outputs": [],
   "source": [
    "uncorrFt = uncorrelate(transformedNK, orderCol = orderFt-1, threshold = FILT_MAX_CORR)\n",
    "uncorrFt = unlist(uncorrFt) + 1"
   ]
  },
  {
   "cell_type": "code",
   "execution_count": null,
   "metadata": {},
   "outputs": [],
   "source": [
    "transformedNK = transformedNK[,uncorrFt]"
   ]
  },
  {
   "cell_type": "markdown",
   "metadata": {},
   "source": [
    "### Look at which types of features are kept"
   ]
  },
  {
   "cell_type": "code",
   "execution_count": null,
   "metadata": {},
   "outputs": [],
   "source": [
    "catChannel = c(\"CorrDNA\", \"CorrActin\", \"CorrPerf\")\n",
    "table(rowSums(sapply(catChannel, function(x) grepl(x, colnames(transformedNK)))))\n",
    "dtCat = data.frame(CountIni = sort(colSums(sapply(catChannel, function(x) grepl(x, preFiltFt)))), \n",
    "                   Count = sort(colSums(sapply(catChannel, function(x) grepl(x, colnames(transformedNK))))))\n",
    "\n",
    "dtCat$Order <- rank(dtCat$CountIni, ties.method = c(\"first\"))\n",
    "dtCat$Category <- factor(rownames(dtCat), levels=rownames(dtCat)[order(dtCat$CountIni)])\n",
    "dtCat$Ratio <- dtCat$Count / dtCat$CountIni\n",
    "dtCat$Ratio <- paste0(round(100*dtCat$Ratio, 1), \"%\")\n",
    "gp <- ggplot(dtCat) + geom_bar(aes(Category, weight = CountIni), fill = cemm_pal(2)[2]) + ylim(c(0,675)) +\n",
    "              geom_bar(aes(Category, weight = Count), fill = cemm_pal(2)[1]) + \n",
    "              geom_text(aes(x = Order, y = CountIni + 2, label = Ratio), hjust = 0) + coord_flip()\n",
    "gp"
   ]
  },
  {
   "cell_type": "code",
   "execution_count": null,
   "metadata": {},
   "outputs": [],
   "source": [
    "if(!TEST_MODE){\n",
    "    ggsave(filename = \"Fig/NK_SelecFt_Channel.pdf\", plot = gp, width = 10)\n",
    "}"
   ]
  },
  {
   "cell_type": "code",
   "execution_count": null,
   "metadata": {},
   "outputs": [],
   "source": [
    "catObjects = c(\"ActinGranules\", \"FilterCytoplasm\", \"ShrunkenCytoplasm\", \"FilteredNucleus\")\n",
    "table(rowSums(sapply(catObjects, function(x) grepl(x, colnames(transformedNK)))))\n",
    "dtCat = data.frame(CountIni = colSums(sapply(catObjects, function(x) grepl(x, preFiltFt))), \n",
    "                   Count = colSums(sapply(catObjects, function(x) grepl(x, colnames(transformedNK)))))\n",
    "\n",
    "dtCat$Order <- rank(dtCat$CountIni, ties.method = c(\"first\"))\n",
    "dtCat$Category <- factor(rownames(dtCat), levels=rownames(dtCat)[order(dtCat$CountIni)])\n",
    "dtCat$Ratio <- dtCat$Count / dtCat$CountIni\n",
    "dtCat$Ratio <- paste0(round(100*dtCat$Ratio, 1), \"%\")\n",
    "gp <- ggplot(dtCat) + geom_bar(aes(Category, weight = CountIni), fill = cemm_pal(2)[2]) + ylim(c(0,510)) +\n",
    "              geom_bar(aes(Category, weight = Count), fill = cemm_pal(2)[1]) + \n",
    "              geom_text(aes(x = Order, y = CountIni + 2, label = Ratio), hjust = 0) + coord_flip()\n",
    "gp"
   ]
  },
  {
   "cell_type": "code",
   "execution_count": null,
   "metadata": {},
   "outputs": [],
   "source": [
    "if(!TEST_MODE){\n",
    "    ggsave(filename = \"Fig/NK_SelecFt_Object.pdf\", plot = gp, width = 10)\n",
    "}"
   ]
  },
  {
   "cell_type": "code",
   "execution_count": null,
   "metadata": {},
   "outputs": [],
   "source": [
    "catType = c(\"Threshold\", \"Granularity\", \"ImageQuality\", \"Texture\", \"Distance\", \"AreaShape\", \"RadialDistribution\", \"Neighbors\", \n",
    "            \"Correlation\", \"Intensity\", \"Overlap\", \"Location\")\n",
    "which(rowSums(sapply(catType, function(x) grepl(x, colnames(transformedNK)))) == 0) # All features are covered\n",
    "\n",
    "dtCat = data.frame(CountIni = colSums(sapply(catType, function(x) grepl(x, preFiltFt))), \n",
    "                   Count = colSums(sapply(catType, function(x) grepl(x, colnames(transformedNK)))))\n",
    "dtCat$Order <- rank(dtCat$CountIni, ties.method = c(\"first\"))\n",
    "dtCat$Category <- factor(rownames(dtCat), levels=rownames(dtCat)[order(dtCat$CountIni)])\n",
    "dtCat$Ratio <- dtCat$Count / dtCat$CountIni\n",
    "dtCat$Ratio <- paste0(round(100*dtCat$Ratio, 1), \"%\")\n",
    "gp <- ggplot(dtCat) + geom_bar(aes(Category, weight = CountIni), fill = cemm_pal(2)[2]) +\n",
    "              geom_bar(aes(Category, weight = Count), fill = cemm_pal(2)[1]) + \n",
    "              geom_text(aes(x = Order, y = CountIni + 5, label = Ratio), hjust = 0) + coord_flip()\n",
    "gp"
   ]
  },
  {
   "cell_type": "code",
   "execution_count": null,
   "metadata": {},
   "outputs": [],
   "source": [
    "if(!TEST_MODE){\n",
    "    ggsave(filename = \"Fig/NK_SelecFt_Type_All.pdf\", plot = gp, width = 10)\n",
    "}"
   ]
  },
  {
   "cell_type": "code",
   "execution_count": null,
   "metadata": {},
   "outputs": [],
   "source": [
    "catType = c(\"Granularity\", \"Texture\", \"AreaShape\", \"RadialDistribution\",\n",
    "            \"Correlation\", \"Intensity\")\n",
    "table(rowSums(sapply(catType, function(x) grepl(x, colnames(transformedNK)))))\n",
    "\n",
    "dtCount = as.data.frame(sapply(catType, function(x) grepl(x, colnames(transformedNK))))\n",
    "dtCount$Other = !apply(dtCount, 1, any)\n",
    "dtCountIni = as.data.frame(sapply(catType, function(x) grepl(x, preFiltFt)))\n",
    "dtCountIni$Other = !apply(dtCountIni, 1, any)\n",
    "dtCat = data.frame(CountIni = colSums(dtCountIni), \n",
    "                   Count = colSums(dtCount))\n",
    "dtCat$Order <- rank(dtCat$CountIni, ties.method = c(\"first\"))\n",
    "dtCat$Category <- factor(rownames(dtCat), levels=rownames(dtCat)[order(dtCat$CountIni)])\n",
    "dtCat$Ratio <- dtCat$Count / dtCat$CountIni\n",
    "dtCat$Ratio <- paste0(round(100*dtCat$Ratio, 1), \"%\")\n",
    "gp <- ggplot(dtCat) + geom_bar(aes(Category, weight = CountIni), fill = cemm_pal(2)[2]) +\n",
    "              geom_bar(aes(Category, weight = Count), fill = cemm_pal(2)[1]) + \n",
    "              geom_text(aes(x = Order, y = CountIni + 5, label = Ratio), hjust = 0) + coord_flip()\n",
    "gp"
   ]
  },
  {
   "cell_type": "code",
   "execution_count": null,
   "metadata": {},
   "outputs": [],
   "source": [
    "if(!TEST_MODE){\n",
    "    ggsave(filename = \"Fig/NK_SelecFt_Type_Short.pdf\", plot = gp, width = 10)\n",
    "}"
   ]
  },
  {
   "cell_type": "markdown",
   "metadata": {},
   "source": [
    "### Look at the morphological distribution of the fields of view"
   ]
  },
  {
   "cell_type": "code",
   "execution_count": null,
   "metadata": {},
   "outputs": [],
   "source": [
    "umTNK = umap(transformedNK, min_dist = 0.1, neighbors = 10, n = dimUMAP, metric = \"euclidean\")\n",
    "umTNK = as.data.frame(umTNK)\n",
    "names(umTNK) = c(\"UMAP1\", \"UMAP2\")\n",
    "umTNK$Row <- as.factor(NK$Metadata_Row[fieldToKeep])\n",
    "umTNK$Col <- as.factor(NK$Metadata_Column[fieldToKeep])\n",
    "umTNK$Drug <- as.factor(NK$Drug[fieldToKeep])\n",
    "umTNK$Conc <- as.factor(NK$Concentration[fieldToKeep])\n",
    "umTNK$URL <- as.factor(NK$URL_Actin[fieldToKeep])"
   ]
  },
  {
   "cell_type": "code",
   "execution_count": null,
   "metadata": {},
   "outputs": [],
   "source": [
    "gp <- ggplot(umTNK) + geom_point(aes(UMAP1, UMAP2, color = Drug))\n",
    "gp"
   ]
  },
  {
   "cell_type": "code",
   "execution_count": null,
   "metadata": {},
   "outputs": [],
   "source": [
    "if(!TEST_MODE){\n",
    "    ggsave(filename = \"Fig/NK_UMAP_Drugs.pdf\", plot = gp, width = 10)\n",
    "}"
   ]
  },
  {
   "cell_type": "code",
   "execution_count": null,
   "metadata": {},
   "outputs": [],
   "source": [
    "gp <- ggplot(umTNK) + geom_point(aes(UMAP1, UMAP2, color = ifelse(Drug == \"DMSO\", \"DMSO\", ifelse(Drug == \"WT\", \"WT\", \"Drug\")))) + \n",
    "    theme(legend.title = element_blank()) #+ geom_label_repel(aes(UMAP1, UMAP2), \n",
    "#                                               label = ifelse((umTNK$UMAP2 < 9.9)&(umTNK$UMAP1 > 11), str_extract(as.character(umTNK$URL), \"r..c..f..\"), NA),\n",
    "#                                               size = 1.5, segment.alpha = 0.1)\n",
    "gp"
   ]
  },
  {
   "cell_type": "code",
   "execution_count": null,
   "metadata": {},
   "outputs": [],
   "source": [
    "if(!TEST_MODE){\n",
    "    ggsave(filename = \"Fig/NK_UMAP_Control.pdf\", plot = gp, width = 10)\n",
    "}"
   ]
  },
  {
   "cell_type": "code",
   "execution_count": null,
   "metadata": {
    "scrolled": true
   },
   "outputs": [],
   "source": [
    "# Compute the median Robust Mahalanobis Distance (RMD) between drugs\n",
    "drugRMD <- function(drugPert){\n",
    "    # Find row containing this drug and split wells between WT and drug\n",
    "    rowPert = NK[fieldToKeep[NK[fieldToKeep,]$Drug == drugPert],]$Metadata_Row[1]\n",
    "    setUmapDrug = umTNK[NK[fieldToKeep,]$Drug == drugPert,1:dimUMAP]\n",
    "    setUmapWT = umTNK[which(indWT)[NK[fieldToKeep[indWT],]$Metadata_Row == rowPert],1:dimUMAP]\n",
    "    # Compute Minimum Covariance Determinant and corresponding Robust Mahalanobis Distance\n",
    "    mcdWT = covMcd(setUmapWT)\n",
    "    RMD = median(apply(setUmapDrug, 1, function(x) mahalanobis(x, mcdWT$center, mcdWT$cov)))\n",
    "    return(RMD)\n",
    "}"
   ]
  },
  {
   "cell_type": "code",
   "execution_count": null,
   "metadata": {},
   "outputs": [],
   "source": [
    "shuffDrugRMD <- function(drugPert, nbRep = PERM_NB_ITER){\n",
    "    # Find row containing this drug and shuffle wells between WT and drug\n",
    "    rowPert = NK[fieldToKeep[NK[fieldToKeep,]$Drug == drugPert],]$Metadata_Row[1]\n",
    "    setUmapDrug = umTNK[NK[fieldToKeep,]$Drug == drugPert,1:dimUMAP]\n",
    "    setUmapWT = umTNK[which(indWT)[NK[fieldToKeep[indWT],]$Metadata_Row == rowPert],1:dimUMAP]\n",
    "    setUMAP = rbind(setUmapWT,setUmapDrug)\n",
    "    shuffleRMD <- function(notUsed){\n",
    "        shuffSetUMAP = rbind(setUmapWT,setUmapDrug)[sample(nrow(setUMAP)),]\n",
    "        # Take random subsets of corresponding sizes\n",
    "        shuffSetDrug = shuffSetUMAP[1:nrow(setUmapDrug),]\n",
    "        shuffSetWT = shuffSetUMAP[(nrow(setUmapDrug)+1):(nrow(setUmapDrug)+nrow(setUmapWT)),]\n",
    "        # Compute Minimum Covariance Determinant and corresponding Robust Mahalanobis Distance\n",
    "        mcdWT = covMcd(shuffSetWT)\n",
    "        RMD = median(apply(shuffSetDrug, 1, function(x) mahalanobis(x, mcdWT$center, mcdWT$cov)))\n",
    "        return(RMD)\n",
    "    }\n",
    "    return(sapply(1:nbRep, shuffleRMD))\n",
    "}"
   ]
  },
  {
   "cell_type": "code",
   "execution_count": null,
   "metadata": {},
   "outputs": [],
   "source": [
    "# Similar procedure for DMSO against WT\n",
    "dmsoRMD <- function(rowDMSO){\n",
    "    setUmapDMSO = umTNK[(NK[fieldToKeep,]$Drug == \"DMSO\")&(NK[fieldToKeep,]$Metadata_Row == rowDMSO),1:dimUMAP]\n",
    "    setUmapWT = umTNK[which(indWT)[NK[fieldToKeep[indWT],]$Metadata_Row == rowDMSO],1:dimUMAP]\n",
    "    # Compute Minimum Covariance Determinant and corresponding Robust Mahalanobis Distance\n",
    "    mcdWT = covMcd(setUmapWT)\n",
    "    RMD = median(apply(setUmapDMSO, 1, function(x) mahalanobis(x, mcdWT$center, mcdWT$cov)))\n",
    "    return(RMD)\n",
    "}\n",
    "shuffDmsoRMD <- function(rowDMSO, nbRep = PERM_NB_ITER){\n",
    "    # Find row containing this drug and shuffle wells between WT and drug\n",
    "    setUmapDMSO = umTNK[(NK[fieldToKeep,]$Drug == \"DMSO\")&(NK[fieldToKeep,]$Metadata_Row == rowDMSO),1:dimUMAP]\n",
    "    setUmapWT = umTNK[which(indWT)[NK[fieldToKeep[indWT],]$Metadata_Row == rowDMSO],1:dimUMAP]\n",
    "    setUMAP = rbind(setUmapWT,setUmapDMSO)\n",
    "    shuffleRMD <- function(notUsed){\n",
    "        shuffSetUMAP = rbind(setUmapWT,setUmapDMSO)[sample(nrow(setUMAP)),]\n",
    "        # Take random subsets of corresponding sizes\n",
    "        shuffSetDMSO = shuffSetUMAP[1:nrow(setUmapDMSO),]\n",
    "        shuffSetWT = shuffSetUMAP[(nrow(setUmapDMSO)+1):(nrow(setUmapDMSO)+nrow(setUmapWT)),]\n",
    "        # Compute Minimum Covariance Determinant and corresponding Robust Mahalanobis Distance\n",
    "        mcdWT = covMcd(shuffSetWT)\n",
    "        RMD = median(apply(shuffSetDMSO, 1, function(x) mahalanobis(x, mcdWT$center, mcdWT$cov)))\n",
    "        return(RMD)\n",
    "    }\n",
    "    return(sapply(1:nbRep, shuffleRMD))\n",
    "}"
   ]
  },
  {
   "cell_type": "code",
   "execution_count": null,
   "metadata": {
    "scrolled": true
   },
   "outputs": [],
   "source": [
    "drugRMD_NK = sapply(levels(NK$Drug), drugRMD)"
   ]
  },
  {
   "cell_type": "code",
   "execution_count": null,
   "metadata": {},
   "outputs": [],
   "source": [
    "shuffDrugRMD_NK = sapply(levels(NK$Drug), shuffDrugRMD)"
   ]
  },
  {
   "cell_type": "code",
   "execution_count": null,
   "metadata": {},
   "outputs": [],
   "source": [
    "getRMPV <- function(x){\n",
    "    ecdfRMD = ecdf(x[-1])\n",
    "    return(1 - ecdfRMD(x[1]))\n",
    "}\n",
    "dfRMPV = data.frame(RMPV = apply(rbind(drugRMD_NK, shuffDrugRMD_NK), 2, getRMPV))"
   ]
  },
  {
   "cell_type": "code",
   "execution_count": null,
   "metadata": {},
   "outputs": [],
   "source": [
    "dfRMPV$Drug = rownames(dfRMPV)\n",
    "dfRMPV$Strength = drugRMD_NK\n",
    "dfRMPV = dfRMPV[!dfRMPV$Drug %in% c(\"DMSO\", \"WT\"),]\n",
    "dfRMPV$adjRMPV = p.adjust(dfRMPV$RMPV, method = \"fdr\")"
   ]
  },
  {
   "cell_type": "code",
   "execution_count": null,
   "metadata": {},
   "outputs": [],
   "source": [
    "gp <- ggplot(dfRMPV) + geom_point(aes(adjRMPV, Strength, color = Drug)) + geom_vline(xintercept = 0.05, color=\"#CCCCCC\", linetype=\"dashed\")\n",
    "gp"
   ]
  },
  {
   "cell_type": "code",
   "execution_count": null,
   "metadata": {},
   "outputs": [],
   "source": [
    "if(!TEST_MODE){\n",
    "    ggsave(filename = \"Fig/NK_RMPV_Drugs.pdf\", gp, width = 10)\n",
    "}"
   ]
  },
  {
   "cell_type": "code",
   "execution_count": null,
   "metadata": {},
   "outputs": [],
   "source": [
    "dmsoRMD_NK = sapply(1:8, dmsoRMD)\n",
    "shuffDmsoRMD_NK = sapply(1:8, shuffDmsoRMD)"
   ]
  },
  {
   "cell_type": "code",
   "execution_count": null,
   "metadata": {},
   "outputs": [],
   "source": [
    "dmsoRMPV = data.frame(RMPV = apply(rbind(dmsoRMD_NK, shuffDmsoRMD_NK), 2, getRMPV))\n",
    "dmsoRMPV$Row = rownames(dmsoRMPV)\n",
    "dmsoRMPV$Strength = dmsoRMD_NK\n",
    "dmsoRMPV$adjRMPV = p.adjust(dmsoRMPV$RMPV, method = \"fdr\")"
   ]
  },
  {
   "cell_type": "code",
   "execution_count": null,
   "metadata": {
    "scrolled": false
   },
   "outputs": [],
   "source": [
    "gp <- ggplot(dmsoRMPV) + geom_point(aes(adjRMPV, Strength, color = Row)) + geom_vline(xintercept = 0.05, color=\"#CCCCCC\", linetype=\"dashed\")\n",
    "gp"
   ]
  },
  {
   "cell_type": "code",
   "execution_count": null,
   "metadata": {},
   "outputs": [],
   "source": [
    "if(!TEST_MODE){\n",
    "    ggsave(filename = \"Fig/NK_RMPV_DMSO.pdf\", plot = gp, width = 10)\n",
    "}"
   ]
  },
  {
   "cell_type": "markdown",
   "metadata": {},
   "source": [
    "### Concentration-dependency"
   ]
  },
  {
   "cell_type": "code",
   "execution_count": null,
   "metadata": {},
   "outputs": [],
   "source": [
    "# Compute the Robust Mahalanobis Distance (RMD) for all images of a given drug at a given concentration\n",
    "drugConcRMD <- function(drugPert, concPert){\n",
    "    # Find row containing this drug and split wells between WT and drug\n",
    "    rowPert = NK[fieldToKeep[NK[fieldToKeep,]$Drug == drugPert],]$Metadata_Row[1]\n",
    "    pertInd = (umTNK$Drug == drugPert)&(umTNK$Conc == concPert)\n",
    "    setUmapDrug = umTNK[pertInd,1:dimUMAP]\n",
    "    setUmapWT = umTNK[which(indWT)[NK[fieldToKeep[indWT],]$Metadata_Row == rowPert],1:dimUMAP]\n",
    "    # Compute Minimum Covariance Determinant and corresponding Robust Mahalanobis Distance\n",
    "    mcdWT = covMcd(setUmapWT)\n",
    "    RMD = apply(setUmapDrug, 1, function(x) mahalanobis(x, mcdWT$center, mcdWT$cov))\n",
    "    return(RMD)\n",
    "}"
   ]
  },
  {
   "cell_type": "code",
   "execution_count": null,
   "metadata": {},
   "outputs": [],
   "source": [
    "# Which drugs should be studied?\n",
    "sigDrugs = rownames(dfRMPV)[dfRMPV$adjRMPV < 0.05]\n",
    "# Classify concentration per drug as follows\n",
    "concentrationLevels = c(\"Low\", \"Mid\", \"High\")\n",
    "\n",
    "getAllDrugConcRMD <- function(d, rename = T){\n",
    "    dConc = levels(droplevels(umTNK[umTNK$Drug == d,]$Conc))\n",
    "    dList = sapply(dConc, function(c) drugConcRMD(d,c), simplify = F)\n",
    "    if (rename){\n",
    "        names(dList) <- concentrationLevels[1:length(dConc)]\n",
    "    }\n",
    "    return(dList)\n",
    "}\n",
    "sigDrugConcRMD = sapply(sigDrugs, getAllDrugConcRMD, simplify = F)"
   ]
  },
  {
   "cell_type": "code",
   "execution_count": null,
   "metadata": {},
   "outputs": [],
   "source": [
    "getSublist <- function(x, y){\n",
    "    i = which(names(x) == y)\n",
    "    # If y is not a sublist of x, i is the empty integer (not null, not false but with zero-length)\n",
    "    if (length(i)){\n",
    "        return(x[[i]])\n",
    "}}\n",
    "\n",
    "concRMPV = sapply(concentrationLevels, function(y) unlist(sapply(sigDrugConcRMD, function(x) getSublist(x, y))))\n",
    "concRMPV = as.data.frame(Reduce(rbind, Map(cbind, RMPV = concRMPV, Concentration = names(concRMPV))))\n",
    "concRMPV$RMPV = as.numeric(concRMPV$RMPV)"
   ]
  },
  {
   "cell_type": "code",
   "execution_count": null,
   "metadata": {},
   "outputs": [],
   "source": [
    "gp <- ggplot(concRMPV) + geom_violin(aes(Concentration, RMPV, fill = Concentration)) + \n",
    "                         coord_flip() + theme(legend.title = element_blank())\n",
    "gp"
   ]
  },
  {
   "cell_type": "code",
   "execution_count": null,
   "metadata": {},
   "outputs": [],
   "source": [
    "if(!TEST_MODE){\n",
    "    ggsave(filename = \"Fig/NK_ConcEffect_All.pdf\", plot = gp, width = 10)\n",
    "}"
   ]
  },
  {
   "cell_type": "code",
   "execution_count": null,
   "metadata": {},
   "outputs": [],
   "source": [
    "drugsConcRMPV = sapply(sigDrugs, function(x) getAllDrugConcRMD(x, rename = F), simplify = F)\n",
    "\n",
    "for (i in 1:length(drugsConcRMPV)){\n",
    "    # Retrieve drug name and RMPV values\n",
    "    drugName = names(drugsConcRMPV)[i]\n",
    "    drugConcRMPV = drugsConcRMPV[[i]]\n",
    "    \n",
    "    # Structure into wide data frame\n",
    "    concRMPV = as.data.frame(Reduce(rbind, Map(cbind, RMPV = drugConcRMPV, Concentration = names(drugConcRMPV))))\n",
    "    concRMPV$RMPV = as.numeric(concRMPV$RMPV)\n",
    "    # Reorder concentrations in increasing numerical order\n",
    "    concRMPV$Concentration = factor(concRMPV$Concentration, \n",
    "                                levels = as.character(sort(as.numeric(levels(concRMPV$Concentration)))))\n",
    "\n",
    "    # Represent distribution per concentration for all significantly changed drug\n",
    "    gp <- ggplot(concRMPV) + geom_violin(aes(Concentration, RMPV, fill = Concentration)) + \n",
    "                             coord_flip() + theme(legend.title = element_blank())\n",
    "    if(!TEST_MODE){\n",
    "        ggsave(filename = paste(\"Fig/NK\", drugName, \"ConcEffect.pdf\", sep = \"_\"), plot = gp, width = 10)\n",
    "    }\n",
    "}"
   ]
  },
  {
   "cell_type": "markdown",
   "metadata": {},
   "source": [
    "## Jurkat"
   ]
  },
  {
   "cell_type": "code",
   "execution_count": null,
   "metadata": {},
   "outputs": [],
   "source": [
    "# Fix t-SNE layout and random number generation\n",
    "set.seed(38)"
   ]
  },
  {
   "cell_type": "code",
   "execution_count": null,
   "metadata": {},
   "outputs": [],
   "source": [
    "JK = read.csv(\"./allImages_Jurkat_Drugs.csv\", header=T)"
   ]
  },
  {
   "cell_type": "code",
   "execution_count": null,
   "metadata": {},
   "outputs": [],
   "source": [
    "JK$Drug = sapply(JK$Metadata_Well, function(x) Layout$Drug[x == Layout$Well])\n",
    "JK$Concentration = sapply(JK$Metadata_Well, function(x) Layout$Concentration[x == Layout$Well])"
   ]
  },
  {
   "cell_type": "code",
   "execution_count": null,
   "metadata": {},
   "outputs": [],
   "source": [
    "gpJK = ggplot(JK[!is.na(JK$Count_FilteredNucleus),]) + geom_histogram(aes(Count_FilteredNucleus, fill = as.factor(Metadata_Row)), binwidth=2) +\n",
    "       scale_fill_discrete(name=\"Row\")\n",
    "gpJK\n",
    "if(!TEST_MODE){\n",
    "    ggsave(filename = \"Fig/countJK.pdf\", plot = gpJK)\n",
    "}"
   ]
  },
  {
   "cell_type": "code",
   "execution_count": null,
   "metadata": {},
   "outputs": [],
   "source": [
    "gpJK = ggplot(JK[!is.na(JK$Mean_FilterCytoplasm_AreaShape_Area),]) + geom_histogram(aes(Mean_FilterCytoplasm_AreaShape_Area, \n",
    "                                                                                    fill = as.factor(Metadata_Row)), binwidth=100) +\n",
    "       scale_fill_discrete(name=\"Row\")\n",
    "gpJK\n",
    "if(!TEST_MODE){\n",
    "    ggsave(filename = \"Fig/areaJK.pdf\", plot = gpJK)\n",
    "}"
   ]
  },
  {
   "cell_type": "code",
   "execution_count": null,
   "metadata": {},
   "outputs": [],
   "source": [
    "FILT_MAX_INT_DNA = 0.05 # Remove empty images and small DNA precipitations\n",
    "FILT_MIN_CELLS = 2 # 1 cell \n",
    "# >= 352 NAs 5/6 bad images\n",
    "# >= 82 NAs 4/6 bad images\n",
    "# < 82 NAs 3/6 bad images + 1 single-cell image\n",
    "FILT_NB_MAX_NA_IMAGE = 83\n"
   ]
  },
  {
   "cell_type": "code",
   "execution_count": null,
   "metadata": {},
   "outputs": [],
   "source": [
    "ftToKeep = 1:dim(JK)[2]\n",
    "# Make sure that the fields are numeric\n",
    "ftToKeep <- ftToKeep[which(sapply(JK[,ftToKeep], class) == \"numeric\")]\n",
    "# Remove execution time and count features\n",
    "ftToKeep <- ftToKeep[grep(\"(Execution)|(Count)\", colnames(JK)[ftToKeep], invert = T)]"
   ]
  },
  {
   "cell_type": "code",
   "execution_count": null,
   "metadata": {},
   "outputs": [],
   "source": [
    "# Store all remaining features before filtering for downstream comparison to selected set\n",
    "preFiltFt = colnames(JK)[ftToKeep]"
   ]
  },
  {
   "cell_type": "code",
   "execution_count": null,
   "metadata": {},
   "outputs": [],
   "source": [
    "# See Time-resolved mapping of genetic interactions to model rewiring of signaling pathways. Heigwer et al. (2018).\n",
    "# Remove wells with low max DNA intensity\n",
    "fieldToKeep <- which(JK$ImageQuality_MaxIntensity_DNA >= FILT_MAX_INT_DNA)\n",
    "# Remove wells with low cell count\n",
    "fieldToKeep <- fieldToKeep[!is.na(JK[fieldToKeep,]$Count_FilteredNucleus)]\n",
    "fieldToKeep <- fieldToKeep[JK[fieldToKeep,]$Count_FilteredNucleus >= FILT_MIN_CELLS]"
   ]
  },
  {
   "cell_type": "code",
   "execution_count": null,
   "metadata": {},
   "outputs": [],
   "source": [
    "# Few bad quality pictures are generating a lot of missing values and are removed\n",
    "fieldToKeep <- fieldToKeep[rowSums(is.na(JK[fieldToKeep,ftToKeep])) < FILT_NB_MAX_NA_IMAGE]\n",
    "# Remove remaining features with missing values\n",
    "ftToKeep <- ftToKeep[colSums(is.na(JK[fieldToKeep,ftToKeep])) == 0] \n",
    "# Remove constant columns\n",
    "indWT = JK[fieldToKeep,]$Drug == \"WT\"\n",
    "ftToKeep <- ftToKeep[sapply(JK[fieldToKeep,ftToKeep], function(x) mad(x) != 0)]\n",
    "ftToKeep <- ftToKeep[sapply(JK[fieldToKeep[indWT],ftToKeep], function(x) mad(x) != 0)]"
   ]
  },
  {
   "cell_type": "code",
   "execution_count": null,
   "metadata": {},
   "outputs": [],
   "source": [
    "print(dim(JK))\n",
    "print(length(ftToKeep))\n",
    "print(length(fieldToKeep))"
   ]
  },
  {
   "cell_type": "code",
   "execution_count": null,
   "metadata": {},
   "outputs": [],
   "source": [
    "transformedJK = apply(JK[fieldToKeep, ftToKeep], 2, transfLog)\n",
    "transformedJK = apply(transformedJK, 2, function(x) transfNorm(x, x[indWT]))"
   ]
  },
  {
   "cell_type": "code",
   "execution_count": null,
   "metadata": {},
   "outputs": [],
   "source": [
    "# Order features from biggest mad to smallest mad\n",
    "# Since features have mad(WT) = 1, it means that we rank features by how more variable they are\n",
    "# for drug perturbations than for WT\n",
    "orderFt = rev(order(apply(transformedJK, 2, mad)))"
   ]
  },
  {
   "cell_type": "code",
   "execution_count": null,
   "metadata": {},
   "outputs": [],
   "source": [
    "uncorrFt = uncorrelate(transformedJK, orderCol = orderFt-1, threshold = FILT_MAX_CORR)\n",
    "uncorrFt = unlist(uncorrFt) + 1"
   ]
  },
  {
   "cell_type": "code",
   "execution_count": null,
   "metadata": {},
   "outputs": [],
   "source": [
    "transformedJK = transformedJK[,uncorrFt]"
   ]
  },
  {
   "cell_type": "markdown",
   "metadata": {},
   "source": [
    "### Look at which types of features are kept"
   ]
  },
  {
   "cell_type": "code",
   "execution_count": null,
   "metadata": {},
   "outputs": [],
   "source": [
    "catChannel = c(\"CorrDNA\", \"CorrActin\", \"CorrPerf\")\n",
    "table(rowSums(sapply(catChannel, function(x) grepl(x, colnames(transformedJK)))))\n",
    "dtCat = data.frame(CountIni = sort(colSums(sapply(catChannel, function(x) grepl(x, preFiltFt)))), \n",
    "                   Count = sort(colSums(sapply(catChannel, function(x) grepl(x, colnames(transformedJK))))))\n",
    "\n",
    "dtCat$Order <- rank(dtCat$CountIni, ties.method = c(\"first\"))\n",
    "dtCat$Category <- factor(rownames(dtCat), levels=rownames(dtCat)[order(dtCat$CountIni)])\n",
    "dtCat$Ratio <- dtCat$Count / dtCat$CountIni\n",
    "dtCat$Ratio <- paste0(round(100*dtCat$Ratio, 1), \"%\")\n",
    "gp <- ggplot(dtCat) + geom_bar(aes(Category, weight = CountIni), fill = cemm_pal(2)[2]) + ylim(c(0,675)) +\n",
    "              geom_bar(aes(Category, weight = Count), fill = cemm_pal(2)[1]) + \n",
    "              geom_text(aes(x = Order, y = CountIni + 2, label = Ratio), hjust = 0) + coord_flip()\n",
    "gp"
   ]
  },
  {
   "cell_type": "code",
   "execution_count": null,
   "metadata": {},
   "outputs": [],
   "source": [
    "if(!TEST_MODE){\n",
    "    ggsave(filename = \"Fig/JK_SelecFt_Channel.pdf\", plot = gp, width = 10)\n",
    "}"
   ]
  },
  {
   "cell_type": "code",
   "execution_count": null,
   "metadata": {},
   "outputs": [],
   "source": [
    "catObjects = c(\"ActinGranules\", \"FilterCytoplasm\", \"ShrunkenCytoplasm\", \"FilteredNucleus\")\n",
    "table(rowSums(sapply(catObjects, function(x) grepl(x, colnames(transformedJK)))))\n",
    "dtCat = data.frame(CountIni = colSums(sapply(catObjects, function(x) grepl(x, preFiltFt))), \n",
    "                   Count = colSums(sapply(catObjects, function(x) grepl(x, colnames(transformedJK)))))\n",
    "\n",
    "dtCat$Order <- rank(dtCat$CountIni, ties.method = c(\"first\"))\n",
    "dtCat$Category <- factor(rownames(dtCat), levels=rownames(dtCat)[order(dtCat$CountIni)])\n",
    "dtCat$Ratio <- dtCat$Count / dtCat$CountIni\n",
    "dtCat$Ratio <- paste0(round(100*dtCat$Ratio, 1), \"%\")\n",
    "gp <- ggplot(dtCat) + geom_bar(aes(Category, weight = CountIni), fill = cemm_pal(2)[2]) + ylim(c(0,510)) +\n",
    "              geom_bar(aes(Category, weight = Count), fill = cemm_pal(2)[1]) + \n",
    "              geom_text(aes(x = Order, y = CountIni + 2, label = Ratio), hjust = 0) + coord_flip()\n",
    "gp"
   ]
  },
  {
   "cell_type": "code",
   "execution_count": null,
   "metadata": {},
   "outputs": [],
   "source": [
    "if(!TEST_MODE){\n",
    "    ggsave(filename = \"Fig/JK_SelecFt_Object.pdf\", plot = gp, width = 10)\n",
    "}"
   ]
  },
  {
   "cell_type": "code",
   "execution_count": null,
   "metadata": {},
   "outputs": [],
   "source": [
    "catType = c(\"Threshold\", \"Granularity\", \"ImageQuality\", \"Texture\", \"Distance\", \"AreaShape\", \"RadialDistribution\", \"Neighbors\", \n",
    "            \"Correlation\", \"Intensity\", \"Overlap\", \"Location\")\n",
    "which(rowSums(sapply(catType, function(x) grepl(x, colnames(transformedJK)))) == 0) # All features are covered\n",
    "\n",
    "dtCat = data.frame(CountIni = colSums(sapply(catType, function(x) grepl(x, preFiltFt))), \n",
    "                   Count = colSums(sapply(catType, function(x) grepl(x, colnames(transformedJK)))))\n",
    "dtCat$Order <- rank(dtCat$CountIni, ties.method = c(\"first\"))\n",
    "dtCat$Category <- factor(rownames(dtCat), levels=rownames(dtCat)[order(dtCat$CountIni)])\n",
    "dtCat$Ratio <- dtCat$Count / dtCat$CountIni\n",
    "dtCat$Ratio <- paste0(round(100*dtCat$Ratio, 1), \"%\")\n",
    "gp <- ggplot(dtCat) + geom_bar(aes(Category, weight = CountIni), fill = cemm_pal(2)[2]) +\n",
    "              geom_bar(aes(Category, weight = Count), fill = cemm_pal(2)[1]) + \n",
    "              geom_text(aes(x = Order, y = CountIni + 5, label = Ratio), hjust = 0) + coord_flip()\n",
    "gp"
   ]
  },
  {
   "cell_type": "code",
   "execution_count": null,
   "metadata": {},
   "outputs": [],
   "source": [
    "if(!TEST_MODE){\n",
    "    ggsave(filename = \"Fig/JK_SelecFt_Type_All.pdf\", plot = gp, width = 10)\n",
    "}"
   ]
  },
  {
   "cell_type": "code",
   "execution_count": null,
   "metadata": {},
   "outputs": [],
   "source": [
    "catType = c(\"Granularity\", \"Texture\", \"AreaShape\", \"RadialDistribution\",\n",
    "            \"Correlation\", \"Intensity\")\n",
    "table(rowSums(sapply(catType, function(x) grepl(x, colnames(transformedJK)))))\n",
    "\n",
    "dtCount = as.data.frame(sapply(catType, function(x) grepl(x, colnames(transformedJK))))\n",
    "dtCount$Other = !apply(dtCount, 1, any)\n",
    "dtCountIni = as.data.frame(sapply(catType, function(x) grepl(x, preFiltFt)))\n",
    "dtCountIni$Other = !apply(dtCountIni, 1, any)\n",
    "dtCat = data.frame(CountIni = colSums(dtCountIni), \n",
    "                   Count = colSums(dtCount))\n",
    "dtCat$Order <- rank(dtCat$CountIni, ties.method = c(\"first\"))\n",
    "dtCat$Category <- factor(rownames(dtCat), levels=rownames(dtCat)[order(dtCat$CountIni)])\n",
    "dtCat$Ratio <- dtCat$Count / dtCat$CountIni\n",
    "dtCat$Ratio <- paste0(round(100*dtCat$Ratio, 1), \"%\")\n",
    "gp <- ggplot(dtCat) + geom_bar(aes(Category, weight = CountIni), fill = cemm_pal(2)[2]) +\n",
    "              geom_bar(aes(Category, weight = Count), fill = cemm_pal(2)[1]) + \n",
    "              geom_text(aes(x = Order, y = CountIni + 5, label = Ratio), hjust = 0) + coord_flip()\n",
    "gp"
   ]
  },
  {
   "cell_type": "code",
   "execution_count": null,
   "metadata": {},
   "outputs": [],
   "source": [
    "if(!TEST_MODE){\n",
    "    ggsave(filename = \"Fig/JK_SelecFt_Type_Short.pdf\", plot = gp, width = 10)\n",
    "}"
   ]
  },
  {
   "cell_type": "markdown",
   "metadata": {},
   "source": [
    "### Look at the morphological distribution of the fields of view"
   ]
  },
  {
   "cell_type": "code",
   "execution_count": null,
   "metadata": {},
   "outputs": [],
   "source": [
    "umTJK = umap(transformedJK, min_dist = 0.1, neighbors = 10, n = dimUMAP, metric = \"euclidean\")\n",
    "umTJK = as.data.frame(umTJK)\n",
    "names(umTJK) = paste0(\"UMAP\", 1:dimUMAP)\n",
    "umTJK$Row <- as.factor(JK$Metadata_Row[fieldToKeep])\n",
    "umTJK$Col <- as.factor(JK$Metadata_Column[fieldToKeep])\n",
    "umTJK$Drug <- as.factor(JK$Drug[fieldToKeep])\n",
    "umTJK$Conc <- as.factor(JK$Concentration[fieldToKeep])\n",
    "umTJK$URL <- as.factor(JK$URL_Actin[fieldToKeep])"
   ]
  },
  {
   "cell_type": "code",
   "execution_count": null,
   "metadata": {},
   "outputs": [],
   "source": [
    "gp <- ggplot(umTJK) + geom_point(aes(UMAP1, UMAP2, color = Drug))\n",
    "gp"
   ]
  },
  {
   "cell_type": "code",
   "execution_count": null,
   "metadata": {},
   "outputs": [],
   "source": [
    "if(!TEST_MODE){\n",
    "    ggsave(filename = \"Fig/JK_UMAP_Drugs.pdf\", plot = gp, width = 10)\n",
    "}"
   ]
  },
  {
   "cell_type": "code",
   "execution_count": null,
   "metadata": {},
   "outputs": [],
   "source": [
    "gp <- ggplot(umTJK) + geom_point(aes(UMAP1, UMAP2, color = ifelse(Drug == \"DMSO\", \"DMSO\", ifelse(Drug == \"WT\", \"WT\", \"Drug\")))) + \n",
    "    theme(legend.title = element_blank()) #+ geom_label_repel(aes(UMAP1, UMAP2), \n",
    "#                                               label = ifelse(umTJK$UMAP2 > 23.5, str_extract(as.character(umTJK$URL), \"r..c..f..\"), NA),\n",
    "#                                               size = 1.5, segment.alpha = 0.1)\n",
    "gp"
   ]
  },
  {
   "cell_type": "code",
   "execution_count": null,
   "metadata": {},
   "outputs": [],
   "source": [
    "if(!TEST_MODE){\n",
    "    ggsave(filename = \"Fig/JK_UMAP_Control.pdf\", plot = gp, width = 10)\n",
    "}"
   ]
  },
  {
   "cell_type": "code",
   "execution_count": null,
   "metadata": {
    "scrolled": true
   },
   "outputs": [],
   "source": [
    "# Compute the median Robust Mahalanobis Distance (RMD) between drugs\n",
    "# See https://e-archivo.uc3m.es/bitstream/handle/10016/24613/ws201710.pdf\n",
    "drugRMD <- function(drugPert){\n",
    "    # Find row containing this drug and split wells between WT and drug\n",
    "    rowPert = JK[fieldToKeep[JK[fieldToKeep,]$Drug == drugPert],]$Metadata_Row[1]\n",
    "    setUmapDrug = umTJK[JK[fieldToKeep,]$Drug == drugPert,1:dimUMAP]\n",
    "    setUmapWT = umTJK[which(indWT)[JK[fieldToKeep[indWT],]$Metadata_Row == rowPert],1:dimUMAP]\n",
    "    # Compute Minimum Covariance Determinant and corresponding Robust Mahalanobis Distance\n",
    "    mcdWT = covMcd(setUmapWT)\n",
    "    RMD = median(apply(setUmapDrug, 1, function(x) mahalanobis(x, mcdWT$center, mcdWT$cov)))\n",
    "    return(RMD)\n",
    "}"
   ]
  },
  {
   "cell_type": "code",
   "execution_count": null,
   "metadata": {},
   "outputs": [],
   "source": [
    "# See The Multidimensional Perturbation Value. Hutz et al. (2013).\n",
    "shuffDrugRMD <- function(drugPert, nbRep = PERM_NB_ITER){\n",
    "    # Find row containing this drug and shuffle wells between WT and drug\n",
    "    rowPert = JK[fieldToKeep[JK[fieldToKeep,]$Drug == drugPert],]$Metadata_Row[1]\n",
    "    setUmapDrug = umTJK[JK[fieldToKeep,]$Drug == drugPert,1:dimUMAP]\n",
    "    setUmapWT = umTJK[which(indWT)[JK[fieldToKeep[indWT],]$Metadata_Row == rowPert],1:dimUMAP]\n",
    "    setUMAP = rbind(setUmapWT,setUmapDrug)\n",
    "    shuffleRMD <- function(notUsed){\n",
    "        shuffSetUMAP = rbind(setUmapWT,setUmapDrug)[sample(nrow(setUMAP)),]\n",
    "        # Take random subsets of corresponding sizes\n",
    "        shuffSetDrug = shuffSetUMAP[1:nrow(setUmapDrug),]\n",
    "        shuffSetWT = shuffSetUMAP[(nrow(setUmapDrug)+1):(nrow(setUmapDrug)+nrow(setUmapWT)),]\n",
    "        # Compute Minimum Covariance Determinant and corresponding Robust Mahalanobis Distance\n",
    "        mcdWT = covMcd(shuffSetWT)\n",
    "        RMD = median(apply(shuffSetDrug, 1, function(x) mahalanobis(x, mcdWT$center, mcdWT$cov)))\n",
    "        return(RMD)\n",
    "    }\n",
    "    return(sapply(1:nbRep, shuffleRMD))\n",
    "}"
   ]
  },
  {
   "cell_type": "code",
   "execution_count": null,
   "metadata": {},
   "outputs": [],
   "source": [
    "# Similar procedure for DMSO against WT\n",
    "dmsoRMD <- function(rowDMSO){\n",
    "    setUmapDMSO = umTJK[(JK[fieldToKeep,]$Drug == \"DMSO\")&(JK[fieldToKeep,]$Metadata_Row == rowDMSO),1:dimUMAP]\n",
    "    setUmapWT = umTJK[which(indWT)[JK[fieldToKeep[indWT],]$Metadata_Row == rowDMSO],1:dimUMAP]\n",
    "    # Compute Minimum Covariance Determinant and corresponding Robust Mahalanobis Distance\n",
    "    mcdWT = covMcd(setUmapWT)\n",
    "    RMD = median(apply(setUmapDMSO, 1, function(x) mahalanobis(x, mcdWT$center, mcdWT$cov)))\n",
    "    return(RMD)\n",
    "}\n",
    "shuffDmsoRMD <- function(rowDMSO, nbRep = PERM_NB_ITER){\n",
    "    # Find row containing this drug and shuffle wells between WT and drug\n",
    "    setUmapDMSO = umTJK[(JK[fieldToKeep,]$Drug == \"DMSO\")&(JK[fieldToKeep,]$Metadata_Row == rowDMSO),1:dimUMAP]\n",
    "    setUmapWT = umTJK[which(indWT)[JK[fieldToKeep[indWT],]$Metadata_Row == rowDMSO],1:dimUMAP]\n",
    "    setUMAP = rbind(setUmapWT,setUmapDMSO)\n",
    "    shuffleRMD <- function(notUsed){\n",
    "        shuffSetUMAP = rbind(setUmapWT,setUmapDMSO)[sample(nrow(setUMAP)),]\n",
    "        # Take random subsets of corresponding sizes\n",
    "        shuffSetDMSO = shuffSetUMAP[1:nrow(setUmapDMSO),]\n",
    "        shuffSetWT = shuffSetUMAP[(nrow(setUmapDMSO)+1):(nrow(setUmapDMSO)+nrow(setUmapWT)),]\n",
    "        # Compute Minimum Covariance Determinant and corresponding Robust Mahalanobis Distance\n",
    "        mcdWT = covMcd(shuffSetWT)\n",
    "        RMD = median(apply(shuffSetDMSO, 1, function(x) mahalanobis(x, mcdWT$center, mcdWT$cov)))\n",
    "        return(RMD)\n",
    "    }\n",
    "    return(sapply(1:nbRep, shuffleRMD))\n",
    "}"
   ]
  },
  {
   "cell_type": "code",
   "execution_count": null,
   "metadata": {
    "scrolled": true
   },
   "outputs": [],
   "source": [
    "drugRMD_JK = sapply(levels(JK$Drug), drugRMD)"
   ]
  },
  {
   "cell_type": "code",
   "execution_count": null,
   "metadata": {},
   "outputs": [],
   "source": [
    "shuffDrugRMD_JK = sapply(levels(JK$Drug), shuffDrugRMD)"
   ]
  },
  {
   "cell_type": "code",
   "execution_count": null,
   "metadata": {},
   "outputs": [],
   "source": [
    "getRMPV <- function(x){\n",
    "    ecdfRMD = ecdf(x[-1])\n",
    "    return(1 - ecdfRMD(x[1]))\n",
    "}\n",
    "dfRMPV = data.frame(RMPV = apply(rbind(drugRMD_JK, shuffDrugRMD_JK), 2, getRMPV))"
   ]
  },
  {
   "cell_type": "code",
   "execution_count": null,
   "metadata": {},
   "outputs": [],
   "source": [
    "dfRMPV$Drug = rownames(dfRMPV)\n",
    "dfRMPV$Strength = drugRMD_JK\n",
    "dfRMPV = dfRMPV[!dfRMPV$Drug %in% c(\"DMSO\", \"WT\"),]\n",
    "dfRMPV$adjRMPV = p.adjust(dfRMPV$RMPV, method = \"fdr\")"
   ]
  },
  {
   "cell_type": "code",
   "execution_count": null,
   "metadata": {
    "scrolled": false
   },
   "outputs": [],
   "source": [
    "gp <- ggplot(dfRMPV) + geom_point(aes(adjRMPV, Strength, color = Drug)) + geom_vline(xintercept = 0.05, color=\"#CCCCCC\", linetype=\"dashed\")\n",
    "gp"
   ]
  },
  {
   "cell_type": "code",
   "execution_count": null,
   "metadata": {},
   "outputs": [],
   "source": [
    "if(!TEST_MODE){\n",
    "    ggsave(filename = \"Fig/JK_RMPV_Drugs.pdf\", plot = gp, width = 10)\n",
    "}"
   ]
  },
  {
   "cell_type": "code",
   "execution_count": null,
   "metadata": {},
   "outputs": [],
   "source": [
    "dmsoRMD_JK = sapply(1:8, dmsoRMD)\n",
    "shuffDmsoRMD_JK = sapply(1:8, shuffDmsoRMD)"
   ]
  },
  {
   "cell_type": "code",
   "execution_count": null,
   "metadata": {},
   "outputs": [],
   "source": [
    "dmsoRMPV = data.frame(RMPV = apply(rbind(dmsoRMD_JK, shuffDmsoRMD_JK), 2, getRMPV))\n",
    "dmsoRMPV$Row = rownames(dmsoRMPV)\n",
    "dmsoRMPV$Strength = dmsoRMD_JK\n",
    "dmsoRMPV$adjRMPV = p.adjust(dmsoRMPV$RMPV, method = \"fdr\")"
   ]
  },
  {
   "cell_type": "code",
   "execution_count": null,
   "metadata": {
    "scrolled": false
   },
   "outputs": [],
   "source": [
    "gp <- ggplot(dmsoRMPV) + geom_point(aes(adjRMPV, Strength, color = Row)) + geom_vline(xintercept = 0.05, color=\"#CCCCCC\", linetype=\"dashed\")\n",
    "gp"
   ]
  },
  {
   "cell_type": "code",
   "execution_count": null,
   "metadata": {},
   "outputs": [],
   "source": [
    "if(!TEST_MODE){\n",
    "    ggsave(filename = \"Fig/JK_RMPV_DMSO.pdf\", plot = gp, width = 10)\n",
    "}"
   ]
  },
  {
   "cell_type": "markdown",
   "metadata": {},
   "source": [
    "### Concentration-dependency"
   ]
  },
  {
   "cell_type": "code",
   "execution_count": null,
   "metadata": {},
   "outputs": [],
   "source": [
    "# Compute the Robust Mahalanobis Distance (RMD) for all images of a given drug at a given concentration\n",
    "drugConcRMD <- function(drugPert, concPert){\n",
    "    # Find row containing this drug and split wells between WT and drug\n",
    "    rowPert = JK[fieldToKeep[JK[fieldToKeep,]$Drug == drugPert],]$Metadata_Row[1]\n",
    "    pertInd = (umTJK$Drug == drugPert)&(umTJK$Conc == concPert)\n",
    "    setUmapDrug = umTJK[pertInd,1:dimUMAP]\n",
    "    setUmapWT = umTJK[which(indWT)[JK[fieldToKeep[indWT],]$Metadata_Row == rowPert],1:dimUMAP]\n",
    "    # Compute Minimum Covariance Determinant and corresponding Robust Mahalanobis Distance\n",
    "    mcdWT = covMcd(setUmapWT)\n",
    "    RMD = apply(setUmapDrug, 1, function(x) mahalanobis(x, mcdWT$center, mcdWT$cov))\n",
    "    return(RMD)\n",
    "}"
   ]
  },
  {
   "cell_type": "code",
   "execution_count": null,
   "metadata": {},
   "outputs": [],
   "source": [
    "# Which drugs should be studied?\n",
    "sigDrugs = rownames(dfRMPV)[dfRMPV$adjRMPV < 0.05]\n",
    "# Classify concentration per drug as follows\n",
    "concentrationLevels = c(\"Low\", \"Mid\", \"High\")\n",
    "\n",
    "getAllDrugConcRMD <- function(d, rename = T){\n",
    "    dConc = levels(droplevels(umTJK[umTJK$Drug == d,]$Conc))\n",
    "    dList = sapply(dConc, function(c) drugConcRMD(d,c), simplify = F)\n",
    "    if (rename){\n",
    "        names(dList) <- concentrationLevels[1:length(dConc)]\n",
    "    }\n",
    "    return(dList)\n",
    "}\n",
    "sigDrugConcRMD = sapply(sigDrugs, getAllDrugConcRMD, simplify = F)"
   ]
  },
  {
   "cell_type": "code",
   "execution_count": null,
   "metadata": {},
   "outputs": [],
   "source": [
    "getSublist <- function(x, y){\n",
    "    i = which(names(x) == y)\n",
    "    # If y is not a sublist of x, i is the empty integer (not null, not false but with zero-length)\n",
    "    if (length(i)){\n",
    "        return(x[[i]])\n",
    "}}\n",
    "\n",
    "concRMPV = sapply(concentrationLevels, function(y) unlist(sapply(sigDrugConcRMD, function(x) getSublist(x, y))))\n",
    "concRMPV = as.data.frame(Reduce(rbind, Map(cbind, RMPV = concRMPV, Concentration = names(concRMPV))))\n",
    "concRMPV$RMPV = as.numeric(concRMPV$RMPV)"
   ]
  },
  {
   "cell_type": "code",
   "execution_count": null,
   "metadata": {},
   "outputs": [],
   "source": [
    "gp <- ggplot(concRMPV) + geom_violin(aes(Concentration, RMPV, fill = Concentration)) + \n",
    "                         coord_flip() + theme(legend.title = element_blank())\n",
    "gp"
   ]
  },
  {
   "cell_type": "code",
   "execution_count": null,
   "metadata": {},
   "outputs": [],
   "source": [
    "if(!TEST_MODE){\n",
    "    ggsave(filename = \"Fig/JK_ConcEffect_All.pdf\", plot = gp, width = 10)\n",
    "}"
   ]
  },
  {
   "cell_type": "code",
   "execution_count": null,
   "metadata": {},
   "outputs": [],
   "source": [
    "drugsConcRMPV = sapply(sigDrugs, function(x) getAllDrugConcRMD(x, rename = F), simplify = F)\n",
    "\n",
    "for (i in 1:length(drugsConcRMPV)){\n",
    "    # Retrieve drug name and RMPV values\n",
    "    drugName = names(drugsConcRMPV)[i]\n",
    "    drugConcRMPV = drugsConcRMPV[[i]]\n",
    "    \n",
    "    # Structure into wide data frame\n",
    "    concRMPV = as.data.frame(Reduce(rbind, Map(cbind, RMPV = drugConcRMPV, Concentration = names(drugConcRMPV))))\n",
    "    concRMPV$RMPV = as.numeric(concRMPV$RMPV)\n",
    "    # Reorder concentrations in increasing numerical order\n",
    "    concRMPV$Concentration = factor(concRMPV$Concentration, \n",
    "                                levels = as.character(sort(as.numeric(levels(concRMPV$Concentration)))))\n",
    "\n",
    "    # Represent distribution per concentration for all significantly changed drug\n",
    "    gp <- ggplot(concRMPV) + geom_violin(aes(Concentration, RMPV, fill = Concentration)) + \n",
    "                             coord_flip() + theme(legend.title = element_blank())\n",
    "    if(!TEST_MODE){\n",
    "        ggsave(filename = paste(\"Fig/JK\", drugName, \"ConcEffect.pdf\", sep = \"_\"), plot = gp, width = 10)\n",
    "    }\n",
    "}"
   ]
  },
  {
   "cell_type": "code",
   "execution_count": null,
   "metadata": {
    "scrolled": true
   },
   "outputs": [],
   "source": [
    "sessionInfo()"
   ]
  }
 ],
 "metadata": {
  "kernelspec": {
   "display_name": "R",
   "language": "R",
   "name": "ir"
  },
  "language_info": {
   "codemirror_mode": "r",
   "file_extension": ".r",
   "mimetype": "text/x-r-source",
   "name": "R",
   "pygments_lexer": "r",
   "version": "3.5.1"
  },
  "toc": {
   "base_numbering": 1,
   "nav_menu": {},
   "number_sections": false,
   "sideBar": false,
   "skip_h1_title": false,
   "title_cell": "Table of Contents",
   "title_sidebar": "Contents",
   "toc_cell": false,
   "toc_position": {},
   "toc_section_display": false,
   "toc_window_display": false
  }
 },
 "nbformat": 4,
 "nbformat_minor": 2
}
