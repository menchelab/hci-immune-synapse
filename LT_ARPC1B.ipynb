{
 "cells": [
  {
   "cell_type": "markdown",
   "metadata": {},
   "source": [
    "# Patient ARPC1B deficient cells"
   ]
  },
  {
   "cell_type": "code",
   "execution_count": null,
   "metadata": {
    "scrolled": true
   },
   "outputs": [],
   "source": [
    "library(ggplot2)\n",
    "library(extrafont)\n",
    "library(stringr)\n",
    "library(heatmaply)\n",
    "library(ggrepel)\n",
    "library(reticulate)\n",
    "library(gridExtra)\n",
    "library(robustbase)\n",
    "library(randomForest)\n",
    "library(reshape2)"
   ]
  },
  {
   "cell_type": "code",
   "execution_count": null,
   "metadata": {
    "scrolled": true
   },
   "outputs": [],
   "source": [
    "# Load external Python functions\n",
    "source_python(\"reticulate_functions.py\")\n",
    "# Load extra fonts\n",
    "ttf_import(paths = \"/tmp/.fonts/\")\n",
    "loadfonts()\n",
    "# Set this to true for faster compilation or false for more precise results and all outputs\n",
    "TEST_MODE = F"
   ]
  },
  {
   "cell_type": "code",
   "execution_count": null,
   "metadata": {},
   "outputs": [],
   "source": [
    "# Number of permutations used for empirical p-value computations\n",
    "PERM_NB_ITER = ifelse(TEST_MODE, 20, 2000)\n",
    "# Number of trees used in random forest classifier\n",
    "RF_NB_TREES = ifelse(TEST_MODE, 50, 1000)"
   ]
  },
  {
   "cell_type": "code",
   "execution_count": null,
   "metadata": {},
   "outputs": [],
   "source": [
    "# Customize ggplot appearance\n",
    "\n",
    "# Change theme\n",
    "customTheme <- theme_light() + \n",
    "               theme(panel.grid.minor=element_blank(), text=element_text(size=17, family=\"Arial\", colour = \"#333333\"),\n",
    "                     line=element_line(colour = \"#333333\"), legend.background = element_rect(fill=alpha('#CCCCCC', 0.1)), legend.key = element_blank())\n",
    "\n",
    "# Change default colors\n",
    "scale_colour_continuous <- function (..., begin = 0.1, end = 0.9, direction = -1, option = \"plasma\", \n",
    "                                     type = getOption(\"ggplot2.continuous.colour\", default = \"viridis\")) {\n",
    "    switch(type, gradient = scale_colour_gradient(...), \n",
    "        viridis = scale_colour_viridis_c(option = option, begin = begin, end = end, direction = direction, ...), \n",
    "        stop(\"Unknown scale type\", call. = FALSE))\n",
    "}\n",
    "scale_color_continuous <- scale_colour_continuous\n",
    "\n",
    "scale_fill_continuous <- function (..., begin = 0.1, end = 0.9, direction = -1, option = \"plasma\", \n",
    "                                     type = getOption(\"ggplot2.continuous.colour\", default = \"viridis\")) {\n",
    "    switch(type, gradient = scale_fill_gradient(...), \n",
    "        viridis = scale_fill_viridis_c(option = option, begin = begin, end = end, direction = direction, ...), \n",
    "        stop(\"Unknown scale type\", call. = FALSE))\n",
    "\n",
    "}\n",
    "\n",
    "cemm_pal = colorRampPalette(c(\"#5A463C\", \"#008CAD\", \"#40B9D4\", \"#D4ECF2\", \"#D2323C\", \"#F8B100\", \"#DFDC00\"))\n",
    "cust_pal = colorRampPalette(c(\"#008CAD\", \"#40B9D4\", \"#D4ECF2\", \"#F8B100\", \"#C00000\", \"#2D0000\"))\n",
    "yolla_pal = colorRampPalette(c('#FC7070', '#C00000', '#2D0000'))\n",
    "scale_fill_discrete <- function (..., type = \"Cust\", h = c(0, 360) + 15, c = 100, l = 65, h.start = 0, \n",
    "    direction = 1, na.value = \"grey50\", aesthetics = \"fill\") \n",
    "{\n",
    "    if (type == \"CeMM\"){\n",
    "        discrete_scale(aesthetics, \"CeMM\", cemm_pal, na.value = na.value, ...)\n",
    "    } else if (type == \"Yolla\"){\n",
    "        discrete_scale(aesthetics, \"Yolla\", yolla_pal, na.value = na.value, ...)\n",
    "    } else if (type == \"Cust\"){\n",
    "        discrete_scale(aesthetics, \"Cust\", cust_pal, na.value = na.value, ...)\n",
    "    } else {\n",
    "        discrete_scale(aesthetics, \"hue\", hue_pal(h, c, l, h.start, \n",
    "            direction), na.value = na.value, ...)\n",
    "    }\n",
    "}\n",
    "\n",
    "scale_color_discrete <- function (..., type = \"Cust\", h = c(0, 360) + 15, c = 100, l = 65, h.start = 0, \n",
    "    direction = 1, na.value = \"grey50\", aesthetics = \"colour\") {\n",
    "    if (type == \"CeMM\"){\n",
    "        discrete_scale(aesthetics, \"CeMM\", cemm_pal, na.value = na.value, ...)\n",
    "    } else if (type == \"Cust\"){\n",
    "        discrete_scale(aesthetics, \"Cust\", cust_pal, na.value = na.value, ...)\n",
    "    } else if (type == \"Yolla\"){\n",
    "        discrete_scale(aesthetics, \"Yolla\", yolla_pal, na.value = na.value, ...)\n",
    "    } else {\n",
    "        discrete_scale(aesthetics, \"hue\", scales::hue_pal(h, c, l, h.start, \n",
    "            direction), na.value = na.value, ...)\n",
    "    }\n",
    "}\n",
    "scale_colour_discrete <- scale_color_discrete\n",
    "\n",
    "noGridTheme <- function(...){\n",
    "    theme(panel.grid.major=element_blank(), axis.text.x=element_text(size=12), axis.text.y=element_text(size=12),\n",
    "                      axis.line=element_line(color=\"#333333\", size = 0.2), panel.border = element_blank(), ...)\n",
    "}\n",
    "\n",
    "darkTheme <- function(...){\n",
    "    theme(panel.background = element_rect(fill = '#333333'), plot.background = element_rect(fill = '#333333'), \n",
    "          axis.line=element_line(color=\"#CCCCCC\", size = 0.2), \n",
    "          text=element_text(size=17, family=\"Arial\", colour = \"#CCCCCC\"),\n",
    "          line=element_line(colour = \"#CCCCCC\"))\n",
    "}\n",
    "\n",
    "theme_set(customTheme)\n",
    "\n",
    "options(repr.plot.width=10, repr.plot.height=10)"
   ]
  },
  {
   "cell_type": "markdown",
   "metadata": {},
   "source": [
    "## Patient cells (∆ARPC1B)"
   ]
  },
  {
   "cell_type": "code",
   "execution_count": null,
   "metadata": {},
   "outputs": [],
   "source": [
    "# Fix t-SNE layout and random number generation\n",
    "set.seed(38)"
   ]
  },
  {
   "cell_type": "code",
   "execution_count": null,
   "metadata": {},
   "outputs": [],
   "source": [
    "LT = read.csv(\"Rsc/allImages_LT_ARPC1B.csv\", header=T)"
   ]
  },
  {
   "cell_type": "code",
   "execution_count": null,
   "metadata": {},
   "outputs": [],
   "source": [
    "annotation = read.csv(\"Rsc/ARPC1BPlateLayout.csv\", header=T)[1:90,] # Avoid terminal empty lines"
   ]
  },
  {
   "cell_type": "code",
   "execution_count": null,
   "metadata": {},
   "outputs": [],
   "source": [
    "getDonor <- function(row,column){\n",
    "    return(annotation[(annotation$Row == row)&(annotation$Column == column),1])\n",
    "}\n",
    "getCoating <- function(row,column){\n",
    "    return(annotation[(annotation$Row == row)&(annotation$Column == column),2])\n",
    "}\n",
    "LT$Donor = mapply(getDonor, LT$Metadata_Row, LT$Metadata_Column)\n",
    "LT$Coating = mapply(getCoating, LT$Metadata_Row, LT$Metadata_Column)\n",
    "# Is normal donor?\n",
    "LT$ND = F\n",
    "LT$ND[grep(\"ND\", LT$Donor)] = T\n",
    "# Which patient?\n",
    "LT$Patient = ifelse(LT$ND, \"ND\", as.character(LT$Donor))"
   ]
  },
  {
   "cell_type": "markdown",
   "metadata": {},
   "source": [
    "We discard the data from the PLL coated plates (not studied in this analysis)."
   ]
  },
  {
   "cell_type": "code",
   "execution_count": null,
   "metadata": {},
   "outputs": [],
   "source": [
    "LT = LT[LT$Coating != \"PLL\",]"
   ]
  },
  {
   "cell_type": "code",
   "execution_count": null,
   "metadata": {},
   "outputs": [],
   "source": [
    "gpLT = ggplot(LT[!is.na(LT$Count_FilterNKNucleus),]) + geom_histogram(aes(Count_FilterNKNucleus, fill = as.factor(Metadata_Row)), binwidth=2) +\n",
    "       scale_fill_discrete(name=\"Row\")\n",
    "gpLT\n",
    "if(!TEST_MODE){\n",
    "    ggsave(filename = \"Fig/LT_ARPC1B_count.pdf\", plot = gpLT)\n",
    "}"
   ]
  },
  {
   "cell_type": "code",
   "execution_count": null,
   "metadata": {},
   "outputs": [],
   "source": [
    "gpLT = ggplot(LT[!is.na(LT$Mean_FilterNKCytoplasm_AreaShape_Area),]) + geom_histogram(aes(Mean_FilterNKCytoplasm_AreaShape_Area, \n",
    "                                                                                    fill = as.factor(Donor)), binwidth=100) +\n",
    "       scale_fill_discrete(name=\"Row\")\n",
    "gpLT\n",
    "if(!TEST_MODE){\n",
    "    ggsave(filename = \"Fig/LT_ARPC1B_area.pdf\", plot = gpLT)\n",
    "}"
   ]
  },
  {
   "cell_type": "markdown",
   "metadata": {},
   "source": [
    "### Filtering"
   ]
  },
  {
   "cell_type": "code",
   "execution_count": null,
   "metadata": {},
   "outputs": [],
   "source": [
    "FILT_MAX_INT_DNA = 0.01 # Remove empty images and small DNA precipitations\n",
    "FILT_MIN_CELLS = 5 # Most field of views have only 2 cells\n",
    "FILT_NB_MAX_NA_IMAGE = 1\n",
    "FILT_MAX_CORR = 0.6 # Keep uncorrelated variables\n",
    "dimUMAP = 10"
   ]
  },
  {
   "cell_type": "code",
   "execution_count": null,
   "metadata": {},
   "outputs": [],
   "source": [
    "ftToKeep = 1:dim(LT)[2]\n",
    "# Make sure that the fields are numeric\n",
    "ftToKeep <- ftToKeep[which(sapply(LT[,ftToKeep], class) == \"numeric\")]\n",
    "# Remove execution time and count features\n",
    "ftToKeep <- ftToKeep[grep(\"(Execution)|(Count)|(Concentration)|(ActinGranules)\", colnames(LT)[ftToKeep], invert = T)]"
   ]
  },
  {
   "cell_type": "code",
   "execution_count": null,
   "metadata": {},
   "outputs": [],
   "source": [
    "# Store all remaining features before filtering for downstream comparison to selected set\n",
    "preFiltFt = colnames(LT)[ftToKeep]"
   ]
  },
  {
   "cell_type": "code",
   "execution_count": null,
   "metadata": {},
   "outputs": [],
   "source": [
    "# Remove wells with low max DNA intensity\n",
    "fieldToKeep <- which(LT$ImageQuality_MaxIntensity_DNA >= FILT_MAX_INT_DNA)\n",
    "# Remove wells with low cell count\n",
    "fieldToKeep <- na.omit(fieldToKeep[LT[fieldToKeep,]$Count_FilterNKNucleus >= FILT_MIN_CELLS])"
   ]
  },
  {
   "cell_type": "code",
   "execution_count": null,
   "metadata": {},
   "outputs": [],
   "source": [
    "# Few bad quality pictures are generating a lot of missing values and are removed\n",
    "fieldToKeep <- fieldToKeep[rowSums(is.na(LT[fieldToKeep,ftToKeep])) < FILT_NB_MAX_NA_IMAGE]"
   ]
  },
  {
   "cell_type": "code",
   "execution_count": null,
   "metadata": {},
   "outputs": [],
   "source": [
    "# Remove remaining features with missing values\n",
    "ftToKeep <- ftToKeep[colSums(is.na(LT[fieldToKeep,ftToKeep])) == 0] \n",
    "# Remove constant columns\n",
    "indWT = LT[fieldToKeep,]$ND\n",
    "ftToKeep <- ftToKeep[sapply(LT[fieldToKeep,ftToKeep], function(x) mad(x) != 0)]\n",
    "ftToKeep <- ftToKeep[sapply(LT[fieldToKeep[indWT],ftToKeep], function(x) mad(x) != 0)]"
   ]
  },
  {
   "cell_type": "code",
   "execution_count": null,
   "metadata": {},
   "outputs": [],
   "source": [
    "# Approximate normal distribution\n",
    "transfLog <- function (x){\n",
    "    minVal = min(x)\n",
    "    return(log(x+1-minVal))\n",
    "}\n",
    "\n",
    "# Center and scale on control values\n",
    "transfNorm <- function(x, y){\n",
    "    return((x - median(y))/mad(y))\n",
    "}"
   ]
  },
  {
   "cell_type": "code",
   "execution_count": null,
   "metadata": {},
   "outputs": [],
   "source": [
    "# Try centering on all healthy donors\n",
    "transformedLT = apply(LT[fieldToKeep, ftToKeep], 2, transfLog)\n",
    "transformedLT = apply(transformedLT, 2, function(x) transfNorm(x, x[indWT]))"
   ]
  },
  {
   "cell_type": "code",
   "execution_count": null,
   "metadata": {},
   "outputs": [],
   "source": [
    "# Order features from biggest mad to smallest mad\n",
    "# Since features have mad(ND) = 1, it means that we rank features by how more variable they are\n",
    "# for patients than for ND\n",
    "orderFt = rev(order(apply(transformedLT, 2, mad)))"
   ]
  },
  {
   "cell_type": "code",
   "execution_count": null,
   "metadata": {},
   "outputs": [],
   "source": [
    "uncorrFt = uncorrelate(transformedLT, orderCol = orderFt-1, threshold = FILT_MAX_CORR)\n",
    "uncorrFt = unlist(uncorrFt) + 1"
   ]
  },
  {
   "cell_type": "code",
   "execution_count": null,
   "metadata": {},
   "outputs": [],
   "source": [
    "transformedLT = transformedLT[,uncorrFt]"
   ]
  },
  {
   "cell_type": "code",
   "execution_count": null,
   "metadata": {
    "scrolled": true
   },
   "outputs": [],
   "source": [
    "dim(LT)\n",
    "dim(LT[fieldToKeep, ftToKeep])\n",
    "dim(transformedLT)"
   ]
  },
  {
   "cell_type": "markdown",
   "metadata": {},
   "source": [
    "### Export subset of features"
   ]
  },
  {
   "cell_type": "markdown",
   "metadata": {},
   "source": [
    "For LT cells, the following features are selected and explored separately for their biological interpretability:\n",
    "```\n",
    "* Actin intensity/cell (mean/well): LT$Intensity_MeanIntensity_CorrActin_FilterCytoplasm\n",
    "* Cell area: LT$Mean_FilterCytoplasm_AreaShape_Area\n",
    "* Cell roundness: LT$Mean_FilterCytoplasm_AreaShape_FormFactor\n",
    "* Cell width: LT$Mean_FilterCytoplasm_AreaShape_MajorAxisLength \n",
    "* Cell length: LT$Mean_FilterCytoplasm_AreaShape_MinorAxisLength\n",
    "* Cell length to width ratio: LT$Mean_FilterCytoplasm_AreaShape_MinorAxisLength / LT$Mean_FilterCytoplasm_AreaShape_MajorAxisLength\n",
    "* Average number of perforin granules / cell: LT$Count_PerfGranules  / LT$Count_FilterCytoplasm\n",
    "* Perforin area / cell area: (LT$Count_PerfGranules * LT$Mean_PerfGranules_AreaShape_Area)  / (LT$Count_FilterCytoplasm * LT$Mean_FilterCytoplasm_AreaShape_Area)\n",
    "* Perforin intensity: LT$Intensity_MeanIntensity_CorrPerf_FilterCytoplasm\n",
    "* Perforin area: LT$Mean_PerfGranules_AreaShape_Area\n",
    "* Nucleus intensity: LT$Intensity_MeanIntensity_CorrDNA_FilteredNucleus\n",
    "* Nucleus area: LT$Mean_FilteredNucleus_AreaShape_Area\n",
    "* Nucleus roundness: LT$Mean_FilteredNucleus_AreaShape_FormFactor\n",
    "* Nucleus width: LT$Mean_FilteredNucleus_AreaShape_MajorAxisLength \n",
    "* Nucleus length: LT$Mean_FilteredNucleus_AreaShape_MinorAxisLength\n",
    "* Nucleus ratio: LT$Mean_FilteredNucleus_AreaShape_MinorAxisLength / LT$Mean_FilteredNucleus_AreaShape_MajorAxisLength\n",
    "* Nucleus area / cell area: (LT$Count_FilteredNucleus * LT$Mean_FilteredNucleus_AreaShape_Area)  / (LT$Count_FilterCytoplasm * LT$Mean_FilterCytoplasm_AreaShape_Area)\n",
    "* LFA intensity: LT$Intensity_MeanIntensity_CorrLFA_FilterNKLFA\n",
    "* LFA-Actin correlation: LT[fieldToKeep,]$Mean_FilterNKCytoplasm_Correlation_Correlation_CorrLFA_CorrActin\n",
    "* LFA area: LT$Mean_FilterNKLFA_AreaShape_Area\n",
    "* LFA area / cell area: LT$Mean_FilterNKLFA_AreaShape_Area / (LT$Count_FilterCytoplasm * LT$Mean_FilterCytoplasm_AreaShape_Area)```\n",
    "\n",
    "NB (from CellProfiler docs): FormFactor = $4 \\times π \\times Area / Perimeter^2$. Equals 1 for a perfectly circular object."
   ]
  },
  {
   "cell_type": "code",
   "execution_count": null,
   "metadata": {},
   "outputs": [],
   "source": [
    "subsetLT = cbind(Field = str_extract(as.character(LT[fieldToKeep,]$URL_Actin), \"r..c..f..\"),\n",
    "                 Coating = as.character(LT[fieldToKeep,]$Coating),\n",
    "                 Donor = as.character(LT[fieldToKeep,]$Donor),\n",
    "                 ActinIntensity = LT[fieldToKeep,]$Intensity_MeanIntensity_CorrActin_FilterNKCytoplasm,\n",
    "                 CellArea = LT[fieldToKeep,]$Mean_FilterNKCytoplasm_AreaShape_Area,\n",
    "                 CellRoundness = LT[fieldToKeep,]$Mean_FilterNKCytoplasm_AreaShape_FormFactor,\n",
    "                 CellWidth = LT[fieldToKeep,]$Mean_FilterNKCytoplasm_AreaShape_MajorAxisLength,\n",
    "                 CellLength = LT[fieldToKeep,]$Mean_FilterNKCytoplasm_AreaShape_MinorAxisLength,\n",
    "                 CellLengthOverWidth = LT[fieldToKeep,]$Mean_FilterNKCytoplasm_AreaShape_MinorAxisLength / \n",
    "                     LT[fieldToKeep,]$Mean_FilterNKCytoplasm_AreaShape_MajorAxisLength,\n",
    "                 PerforinGranulesPerCell = LT[fieldToKeep,]$Count_FilterNKPerfGranules  / \n",
    "                     LT[fieldToKeep,]$Count_FilterNKCytoplasm,\n",
    "                 PerforinAreaOverCellArea = (LT[fieldToKeep,]$Count_FilterNKPerfGranules * \n",
    "                     LT[fieldToKeep,]$Mean_PFilterNKPerfGranules_AreaShape_Area) / \n",
    "                     (LT[fieldToKeep,]$Count_FilterNKCytoplasm * \n",
    "                      LT[fieldToKeep,]$Mean_FilterNKCytoplasm_AreaShape_Area),\n",
    "                 PerforinIntensity = LT[fieldToKeep,]$Intensity_MeanIntensity_CorrPerf_FilterNKCytoplasm,\n",
    "                 PerforinArea = LT[fieldToKeep,]$Mean_FilterNKPerfGranules_AreaShape_Area,\n",
    "                 NucleusIntensity = LT[fieldToKeep,]$Intensity_MeanIntensity_CorrDNA_FilterNKNucleus,\n",
    "                 NucleusArea = LT[fieldToKeep,]$Mean_FilterNKNucleus_AreaShape_Area,\n",
    "                 NucleusRoundness = LT[fieldToKeep,]$Mean_FilterNKNucleus_AreaShape_FormFactor,\n",
    "                 NucleusWidth = LT[fieldToKeep,]$Mean_FilterNKNucleus_AreaShape_MajorAxisLength,\n",
    "                 NucleusLength = LT[fieldToKeep,]$Mean_FilterNKNucleus_AreaShape_MinorAxisLength,\n",
    "                 NucleusLengthOverWidth = LT[fieldToKeep,]$Mean_FilterNKNucleus_AreaShape_MinorAxisLength / \n",
    "                     LT[fieldToKeep,]$Mean_FilterNKNucleus_AreaShape_MajorAxisLength,\n",
    "                 NucleusAreaOverCellArea = (LT[fieldToKeep,]$Count_FilterNKNucleus * \n",
    "                     LT[fieldToKeep,]$Mean_FilterNKNucleus_AreaShape_Area) / \n",
    "                     (LT[fieldToKeep,]$Count_FilterNKCytoplasm * \n",
    "                      LT[fieldToKeep,]$Mean_FilterNKCytoplasm_AreaShape_Area),\n",
    "                 LfaIntensity = LT[fieldToKeep,]$Intensity_MeanIntensity_CorrLFA_FilterNKLFA,\n",
    "                 LfaActinCorrelation = LT[fieldToKeep,]$Mean_FilterNKCytoplasm_Correlation_Correlation_CorrLFA_CorrActin,\n",
    "                 LfaArea = LT[fieldToKeep,]$Mean_FilterNKLFA_AreaShape_Area,\n",
    "                 LfaAreaOverCellArea = LT[fieldToKeep,]$Mean_FilterNKLFA_AreaShape_Area / \n",
    "                     LT[fieldToKeep,]$Mean_FilterNKCytoplasm_AreaShape_Area\n",
    "                )"
   ]
  },
  {
   "cell_type": "code",
   "execution_count": null,
   "metadata": {},
   "outputs": [],
   "source": [
    "# Export list of \"interpretable\" features\n",
    "if(!TEST_MODE){\n",
    "    write.csv(subsetLT, \"Tab/LT_ARPC1B_features.csv\", row.names = F)\n",
    "}"
   ]
  },
  {
   "cell_type": "code",
   "execution_count": null,
   "metadata": {},
   "outputs": [],
   "source": [
    "CountPerWell = aggregate(LT[fieldToKeep,]$Count_FilterNKCytoplasm, by = list(LT[fieldToKeep,]$Metadata_Well), \n",
    "                         FUN = function(x) sum(x, na.rm = T))\n",
    "names(CountPerWell) <- c(\"Well\", \"Count\")\n",
    "CountPerCoating = aggregate(LT[fieldToKeep,]$Count_FilterNKCytoplasm, by = list(LT[fieldToKeep,]$Coating), \n",
    "                            FUN = function(x) sum(x, na.rm = T))\n",
    "names(CountPerCoating) <- c(\"Coating\", \"Count\")\n",
    "CountPerDonor = aggregate(LT[fieldToKeep,]$Count_FilterNKCytoplasm, by = list(LT[fieldToKeep,]$Donor), \n",
    "                          FUN = function(x) sum(x, na.rm = T))\n",
    "names(CountPerDonor) <- c(\"Donor\", \"Count\")"
   ]
  },
  {
   "cell_type": "code",
   "execution_count": null,
   "metadata": {},
   "outputs": [],
   "source": [
    "wellCountGranules = aggregate(LT[fieldToKeep,]$Count_FilterNKPerfGranules, \n",
    "                              by = list(LT[fieldToKeep,]$Metadata_Well), FUN = sum)\n",
    "wellCountCells = aggregate(LT[fieldToKeep,]$Count_FilterNKCytoplasm, \n",
    "                           by = list(LT[fieldToKeep,]$Metadata_Well), FUN = sum)\n",
    "stopifnot(wellCountGranules$Group.1 == wellCountCells$Group.1)\n",
    "granulePerCellPerWell = data.frame(Well = wellCountGranules$Group.1, Average = wellCountGranules$x / wellCountCells$x)"
   ]
  },
  {
   "cell_type": "code",
   "execution_count": null,
   "metadata": {},
   "outputs": [],
   "source": [
    "# Export cell counts\n",
    "if(!TEST_MODE){\n",
    "    write.csv(CountPerWell, \"Tab/LT_ARPC1B_count_well.csv\", row.names = F)\n",
    "    write.csv(CountPerCoating, \"Tab/LT_ARPC1B_count_coating.csv\", row.names = F)\n",
    "    write.csv(CountPerDonor, \"Tab/LT_ARPC1B_count_donor.csv\", row.names = F)\n",
    "    write.csv(granulePerCellPerWell, \"Tab/LT_ARPC1B_average_granule_count_per_cell.csv\", row.names = F)\n",
    "}"
   ]
  },
  {
   "cell_type": "markdown",
   "metadata": {},
   "source": [
    "### Look at which types of features are kept"
   ]
  },
  {
   "cell_type": "code",
   "execution_count": null,
   "metadata": {},
   "outputs": [],
   "source": [
    "catChannel = c(\"CorrDNA\", \"CorrActin\", \"CorrPerf\", \"CorrLFA\")\n",
    "table(rowSums(sapply(catChannel, function(x) grepl(x, colnames(transformedLT)))))\n",
    "dtCat = data.frame(CountIni = sort(colSums(sapply(catChannel, function(x) grepl(x, preFiltFt)))), \n",
    "                   Count = sort(colSums(sapply(catChannel, function(x) grepl(x, colnames(transformedLT))))))\n",
    "\n",
    "dtCat$Order <- rank(dtCat$CountIni, ties.method = c(\"first\"))\n",
    "dtCat$Category <- factor(rownames(dtCat), levels=rownames(dtCat)[order(dtCat$CountIni)])\n",
    "dtCat$Ratio <- dtCat$Count / dtCat$CountIni\n",
    "dtCat$Ratio <- paste0(round(100*dtCat$Ratio, 1), \"%\")\n",
    "gp <- ggplot(dtCat) + geom_bar(aes(Category, weight = CountIni), fill = cust_pal(2)[1]) + ylim(c(0,700)) +\n",
    "              geom_bar(aes(Category, weight = Count), fill = cust_pal(2)[2]) + \n",
    "              geom_text(aes(x = Order, y = CountIni + 2, label = Ratio), hjust = 0) + coord_flip()\n",
    "gp"
   ]
  },
  {
   "cell_type": "code",
   "execution_count": null,
   "metadata": {},
   "outputs": [],
   "source": [
    "if(!TEST_MODE){\n",
    "    ggsave(filename = \"Fig/LT_ARPC1B_SelecFt_Channel.pdf\", plot = gp, width = 10)\n",
    "}"
   ]
  },
  {
   "cell_type": "code",
   "execution_count": null,
   "metadata": {},
   "outputs": [],
   "source": [
    "catObjects = c(\"FilterNKCytoplasm\", \"FilterNKLFA\", \"ShrunkenCytoplasm\", \"FilterNKNucleus\", \"FilterNKPerfGranules\")\n",
    "table(rowSums(sapply(catObjects, function(x) grepl(x, colnames(transformedLT)))))\n",
    "dtCat = data.frame(CountIni = colSums(sapply(catObjects, function(x) grepl(x, preFiltFt))), \n",
    "                   Count = colSums(sapply(catObjects, function(x) grepl(x, colnames(transformedLT)))))\n",
    "\n",
    "dtCat$Order <- rank(dtCat$CountIni, ties.method = c(\"first\"))\n",
    "dtCat$Category <- factor(rownames(dtCat), levels=rownames(dtCat)[order(dtCat$CountIni)])\n",
    "dtCat$Ratio <- dtCat$Count / dtCat$CountIni\n",
    "dtCat$Ratio <- paste0(round(100*dtCat$Ratio, 1), \"%\")\n",
    "gp <- ggplot(dtCat) + geom_bar(aes(Category, weight = CountIni), fill = cust_pal(2)[1]) + ylim(c(0,650)) +\n",
    "              geom_bar(aes(Category, weight = Count), fill = cust_pal(2)[2]) + \n",
    "              geom_text(aes(x = Order, y = CountIni + 2, label = Ratio), hjust = 0) + coord_flip()\n",
    "gp"
   ]
  },
  {
   "cell_type": "code",
   "execution_count": null,
   "metadata": {},
   "outputs": [],
   "source": [
    "if(!TEST_MODE){\n",
    "    ggsave(filename = \"Fig/LT_ARPC1B_SelecFt_Object.pdf\", plot = gp, width = 10)\n",
    "}"
   ]
  },
  {
   "cell_type": "code",
   "execution_count": null,
   "metadata": {},
   "outputs": [],
   "source": [
    "catType = c(\"Threshold\", \"Granularity\", \"ImageQuality\", \"Texture\", \"Distance\", \"AreaShape\", \"RadialDistribution\", \"Neighbors\", \n",
    "            \"Correlation\", \"Intensity\", \"Overlap\", \"Location\")\n",
    "which(rowSums(sapply(catType, function(x) grepl(x, colnames(transformedLT)))) == 0) # All features are covered\n",
    "\n",
    "dtCat = data.frame(CountIni = colSums(sapply(catType, function(x) grepl(x, preFiltFt))), \n",
    "                   Count = colSums(sapply(catType, function(x) grepl(x, colnames(transformedLT)))))\n",
    "dtCat$Order <- rank(dtCat$CountIni, ties.method = c(\"first\"))\n",
    "dtCat$Category <- factor(rownames(dtCat), levels=rownames(dtCat)[order(dtCat$CountIni)])\n",
    "dtCat$Ratio <- dtCat$Count / dtCat$CountIni\n",
    "dtCat$Ratio <- paste0(round(100*dtCat$Ratio, 1), \"%\")\n",
    "gp <- ggplot(dtCat) + geom_bar(aes(Category, weight = CountIni), fill = cust_pal(2)[1]) +\n",
    "              geom_bar(aes(Category, weight = Count), fill = cust_pal(2)[2]) + \n",
    "              geom_text(aes(x = Order, y = CountIni + 5, label = Ratio), hjust = 0) + coord_flip()\n",
    "gp"
   ]
  },
  {
   "cell_type": "code",
   "execution_count": null,
   "metadata": {},
   "outputs": [],
   "source": [
    "if(!TEST_MODE){\n",
    "    ggsave(filename = \"Fig/LT_ARPC1B_SelecFt_Type_All.pdf\", plot = gp, width = 10)\n",
    "}"
   ]
  },
  {
   "cell_type": "code",
   "execution_count": null,
   "metadata": {},
   "outputs": [],
   "source": [
    "catType = c(\"Granularity\", \"Texture\", \"AreaShape\", \"RadialDistribution\",\n",
    "            \"Correlation\", \"Intensity\")\n",
    "table(rowSums(sapply(catType, function(x) grepl(x, colnames(transformedLT)))))\n",
    "\n",
    "dtCount = as.data.frame(sapply(catType, function(x) grepl(x, colnames(transformedLT))))\n",
    "dtCount$Other = !apply(dtCount, 1, any)\n",
    "dtCountIni = as.data.frame(sapply(catType, function(x) grepl(x, preFiltFt)))\n",
    "dtCountIni$Other = !apply(dtCountIni, 1, any)\n",
    "dtCat = data.frame(CountIni = colSums(dtCountIni), \n",
    "                   Count = colSums(dtCount))\n",
    "dtCat$Order <- rank(dtCat$CountIni, ties.method = c(\"first\"))\n",
    "dtCat$Category <- factor(rownames(dtCat), levels=rownames(dtCat)[order(dtCat$CountIni)])\n",
    "dtCat$Ratio <- dtCat$Count / dtCat$CountIni\n",
    "dtCat$Ratio <- paste0(round(100*dtCat$Ratio, 1), \"%\")\n",
    "gp <- ggplot(dtCat) + geom_bar(aes(Category, weight = CountIni), fill = cust_pal(2)[1]) +\n",
    "              geom_bar(aes(Category, weight = Count), fill = cust_pal(2)[2]) + \n",
    "              geom_text(aes(x = Order, y = CountIni + 5, label = Ratio), hjust = 0) + coord_flip()\n",
    "gp"
   ]
  },
  {
   "cell_type": "code",
   "execution_count": null,
   "metadata": {},
   "outputs": [],
   "source": [
    "if(!TEST_MODE){\n",
    "    ggsave(filename = \"Fig/LT_ARPC1B_SelecFt_Type_Short.pdf\", plot = gp, width = 10)\n",
    "}"
   ]
  },
  {
   "cell_type": "code",
   "execution_count": null,
   "metadata": {},
   "outputs": [],
   "source": [
    "# Export list of features kept\n",
    "if(!TEST_MODE){\n",
    "    write.table(colnames(transformedLT), file = \"Tab/LT_ARPC1B_list_features_kept.csv\", col.names = F, row.names = F)\n",
    "}"
   ]
  },
  {
   "cell_type": "markdown",
   "metadata": {},
   "source": [
    "### Look at the morphological distribution of the fields of view"
   ]
  },
  {
   "cell_type": "code",
   "execution_count": null,
   "metadata": {},
   "outputs": [],
   "source": [
    "# Fix random number generation\n",
    "set.seed(38)"
   ]
  },
  {
   "cell_type": "code",
   "execution_count": null,
   "metadata": {},
   "outputs": [],
   "source": [
    "umTLT = umap(transformedLT, min_dist = 0.1, neighbors = 10, n = 2, metric = \"euclidean\")\n",
    "umTLT = as.data.frame(umTLT)\n",
    "names(umTLT) = paste0(\"UMAP\", 1:2)"
   ]
  },
  {
   "cell_type": "code",
   "execution_count": null,
   "metadata": {},
   "outputs": [],
   "source": [
    "umTLT$Row <- as.factor(LT$Metadata_Row[fieldToKeep])\n",
    "umTLT$Col <- as.factor(LT$Metadata_Column[fieldToKeep])\n",
    "umTLT$URL <- as.factor(LT$URL_Actin[fieldToKeep])\n",
    "umTLT$Coating <- as.factor(LT$Coating[fieldToKeep])\n",
    "umTLT$Donor <- as.factor(LT$Donor[fieldToKeep])\n",
    "umTLT$Well <- as.factor(LT$Metadata_Well[fieldToKeep])"
   ]
  },
  {
   "cell_type": "code",
   "execution_count": null,
   "metadata": {},
   "outputs": [],
   "source": [
    "gp <- ggplot(umTLT) + geom_point(aes(UMAP1, UMAP2, color = Donor))\n",
    "gp"
   ]
  },
  {
   "cell_type": "code",
   "execution_count": null,
   "metadata": {},
   "outputs": [],
   "source": [
    "if(!TEST_MODE){\n",
    "    ggsave(filename = \"Fig/LT_ARPC1B_UMAP_all_donors.pdf\", plot = gp, width = 10)\n",
    "}"
   ]
  },
  {
   "cell_type": "code",
   "execution_count": null,
   "metadata": {
    "scrolled": false
   },
   "outputs": [],
   "source": [
    "gp <- ggplot(umTLT) + geom_point(aes(UMAP1, UMAP2, color = Coating))\n",
    "gp"
   ]
  },
  {
   "cell_type": "code",
   "execution_count": null,
   "metadata": {},
   "outputs": [],
   "source": [
    "umTLT$Count <- LT$Count_FilterNKNucleus[fieldToKeep]\n",
    "gp <- ggplot(umTLT) + geom_point(aes(UMAP1, UMAP2, color = Count))\n",
    "gp"
   ]
  },
  {
   "cell_type": "markdown",
   "metadata": {},
   "source": [
    "    umTLT$Labs = ifelse((umTLT$UMAP2 > 20), str_extract(umTLT$URL, \"r..c..f..\"), \"\")\n",
    "    gp <- ggplot(umTLT) + geom_point(aes(UMAP1, UMAP2, color = Donor))\n",
    "    gp + geom_text_repel(aes(UMAP1, UMAP2, label = Labs))"
   ]
  },
  {
   "cell_type": "code",
   "execution_count": null,
   "metadata": {},
   "outputs": [],
   "source": [
    "umXlim = ggplot_build(gp)$layout$panel_scales_x[[1]]$range$range\n",
    "umYlim = ggplot_build(gp)$layout$panel_scales_y[[1]]$range$range"
   ]
  },
  {
   "cell_type": "code",
   "execution_count": null,
   "metadata": {},
   "outputs": [],
   "source": [
    "# Display separately the two coatings on a UMAP plot computed for both\n",
    "sharedUmapCoating <- function(coating){\n",
    "    umCoating = umTLT[LT$Coating[fieldToKeep] == coating,]\n",
    "    \n",
    "    gp <- ggplot(umCoating) + geom_point(aes(UMAP1, UMAP2, color = Donor)) +\n",
    "          xlim(umXlim) + ylim(umYlim)\n",
    "    print(gp)\n",
    "    ggsave(filename = paste(\"Fig/LT_ARPC1B_UMAP\", coating, \"coating.pdf\", sep = \"_\"), plot = gp, width = 10)\n",
    "}"
   ]
  },
  {
   "cell_type": "code",
   "execution_count": null,
   "metadata": {
    "scrolled": false
   },
   "outputs": [],
   "source": [
    "if(TEST_MODE){\n",
    "    sapply(levels(droplevels(umTLT$Coating)), sharedUmapCoating)\n",
    "}"
   ]
  },
  {
   "cell_type": "markdown",
   "metadata": {},
   "source": [
    "#### Distances to ND cells"
   ]
  },
  {
   "cell_type": "code",
   "execution_count": null,
   "metadata": {},
   "outputs": [],
   "source": [
    "umTLT = umap(transformedLT, min_dist = 0.1, neighbors = 10, n = dimUMAP, metric = \"euclidean\")\n",
    "umTLT = as.data.frame(umTLT)\n",
    "names(umTLT) = paste0(\"UMAP\", 1:dimUMAP)"
   ]
  },
  {
   "cell_type": "code",
   "execution_count": null,
   "metadata": {},
   "outputs": [],
   "source": [
    "# Compute the median Robust Mahalanobis Distance (RMD) between drugs\n",
    "condRMD <- function(donor, coating){\n",
    "    setUmapDonor = umTLT[(LT[fieldToKeep,]$Donor == donor)&(LT[fieldToKeep,]$Coating == coating),1:dimUMAP]\n",
    "    setUmapWT = umTLT[which((LT[fieldToKeep,]$ND)&(LT[fieldToKeep,]$Coating == coating)),1:dimUMAP]\n",
    "    \n",
    "    # Ensure that we have enough points to compute distance\n",
    "    if ((dim(setUmapDonor)[1] < 2*dimUMAP)|(dim(setUmapWT)[1] < 2*dimUMAP)){\n",
    "            print(donor, coating)\n",
    "            return(NA)\n",
    "    }\n",
    "    \n",
    "    # Compute Minimum Covariance Determinant and corresponding Robust Mahalanobis Distance\n",
    "    mcdWT = covMcd(setUmapWT)\n",
    "    RMD = median(apply(setUmapDonor, 1, function(x) mahalanobis(x, mcdWT$center, mcdWT$cov)))\n",
    "    return(RMD)\n",
    "}"
   ]
  },
  {
   "cell_type": "code",
   "execution_count": null,
   "metadata": {},
   "outputs": [],
   "source": [
    "shuffCondRMD <- function(donor, coating, nbRep = PERM_NB_ITER){\n",
    "    setUmapDonor = umTLT[(LT[fieldToKeep,]$Donor == donor)&(LT[fieldToKeep,]$Coating == coating),1:dimUMAP]\n",
    "    setUmapWT = umTLT[which((LT[fieldToKeep,]$ND)&(LT[fieldToKeep,]$Coating == coating)),1:dimUMAP]\n",
    "    setUMAP = rbind(setUmapWT,setUmapDonor)\n",
    "    shuffleRMD <- function(notUsed){\n",
    "        shuffSetUMAP = setUMAP[sample(nrow(setUMAP)),]\n",
    "        # Take random subsets of corresponding sizes\n",
    "        shuffSetDonor = shuffSetUMAP[1:nrow(setUmapDonor),]\n",
    "        shuffSetWT = shuffSetUMAP[(nrow(setUmapDonor)+1):(nrow(setUmapDonor)+nrow(setUmapWT)),]\n",
    "        \n",
    "        # Ensure that we have enough points to compute distance\n",
    "        if ((dim(shuffSetDonor)[1] < 2*dimUMAP)|(dim(shuffSetWT)[1] < 2*dimUMAP)){\n",
    "                print(donor, coating)\n",
    "                return(NA)\n",
    "        }\n",
    "        \n",
    "        # Compute Minimum Covariance Determinant and corresponding Robust Mahalanobis Distance\n",
    "        mcdWT = covMcd(shuffSetWT)\n",
    "        RMD = median(apply(shuffSetDonor, 1, function(x) mahalanobis(x, mcdWT$center, mcdWT$cov)))\n",
    "        return(RMD)\n",
    "    }\n",
    "    return(sapply(1:nbRep, shuffleRMD))\n",
    "}"
   ]
  },
  {
   "cell_type": "code",
   "execution_count": null,
   "metadata": {},
   "outputs": [],
   "source": [
    "getRMPV <- function(x){\n",
    "    ecdfRMD = ecdf(x[-1])\n",
    "    return(1 - ecdfRMD(x[1]))\n",
    "}"
   ]
  },
  {
   "cell_type": "code",
   "execution_count": null,
   "metadata": {},
   "outputs": [],
   "source": [
    "for (coating in levels(droplevels(LT$Coating[fieldToKeep]))){\n",
    "    RMD_LT = sapply(levels(droplevels(LT$Donor[fieldToKeep])), function(x) condRMD(x, coating))\n",
    "    shuffRMD_LT = sapply(levels(droplevels(LT$Donor[fieldToKeep])), function(x) shuffCondRMD(x, coating))\n",
    "    dfRMPV = data.frame(RMPV = apply(rbind(RMD_LT, shuffRMD_LT), 2, getRMPV))\n",
    "    dfRMPV$Donor = rownames(dfRMPV)\n",
    "    dfRMPV$Strength = RMD_LT\n",
    "    dfRMPV$adjRMPV = p.adjust(dfRMPV$RMPV, method = \"fdr\") \n",
    "    gp <- ggplot(dfRMPV) + geom_point(aes(adjRMPV, Strength, color = Donor)) + \n",
    "        geom_vline(xintercept = 0.05, color=\"#CCCCCC\", linetype=\"dashed\")\n",
    "    print(gp)\n",
    "    if(!TEST_MODE){\n",
    "        ggsave(filename = paste(\"Fig/LT_ARPC1B_RMPV\", coating, \"Donors.pdf\", sep = \"_\"), gp, width = 10)\n",
    "    }\n",
    "}"
   ]
  },
  {
   "cell_type": "markdown",
   "metadata": {},
   "source": [
    "### Morphological changes in patients"
   ]
  },
  {
   "cell_type": "code",
   "execution_count": null,
   "metadata": {},
   "outputs": [],
   "source": [
    "# Associate categories and colors to features\n",
    "catType = c(\"Granularity\", \"Texture\", \"AreaShape\", \"RadialDistribution\",\n",
    "            \"Intensity\")\n",
    "colType = cust_pal(length(catType)+1)\n",
    "\n",
    "dtCount = as.data.frame(sapply(catType, function(x) grepl(x, colnames(transformedLT))))\n",
    "dtCount$Other = !apply(dtCount, 1, any)\n",
    " \n",
    "ftCat = as.factor(apply(dtCount, 1, function(x) colnames(dtCount)[which(x)]))\n",
    "\n",
    "# Order levels so that \"Other\" is last\n",
    "lvOther = which(levels(ftCat) == \"Other\")\n",
    "ftCat = factor(ftCat, levels = c(levels(ftCat)[-lvOther], \"Other\"))\n",
    "       \n",
    "# Corresponding colors\n",
    "ftCol = colType[ftCat]"
   ]
  },
  {
   "cell_type": "code",
   "execution_count": null,
   "metadata": {},
   "outputs": [],
   "source": [
    "# Plot number of images / categories (useful to get fill color legend)\n",
    "gp <- ggplot(data.frame(Category = ftCat), aes(fill = Category)) + geom_bar(aes(Category))\n",
    "if(!TEST_MODE){\n",
    "    ggsave(filename = \"Fig/LT_ARPC1B_CatCount.pdf\", plot = gp, width = 10)\n",
    "}"
   ]
  },
  {
   "cell_type": "markdown",
   "metadata": {},
   "source": [
    "## Prediction of CD3 concentration based on morphology\n",
    "5CV + 1 fold validation\n"
   ]
  },
  {
   "cell_type": "code",
   "execution_count": null,
   "metadata": {},
   "outputs": [],
   "source": [
    "set.seed(38)"
   ]
  },
  {
   "cell_type": "code",
   "execution_count": null,
   "metadata": {},
   "outputs": [],
   "source": [
    "indIcamDonor = (LT$Coating[fieldToKeep] != \"PLL\")&LT$ND[fieldToKeep]\n",
    "icamDonorLT = transformedLT[indIcamDonor,]"
   ]
  },
  {
   "cell_type": "code",
   "execution_count": null,
   "metadata": {},
   "outputs": [],
   "source": [
    "# Number of images per fold (5CV + validation set)\n",
    "nbSampTestSet = round(nrow(icamDonorLT)/6)"
   ]
  },
  {
   "cell_type": "code",
   "execution_count": null,
   "metadata": {},
   "outputs": [],
   "source": [
    "# Shuffle images\n",
    "idImages = sample(nrow(icamDonorLT))\n",
    "\n",
    "# Last fold will be used as validation set\n",
    "validationSet = as.data.frame(icamDonorLT[-idImages[1:(nbSampTestSet*5)],])\n",
    "validationSet$Coating = droplevels(LT$Coating[fieldToKeep][indIcamDonor][-idImages[1:(nbSampTestSet*5)]])\n",
    "\n",
    "table(validationSet$Coating)"
   ]
  },
  {
   "cell_type": "code",
   "execution_count": null,
   "metadata": {},
   "outputs": [],
   "source": [
    "# F1 score for a given level\n",
    "F1pred <- function(preds, obs, curLvl){\n",
    "    TP = sum((preds == curLvl) & (obs == curLvl))\n",
    "    FP = sum((preds == curLvl) & (obs != curLvl))\n",
    "    TN = sum((preds != curLvl) & (obs != curLvl))\n",
    "    FN = sum((preds != curLvl) & (obs == curLvl))\n",
    "    stopifnot(length(preds) == TP+FP+TN+FN)\n",
    "    stopifnot(length(obs) == TP+FP+TN+FN)\n",
    "    return((2*TP)/(2*TP+FN+FP))\n",
    "}"
   ]
  },
  {
   "cell_type": "code",
   "execution_count": null,
   "metadata": {},
   "outputs": [],
   "source": [
    "# Perform random forest cross-validation on a given dataset\n",
    "crossValRF <- function(dataset, folds, nbSampTestSet, idImages, mtryRange, nbTrees = RF_NB_TREES){\n",
    "    # Fitness matrix (F1 score between 0 and 1, with 1 optimal)\n",
    "    fitMat = matrix(ncol = folds, nrow = length(mtryRange))\n",
    "    rownames(fitMat) <- as.character(mtryRange)\n",
    "    for (mtryId in 1:length(mtryRange)) {\n",
    "        curMtry = mtryRange[mtryId]\n",
    "        print(paste(\"Mtry\", curMtry))\n",
    "        for (fold in 1:folds) {\n",
    "            print(paste(\"Fold\", fold))\n",
    "            foldInd = ((fold-1)*nbSampTestSet+1):(fold*nbSampTestSet)\n",
    "            testSet = dataset[foldInd,]\n",
    "            trainSet = dataset[-foldInd,]\n",
    "\n",
    "            # All classes are present in train and test sets\n",
    "            stopifnot(length(table(testSet$Coating)) == 2)\n",
    "            stopifnot(length(table(trainSet$Coating)) == 2)\n",
    "\n",
    "            rf = randomForest(Coating ~ ., data = trainSet, mtry = curMtry, ntree = nbTrees)\n",
    "\n",
    "            print(paste(\"Mean class error\", mean(rf$confusion[,3])))\n",
    "            # Prediction on test set\n",
    "            preds <- predict(rf, testSet)\n",
    "            # Accuracy\n",
    "            print(paste(\"Accuracy\", mean(preds == testSet$Coating)))\n",
    "            # Macro F1 score\n",
    "            fitMat[mtryId, fold] = mean(sapply(levels(testSet$Coating), \n",
    "                        function(x) F1pred(preds, testSet$Coating, x)))\n",
    "            flush.console()\n",
    "        }\n",
    "    }\n",
    "    return(fitMat)\n",
    "}"
   ]
  },
  {
   "cell_type": "code",
   "execution_count": null,
   "metadata": {},
   "outputs": [],
   "source": [
    "datasetCV = as.data.frame(icamDonorLT[idImages[1:(nbSampTestSet*5)],])\n",
    "datasetCV$Coating = droplevels(LT$Coating[fieldToKeep][indIcamDonor][idImages[1:(nbSampTestSet*5)]])\n",
    "CM = crossValRF(dataset = datasetCV, folds = 5, nbSampTestSet = nbSampTestSet, \n",
    "                idImages = idImages, mtryRange = c(20, 30, 40, 50, 60, 70, 80, 90))"
   ]
  },
  {
   "cell_type": "code",
   "execution_count": null,
   "metadata": {},
   "outputs": [],
   "source": [
    "CM\n",
    "rowMeans(CM)\n",
    "optiMtry = as.numeric(rownames(CM)[rowMeans(CM) == max(rowMeans(CM))])"
   ]
  },
  {
   "cell_type": "code",
   "execution_count": null,
   "metadata": {},
   "outputs": [],
   "source": [
    "optiMtry\n",
    "fullRF = randomForest(Coating ~ ., data = datasetCV, mtry = optiMtry, ntree = RF_NB_TREES, localImp = T)"
   ]
  },
  {
   "cell_type": "code",
   "execution_count": null,
   "metadata": {},
   "outputs": [],
   "source": [
    "preds <- predict(fullRF, validationSet)\n",
    "# Accuracy\n",
    "print(paste(\"Validation accuracy\", mean(preds == validationSet$Coating)))\n",
    "# Macro F1-score\n",
    "mean(sapply(levels(validationSet$Coating), \n",
    "            function(x) F1pred(preds, validationSet$Coating, x)))"
   ]
  },
  {
   "cell_type": "code",
   "execution_count": null,
   "metadata": {},
   "outputs": [],
   "source": [
    "fullRF"
   ]
  },
  {
   "cell_type": "markdown",
   "metadata": {},
   "source": [
    "### Output confusion matrix"
   ]
  },
  {
   "cell_type": "code",
   "execution_count": null,
   "metadata": {},
   "outputs": [],
   "source": [
    "confMat = data.frame(Observed = rep(levels(validationSet$Coating), each = length(levels(validationSet$Coating))),\n",
    "                     Predicted = rep(levels(validationSet$Coating), length(levels(validationSet$Coating))),\n",
    "                     Count = 0)\n",
    "# Color: white on diagonal (for text readability)\n",
    "confMat$Color = ifelse(confMat$Observed == confMat$Predicted, \"#FFFFFF\", \"#333333\")"
   ]
  },
  {
   "cell_type": "code",
   "execution_count": null,
   "metadata": {},
   "outputs": [],
   "source": [
    "for (i in 1:nrow(validationSet)){\n",
    "    idMat = (confMat$Observed == validationSet$Coating[i]) & (confMat$Predicted == preds[i])\n",
    "    confMat$Count[idMat] = confMat$Count[idMat] + 1\n",
    "}\n",
    "\n",
    "head(confMat)"
   ]
  },
  {
   "cell_type": "code",
   "execution_count": null,
   "metadata": {},
   "outputs": [],
   "source": [
    "totalDF = aggregate(confMat$Count, by = list(confMat$Observed), FUN = sum)\n",
    "names(totalDF) <- c(\"Observed\", \"Count\")\n",
    "totalDF$Predicted = \"Total\"\n",
    "totalDF$Color = \"#FFFFFF\"\n",
    "confMat = rbind(confMat, totalDF)"
   ]
  },
  {
   "cell_type": "code",
   "execution_count": null,
   "metadata": {},
   "outputs": [],
   "source": [
    "f1DF = as.data.frame(round(sapply(levels(validationSet$Coating), \n",
    "            function(x) F1pred(preds, validationSet$Coating, x)), 2))\n",
    "names(f1DF) <- \"Count\"\n",
    "f1DF$Observed = rownames(f1DF)\n",
    "f1DF$Predicted = \"F1 score\"\n",
    "f1DF$Color = \"#333333\"\n",
    "confMat = rbind(confMat, f1DF)"
   ]
  },
  {
   "cell_type": "code",
   "execution_count": null,
   "metadata": {},
   "outputs": [],
   "source": [
    "# Change coating labels\n",
    "levels(confMat$Observed) = c(\"1µg/ml\", \"10µg/ml\")\n",
    "confMat$Observed = factor(confMat$Observed, \n",
    "                          levels = rev(levels(confMat$Observed)))\n",
    "levels(confMat$Predicted) = c(\"1µg/ml\", \"10µg/ml\", 'Total', 'F1 score') "
   ]
  },
  {
   "cell_type": "code",
   "execution_count": null,
   "metadata": {},
   "outputs": [],
   "source": [
    "gp <- ggplot(confMat, aes(Predicted, Observed)) + geom_tile(aes(fill = Count)) +\n",
    "    geom_text(aes(label = Count, color = Color), size = 8) + scale_color_identity() +\n",
    "    guides(fill = F) + theme(axis.text = element_text(size = 24), axis.title = element_text(size = 24)) +\n",
    "    geom_vline(xintercept = 2.5, color = \"#FFFFFF\", size = 1.5)\n",
    "gp"
   ]
  },
  {
   "cell_type": "code",
   "execution_count": null,
   "metadata": {},
   "outputs": [],
   "source": [
    "if(!TEST_MODE){\n",
    "    ggsave(filename = \"Fig/LT_ARPC1B_CD3_concentration_prediction.pdf\", plot = gp, width = 10)\n",
    "}"
   ]
  },
  {
   "cell_type": "markdown",
   "metadata": {},
   "source": [
    "### Combination of features by feature type and biological object"
   ]
  },
  {
   "cell_type": "code",
   "execution_count": null,
   "metadata": {},
   "outputs": [],
   "source": [
    "catObjects = c(\"FilterNKCytoplasm\", \"FilterNKLFA\", \"ShrunkenCytoplasm\", \"FilterNKNucleus\", \"FilterNKPerfGranules\")\n",
    "dtCount = as.data.frame(sapply(catObjects, function(x) grepl(x, colnames(transformedLT))))\n",
    "dtCount$Other = apply(dtCount, 1, function(x) sum(x) != 1)\n",
    "# Features matching several objects are classified as \"Other\"\n",
    "dtCount[dtCount$Other,-6] <- F"
   ]
  },
  {
   "cell_type": "code",
   "execution_count": null,
   "metadata": {},
   "outputs": [],
   "source": [
    "ftCatObj = as.factor(apply(dtCount, 1, function(x) colnames(dtCount)[which(x)]))\n",
    "\n",
    "# Rename to useful names\n",
    "levels(ftCatObj) <- str_remove(string = levels(ftCatObj), pattern = \"FilterNK\")\n",
    "levels(ftCatObj)[levels(ftCatObj) %in% c(\"LFA\", \"ShrunkenCytoplasm\")] <- \"Cytoplasm\"\n",
    "                           \n",
    "# Order levels so that \"Other\" is last\n",
    "lvOther = which(levels(ftCatObj) == \"Other\")\n",
    "ftCatObj = factor(ftCatObj, levels = c(levels(ftCatObj)[-lvOther], \"Other\"))\n",
    "     \n",
    "# Combination of feature category and biological object described\n",
    "combFtCat = paste(ftCat, ftCatObj, sep = \" / \")"
   ]
  },
  {
   "cell_type": "code",
   "execution_count": null,
   "metadata": {},
   "outputs": [],
   "source": [
    "combImpDF = aggregate(fullRF$importance[,colnames(fullRF$importance) == \"MeanDecreaseAccuracy\"],\n",
    "                      by = list(combFtCat), FUN = sum)\n",
    "combImpDF = cbind(combImpDF, aggregate(fullRF$importance[,colnames(fullRF$importance) == \"MeanDecreaseAccuracy\"],\n",
    "                      by = list(combFtCat), FUN = length)[,2], \"Cumulated\")\n",
    "names(combImpDF) = c(\"Type\", \"Count\", \"Cardinality\", \"CountType\")\n",
    "combImpDF$Type = factor(combImpDF$Type, levels = combImpDF$Type[order(combImpDF$Count)])"
   ]
  },
  {
   "cell_type": "code",
   "execution_count": null,
   "metadata": {},
   "outputs": [],
   "source": [
    "# Add counts normalized by number of feature in a given type\n",
    "\n",
    "# Visual correction: a bar with this absolute count will have an average bar of equal size\n",
    "visNormFactor = 5\n",
    "relDF = data.frame(Type = combImpDF$Type, \n",
    "                   Count = -visNormFactor * combImpDF$Count / combImpDF$Cardinality,\n",
    "                   Cardinality = NA, CountType = \"Average\")\n",
    "combImpDF = rbind(combImpDF, relDF)"
   ]
  },
  {
   "cell_type": "code",
   "execution_count": null,
   "metadata": {},
   "outputs": [],
   "source": [
    "gp <- ggplot(combImpDF) + geom_col(aes(Type, Count, fill = Cardinality)) +\n",
    "                    xlab(\"Feature type / object\") + ylab(\"Importance\") + coord_flip() +\n",
    "                    guides(fill = F) + geom_text(aes(x = Type, y = Count + 0.002, label = Cardinality), size = 4) +\n",
    "                    scale_y_continuous(breaks = seq(-0.05, 0.07, 0.01), \n",
    "                                       labels = c(abs(seq(-0.05, -0.001, 0.01)/visNormFactor),seq(0, 0.07, 0.01))) +\n",
    "                    geom_hline(yintercept = 0, color = \"#333333\") +\n",
    "                    annotate(\"text\", x = 1, y = 0.05, label = \"Cumulated\") +\n",
    "                    annotate(\"text\", x = 1, y = - 0.025, label = \"Average\")\n",
    "gp"
   ]
  },
  {
   "cell_type": "code",
   "execution_count": null,
   "metadata": {},
   "outputs": [],
   "source": [
    "if(!TEST_MODE){\n",
    "    ggsave(filename = \"Fig/LT_ARPC1B_CD3_concentration_prediction_features.pdf\", plot = gp, height = 5, width = 10)\n",
    "}"
   ]
  },
  {
   "cell_type": "markdown",
   "metadata": {},
   "source": [
    "## Prediction of ARPC1B status based on morphology"
   ]
  },
  {
   "cell_type": "markdown",
   "metadata": {},
   "source": [
    "5CV + 1 fold validation"
   ]
  },
  {
   "cell_type": "code",
   "execution_count": null,
   "metadata": {},
   "outputs": [],
   "source": [
    "set.seed(38)"
   ]
  },
  {
   "cell_type": "code",
   "execution_count": null,
   "metadata": {},
   "outputs": [],
   "source": [
    "indIcam10 = (LT$Coating[fieldToKeep] == \"Icam 10\")\n",
    "icamLT = transformedLT[indIcam10,]"
   ]
  },
  {
   "cell_type": "code",
   "execution_count": null,
   "metadata": {},
   "outputs": [],
   "source": [
    "# Number of images per fold (5CV + validation set)\n",
    "nbSampTestSet = round(nrow(icamLT)/6)"
   ]
  },
  {
   "cell_type": "code",
   "execution_count": null,
   "metadata": {},
   "outputs": [],
   "source": [
    "# Shuffle images\n",
    "idImages = sample(nrow(icamLT))\n",
    "\n",
    "# Last fold will be used as validation set\n",
    "validationSet = as.data.frame(icamLT[-idImages[1:(nbSampTestSet*5)],])\n",
    "validationSet$ND = as.factor(LT$Patient[fieldToKeep][indIcam10][-idImages[1:(nbSampTestSet*5)]])\n",
    "\n",
    "table(validationSet$ND)"
   ]
  },
  {
   "cell_type": "code",
   "execution_count": null,
   "metadata": {},
   "outputs": [],
   "source": [
    "# F1 score for a given level\n",
    "F1pred <- function(preds, obs, curLvl){\n",
    "    TP = sum((preds == curLvl) & (obs == curLvl))\n",
    "    FP = sum((preds == curLvl) & (obs != curLvl))\n",
    "    TN = sum((preds != curLvl) & (obs != curLvl))\n",
    "    FN = sum((preds != curLvl) & (obs == curLvl))\n",
    "    stopifnot(length(preds) == TP+FP+TN+FN)\n",
    "    stopifnot(length(obs) == TP+FP+TN+FN)\n",
    "    return((2*TP)/(2*TP+FN+FP))\n",
    "}"
   ]
  },
  {
   "cell_type": "code",
   "execution_count": null,
   "metadata": {},
   "outputs": [],
   "source": [
    "# Perform random forest cross-validation on a given dataset\n",
    "crossValRF <- function(dataset, folds, nbSampTestSet, idImages, mtryRange, nbTrees = RF_NB_TREES){\n",
    "    # Fitness matrix (F1 score between 0 and 1, with 1 optimal)\n",
    "    fitMat = matrix(ncol = folds, nrow = length(mtryRange))\n",
    "    rownames(fitMat) <- as.character(mtryRange)\n",
    "    for (mtryId in 1:length(mtryRange)) {\n",
    "        curMtry = mtryRange[mtryId]\n",
    "        print(paste(\"Mtry\", curMtry))\n",
    "        for (fold in 1:folds) {\n",
    "            print(paste(\"Fold\", fold))\n",
    "            foldInd = ((fold-1)*nbSampTestSet+1):(fold*nbSampTestSet)\n",
    "            testSet = dataset[foldInd,]\n",
    "            trainSet = dataset[-foldInd,]\n",
    "\n",
    "            # All classes are present in train and test sets\n",
    "            stopifnot(length(table(testSet$ND)) == 3)\n",
    "            stopifnot(length(table(trainSet$ND)) == 3)\n",
    "\n",
    "            rf = randomForest(ND ~ ., data = trainSet, mtry = curMtry, ntree = nbTrees)\n",
    "\n",
    "            print(paste(\"Mean class error\", mean(rf$confusion[,3])))\n",
    "            # Prediction on test set\n",
    "            preds <- predict(rf, testSet)\n",
    "            # Accuracy\n",
    "            print(paste(\"Accuracy\", mean(preds == testSet$ND)))\n",
    "            # Macro F1 score\n",
    "            fitMat[mtryId, fold] = mean(sapply(levels(testSet$ND), \n",
    "                        function(x) F1pred(preds, testSet$ND, x)))\n",
    "            flush.console()\n",
    "        }\n",
    "    }\n",
    "    return(fitMat)\n",
    "}"
   ]
  },
  {
   "cell_type": "code",
   "execution_count": null,
   "metadata": {},
   "outputs": [],
   "source": [
    "datasetCV = as.data.frame(icamLT[idImages[1:(nbSampTestSet*5)],])\n",
    "datasetCV$ND = as.factor(LT$Patient[fieldToKeep][indIcam10][idImages[1:(nbSampTestSet*5)]])\n",
    "CM = crossValRF(dataset = datasetCV, folds = 5, nbSampTestSet = nbSampTestSet, \n",
    "                idImages = idImages, mtryRange = c(20, 30, 40, 50, 60, 70, 80, 90))"
   ]
  },
  {
   "cell_type": "code",
   "execution_count": null,
   "metadata": {},
   "outputs": [],
   "source": [
    "CM\n",
    "rowMeans(CM)\n",
    "optiMtry = as.numeric(rownames(CM)[rowMeans(CM) == max(rowMeans(CM))])[1]"
   ]
  },
  {
   "cell_type": "code",
   "execution_count": null,
   "metadata": {},
   "outputs": [],
   "source": [
    "optiMtry\n",
    "fullRF = randomForest(ND ~ ., data = datasetCV, mtry = optiMtry, ntree = RF_NB_TREES, localImp = T)"
   ]
  },
  {
   "cell_type": "code",
   "execution_count": null,
   "metadata": {},
   "outputs": [],
   "source": [
    "preds <- predict(fullRF, validationSet)\n",
    "# Accuracy\n",
    "print(paste(\"Validation accuracy\", mean(preds == validationSet$ND)))\n",
    "# Macro F1-score\n",
    "mean(sapply(levels(validationSet$ND), \n",
    "            function(x) F1pred(preds, validationSet$ND, x)))"
   ]
  },
  {
   "cell_type": "code",
   "execution_count": null,
   "metadata": {},
   "outputs": [],
   "source": [
    "fullRF"
   ]
  },
  {
   "cell_type": "markdown",
   "metadata": {},
   "source": [
    "### Output confusion matrix"
   ]
  },
  {
   "cell_type": "code",
   "execution_count": null,
   "metadata": {},
   "outputs": [],
   "source": [
    "confMat = data.frame(Observed = rep(levels(validationSet$ND), each = length(levels(validationSet$ND))),\n",
    "                     Predicted = rep(levels(validationSet$ND), length(levels(validationSet$ND))),\n",
    "                     Count = 0)\n",
    "# Color: white on diagonal (for text readability)\n",
    "confMat$Color = ifelse(confMat$Observed == confMat$Predicted, \"#FFFFFF\", \"#333333\")"
   ]
  },
  {
   "cell_type": "code",
   "execution_count": null,
   "metadata": {},
   "outputs": [],
   "source": [
    "for (i in 1:nrow(validationSet)){\n",
    "    idMat = (confMat$Observed == validationSet$ND[i]) & (confMat$Predicted == preds[i])\n",
    "    confMat$Count[idMat] = confMat$Count[idMat] + 1\n",
    "}\n",
    "\n",
    "head(confMat)"
   ]
  },
  {
   "cell_type": "code",
   "execution_count": null,
   "metadata": {},
   "outputs": [],
   "source": [
    "totalDF = aggregate(confMat$Count, by = list(confMat$Observed), FUN = sum)\n",
    "names(totalDF) <- c(\"Observed\", \"Count\")\n",
    "totalDF$Predicted = \"Total\"\n",
    "totalDF$Color = \"#FFFFFF\"\n",
    "confMat = rbind(confMat, totalDF)"
   ]
  },
  {
   "cell_type": "code",
   "execution_count": null,
   "metadata": {},
   "outputs": [],
   "source": [
    "f1DF = as.data.frame(round(sapply(levels(validationSet$ND), \n",
    "            function(x) F1pred(preds, validationSet$ND, x)), 2))\n",
    "names(f1DF) <- \"Count\"\n",
    "f1DF$Observed = rownames(f1DF)\n",
    "f1DF$Predicted = \"F1 score\"\n",
    "f1DF$Color = \"#333333\"\n",
    "confMat = rbind(confMat, f1DF)"
   ]
  },
  {
   "cell_type": "code",
   "execution_count": null,
   "metadata": {},
   "outputs": [],
   "source": [
    "# Change coating labels\n",
    "levels(confMat$Observed) = c(\"Normal donor\", \"Patient 1\", \"Patient 2\")\n",
    "confMat$Observed = factor(confMat$Observed, \n",
    "                          levels = rev(levels(confMat$Observed)))\n",
    "levels(confMat$Predicted) = c(levels(confMat$Observed), 'Total', 'F1 score') "
   ]
  },
  {
   "cell_type": "code",
   "execution_count": null,
   "metadata": {},
   "outputs": [],
   "source": [
    "gp <- ggplot(confMat, aes(Predicted, Observed)) + geom_tile(aes(fill = Count)) +\n",
    "    geom_text(aes(label = Count, color = Color), size = 8) + scale_color_identity() +\n",
    "    guides(fill = F) + theme(axis.text.x = element_text(angle = 45, hjust = 1, vjust = 1), \n",
    "                             axis.text = element_text(size = 24), axis.title = element_text(size = 24)) +\n",
    "    geom_vline(xintercept = 3.5, color = \"#FFFFFF\", size = 1.5)\n",
    "gp"
   ]
  },
  {
   "cell_type": "code",
   "execution_count": null,
   "metadata": {},
   "outputs": [],
   "source": [
    "if(!TEST_MODE){\n",
    "    ggsave(filename = \"Fig/LT_ARPC1B_status_prediction.pdf\", plot = gp, width = 10)\n",
    "}"
   ]
  },
  {
   "cell_type": "markdown",
   "metadata": {},
   "source": [
    "### Combination of features by feature type and biological object"
   ]
  },
  {
   "cell_type": "markdown",
   "metadata": {},
   "source": [
    "#### Features important for overall prediction"
   ]
  },
  {
   "cell_type": "code",
   "execution_count": null,
   "metadata": {},
   "outputs": [],
   "source": [
    "catObjects = c(\"FilterNKCytoplasm\", \"FilterNKLFA\", \"ShrunkenCytoplasm\", \"FilterNKNucleus\", \"FilterNKPerfGranules\")\n",
    "dtCount = as.data.frame(sapply(catObjects, function(x) grepl(x, colnames(transformedLT))))\n",
    "dtCount$Other = apply(dtCount, 1, function(x) sum(x) != 1)\n",
    "# Features matching several objects are classified as \"Other\"\n",
    "dtCount[dtCount$Other,-6] <- F"
   ]
  },
  {
   "cell_type": "code",
   "execution_count": null,
   "metadata": {},
   "outputs": [],
   "source": [
    "ftCatObj = as.factor(apply(dtCount, 1, function(x) colnames(dtCount)[which(x)]))\n",
    "\n",
    "# Rename to useful names\n",
    "levels(ftCatObj) <- str_remove(string = levels(ftCatObj), pattern = \"FilterNK\")\n",
    "levels(ftCatObj)[levels(ftCatObj) %in% c(\"LFA\", \"ShrunkenCytoplasm\")] <- \"Cytoplasm\"\n",
    "                           \n",
    "# Order levels so that \"Other\" is last\n",
    "lvOther = which(levels(ftCatObj) == \"Other\")\n",
    "ftCatObj = factor(ftCatObj, levels = c(levels(ftCatObj)[-lvOther], \"Other\"))\n",
    "     \n",
    "# Combination of feature category and biological object described\n",
    "combFtCat = paste(ftCat, ftCatObj, sep = \" / \")"
   ]
  },
  {
   "cell_type": "code",
   "execution_count": null,
   "metadata": {},
   "outputs": [],
   "source": [
    "combImpDF = aggregate(fullRF$importance[,colnames(fullRF$importance) == \"MeanDecreaseAccuracy\"],\n",
    "                      by = list(combFtCat), FUN = sum)\n",
    "combImpDF = cbind(combImpDF, aggregate(fullRF$importance[,colnames(fullRF$importance) == \"MeanDecreaseAccuracy\"],\n",
    "                      by = list(combFtCat), FUN = length)[,2], \"Cumulated\")\n",
    "names(combImpDF) = c(\"Type\", \"Count\", \"Cardinality\", \"CountType\")\n",
    "combImpDF$Type = factor(combImpDF$Type, levels = combImpDF$Type[order(combImpDF$Count)])"
   ]
  },
  {
   "cell_type": "code",
   "execution_count": null,
   "metadata": {},
   "outputs": [],
   "source": [
    "# Add counts normalized by number of feature in a given type\n",
    "\n",
    "# Visual correction: a bar with this absolute count will have an average bar of equal size\n",
    "visNormFactor = 20\n",
    "relDF = data.frame(Type = combImpDF$Type, \n",
    "                   Count = -visNormFactor * combImpDF$Count / combImpDF$Cardinality,\n",
    "                   Cardinality = NA, CountType = \"Average\")\n",
    "combImpDF = rbind(combImpDF, relDF)"
   ]
  },
  {
   "cell_type": "code",
   "execution_count": null,
   "metadata": {},
   "outputs": [],
   "source": [
    "gp <- ggplot(combImpDF) + geom_col(aes(Type, Count, fill = Cardinality)) +\n",
    "                    xlab(\"Feature type / object\") + ylab(\"Importance\") + coord_flip() +\n",
    "                    guides(fill = F) + geom_text(aes(x = Type, y = Count + 0.003, label = Cardinality), size = 4) +\n",
    "                    scale_y_continuous(breaks = seq(-0.5, 0.5, 0.05), \n",
    "                                       labels = c(abs(seq(-0.5, -0.001, 0.05)/visNormFactor),seq(0, 0.5, 0.05))) +\n",
    "                    geom_hline(yintercept = 0, color = \"#333333\") +\n",
    "                    annotate(\"text\", x = 1, y = 0.1, label = \"Cumulated\") +\n",
    "                    annotate(\"text\", x = 1, y = - 0.05, label = \"Average\")\n",
    "gp"
   ]
  },
  {
   "cell_type": "code",
   "execution_count": null,
   "metadata": {},
   "outputs": [],
   "source": [
    "if(!TEST_MODE){\n",
    "    ggsave(filename = \"Fig/LT_ARPC1B_status_prediction_features.pdf\", plot = gp, height = 5, width = 10)\n",
    "}"
   ]
  },
  {
   "cell_type": "markdown",
   "metadata": {},
   "source": [
    "#### Features important for normal donor prediction\n",
    "By opposition, it means that this features are important to describe healthy phenotype"
   ]
  },
  {
   "cell_type": "code",
   "execution_count": null,
   "metadata": {},
   "outputs": [],
   "source": [
    "combImpDF = aggregate(fullRF$importance[,colnames(fullRF$importance) == \"ND\"],\n",
    "                      by = list(combFtCat), FUN = sum)\n",
    "combImpDF = cbind(combImpDF, aggregate(fullRF$importance[,colnames(fullRF$importance) == \"ND\"],\n",
    "                      by = list(combFtCat), FUN = length)[,2], \"Cumulated\")\n",
    "names(combImpDF) = c(\"Type\", \"Count\", \"Cardinality\", \"CountType\")\n",
    "combImpDF$Type = factor(combImpDF$Type, levels = combImpDF$Type[order(combImpDF$Count)])"
   ]
  },
  {
   "cell_type": "code",
   "execution_count": null,
   "metadata": {},
   "outputs": [],
   "source": [
    "# Add counts normalized by number of feature in a given type\n",
    "\n",
    "# Visual correction: a bar with this absolute count will have an average bar of equal size\n",
    "visNormFactor = 20\n",
    "relDF = data.frame(Type = combImpDF$Type, \n",
    "                   Count = -visNormFactor * combImpDF$Count / combImpDF$Cardinality,\n",
    "                   Cardinality = NA, CountType = \"Average\")\n",
    "combImpDF = rbind(combImpDF, relDF)"
   ]
  },
  {
   "cell_type": "code",
   "execution_count": null,
   "metadata": {},
   "outputs": [],
   "source": [
    "gp <- ggplot(combImpDF) + geom_col(aes(Type, Count, fill = Cardinality)) +\n",
    "                    xlab(\"Feature type / object\") + ylab(\"Importance\") + coord_flip() +\n",
    "                    guides(fill = F) + geom_text(aes(x = Type, y = Count + 0.003, label = Cardinality), size = 4) +\n",
    "                    scale_y_continuous(breaks = seq(-0.5, 0.5, 0.05), \n",
    "                                       labels = c(abs(seq(-0.5, -0.001, 0.05)/visNormFactor),seq(0, 0.5, 0.05))) +\n",
    "                    geom_hline(yintercept = 0, color = \"#333333\") +\n",
    "                    annotate(\"text\", x = 1, y = 0.1, label = \"Cumulated\") +\n",
    "                    annotate(\"text\", x = 1, y = - 0.05, label = \"Average\")\n",
    "gp"
   ]
  },
  {
   "cell_type": "code",
   "execution_count": null,
   "metadata": {},
   "outputs": [],
   "source": [
    "if(!TEST_MODE){\n",
    "    ggsave(filename = \"Fig/LT_ARPC1B_status_prediction_normalDonors_}features.pdf\", plot = gp, height = 5, width = 10)\n",
    "}"
   ]
  },
  {
   "cell_type": "code",
   "execution_count": null,
   "metadata": {
    "scrolled": false
   },
   "outputs": [],
   "source": [
    "sessionInfo()"
   ]
  }
 ],
 "metadata": {
  "kernelspec": {
   "display_name": "R",
   "language": "R",
   "name": "ir"
  },
  "language_info": {
   "codemirror_mode": "r",
   "file_extension": ".r",
   "mimetype": "text/x-r-source",
   "name": "R",
   "pygments_lexer": "r",
   "version": "3.5.1"
  },
  "toc": {
   "base_numbering": 1,
   "nav_menu": {},
   "number_sections": false,
   "sideBar": false,
   "skip_h1_title": false,
   "title_cell": "Table of Contents",
   "title_sidebar": "Contents",
   "toc_cell": false,
   "toc_position": {},
   "toc_section_display": false,
   "toc_window_display": false
  }
 },
 "nbformat": 4,
 "nbformat_minor": 2
}
