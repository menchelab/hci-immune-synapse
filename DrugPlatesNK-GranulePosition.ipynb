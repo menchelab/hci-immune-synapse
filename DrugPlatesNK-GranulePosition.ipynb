{
 "cells": [
  {
   "cell_type": "markdown",
   "metadata": {},
   "source": [
    "# Drug plates"
   ]
  },
  {
   "cell_type": "code",
   "execution_count": null,
   "metadata": {
    "scrolled": true
   },
   "outputs": [],
   "source": [
    "library(ggplot2)\n",
    "library(extrafont)\n",
    "library(stringr)\n",
    "library(heatmaply)\n",
    "library(ggrepel)\n",
    "library(reticulate)\n",
    "library(gridExtra)\n",
    "library(robustbase)\n",
    "library(randomForest)\n",
    "library(reshape2)"
   ]
  },
  {
   "cell_type": "code",
   "execution_count": null,
   "metadata": {
    "scrolled": true
   },
   "outputs": [],
   "source": [
    "# Load external Python functions\n",
    "source_python(\"reticulate_functions.py\")\n",
    "# Load extra fonts\n",
    "ttf_import(paths = \"/tmp/.fonts/\")\n",
    "loadfonts()\n",
    "# Set this to true for faster compilation or false for more precise results and all outputs\n",
    "TEST_MODE = T"
   ]
  },
  {
   "cell_type": "code",
   "execution_count": null,
   "metadata": {},
   "outputs": [],
   "source": [
    "# Customize ggplot appearance\n",
    "\n",
    "# Change theme\n",
    "customTheme <- theme_light() + \n",
    "               theme(panel.grid.minor=element_blank(), text=element_text(size=17, family=\"Arial\", colour = \"#333333\"),\n",
    "                     line=element_line(colour = \"#333333\"), legend.background = element_rect(fill=alpha('#CCCCCC', 0.1)), legend.key = element_blank())\n",
    "\n",
    "# Change default colors\n",
    "scale_colour_continuous <- function (..., begin = 0.1, end = 0.9, direction = -1, option = \"plasma\", \n",
    "                                     type = getOption(\"ggplot2.continuous.colour\", default = \"viridis\")) {\n",
    "    switch(type, gradient = scale_colour_gradient(...), \n",
    "        viridis = scale_colour_viridis_c(option = option, begin = begin, end = end, direction = direction, ...), \n",
    "        stop(\"Unknown scale type\", call. = FALSE))\n",
    "}\n",
    "scale_color_continuous <- scale_colour_continuous\n",
    "\n",
    "scale_fill_continuous <- function (..., begin = 0.1, end = 0.9, direction = -1, option = \"plasma\", \n",
    "                                     type = getOption(\"ggplot2.continuous.colour\", default = \"viridis\")) {\n",
    "    switch(type, gradient = scale_fill_gradient(...), \n",
    "        viridis = scale_fill_viridis_c(option = option, begin = begin, end = end, direction = direction, ...), \n",
    "        stop(\"Unknown scale type\", call. = FALSE))\n",
    "\n",
    "}\n",
    "\n",
    "cemm_pal = colorRampPalette(c(\"#5A463C\", \"#008CAD\", \"#40B9D4\", \"#D4ECF2\", \"#D2323C\", \"#F8B100\", \"#DFDC00\"))\n",
    "cust_pal = colorRampPalette(c(\"#008CAD\", \"#40B9D4\", \"#D4ECF2\", \"#F8B100\", \"#C00000\", \"#2D0000\"))\n",
    "yolla_pal = colorRampPalette(c('#FC7070', '#C00000', '#2D0000'))\n",
    "scale_fill_discrete <- function (..., type = \"Cust\", h = c(0, 360) + 15, c = 100, l = 65, h.start = 0, \n",
    "    direction = 1, na.value = \"grey50\", aesthetics = \"fill\") \n",
    "{\n",
    "    if (type == \"CeMM\"){\n",
    "        discrete_scale(aesthetics, \"CeMM\", cemm_pal, na.value = na.value, ...)\n",
    "    } else if (type == \"Yolla\"){\n",
    "        discrete_scale(aesthetics, \"Yolla\", yolla_pal, na.value = na.value, ...)\n",
    "    } else if (type == \"Cust\"){\n",
    "        discrete_scale(aesthetics, \"Cust\", cust_pal, na.value = na.value, ...)\n",
    "    } else {\n",
    "        discrete_scale(aesthetics, \"hue\", hue_pal(h, c, l, h.start, \n",
    "            direction), na.value = na.value, ...)\n",
    "    }\n",
    "}\n",
    "\n",
    "scale_color_discrete <- function (..., type = \"Cust\", h = c(0, 360) + 15, c = 100, l = 65, h.start = 0, \n",
    "    direction = 1, na.value = \"grey50\", aesthetics = \"colour\") {\n",
    "    if (type == \"CeMM\"){\n",
    "        discrete_scale(aesthetics, \"CeMM\", cemm_pal, na.value = na.value, ...)\n",
    "    } else if (type == \"Cust\"){\n",
    "        discrete_scale(aesthetics, \"Cust\", cust_pal, na.value = na.value, ...)\n",
    "    } else if (type == \"Yolla\"){\n",
    "        discrete_scale(aesthetics, \"Yolla\", yolla_pal, na.value = na.value, ...)\n",
    "    } else {\n",
    "        discrete_scale(aesthetics, \"hue\", scales::hue_pal(h, c, l, h.start, \n",
    "            direction), na.value = na.value, ...)\n",
    "    }\n",
    "}\n",
    "scale_colour_discrete <- scale_color_discrete\n",
    "\n",
    "noGridTheme <- function(...){\n",
    "    theme(panel.grid.major=element_blank(), axis.text.x=element_text(size=12), axis.text.y=element_text(size=12),\n",
    "                      axis.line=element_line(color=\"#333333\", size = 0.2), panel.border = element_blank(), ...)\n",
    "}\n",
    "\n",
    "darkTheme <- function(...){\n",
    "    theme(panel.background = element_rect(fill = '#333333'), plot.background = element_rect(fill = '#333333'), \n",
    "          axis.line=element_line(color=\"#CCCCCC\", size = 0.2), \n",
    "          text=element_text(size=17, family=\"Arial\", colour = \"#CCCCCC\"),\n",
    "          line=element_line(colour = \"#CCCCCC\"))\n",
    "}\n",
    "\n",
    "theme_set(customTheme)\n",
    "\n",
    "options(repr.plot.width=10, repr.plot.height=10)"
   ]
  },
  {
   "cell_type": "markdown",
   "metadata": {},
   "source": [
    "## NK92"
   ]
  },
  {
   "cell_type": "code",
   "execution_count": null,
   "metadata": {},
   "outputs": [],
   "source": [
    "# Fix random number generation\n",
    "set.seed(38)"
   ]
  },
  {
   "cell_type": "code",
   "execution_count": null,
   "metadata": {},
   "outputs": [],
   "source": [
    "NK = read.csv(\"Rsc/compiled_NKDrug_PerfPosition_Image.csv\", header=T)"
   ]
  },
  {
   "cell_type": "markdown",
   "metadata": {},
   "source": [
    "NB: Image measurements are matching previous run of CellProfiler (which did not include unstacked granule positional information).\n",
    "```\n",
    "NK = read.csv(\"Rsc/allImages_NK_Drugs.csv\", header=T)\n",
    "NK2 = read.csv(\"Rsc/compiled_NKDrug_PerfPosition_Image.csv\", header=T)\n",
    "ordNK = order(NK$Metadata_Well, NK$Metadata_Field)\n",
    "ordNK2 = order(NK2$Metadata_Well, NK2$Metadata_Field)\n",
    "dft = data.frame(x = NK$Texture_SumEntropy_CorrDNA_6_01[ordNK],\n",
    "                 y = NK2$Texture_SumEntropy_CorrDNA_6_01[ordNK2])\n",
    "ggplot(dft, aes(x = x, y = y)) + geom_point() + xlab(\"Texture first run\") + ylab(\"Texture second run\")\n",
    "```\n",
    "However slightly more cells were identified in the second run - despite the segmentation thresholds being the same. Ignoring this for now."
   ]
  },
  {
   "cell_type": "code",
   "execution_count": null,
   "metadata": {},
   "outputs": [],
   "source": [
    "Layout = read.csv(\"Rsc/DrugPlateLayout.csv\", header=T)\n",
    "Layout$Well <- paste0(Layout$Row, str_pad(Layout$Column, 2, pad = \"0\"))"
   ]
  },
  {
   "cell_type": "code",
   "execution_count": null,
   "metadata": {},
   "outputs": [],
   "source": [
    "NK$Drug = sapply(NK$Metadata_Well, function(x) Layout$Drug[x == Layout$Well])\n",
    "levels(NK$Drug)[levels(NK$Drug)==\"Y27\"] <- \"Y-27632\"\n",
    "levels(NK$Drug)[levels(NK$Drug)==\"Jasplaknolide\"] <- \"Jasplakinolide\"\n",
    "NK$Concentration = sapply(NK$Metadata_Well, function(x) Layout$Concentration[x == Layout$Well])"
   ]
  },
  {
   "cell_type": "code",
   "execution_count": null,
   "metadata": {},
   "outputs": [],
   "source": [
    "gpNK = ggplot(NK[!is.na(NK$Count_FilteredNucleus),]) + geom_histogram(aes(Count_FilteredNucleus, fill = as.factor(Metadata_Row)), binwidth=2) +\n",
    "       scale_fill_discrete(name=\"Row\")\n",
    "gpNK\n",
    "\n",
    "if(!TEST_MODE){\n",
    "    ggsave(filename = \"Fig/NK_Drug_count.pdf\", plot = gpNK)\n",
    "}"
   ]
  },
  {
   "cell_type": "code",
   "execution_count": null,
   "metadata": {},
   "outputs": [],
   "source": [
    "gpNK = ggplot(NK[!is.na(NK$Mean_FilterCytoplasm_AreaShape_Area),]) + geom_histogram(aes(Mean_FilterCytoplasm_AreaShape_Area, \n",
    "                                                                                    fill = as.factor(Metadata_Row)), binwidth=100) +\n",
    "       scale_fill_discrete(name=\"Row\")\n",
    "gpNK\n",
    "if(!TEST_MODE){\n",
    "    ggsave(filename = \"Fig/NK_Drug_area.pdf\", plot = gpNK)\n",
    "}"
   ]
  },
  {
   "cell_type": "markdown",
   "metadata": {},
   "source": [
    "### Filtering"
   ]
  },
  {
   "cell_type": "code",
   "execution_count": null,
   "metadata": {},
   "outputs": [],
   "source": [
    "FILT_MAX_INT_DNA = 0.05 # Remove empty images and small DNA precipitations\n",
    "FILT_MIN_CELLS = 4 # 8 seems safe from distribution and images, 3 seems in poor shape\n",
    "FILT_NB_MAX_NA_IMAGE = 10\n",
    "FILT_MAX_CORR = 0.6 # Keep uncorrelated variables\n",
    "dimUMAP = 3"
   ]
  },
  {
   "cell_type": "code",
   "execution_count": null,
   "metadata": {},
   "outputs": [],
   "source": [
    "ftToKeep = 1:dim(NK)[2]\n",
    "# Make sure that the fields are numeric\n",
    "ftToKeep <- ftToKeep[which(sapply(NK[,ftToKeep], class) == \"numeric\")]\n",
    "# Remove execution time and count features\n",
    "ftToKeep <- ftToKeep[grep(\"(Execution)|(Count)|(Concentration)\", colnames(NK)[ftToKeep], invert = T)]"
   ]
  },
  {
   "cell_type": "code",
   "execution_count": null,
   "metadata": {},
   "outputs": [],
   "source": [
    "# Store all remaining features before filtering for downstream comparison to selected set\n",
    "preFiltFt = colnames(NK)[ftToKeep]"
   ]
  },
  {
   "cell_type": "code",
   "execution_count": null,
   "metadata": {},
   "outputs": [],
   "source": [
    "# Remove wells with low max DNA intensity\n",
    "fieldToKeep <- which(NK$ImageQuality_MaxIntensity_DNA >= FILT_MAX_INT_DNA)\n",
    "# Remove wells with low cell count\n",
    "fieldToKeep <- fieldToKeep[NK[fieldToKeep,]$Count_FilteredNucleus >= FILT_MIN_CELLS]"
   ]
  },
  {
   "cell_type": "code",
   "execution_count": null,
   "metadata": {},
   "outputs": [],
   "source": [
    "# Few bad quality pictures are generating a lot of missing values and are removed\n",
    "fieldToKeep <- fieldToKeep[rowSums(is.na(NK[fieldToKeep,ftToKeep])) < FILT_NB_MAX_NA_IMAGE]\n",
    "# We exclude drugs for which more than half of the images were filtered\n",
    "drugToRemove <- levels(NK$Drug)[table(NK$Drug[fieldToKeep]) < 180]\n",
    "fieldToKeep <- fieldToKeep[!NK$Drug[fieldToKeep] %in% drugToRemove]"
   ]
  },
  {
   "cell_type": "code",
   "execution_count": null,
   "metadata": {},
   "outputs": [],
   "source": [
    "# Remove remaining features with missing values\n",
    "ftToKeep <- ftToKeep[colSums(is.na(NK[fieldToKeep,ftToKeep])) == 0] \n",
    "# Remove constant columns\n",
    "indWT = NK[fieldToKeep,]$Drug == \"WT\"\n",
    "ftToKeep <- ftToKeep[sapply(NK[fieldToKeep,ftToKeep], function(x) mad(x) != 0)]\n",
    "ftToKeep <- ftToKeep[sapply(NK[fieldToKeep[indWT],ftToKeep], function(x) mad(x) != 0)]"
   ]
  },
  {
   "cell_type": "code",
   "execution_count": null,
   "metadata": {},
   "outputs": [],
   "source": [
    "dim(NK)\n",
    "dim(NK[fieldToKeep, ftToKeep])"
   ]
  },
  {
   "cell_type": "markdown",
   "metadata": {},
   "source": [
    "Now, we don't do a full profiling but we want to explore values pertaining to perforin granule positioning, so we don't transform the data."
   ]
  },
  {
   "cell_type": "markdown",
   "metadata": {},
   "source": [
    "## Granule count per image"
   ]
  },
  {
   "cell_type": "code",
   "execution_count": null,
   "metadata": {},
   "outputs": [],
   "source": [
    "subNK = NK[fieldToKeep,]\n",
    "subNK$Drug = droplevels(subNK$Drug)\n",
    "granuleCountWT = subNK[subNK$Drug == \"WT\",grep(\"Count_PerfGranules\", names(subNK))]\n",
    "granuleCountWT$imageID <- as.numeric(rownames(granuleCountWT))\n",
    "granuleCountWT = melt(granuleCountWT, id.vars = \"imageID\")"
   ]
  },
  {
   "cell_type": "code",
   "execution_count": null,
   "metadata": {},
   "outputs": [],
   "source": [
    "ggplot(granuleCountWT, aes(x = variable, y = value)) + \n",
    "    geom_violin(fill = \"grey80\", draw_quantiles = c(0.25, 0.5, 0.75)) + \n",
    "    xlab(\"\") + ylab(\"Granule count\") + \n",
    "    theme(axis.text.x = element_text(angle = 45, hjust = 1))"
   ]
  },
  {
   "cell_type": "code",
   "execution_count": null,
   "metadata": {},
   "outputs": [],
   "source": [
    "ggplot(granuleCountWT, aes(x = variable, y = value, color = imageID, group = imageID)) + \n",
    "    geom_line(alpha = 0.3) + xlab(\"\") + ylab(\"Granule count\") + \n",
    "    theme(axis.text.x = element_text(angle = 45, hjust = 1))"
   ]
  },
  {
   "cell_type": "code",
   "execution_count": null,
   "metadata": {
    "scrolled": false
   },
   "outputs": [],
   "source": [
    "# Display overlay for each drug\n",
    "for (drug in levels(subNK$Drug)){\n",
    "    granuleCount = subNK[subNK$Drug == drug, grep(\"Count_PerfGranules\", names(subNK))]\n",
    "    granuleCount$imageID <- as.numeric(rownames(granuleCount))\n",
    "    granuleCount = melt(granuleCount, id.vars = \"imageID\")\n",
    "    gp <- ggplot(granuleCount, aes(x = variable, y = value)) + \n",
    "            geom_violin(fill = \"grey80\", draw_quantiles = c(0.25, 0.5, 0.75)) + \n",
    "            geom_line(aes(color = imageID, group = imageID), alpha = 0.15)+\n",
    "            xlab(\"\") + ylab(\"Granule count\") + ggtitle(drug) +\n",
    "            theme(axis.text.x = element_text(angle = 45, hjust = 1))\n",
    "    print(gp)\n",
    "    \n",
    "    if(!TEST_MODE){\n",
    "        ggsave(filename = paste0(\"Fig/NK_Drug_PerfGranuleCount_\", drug, \".pdf\"), plot = gp)\n",
    "    }\n",
    "}"
   ]
  },
  {
   "cell_type": "markdown",
   "metadata": {},
   "source": [
    "## Individual granule measurements"
   ]
  },
  {
   "cell_type": "code",
   "execution_count": null,
   "metadata": {},
   "outputs": [],
   "source": [
    "imgWT = subNK$ImageNumber[subNK$Drug == \"WT\"]"
   ]
  },
  {
   "cell_type": "markdown",
   "metadata": {},
   "source": [
    "### Granule dispersion\n",
    "We want to include dispersion both on the X and Y axes in a symmetric manner (as these directions do not represent anything particular to the cells).  \n",
    "We use the Standard Distance Deviation defined as:  \n",
    "$$\n",
    "\\begin{aligned}\n",
    "SDD &= \\sqrt{\\frac{\\sum_i^n (x_i - \\hat{x})^2}{n-2} + \\frac{\\sum_i^n (y_i - \\hat{y})^2}{n-2}} \\\\ \n",
    "&= \\sqrt{\\frac{n-1}{n-2} \\times \\bigg(\\frac{\\sum_i^n (x_i - \\hat{x})^2}{n-1} + \\frac{\\sum_i^n (y_i - \\hat{y})^2}{n-1}\\bigg)} \\\\\n",
    "&= \\sqrt{\\frac{n-1}{n-2} \\times \\big(\\text{var}(x) + \\text{var}(y)\\big)}\n",
    "\\end{aligned}\n",
    "$$."
   ]
  },
  {
   "cell_type": "markdown",
   "metadata": {},
   "source": [
    "### Distance between granules and nuclei\n",
    "To associate a FilteredNucleus object to a granule, we need to join them with the following object relationships:\n",
    "FilteredNucleus -> Nucleus -> Cytoplasm -> FilterCytoplasm -> Granule.  \n",
    "Here we prepare such a correspondance table."
   ]
  },
  {
   "cell_type": "code",
   "execution_count": null,
   "metadata": {},
   "outputs": [],
   "source": [
    "nuc = read.csv(paste0(\"Rsc/compiled_NKDrug_PerfPosition_FilteredNucleus.csv\"), header=T)"
   ]
  },
  {
   "cell_type": "code",
   "execution_count": null,
   "metadata": {},
   "outputs": [],
   "source": [
    "nucCytoMatch = nuc[,names(nuc) %in% c(\"ImageNumber\", \"ObjectNumber\", \n",
    "                                      \"Parent_Nucleus\", \"Location_Center_X\", \"Location_Center_Y\")]"
   ]
  },
  {
   "cell_type": "code",
   "execution_count": null,
   "metadata": {},
   "outputs": [],
   "source": [
    "objRelation = read.csv(paste0(\"Rsc/compiled_NKDrug_PerfPosition_Object relationships.csv\"), header=T)"
   ]
  },
  {
   "cell_type": "code",
   "execution_count": null,
   "metadata": {},
   "outputs": [],
   "source": [
    "origNucCytoMatch = objRelation[objRelation$First.Object.Name == \"Nucleus\", \n",
    "                               names(objRelation) %in% c(\"First.Image.Number\", \n",
    "                                                         \"First.Object.Number\",\n",
    "                                                         \"Second.Object.Number\")]"
   ]
  },
  {
   "cell_type": "code",
   "execution_count": null,
   "metadata": {},
   "outputs": [],
   "source": [
    "nucCytoMatch = merge(nucCytoMatch, origNucCytoMatch, \n",
    "                     by.x = c(\"ImageNumber\", \"Parent_Nucleus\"), \n",
    "                     by.y = c(\"First.Image.Number\", \"First.Object.Number\"))"
   ]
  },
  {
   "cell_type": "code",
   "execution_count": null,
   "metadata": {},
   "outputs": [],
   "source": [
    "cyt = read.csv(paste0(\"Rsc/compiled_NKDrug_PerfPosition_FilterCytoplasm.csv\"), header=T)"
   ]
  },
  {
   "cell_type": "code",
   "execution_count": null,
   "metadata": {},
   "outputs": [],
   "source": [
    "origCytoCytoMatch = cyt[, names(cyt) %in% c(\"ImageNumber\", \"ObjectNumber\", \"Parent_Cytoplasm\")]"
   ]
  },
  {
   "cell_type": "code",
   "execution_count": null,
   "metadata": {},
   "outputs": [],
   "source": [
    "nucCytoMatch = merge(nucCytoMatch, origCytoCytoMatch, \n",
    "                     by.x = c(\"ImageNumber\", \"Second.Object.Number\"), \n",
    "                     by.y = c(\"ImageNumber\", \"Parent_Cytoplasm\"))\n",
    "# Now ObjectNumber.y corresponds to the ID of a FilterCytoplasm \n",
    "# while Location_Center_X and Location_Center_Y are the location of its nucleus centroid"
   ]
  },
  {
   "cell_type": "code",
   "execution_count": null,
   "metadata": {},
   "outputs": [],
   "source": [
    "# Free up memory\n",
    "cyt = 0\n",
    "objRelation = 0\n",
    "nuc = 0\n",
    "gc()"
   ]
  },
  {
   "cell_type": "markdown",
   "metadata": {},
   "source": [
    "### Run per-granule measurements for all Z"
   ]
  },
  {
   "cell_type": "code",
   "execution_count": null,
   "metadata": {},
   "outputs": [],
   "source": [
    "indGranPlots = function(i){\n",
    "    gran = read.csv(paste0(\"Rsc/compiled_NKDrug_PerfPosition_PerfGranules\", i, \".csv\"), header=T)\n",
    "    granToKeep = gran$ImageNumber %in% imgWT\n",
    "    \n",
    "        \n",
    "    ### Aggregate results per cell\n",
    "    colGran = names(gran) %in% c(\"Parent_FilterCytoplasm\", \"ImageNumber\", \"Location_Center_X\", \"Location_Center_Y\")\n",
    "    aggGran = gran[granToKeep,colGran] %>% \n",
    "              group_by(ImageNumber, Parent_FilterCytoplasm) %>% \n",
    "              summarise(count = n(), LocX = median(Location_Center_X), LocY = median(Location_Center_Y),\n",
    "                        VarX = var(Location_Center_X), VarY = var(Location_Center_Y))\n",
    "    aggGran$SDD = sqrt( (aggGran$count - 1)/(aggGran$count - 2) * (aggGran$VarX + aggGran$VarY) )\n",
    "    \n",
    "    gp <- ggplot(aggGran) + geom_histogram(aes(x = SDD), binwidth = 1) + \n",
    "          ggtitle(paste(\"Z =\", i))\n",
    "    print(gp)\n",
    "    \n",
    "    if(!TEST_MODE){\n",
    "        ggsave(filename = paste0(\"Fig/NK_Drug_PerfGranuleSDD_\", i, \".pdf\"), plot = gp)\n",
    "    }\n",
    "    \n",
    "    granCytoMatch = merge(gran[granToKeep,colGran], nucCytoMatch, \n",
    "                          by.x = c(\"ImageNumber\", \"Parent_FilterCytoplasm\"), \n",
    "                          by.y = c(\"ImageNumber\", \"ObjectNumber.y\"),\n",
    "                          all.x = T, sort = F)\n",
    "    \n",
    "    # Compute distance between each granule and the nucleus center\n",
    "    aggDist = granCytoMatch %>% group_by(ImageNumber, Parent_FilterCytoplasm) %>% \n",
    "                          mutate(Distance = sqrt((Location_Center_X.x - Location_Center_X.y)**2 + \n",
    "                                                           (Location_Center_Y.x - Location_Center_Y.y)**2))\n",
    "    \n",
    "    return(data.frame(EdgeDist = gran[granToKeep,]$Distance_Minimum_FilterCytoplasm, \n",
    "                      NucDist = aggDist$Distance, Z = i))\n",
    "}"
   ]
  },
  {
   "cell_type": "code",
   "execution_count": null,
   "metadata": {
    "scrolled": true
   },
   "outputs": [],
   "source": [
    "# Takes ~10-15 minutes to run\n",
    "distDF = sapply(as.character(1:8), indGranPlots)\n",
    "distDF = data.frame(EdgeDist = unlist(distDF[1,]), NucDist = unlist(distDF[2,]), Z = unlist(distDF[3,]))"
   ]
  },
  {
   "cell_type": "code",
   "execution_count": null,
   "metadata": {
    "scrolled": true
   },
   "outputs": [],
   "source": [
    "gp <- ggplot(distDF, aes(x = Z, y = EdgeDist)) + geom_violin(fill = \"grey80\", draw_quantiles = c(0.25, 0.5, 0.75)) +\n",
    "      ylab(\"Distance to cell edge\")\n",
    "\n",
    "print(gp)\n",
    "\n",
    "if(!TEST_MODE){\n",
    "    ggsave(filename = \"Fig/NK_Drug_PerfGranuleDistToMembrane.pdf\", plot = gp)\n",
    "}"
   ]
  },
  {
   "cell_type": "code",
   "execution_count": null,
   "metadata": {
    "scrolled": true
   },
   "outputs": [],
   "source": [
    "gp <- ggplot(distDF, aes(x = Z, y = NucDist)) + geom_violin(fill = \"grey80\", draw_quantiles = c(0.25, 0.5, 0.75)) +\n",
    "      ylab(\"Distance to nucleus center\")\n",
    "\n",
    "print(gp)\n",
    "\n",
    "if(!TEST_MODE){\n",
    "    ggsave(filename = \"Fig/NK_Drug_PerfGranuleDistToNuclei.pdf\", plot = gp)\n",
    "}"
   ]
  },
  {
   "cell_type": "markdown",
   "metadata": {},
   "source": [
    "### Run per-cell measurements for all Z"
   ]
  },
  {
   "cell_type": "markdown",
   "metadata": {},
   "source": [
    "Quite reassuring: closer to the membrane usually means further away from the nucleus center:\n",
    "\n",
    "    ggplot(aggGran, aes(x = NucDist, y = EdgeDist)) + geom_density_2d(color = c(\"brown\"))"
   ]
  },
  {
   "cell_type": "code",
   "execution_count": null,
   "metadata": {
    "scrolled": false
   },
   "outputs": [],
   "source": [
    "cellGranPlots = function(i){\n",
    "    gran = read.csv(paste0(\"Rsc/compiled_NKDrug_PerfPosition_PerfGranules\", i, \".csv\"), header=T)\n",
    "    granToKeep = gran$ImageNumber %in% imgWT\n",
    "\n",
    "    ### Aggregate results per cell\n",
    "    colGran = names(gran) %in% c(\"Parent_FilterCytoplasm\", \"ImageNumber\", \n",
    "                                 \"Distance_Minimum_FilterCytoplasm\",\n",
    "                                 \"Location_Center_X\", \"Location_Center_Y\")\n",
    "\n",
    "    granCytoMatch = merge(gran[granToKeep,colGran], nucCytoMatch, \n",
    "                          by.x = c(\"ImageNumber\", \"Parent_FilterCytoplasm\"), \n",
    "                          by.y = c(\"ImageNumber\", \"ObjectNumber.y\"),\n",
    "                          all.x = T, sort = F)\n",
    "\n",
    "    # Compute distance between each granule and the nucleus center\n",
    "    aggGran = granCytoMatch %>% mutate(Distance = sqrt((Location_Center_X.x - Location_Center_X.y)**2 + \n",
    "                                                       (Location_Center_Y.x - Location_Center_Y.y)**2))\n",
    "\n",
    "    aggGran = aggGran %>% group_by(ImageNumber, Parent_FilterCytoplasm) %>% \n",
    "              summarise(count = n(), LocX = median(Location_Center_X.x), LocY = median(Location_Center_Y.x),\n",
    "                        VarX = var(Location_Center_X.x), VarY = var(Location_Center_Y.x),\n",
    "                        NucDist = median(sqrt((Location_Center_X.x - Location_Center_X.y)**2 + \n",
    "                                               (Location_Center_Y.x - Location_Center_Y.y)**2)),\n",
    "                        EdgeDist = median(Distance_Minimum_FilterCytoplasm))\n",
    "    aggGran$SDD = sqrt( (aggGran$count - 1)/(aggGran$count - 2) * (aggGran$VarX + aggGran$VarY) )\n",
    "    \n",
    "    # Include slice of origin into final data frame\n",
    "    aggGran$Z = i\n",
    "    \n",
    "    return(aggGran[,names(aggGran) %in% c(\"count\", \"NucDist\", \"EdgeDist\", \"SDD\", \"Z\")])\n",
    "}"
   ]
  },
  {
   "cell_type": "code",
   "execution_count": null,
   "metadata": {
    "scrolled": false
   },
   "outputs": [],
   "source": [
    "# Takes ~8/15 minutes to run\n",
    "startTime <- proc.time()\n",
    "cellDistDF = sapply(as.character(1:8), cellGranPlots)\n",
    "cellDistDF = data.frame(Count = unlist(cellDistDF[1,]), NucDist = unlist(cellDistDF[2,]), \n",
    "                        EdgeDist = unlist(cellDistDF[3,]), SDD = unlist(cellDistDF[4,]), \n",
    "                        Z = unlist(cellDistDF[5,]))\n",
    "proc.time() - startTime"
   ]
  },
  {
   "cell_type": "code",
   "execution_count": null,
   "metadata": {
    "scrolled": false
   },
   "outputs": [],
   "source": [
    "gp <- ggplot(cellDistDF, aes(x = Z, y = NucDist)) + geom_violin(fill = \"grey80\", draw_quantiles = c(0.25, 0.5, 0.75)) +\n",
    "      ylab(\"Distance to nucleus center\")\n",
    "\n",
    "print(gp)\n",
    "\n",
    "bif(!TEST_MODE){\n",
    "    ggsave(filename = \"Fig/NK_Drug_PerfGranuleDistToNuclei_PerCell.pdf\", plot = gp)\n",
    "}"
   ]
  },
  {
   "cell_type": "code",
   "execution_count": null,
   "metadata": {},
   "outputs": [],
   "source": [
    "gp <- ggplot(cellDistDF, aes(x = Z, y = NucDist)) + geom_violin(fill = \"grey80\", draw_quantiles = c(0.25, 0.5, 0.75)) +\n",
    "      ylab(\"Distance to cell edge\")\n",
    "\n",
    "print(gp)\n",
    "\n",
    "if(!TEST_MODE){\n",
    "        ggsave(filename = \"Fig/NK_Drug_PerfGranuleDistToMembrane_PerCell.pdf\", plot = gp)\n",
    "}"
   ]
  },
  {
   "cell_type": "code",
   "execution_count": null,
   "metadata": {
    "scrolled": false
   },
   "outputs": [],
   "source": [
    "gp <- ggplot(cellDistDF, aes(x = Z, y = Count)) + geom_violin(fill = \"grey80\", draw_quantiles = c(0.25, 0.5, 0.75)) +\n",
    "      ylab(\"Granules per cell\")\n",
    "\n",
    "print(gp)\n",
    "\n",
    "if(!TEST_MODE){\n",
    "    ggsave(filename = \"Fig/NK_Drug_PerfGranuleCount_PerCell.pdf\", plot = gp)\n",
    "}"
   ]
  },
  {
   "cell_type": "code",
   "execution_count": null,
   "metadata": {},
   "outputs": [],
   "source": [
    "gp <- ggplot(cellDistDF, aes(x = Z, y = SDD)) + geom_violin(fill = \"grey80\", draw_quantiles = c(0.25, 0.5, 0.75)) +\n",
    "      ylab(\"Standard Distance D\")\n",
    "\n",
    "print(gp)\n",
    "\n",
    "if(!TEST_MODE){\n",
    "    ggsave(filename = \"Fig/NK_Drug_PerfGranuleSDD_PerCell.pdf\", plot = gp)\n",
    "}"
   ]
  }
 ],
 "metadata": {
  "kernelspec": {
   "display_name": "R",
   "language": "R",
   "name": "ir"
  },
  "language_info": {
   "codemirror_mode": "r",
   "file_extension": ".r",
   "mimetype": "text/x-r-source",
   "name": "R",
   "pygments_lexer": "r",
   "version": "3.5.1"
  },
  "toc": {
   "base_numbering": 1,
   "nav_menu": {},
   "number_sections": false,
   "sideBar": false,
   "skip_h1_title": false,
   "title_cell": "Table of Contents",
   "title_sidebar": "Contents",
   "toc_cell": false,
   "toc_position": {},
   "toc_section_display": false,
   "toc_window_display": false
  }
 },
 "nbformat": 4,
 "nbformat_minor": 2
}
