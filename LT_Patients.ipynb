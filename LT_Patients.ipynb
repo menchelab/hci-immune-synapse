{
 "cells": [
  {
   "cell_type": "markdown",
   "metadata": {},
   "source": [
    "# Patient cells"
   ]
  },
  {
   "cell_type": "code",
   "execution_count": null,
   "metadata": {
    "scrolled": true
   },
   "outputs": [],
   "source": [
    "library(ggplot2)\n",
    "library(extrafont)\n",
    "library(stringr)\n",
    "library(heatmaply)\n",
    "library(ggrepel)\n",
    "library(reticulate)\n",
    "library(gridExtra)\n",
    "library(robustbase)\n",
    "library(randomForest)\n",
    "library(reshape2)"
   ]
  },
  {
   "cell_type": "code",
   "execution_count": null,
   "metadata": {
    "scrolled": true
   },
   "outputs": [],
   "source": [
    "# Load external Python functions\n",
    "source_python(\"reticulate_functions.py\")\n",
    "# Load extra fonts\n",
    "ttf_import(paths = \"/tmp/.fonts/\")\n",
    "loadfonts()\n",
    "# Set this to true for faster compilation or false for more precise results and all outputs\n",
    "TEST_MODE = F"
   ]
  },
  {
   "cell_type": "code",
   "execution_count": null,
   "metadata": {},
   "outputs": [],
   "source": [
    "# Customize ggplot appearance\n",
    "\n",
    "# Change theme\n",
    "customTheme <- theme_light() + \n",
    "               theme(panel.grid.minor=element_blank(), text=element_text(size=17, family=\"Arial\", colour = \"#333333\"),\n",
    "                     line=element_line(colour = \"#333333\"), legend.background = element_rect(fill=alpha('#CCCCCC', 0.1)), legend.key = element_blank())\n",
    "\n",
    "# Change default colors\n",
    "scale_colour_continuous <- function (..., begin = 0.1, end = 0.9, direction = -1, option = \"plasma\", \n",
    "                                     type = getOption(\"ggplot2.continuous.colour\", default = \"viridis\")) {\n",
    "    switch(type, gradient = scale_colour_gradient(...), \n",
    "        viridis = scale_colour_viridis_c(option = option, begin = begin, end = end, direction = direction, ...), \n",
    "        stop(\"Unknown scale type\", call. = FALSE))\n",
    "}\n",
    "scale_color_continuous <- scale_colour_continuous\n",
    "\n",
    "scale_fill_continuous <- function (..., begin = 0.1, end = 0.9, direction = -1, option = \"plasma\", \n",
    "                                     type = getOption(\"ggplot2.continuous.colour\", default = \"viridis\")) {\n",
    "    switch(type, gradient = scale_fill_gradient(...), \n",
    "        viridis = scale_fill_viridis_c(option = option, begin = begin, end = end, direction = direction, ...), \n",
    "        stop(\"Unknown scale type\", call. = FALSE))\n",
    "\n",
    "}\n",
    "\n",
    "cemm_pal = colorRampPalette(c(\"#5A463C\", \"#008CAD\", \"#40B9D4\", \"#D4ECF2\", \"#D2323C\", \"#F8B100\", \"#DFDC00\"))\n",
    "cust_pal = colorRampPalette(c(\"#008CAD\", \"#40B9D4\", \"#D4ECF2\", \"#F8B100\", \"#C00000\", \"#2D0000\"))\n",
    "yolla_pal = colorRampPalette(c('#FC7070', '#C00000', '#2D0000'))\n",
    "scale_fill_discrete <- function (..., type = \"Cust\", h = c(0, 360) + 15, c = 100, l = 65, h.start = 0, \n",
    "    direction = 1, na.value = \"grey50\", aesthetics = \"fill\") \n",
    "{\n",
    "    if (type == \"CeMM\"){\n",
    "        discrete_scale(aesthetics, \"CeMM\", cemm_pal, na.value = na.value, ...)\n",
    "    } else if (type == \"Yolla\"){\n",
    "        discrete_scale(aesthetics, \"Yolla\", yolla_pal, na.value = na.value, ...)\n",
    "    } else if (type == \"Cust\"){\n",
    "        discrete_scale(aesthetics, \"Cust\", cust_pal, na.value = na.value, ...)\n",
    "    } else {\n",
    "        discrete_scale(aesthetics, \"hue\", hue_pal(h, c, l, h.start, \n",
    "            direction), na.value = na.value, ...)\n",
    "    }\n",
    "}\n",
    "\n",
    "scale_color_discrete <- function (..., type = \"Cust\", h = c(0, 360) + 15, c = 100, l = 65, h.start = 0, \n",
    "    direction = 1, na.value = \"grey50\", aesthetics = \"colour\") {\n",
    "    if (type == \"CeMM\"){\n",
    "        discrete_scale(aesthetics, \"CeMM\", cemm_pal, na.value = na.value, ...)\n",
    "    } else if (type == \"Cust\"){\n",
    "        discrete_scale(aesthetics, \"Cust\", cust_pal, na.value = na.value, ...)\n",
    "    } else if (type == \"Yolla\"){\n",
    "        discrete_scale(aesthetics, \"Yolla\", yolla_pal, na.value = na.value, ...)\n",
    "    } else {\n",
    "        discrete_scale(aesthetics, \"hue\", scales::hue_pal(h, c, l, h.start, \n",
    "            direction), na.value = na.value, ...)\n",
    "    }\n",
    "}\n",
    "scale_colour_discrete <- scale_color_discrete\n",
    "\n",
    "noGridTheme <- function(...){\n",
    "    theme(panel.grid.major=element_blank(), axis.text.x=element_text(size=12), axis.text.y=element_text(size=12),\n",
    "                      axis.line=element_line(color=\"#333333\", size = 0.2), panel.border = element_blank(), ...)\n",
    "}\n",
    "\n",
    "darkTheme <- function(...){\n",
    "    theme(panel.background = element_rect(fill = '#333333'), plot.background = element_rect(fill = '#333333'), \n",
    "          axis.line=element_line(color=\"#CCCCCC\", size = 0.2), \n",
    "          text=element_text(size=17, family=\"Arial\", colour = \"#CCCCCC\"),\n",
    "          line=element_line(colour = \"#CCCCCC\"))\n",
    "}\n",
    "\n",
    "theme_set(customTheme)\n",
    "\n",
    "options(repr.plot.width=10, repr.plot.height=10)"
   ]
  },
  {
   "cell_type": "markdown",
   "metadata": {},
   "source": [
    "## Patient cells (different deficiencies)"
   ]
  },
  {
   "cell_type": "code",
   "execution_count": null,
   "metadata": {},
   "outputs": [],
   "source": [
    "# Fix t-SNE layout and random number generation\n",
    "set.seed(38)"
   ]
  },
  {
   "cell_type": "code",
   "execution_count": null,
   "metadata": {},
   "outputs": [],
   "source": [
    "# NB: One row too much was imaged. \n",
    "# No cell is detected in these wells so \n",
    "#  they will be excluded of the analysis\n",
    "LT = read.csv(\"Rsc/allImages_LT_patients.csv\", header=T)"
   ]
  },
  {
   "cell_type": "code",
   "execution_count": null,
   "metadata": {},
   "outputs": [],
   "source": [
    "getDonor <- function(row,column){\n",
    "    if(row <= 5){\n",
    "        if(column <= 7){\n",
    "            return(\"ND1\")\n",
    "        } else if(column <= 11){\n",
    "            return(\"PID_2466\")\n",
    "        } else if(column <= 15){\n",
    "            return(\"ND2\")\n",
    "        } else {\n",
    "            return(\"Was1\")\n",
    "        }\n",
    "    } else if(row <= 7){\n",
    "        if(column <= 7){\n",
    "            return(\"PID_2378\")\n",
    "        } else if(column <= 11){\n",
    "            return(\"ND3\")\n",
    "        } else if(column <= 15){\n",
    "            return(\"PID_1076\")\n",
    "        } else {\n",
    "            return(\"PID_2441\")\n",
    "        }\n",
    "    } else if(row <= 9){            \n",
    "        if(column <= 7){\n",
    "            return(\"ND4\")\n",
    "        } else if(column <= 11){\n",
    "            return(\"ARPC1B pt 1\")\n",
    "        } else if(column <= 15){\n",
    "            return(\"ND5\")\n",
    "        } else {\n",
    "            return(\"HD146\")\n",
    "        }\n",
    "    } else if(row <= 7){            \n",
    "        if(column <= 7){\n",
    "            return(\"ND1\")\n",
    "        } else if(column <= 11){\n",
    "            return(\"PID_2466\")\n",
    "        } else if(column <= 15){\n",
    "            return(\"ND2\")\n",
    "        } else {\n",
    "            return(\"Was1\")\n",
    "        }\n",
    "    } else{\n",
    "        if(column <= 7){\n",
    "            return(\"WAST2\")\n",
    "        } else {\n",
    "            return(\"ND6\")\n",
    "        }\n",
    "    }        \n",
    "}\n",
    "getCoating <- function(column){\n",
    "    return(ifelse(column%%2, \"ICAM\", \"PLL\"))\n",
    "}\n",
    "LT$Donor = mapply(getDonor, LT$Metadata_Row, LT$Metadata_Column)\n",
    "LT$Coating = sapply(LT$Metadata_Column, getCoating)\n",
    "# Is normal donor?\n",
    "LT$ND = F\n",
    "LT$ND[grep(\"ND\", LT$Donor)] = T"
   ]
  },
  {
   "cell_type": "markdown",
   "metadata": {},
   "source": [
    "We discard the data from the PLL coated plates and the non-ARPC1B deficient patients(not studied in this analysis)."
   ]
  },
  {
   "cell_type": "code",
   "execution_count": null,
   "metadata": {},
   "outputs": [],
   "source": [
    "LT = LT[LT$Coating != \"PLL\",]\n",
    "LT = LT[c(grep(\"ARPC1B\",LT$Donor), grep(\"ND\",LT$Donor)),]"
   ]
  },
  {
   "cell_type": "code",
   "execution_count": null,
   "metadata": {},
   "outputs": [],
   "source": [
    "gpLT = ggplot(LT[!is.na(LT$Count_FilterNKNucleus),]) + geom_histogram(aes(Count_FilterNKNucleus, fill = as.factor(Metadata_Row)), binwidth=2) +\n",
    "       scale_fill_discrete(name=\"Row\")\n",
    "gpLT\n",
    "if(!TEST_MODE){\n",
    "    ggsave(filename = \"Fig/LT_Patients_count.pdf\", plot = gpLT)\n",
    "}"
   ]
  },
  {
   "cell_type": "code",
   "execution_count": null,
   "metadata": {},
   "outputs": [],
   "source": [
    "gpLT = ggplot(LT[!is.na(LT$Mean_FilterNKCytoplasm_AreaShape_Area),]) + geom_histogram(aes(Mean_FilterNKCytoplasm_AreaShape_Area, \n",
    "                                                                                    fill = as.factor(Donor)), binwidth=100) +\n",
    "       scale_fill_discrete(name=\"Row\")\n",
    "gpLT\n",
    "if(!TEST_MODE){\n",
    "    ggsave(filename = \"Fig/LT_Patients_area.pdf\", plot = gpLT)\n",
    "}"
   ]
  },
  {
   "cell_type": "markdown",
   "metadata": {},
   "source": [
    "### Filtering"
   ]
  },
  {
   "cell_type": "code",
   "execution_count": null,
   "metadata": {},
   "outputs": [],
   "source": [
    "FILT_MAX_INT_DNA = 0.01 # Remove empty images and small DNA precipitations\n",
    "FILT_MIN_CELLS = 5 # Most field of views have only 2 cells\n",
    "FILT_NB_MAX_NA_IMAGE = 1\n",
    "FILT_MAX_CORR = 0.6 # Keep uncorrelated variables"
   ]
  },
  {
   "cell_type": "code",
   "execution_count": null,
   "metadata": {},
   "outputs": [],
   "source": [
    "ftToKeep = 1:dim(LT)[2]\n",
    "# Make sure that the fields are numeric\n",
    "ftToKeep <- ftToKeep[which(sapply(LT[,ftToKeep], class) == \"numeric\")]\n",
    "# Remove execution time and count features\n",
    "ftToKeep <- ftToKeep[grep(\"(Execution)|(Count)|(Concentration)|(ActinGranules)\", colnames(LT)[ftToKeep], invert = T)]"
   ]
  },
  {
   "cell_type": "code",
   "execution_count": null,
   "metadata": {},
   "outputs": [],
   "source": [
    "# Store all remaining features before filtering for downstream comparison to selected set\n",
    "preFiltFt = colnames(LT)[ftToKeep]"
   ]
  },
  {
   "cell_type": "code",
   "execution_count": null,
   "metadata": {},
   "outputs": [],
   "source": [
    "# Remove wells with low max DNA intensity\n",
    "fieldToKeep <- which(LT$ImageQuality_MaxIntensity_DNA >= FILT_MAX_INT_DNA)\n",
    "# Remove wells with low cell count\n",
    "fieldToKeep <- na.omit(fieldToKeep[LT[fieldToKeep,]$Count_FilterNKNucleus >= FILT_MIN_CELLS])"
   ]
  },
  {
   "cell_type": "code",
   "execution_count": null,
   "metadata": {},
   "outputs": [],
   "source": [
    "# Few bad quality pictures are generating a lot of missing values and are removed\n",
    "fieldToKeep <- fieldToKeep[rowSums(is.na(LT[fieldToKeep,ftToKeep])) < FILT_NB_MAX_NA_IMAGE]"
   ]
  },
  {
   "cell_type": "code",
   "execution_count": null,
   "metadata": {},
   "outputs": [],
   "source": [
    "# Remove remaining features with missing values\n",
    "ftToKeep <- ftToKeep[colSums(is.na(LT[fieldToKeep,ftToKeep])) == 0] \n",
    "# Remove constant columns\n",
    "indWT = LT[fieldToKeep,]$ND\n",
    "ftToKeep <- ftToKeep[sapply(LT[fieldToKeep,ftToKeep], function(x) mad(x) != 0)]\n",
    "ftToKeep <- ftToKeep[sapply(LT[fieldToKeep[indWT],ftToKeep], function(x) mad(x) != 0)]"
   ]
  },
  {
   "cell_type": "code",
   "execution_count": null,
   "metadata": {},
   "outputs": [],
   "source": [
    "# Approximate normal distribution\n",
    "transfLog <- function (x){\n",
    "    minVal = min(x)\n",
    "    return(log(x+1-minVal))\n",
    "}\n",
    "\n",
    "# Center and scale on control values\n",
    "transfNorm <- function(x, y){\n",
    "    return((x - median(y))/mad(y))\n",
    "}"
   ]
  },
  {
   "cell_type": "code",
   "execution_count": null,
   "metadata": {},
   "outputs": [],
   "source": [
    "# Try centering on all healthy donors\n",
    "transformedLT = apply(LT[fieldToKeep, ftToKeep], 2, transfLog)\n",
    "transformedLT = apply(transformedLT, 2, function(x) transfNorm(x, x[indWT]))"
   ]
  },
  {
   "cell_type": "code",
   "execution_count": null,
   "metadata": {},
   "outputs": [],
   "source": [
    "# Order features from biggest mad to smallest mad\n",
    "# Since features have mad(ND) = 1, it means that we rank features by how more variable they are\n",
    "# for patients than for ND\n",
    "orderFt = rev(order(apply(transformedLT, 2, mad)))"
   ]
  },
  {
   "cell_type": "code",
   "execution_count": null,
   "metadata": {},
   "outputs": [],
   "source": [
    "uncorrFt = uncorrelate(transformedLT, orderCol = orderFt-1, threshold = FILT_MAX_CORR)\n",
    "uncorrFt = unlist(uncorrFt) + 1"
   ]
  },
  {
   "cell_type": "code",
   "execution_count": null,
   "metadata": {},
   "outputs": [],
   "source": [
    "transformedLT = transformedLT[,uncorrFt]"
   ]
  },
  {
   "cell_type": "code",
   "execution_count": null,
   "metadata": {},
   "outputs": [],
   "source": [
    "dim(LT)\n",
    "dim(LT[fieldToKeep, ftToKeep])\n",
    "dim(transformedLT)"
   ]
  },
  {
   "cell_type": "markdown",
   "metadata": {},
   "source": [
    "### Export subset of features"
   ]
  },
  {
   "cell_type": "markdown",
   "metadata": {},
   "source": [
    "For LT cells, the following features are selected and explored separately for their biological interpretability:\n",
    "```\n",
    "* Actin intensity/cell (mean/well): LT$Intensity_MeanIntensity_CorrActin_FilterCytoplasm\n",
    "* Cell area: LT$Mean_FilterCytoplasm_AreaShape_Area\n",
    "* Cell roundness: LT$Mean_FilterCytoplasm_AreaShape_FormFactor\n",
    "* Cell width: LT$Mean_FilterCytoplasm_AreaShape_MajorAxisLength \n",
    "* Cell length: LT$Mean_FilterCytoplasm_AreaShape_MinorAxisLength\n",
    "* Cell length to width ratio: LT$Mean_FilterCytoplasm_AreaShape_MinorAxisLength / LT$Mean_FilterCytoplasm_AreaShape_MajorAxisLength\n",
    "* Average number of perforin granules / cell: LT$Count_PerfGranules  / LT$Count_FilterCytoplasm\n",
    "* Perforin area / cell area: (LT$Count_PerfGranules * LT$Mean_PerfGranules_AreaShape_Area)  / (LT$Count_FilterCytoplasm * LT$Mean_FilterCytoplasm_AreaShape_Area)\n",
    "* Perforin intensity: LT$Intensity_MeanIntensity_CorrPerf_FilterCytoplasm\n",
    "* Perforin area: LT$Mean_PerfGranules_AreaShape_Area\n",
    "* Nucleus intensity: LT$Intensity_MeanIntensity_CorrDNA_FilteredNucleus\n",
    "* Nucleus area: LT$Mean_FilteredNucleus_AreaShape_Area\n",
    "* Nucleus roundness: LT$Mean_FilteredNucleus_AreaShape_FormFactor\n",
    "* Nucleus width: LT$Mean_FilteredNucleus_AreaShape_MajorAxisLength \n",
    "* Nucleus length: LT$Mean_FilteredNucleus_AreaShape_MinorAxisLength\n",
    "* Nucleus ratio: LT$Mean_FilteredNucleus_AreaShape_MinorAxisLength / LT$Mean_FilteredNucleus_AreaShape_MajorAxisLength\n",
    "* Nucleus area / cell area: (LT$Count_FilteredNucleus * LT$Mean_FilteredNucleus_AreaShape_Area)  / (LT$Count_FilterCytoplasm * LT$Mean_FilterCytoplasm_AreaShape_Area)\n",
    "* LFA intensity: LT$Intensity_MeanIntensity_CorrLFA_FilterNKLFA\n",
    "* LFA-Actin correlation: LT[fieldToKeep,]$Mean_FilterNKCytoplasm_Correlation_Correlation_CorrLFA_CorrActin\n",
    "* LFA area: LT$Mean_FilterNKLFA_AreaShape_Area\n",
    "* LFA area / cell area: LT$Mean_FilterNKLFA_AreaShape_Area / (LT$Count_FilterCytoplasm * LT$Mean_FilterCytoplasm_AreaShape_Area)```\n",
    "\n",
    "NB (from CellProfiler docs): FormFactor = $4 \\times π \\times Area / Perimeter^2$. Equals 1 for a perfectly circular object."
   ]
  },
  {
   "cell_type": "code",
   "execution_count": null,
   "metadata": {},
   "outputs": [],
   "source": [
    "subsetLT = cbind(Field = str_extract(as.character(LT[fieldToKeep,]$URL_Actin), \"r..c..f..\"),\n",
    "                 Coating = as.character(LT[fieldToKeep,]$Coating),\n",
    "                 Donor = as.character(LT[fieldToKeep,]$Donor),\n",
    "                 ActinIntensity = LT[fieldToKeep,]$Intensity_MeanIntensity_CorrActin_FilterNKCytoplasm,\n",
    "                 CellArea = LT[fieldToKeep,]$Mean_FilterNKCytoplasm_AreaShape_Area,\n",
    "                 CellRoundness = LT[fieldToKeep,]$Mean_FilterNKCytoplasm_AreaShape_FormFactor,\n",
    "                 CellWidth = LT[fieldToKeep,]$Mean_FilterNKCytoplasm_AreaShape_MajorAxisLength,\n",
    "                 CellLength = LT[fieldToKeep,]$Mean_FilterNKCytoplasm_AreaShape_MinorAxisLength,\n",
    "                 CellLengthOverWidth = LT[fieldToKeep,]$Mean_FilterNKCytoplasm_AreaShape_MinorAxisLength / \n",
    "                     LT[fieldToKeep,]$Mean_FilterNKCytoplasm_AreaShape_MajorAxisLength,\n",
    "                 PerforinGranulesPerCell = LT[fieldToKeep,]$Count_FilterNKPerfGranules  / \n",
    "                     LT[fieldToKeep,]$Count_FilterNKCytoplasm,\n",
    "                 PerforinAreaOverCellArea = (LT[fieldToKeep,]$Count_FilterNKPerfGranules * \n",
    "                     LT[fieldToKeep,]$Mean_PFilterNKPerfGranules_AreaShape_Area) / \n",
    "                     (LT[fieldToKeep,]$Count_FilterNKCytoplasm * \n",
    "                      LT[fieldToKeep,]$Mean_FilterNKCytoplasm_AreaShape_Area),\n",
    "                 PerforinIntensity = LT[fieldToKeep,]$Intensity_MeanIntensity_CorrPerf_FilterNKCytoplasm,\n",
    "                 PerforinArea = LT[fieldToKeep,]$Mean_FilterNKPerfGranules_AreaShape_Area,\n",
    "                 NucleusIntensity = LT[fieldToKeep,]$Intensity_MeanIntensity_CorrDNA_FilterNKNucleus,\n",
    "                 NucleusArea = LT[fieldToKeep,]$Mean_FilterNKNucleus_AreaShape_Area,\n",
    "                 NucleusRoundness = LT[fieldToKeep,]$Mean_FilterNKNucleus_AreaShape_FormFactor,\n",
    "                 NucleusWidth = LT[fieldToKeep,]$Mean_FilterNKNucleus_AreaShape_MajorAxisLength,\n",
    "                 NucleusLength = LT[fieldToKeep,]$Mean_FilterNKNucleus_AreaShape_MinorAxisLength,\n",
    "                 NucleusLengthOverWidth = LT[fieldToKeep,]$Mean_FilterNKNucleus_AreaShape_MinorAxisLength / \n",
    "                     LT[fieldToKeep,]$Mean_FilterNKNucleus_AreaShape_MajorAxisLength,\n",
    "                 NucleusAreaOverCellArea = (LT[fieldToKeep,]$Count_FilterNKNucleus * \n",
    "                     LT[fieldToKeep,]$Mean_FilterNKNucleus_AreaShape_Area) / \n",
    "                     (LT[fieldToKeep,]$Count_FilterNKCytoplasm * \n",
    "                      LT[fieldToKeep,]$Mean_FilterNKCytoplasm_AreaShape_Area),\n",
    "                 LfaIntensity = LT[fieldToKeep,]$Intensity_MeanIntensity_CorrLFA_FilterNKLFA,\n",
    "                 LfaActinCorrelation = LT[fieldToKeep,]$Mean_FilterNKCytoplasm_Correlation_Correlation_CorrLFA_CorrActin,\n",
    "                 LfaArea = LT[fieldToKeep,]$Mean_FilterNKLFA_AreaShape_Area,\n",
    "                 LfaAreaOverCellArea = LT[fieldToKeep,]$Mean_FilterNKLFA_AreaShape_Area / \n",
    "                     LT[fieldToKeep,]$Mean_FilterNKCytoplasm_AreaShape_Area\n",
    "                )"
   ]
  },
  {
   "cell_type": "code",
   "execution_count": null,
   "metadata": {},
   "outputs": [],
   "source": [
    "SLT = as.data.frame(subsetLT)\n",
    "SLT = SLT[SLT$Coating == \"ICAM\",]\n",
    "colMeans(sapply(SLT[grep(\"ARPC1B\",SLT$Donor),4:23], function(x) as.numeric(as.character(x)))) /\n",
    "colMeans(sapply(SLT[grep(\"ND\",SLT$Donor),4:23], function(x) as.numeric(as.character(x))))"
   ]
  },
  {
   "cell_type": "code",
   "execution_count": null,
   "metadata": {},
   "outputs": [],
   "source": [
    "# Export list of \"interpretable\" features\n",
    "if(!TEST_MODE){\n",
    "    write.csv(subsetLT, \"Tab/LT_Patients_features.csv\", row.names = F)\n",
    "}"
   ]
  },
  {
   "cell_type": "code",
   "execution_count": null,
   "metadata": {},
   "outputs": [],
   "source": [
    "CountPerWell = aggregate(LT[fieldToKeep,]$Count_FilterNKCytoplasm, by = list(LT[fieldToKeep,]$Metadata_Well), \n",
    "                         FUN = function(x) sum(x, na.rm = T))\n",
    "names(CountPerWell) <- c(\"Well\", \"Count\")\n",
    "CountPerCoating = aggregate(LT[fieldToKeep,]$Count_FilterNKCytoplasm, by = list(LT[fieldToKeep,]$Coating), \n",
    "                            FUN = function(x) sum(x, na.rm = T))\n",
    "names(CountPerCoating) <- c(\"Coating\", \"Count\")\n",
    "CountPerDonor = aggregate(LT[fieldToKeep,]$Count_FilterNKCytoplasm, by = list(LT[fieldToKeep,]$Donor), \n",
    "                          FUN = function(x) sum(x, na.rm = T))\n",
    "names(CountPerDonor) <- c(\"Donor\", \"Count\")"
   ]
  },
  {
   "cell_type": "code",
   "execution_count": null,
   "metadata": {},
   "outputs": [],
   "source": [
    "wellCountGranules = aggregate(LT[fieldToKeep,]$Count_FilterNKPerfGranules, \n",
    "                              by = list(LT[fieldToKeep,]$Metadata_Well), FUN = sum)\n",
    "wellCountCells = aggregate(LT[fieldToKeep,]$Count_FilterNKCytoplasm, \n",
    "                           by = list(LT[fieldToKeep,]$Metadata_Well), FUN = sum)\n",
    "stopifnot(wellCountGranules$Group.1 == wellCountCells$Group.1)\n",
    "granulePerCellPerWell = data.frame(Well = wellCountGranules$Group.1, Average = wellCountGranules$x / wellCountCells$x)"
   ]
  },
  {
   "cell_type": "code",
   "execution_count": null,
   "metadata": {},
   "outputs": [],
   "source": [
    "# Export cell counts\n",
    "if(!TEST_MODE){\n",
    "    write.csv(CountPerWell, \"Tab/LT_Patients_count_well.csv\", row.names = F)\n",
    "    write.csv(CountPerCoating, \"Tab/LT_Patients_count_coating.csv\", row.names = F)\n",
    "    write.csv(CountPerDonor, \"Tab/LT_Patients_count_donor.csv\", row.names = F)\n",
    "    write.csv(granulePerCellPerWell, \"Tab/LT_Patients_average_granule_count_per_cell.csv\", row.names = F)\n",
    "}"
   ]
  },
  {
   "cell_type": "markdown",
   "metadata": {},
   "source": [
    "### Look at which types of features are kept"
   ]
  },
  {
   "cell_type": "code",
   "execution_count": null,
   "metadata": {},
   "outputs": [],
   "source": [
    "catChannel = c(\"CorrDNA\", \"CorrActin\", \"CorrPerf\", \"CorrLFA\")\n",
    "table(rowSums(sapply(catChannel, function(x) grepl(x, colnames(transformedLT)))))\n",
    "dtCat = data.frame(CountIni = sort(colSums(sapply(catChannel, function(x) grepl(x, preFiltFt)))), \n",
    "                   Count = sort(colSums(sapply(catChannel, function(x) grepl(x, colnames(transformedLT))))))\n",
    "\n",
    "dtCat$Order <- rank(dtCat$CountIni, ties.method = c(\"first\"))\n",
    "dtCat$Category <- factor(rownames(dtCat), levels=rownames(dtCat)[order(dtCat$CountIni)])\n",
    "dtCat$Ratio <- dtCat$Count / dtCat$CountIni\n",
    "dtCat$Ratio <- paste0(round(100*dtCat$Ratio, 1), \"%\")\n",
    "gp <- ggplot(dtCat) + geom_bar(aes(Category, weight = CountIni), fill = cust_pal(2)[1]) + ylim(c(0,700)) +\n",
    "              geom_bar(aes(Category, weight = Count), fill = cust_pal(2)[2]) + \n",
    "              geom_text(aes(x = Order, y = CountIni + 2, label = Ratio), hjust = 0) + coord_flip()\n",
    "gp"
   ]
  },
  {
   "cell_type": "code",
   "execution_count": null,
   "metadata": {},
   "outputs": [],
   "source": [
    "if(!TEST_MODE){\n",
    "    ggsave(filename = \"Fig/LT_Patients_SelecFt_Channel.pdf\", plot = gp, width = 10)\n",
    "}"
   ]
  },
  {
   "cell_type": "code",
   "execution_count": null,
   "metadata": {},
   "outputs": [],
   "source": [
    "catObjects = c(\"FilterNKCytoplasm\", \"FilterNKLFA\", \"ShrunkenCytoplasm\", \"FilterNKNucleus\", \"FilterNKPerfGranules\")\n",
    "table(rowSums(sapply(catObjects, function(x) grepl(x, colnames(transformedLT)))))\n",
    "dtCat = data.frame(CountIni = colSums(sapply(catObjects, function(x) grepl(x, preFiltFt))), \n",
    "                   Count = colSums(sapply(catObjects, function(x) grepl(x, colnames(transformedLT)))))\n",
    "\n",
    "dtCat$Order <- rank(dtCat$CountIni, ties.method = c(\"first\"))\n",
    "dtCat$Category <- factor(rownames(dtCat), levels=rownames(dtCat)[order(dtCat$CountIni)])\n",
    "dtCat$Ratio <- dtCat$Count / dtCat$CountIni\n",
    "dtCat$Ratio <- paste0(round(100*dtCat$Ratio, 1), \"%\")\n",
    "gp <- ggplot(dtCat) + geom_bar(aes(Category, weight = CountIni), fill = cust_pal(2)[1]) + ylim(c(0,650)) +\n",
    "              geom_bar(aes(Category, weight = Count), fill = cust_pal(2)[2]) + \n",
    "              geom_text(aes(x = Order, y = CountIni + 2, label = Ratio), hjust = 0) + coord_flip()\n",
    "gp"
   ]
  },
  {
   "cell_type": "code",
   "execution_count": null,
   "metadata": {},
   "outputs": [],
   "source": [
    "if(!TEST_MODE){\n",
    "    ggsave(filename = \"Fig/LT_Patients_SelecFt_Object.pdf\", plot = gp, width = 10)\n",
    "}"
   ]
  },
  {
   "cell_type": "code",
   "execution_count": null,
   "metadata": {},
   "outputs": [],
   "source": [
    "catType = c(\"Threshold\", \"Granularity\", \"ImageQuality\", \"Texture\", \"Distance\", \"AreaShape\", \"RadialDistribution\", \"Neighbors\", \n",
    "            \"Correlation\", \"Intensity\", \"Overlap\", \"Location\")\n",
    "which(rowSums(sapply(catType, function(x) grepl(x, colnames(transformedLT)))) == 0) # All features are covered\n",
    "\n",
    "dtCat = data.frame(CountIni = colSums(sapply(catType, function(x) grepl(x, preFiltFt))), \n",
    "                   Count = colSums(sapply(catType, function(x) grepl(x, colnames(transformedLT)))))\n",
    "dtCat$Order <- rank(dtCat$CountIni, ties.method = c(\"first\"))\n",
    "dtCat$Category <- factor(rownames(dtCat), levels=rownames(dtCat)[order(dtCat$CountIni)])\n",
    "dtCat$Ratio <- dtCat$Count / dtCat$CountIni\n",
    "dtCat$Ratio <- paste0(round(100*dtCat$Ratio, 1), \"%\")\n",
    "gp <- ggplot(dtCat) + geom_bar(aes(Category, weight = CountIni), fill = cust_pal(2)[1]) +\n",
    "              geom_bar(aes(Category, weight = Count), fill = cust_pal(2)[2]) + \n",
    "              geom_text(aes(x = Order, y = CountIni + 5, label = Ratio), hjust = 0) + coord_flip()\n",
    "gp"
   ]
  },
  {
   "cell_type": "code",
   "execution_count": null,
   "metadata": {},
   "outputs": [],
   "source": [
    "if(!TEST_MODE){\n",
    "    ggsave(filename = \"Fig/LT_Patients_SelecFt_Type_All.pdf\", plot = gp, width = 10)\n",
    "}"
   ]
  },
  {
   "cell_type": "code",
   "execution_count": null,
   "metadata": {},
   "outputs": [],
   "source": [
    "catType = c(\"Granularity\", \"Texture\", \"AreaShape\", \"RadialDistribution\",\n",
    "            \"Correlation\", \"Intensity\")\n",
    "table(rowSums(sapply(catType, function(x) grepl(x, colnames(transformedLT)))))\n",
    "\n",
    "dtCount = as.data.frame(sapply(catType, function(x) grepl(x, colnames(transformedLT))))\n",
    "dtCount$Other = !apply(dtCount, 1, any)\n",
    "dtCountIni = as.data.frame(sapply(catType, function(x) grepl(x, preFiltFt)))\n",
    "dtCountIni$Other = !apply(dtCountIni, 1, any)\n",
    "dtCat = data.frame(CountIni = colSums(dtCountIni), \n",
    "                   Count = colSums(dtCount))\n",
    "dtCat$Order <- rank(dtCat$CountIni, ties.method = c(\"first\"))\n",
    "dtCat$Category <- factor(rownames(dtCat), levels=rownames(dtCat)[order(dtCat$CountIni)])\n",
    "dtCat$Ratio <- dtCat$Count / dtCat$CountIni\n",
    "dtCat$Ratio <- paste0(round(100*dtCat$Ratio, 1), \"%\")\n",
    "gp <- ggplot(dtCat) + geom_bar(aes(Category, weight = CountIni), fill = cust_pal(2)[1]) +\n",
    "              geom_bar(aes(Category, weight = Count), fill = cust_pal(2)[2]) + \n",
    "              geom_text(aes(x = Order, y = CountIni + 5, label = Ratio), hjust = 0) + coord_flip()\n",
    "gp"
   ]
  },
  {
   "cell_type": "code",
   "execution_count": null,
   "metadata": {},
   "outputs": [],
   "source": [
    "if(!TEST_MODE){\n",
    "    ggsave(filename = \"Fig/LT_Patients_SelecFt_Type_Short.pdf\", plot = gp, width = 10)\n",
    "}"
   ]
  },
  {
   "cell_type": "code",
   "execution_count": null,
   "metadata": {},
   "outputs": [],
   "source": [
    "# Export list of features kept\n",
    "if(!TEST_MODE){\n",
    "    write.table(colnames(transformedLT), file = \"Tab/LT_Patients_list_features_kept.csv\", col.names = F, row.names = F)\n",
    "}"
   ]
  },
  {
   "cell_type": "markdown",
   "metadata": {},
   "source": [
    "### Look at the morphological distribution of the fields of view"
   ]
  },
  {
   "cell_type": "code",
   "execution_count": null,
   "metadata": {},
   "outputs": [],
   "source": [
    "# Fix random number generation\n",
    "set.seed(38)"
   ]
  },
  {
   "cell_type": "code",
   "execution_count": null,
   "metadata": {},
   "outputs": [],
   "source": [
    "umTLT = umap(transformedLT, min_dist = 0.1, neighbors = 10, n = 2, metric = \"euclidean\")\n",
    "umTLT = as.data.frame(umTLT)\n",
    "names(umTLT) = paste0(\"UMAP\", 1:2)"
   ]
  },
  {
   "cell_type": "code",
   "execution_count": null,
   "metadata": {},
   "outputs": [],
   "source": [
    "umTLT$Row <- as.factor(LT$Metadata_Row[fieldToKeep])\n",
    "umTLT$Col <- as.factor(LT$Metadata_Column[fieldToKeep])\n",
    "umTLT$URL <- as.factor(LT$URL_Actin[fieldToKeep])\n",
    "umTLT$Coating <- as.factor(LT$Coating[fieldToKeep])\n",
    "umTLT$Donor <- as.factor(LT$Donor[fieldToKeep])\n",
    "umTLT$Well <- as.factor(LT$Metadata_Well[fieldToKeep])"
   ]
  },
  {
   "cell_type": "code",
   "execution_count": null,
   "metadata": {},
   "outputs": [],
   "source": [
    "gp <- ggplot(umTLT) + geom_point(aes(UMAP1, UMAP2, color = Donor))\n",
    "gp"
   ]
  },
  {
   "cell_type": "code",
   "execution_count": null,
   "metadata": {},
   "outputs": [],
   "source": [
    "if(!TEST_MODE){\n",
    "    ggsave(filename = \"Fig/LT_Patients_UMAP_all_donors.pdf\", plot = gp, width = 10)\n",
    "}"
   ]
  },
  {
   "cell_type": "code",
   "execution_count": null,
   "metadata": {},
   "outputs": [],
   "source": [
    "umTLT$Count <- LT$Count_FilterNKNucleus[fieldToKeep]\n",
    "gp <- ggplot(umTLT) + geom_point(aes(UMAP1, UMAP2, color = Count))\n",
    "gp"
   ]
  },
  {
   "cell_type": "code",
   "execution_count": null,
   "metadata": {
    "scrolled": false
   },
   "outputs": [],
   "source": [
    "sessionInfo()"
   ]
  }
 ],
 "metadata": {
  "kernelspec": {
   "display_name": "R",
   "language": "R",
   "name": "ir"
  },
  "language_info": {
   "codemirror_mode": "r",
   "file_extension": ".r",
   "mimetype": "text/x-r-source",
   "name": "R",
   "pygments_lexer": "r",
   "version": "3.5.1"
  },
  "toc": {
   "base_numbering": 1,
   "nav_menu": {},
   "number_sections": false,
   "sideBar": false,
   "skip_h1_title": false,
   "title_cell": "Table of Contents",
   "title_sidebar": "Contents",
   "toc_cell": false,
   "toc_position": {},
   "toc_section_display": false,
   "toc_window_display": false
  }
 },
 "nbformat": 4,
 "nbformat_minor": 2
}
